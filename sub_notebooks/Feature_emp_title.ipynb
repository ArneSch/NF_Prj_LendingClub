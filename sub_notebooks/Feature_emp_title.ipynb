{
 "cells": [
  {
   "cell_type": "code",
   "execution_count": 6,
   "metadata": {},
   "outputs": [],
   "source": [
    "import pandas as pd\n",
    "import re"
   ]
  },
  {
   "cell_type": "code",
   "execution_count": 25,
   "metadata": {},
   "outputs": [],
   "source": [
    "df = pd.read_pickle('../data/clean_pass_01p1.pkl')\n",
    "df_company = pd.read_csv('../data/forbes2013.csv')"
   ]
  },
  {
   "cell_type": "code",
   "execution_count": 26,
   "metadata": {},
   "outputs": [],
   "source": [
    "df['emp_ident'] = df['emp_title']"
   ]
  },
  {
   "cell_type": "code",
   "execution_count": 27,
   "metadata": {},
   "outputs": [],
   "source": [
    "KNOWN_COMPANY_MARKER = 'known_company'\n",
    "\n",
    "def title_id_known_company(emp_title_entry):\n",
    "    try:\n",
    "        founds = df_company.Company.str.contains(emp_title_entry).value_counts()\n",
    "    except:\n",
    "        return emp_title_entry\n",
    "    \n",
    "    if len(founds)>1:\n",
    "         return KNOWN_COMPANY_MARKER\n",
    "    else:\n",
    "        return emp_title_entry"
   ]
  },
  {
   "cell_type": "code",
   "execution_count": 28,
   "metadata": {},
   "outputs": [],
   "source": [
    "def title_to_ident(emp_title_entry):\n",
    "    if emp_title_entry == KNOWN_COMPANY_MARKER:\n",
    "        return emp_title_entry\n",
    "    elif (re.search('Army|Military',emp_title_entry ,re.I) is None) == False :\n",
    "        return 'army'\n",
    "    elif (re.search('self',emp_title_entry ,re.I) is None) == False :\n",
    "        return 'self_emp'\n",
    "    elif (re.search('city|state|public|district|school|schools|Government|Sheriff|county|civil|police|National Guard',emp_title_entry ,re.I) is None) == False :\n",
    "        return 'puplic'\n",
    "    elif (re.search('bank',emp_title_entry ,re.I) is None) == False :\n",
    "        return 'bank'\n",
    "    else:\n",
    "        return 'unknown' \n",
    "    "
   ]
  },
  {
   "cell_type": "code",
   "execution_count": 30,
   "metadata": {},
   "outputs": [
    {
     "name": "stderr",
     "output_type": "stream",
     "text": [
      "/Users/arnescheunemann/opt/anaconda3/envs/nf2/lib/python3.6/site-packages/ipykernel_launcher.py:5: UserWarning: This pattern has match groups. To actually get the groups, use str.extract.\n",
      "  \"\"\"\n"
     ]
    }
   ],
   "source": [
    "df['emp_ident'] = df['emp_ident'].apply(lambda emp_title: title_id_known_company(emp_title))\n",
    "#df['emp_ident'].value_counts()"
   ]
  },
  {
   "cell_type": "code",
   "execution_count": 29,
   "metadata": {},
   "outputs": [
    {
     "data": {
      "text/plain": [
       "puplic                                 3711\n",
       "bank                                    890\n",
       "army                                    476\n",
       "self_emp                                231\n",
       "IBM                                      71\n",
       "Kaiser Permanente                        61\n",
       "AT&T                                     58\n",
       "UPS                                      57\n",
       "US Air Force                             55\n",
       "Wells Fargo                              55\n",
       "USAF                                     54\n",
       "Walmart                                  47\n",
       "Lockheed Martin                          44\n",
       "Verizon Wireless                         43\n",
       "USPS                                     41\n",
       "Walgreens                                40\n",
       "JPMorgan Chase                           38\n",
       "Target                                   37\n",
       "Best Buy                                 36\n",
       "Department of Defense                    36\n",
       "JP Morgan Chase                          36\n",
       "US Navy                                  35\n",
       "Northrop Grumman                         34\n",
       "Booz Allen Hamilton                      34\n",
       "Verizon                                  33\n",
       "Fidelity Investments                     31\n",
       "Comcast                                  31\n",
       "Accenture                                30\n",
       "Home Depot                               29\n",
       "General Electric                         27\n",
       "                                       ... \n",
       "citation air                              1\n",
       "Lea Regional Hospital/Pecos Valley        1\n",
       "Second Baptist Church                     1\n",
       "ABX Air, Inc.                             1\n",
       "The Standard                              1\n",
       "Akamai Technologies, Inc.                 1\n",
       "Point Eight Power                         1\n",
       "Ozark Automotive Inc                      1\n",
       "West Springfield Auto Parts               1\n",
       "US CUSTOM AND BORDER PROTECTION           1\n",
       "Hansens Beverage Company                  1\n",
       "Flamingo hotel and casino                 1\n",
       "Rudney Solomon Cohen & Felzer P. C.       1\n",
       "6th Avenue Outfitters                     1\n",
       "Gordon Brothers Group                     1\n",
       "CISCO Chemicals                           1\n",
       "Wilshire Boulevard Temple                 1\n",
       "Texas Inpatient Consultants               1\n",
       "Greenwood Enterprises                     1\n",
       "hyatt select                              1\n",
       "Stoney Creek                              1\n",
       "Long View systems                         1\n",
       "Milford Plaza                             1\n",
       "Refined Sight Inc                         1\n",
       "TransCore                                 1\n",
       "Vishay Intertechnology                    1\n",
       "NorthStarAerospace                        1\n",
       "Black Box                                 1\n",
       "Pentagon Force Protection Agency          1\n",
       "SANS Institute                            1\n",
       "Name: emp_ident, Length: 26332, dtype: int64"
      ]
     },
     "execution_count": 29,
     "metadata": {},
     "output_type": "execute_result"
    }
   ],
   "source": [
    "df['emp_ident'] = df['emp_ident'].apply(lambda emp_title: title_to_ident(emp_title))\n",
    "df['emp_ident'].value_counts()"
   ]
  },
  {
   "cell_type": "code",
   "execution_count": 31,
   "metadata": {},
   "outputs": [
    {
     "data": {
      "text/plain": [
       "unknown          35673\n",
       "known_company     3145\n",
       "Name: emp_ident, dtype: int64"
      ]
     },
     "execution_count": 31,
     "metadata": {},
     "output_type": "execute_result"
    }
   ],
   "source": [
    "df['emp_ident'].value_counts()"
   ]
  },
  {
   "cell_type": "code",
   "execution_count": null,
   "metadata": {},
   "outputs": [],
   "source": [
    "df.to_pickle('../data/clean_pass_01p1_PFemp_ident.pkl')"
   ]
  }
 ],
 "metadata": {
  "kernelspec": {
   "display_name": "Python [conda env:nf2] *",
   "language": "python",
   "name": "conda-env-nf2-py"
  },
  "language_info": {
   "codemirror_mode": {
    "name": "ipython",
    "version": 3
   },
   "file_extension": ".py",
   "mimetype": "text/x-python",
   "name": "python",
   "nbconvert_exporter": "python",
   "pygments_lexer": "ipython3",
   "version": "3.6.10"
  },
  "toc": {
   "base_numbering": 1,
   "nav_menu": {},
   "number_sections": true,
   "sideBar": true,
   "skip_h1_title": false,
   "title_cell": "Table of Contents",
   "title_sidebar": "Contents",
   "toc_cell": false,
   "toc_position": {},
   "toc_section_display": true,
   "toc_window_display": false
  }
 },
 "nbformat": 4,
 "nbformat_minor": 4
}
