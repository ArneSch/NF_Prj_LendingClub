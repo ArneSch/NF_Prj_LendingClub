{
 "cells": [
  {
   "cell_type": "code",
   "execution_count": 1,
   "metadata": {},
   "outputs": [],
   "source": [
    "# Data\n",
    "import numpy as np\n",
    "import pandas as pd\n",
    "\n",
    "# Visualization \n",
    "import matplotlib.pyplot as plt\n",
    "import seaborn as sns\n",
    "\n",
    "# Prepprc\n",
    "from sklearn.preprocessing import StandardScaler, OneHotEncoder\n",
    "from sklearn import model_selection\n",
    "\n",
    "# pipline\n",
    "from sklearn.pipeline import make_pipeline, FeatureUnion\n",
    "\n",
    "# ML\n",
    "from sklearn.tree import DecisionTreeClassifier\n",
    "from sklearn.ensemble import RandomForestClassifier\n",
    "from sklearn.linear_model import LogisticRegression\n",
    "from sklearn.svm import SVC\n",
    "#Metrics\n",
    "\n",
    "from sklearn.metrics import precision_recall_fscore_support, roc_curve, auc,accuracy_score, confusion_matrix, precision_score\n"
   ]
  },
  {
   "cell_type": "code",
   "execution_count": 2,
   "metadata": {},
   "outputs": [],
   "source": [
    "df = pd.read_pickle('../data/clean_pass_01p1_PFemp_ident.pkl')"
   ]
  },
  {
   "cell_type": "code",
   "execution_count": 3,
   "metadata": {},
   "outputs": [],
   "source": [
    "x_col = ['addr_state',\n",
    "'annual_inc',\n",
    "'dti',\n",
    "'emp_length',\n",
    "'home_ownership',\n",
    "'loan_amnt',\n",
    "'open_acc',\n",
    "'pub_rec',\n",
    "'pub_rec_bankruptcies',\n",
    "'purpose',\n",
    "'term',\n",
    "'verification_status',\n",
    " 'emp_ident']\n",
    "y_col = ['target']\n",
    "\n",
    "\n",
    "# redue pass 1\n",
    "# 'emp_title', revist ... advanced feature engineering\n"
   ]
  },
  {
   "cell_type": "code",
   "execution_count": 4,
   "metadata": {},
   "outputs": [],
   "source": [
    "df_x = df[x_col]\n",
    "df_y = df[y_col]"
   ]
  },
  {
   "cell_type": "code",
   "execution_count": 5,
   "metadata": {},
   "outputs": [
    {
     "name": "stdout",
     "output_type": "stream",
     "text": [
      "<class 'pandas.core.frame.DataFrame'>\n",
      "Int64Index: 38818 entries, 1 to 42474\n",
      "Data columns (total 1 columns):\n",
      "pub_rec_bankruptcies    38818 non-null uint8\n",
      "dtypes: uint8(1)\n",
      "memory usage: 341.2 KB\n"
     ]
    },
    {
     "name": "stderr",
     "output_type": "stream",
     "text": [
      "/Users/arnescheunemann/opt/anaconda3/envs/nf2/lib/python3.6/site-packages/pandas/core/generic.py:5096: SettingWithCopyWarning: \n",
      "A value is trying to be set on a copy of a slice from a DataFrame.\n",
      "Try using .loc[row_indexer,col_indexer] = value instead\n",
      "\n",
      "See the caveats in the documentation: http://pandas.pydata.org/pandas-docs/stable/indexing.html#indexing-view-versus-copy\n",
      "  self[name] = value\n"
     ]
    }
   ],
   "source": [
    "df_x.pub_rec_bankruptcies = df_x.pub_rec_bankruptcies.astype('uint8') \n",
    "df_x.select_dtypes('uint8').info()\n",
    "#df_x.pub_rec_bankruptcies"
   ]
  },
  {
   "cell_type": "markdown",
   "metadata": {},
   "source": [
    "## Feature importnace try with dummy to recall names\n"
   ]
  },
  {
   "cell_type": "code",
   "execution_count": 6,
   "metadata": {},
   "outputs": [
    {
     "name": "stdout",
     "output_type": "stream",
     "text": [
      "annual_inc\n",
      "dti\n",
      "emp_length\n",
      "loan_amnt\n",
      "open_acc\n",
      "pub_rec\n",
      "pub_rec_bankruptcies\n",
      "addr_state_AL\n",
      "addr_state_AR\n",
      "addr_state_AZ\n",
      "addr_state_CA\n",
      "addr_state_CO\n",
      "addr_state_CT\n",
      "addr_state_DC\n",
      "addr_state_DE\n",
      "addr_state_FL\n",
      "addr_state_GA\n",
      "addr_state_HI\n",
      "addr_state_IA\n",
      "addr_state_ID\n",
      "addr_state_IL\n",
      "addr_state_IN\n",
      "addr_state_KS\n",
      "addr_state_KY\n",
      "addr_state_LA\n",
      "addr_state_MA\n",
      "addr_state_MD\n",
      "addr_state_ME\n",
      "addr_state_MI\n",
      "addr_state_MN\n",
      "addr_state_MO\n",
      "addr_state_MS\n",
      "addr_state_MT\n",
      "addr_state_NC\n",
      "addr_state_NE\n",
      "addr_state_NH\n",
      "addr_state_NJ\n",
      "addr_state_NM\n",
      "addr_state_NV\n",
      "addr_state_NY\n",
      "addr_state_OH\n",
      "addr_state_OK\n",
      "addr_state_OR\n",
      "addr_state_PA\n",
      "addr_state_RI\n",
      "addr_state_SC\n",
      "addr_state_SD\n",
      "addr_state_TN\n",
      "addr_state_TX\n",
      "addr_state_UT\n",
      "addr_state_VA\n",
      "addr_state_VT\n",
      "addr_state_WA\n",
      "addr_state_WI\n",
      "addr_state_WV\n",
      "addr_state_WY\n",
      "home_ownership_OTHER\n",
      "home_ownership_OWN\n",
      "home_ownership_RENT\n",
      "purpose_credit_card\n",
      "purpose_debt_consolidation\n",
      "purpose_educational\n",
      "purpose_home_improvement\n",
      "purpose_house\n",
      "purpose_major_purchase\n",
      "purpose_medical\n",
      "purpose_moving\n",
      "purpose_other\n",
      "purpose_renewable_energy\n",
      "purpose_small_business\n",
      "purpose_vacation\n",
      "purpose_wedding\n",
      "term_60m\n",
      "verification_status_Source Verified\n",
      "verification_status_Verified\n",
      "emp_ident_bank\n",
      "emp_ident_known_company\n",
      "emp_ident_puplic\n",
      "emp_ident_self_emp\n",
      "emp_ident_unknown\n"
     ]
    }
   ],
   "source": [
    "df_x_encoded = pd.get_dummies(df_x, drop_first=True)\n",
    "for i in df_x_encoded.columns:\n",
    "    print(i)\n"
   ]
  },
  {
   "cell_type": "code",
   "execution_count": 7,
   "metadata": {},
   "outputs": [
    {
     "name": "stdout",
     "output_type": "stream",
     "text": [
      "<class 'pandas.core.frame.DataFrame'>\n",
      "Int64Index: 38818 entries, 1 to 42474\n",
      "Data columns (total 80 columns):\n",
      "annual_inc                             38818 non-null float64\n",
      "dti                                    38818 non-null float64\n",
      "emp_length                             38818 non-null float64\n",
      "loan_amnt                              38818 non-null float64\n",
      "open_acc                               38818 non-null float64\n",
      "pub_rec                                38818 non-null float64\n",
      "pub_rec_bankruptcies                   38818 non-null uint8\n",
      "addr_state_AL                          38818 non-null uint8\n",
      "addr_state_AR                          38818 non-null uint8\n",
      "addr_state_AZ                          38818 non-null uint8\n",
      "addr_state_CA                          38818 non-null uint8\n",
      "addr_state_CO                          38818 non-null uint8\n",
      "addr_state_CT                          38818 non-null uint8\n",
      "addr_state_DC                          38818 non-null uint8\n",
      "addr_state_DE                          38818 non-null uint8\n",
      "addr_state_FL                          38818 non-null uint8\n",
      "addr_state_GA                          38818 non-null uint8\n",
      "addr_state_HI                          38818 non-null uint8\n",
      "addr_state_IA                          38818 non-null uint8\n",
      "addr_state_ID                          38818 non-null uint8\n",
      "addr_state_IL                          38818 non-null uint8\n",
      "addr_state_IN                          38818 non-null uint8\n",
      "addr_state_KS                          38818 non-null uint8\n",
      "addr_state_KY                          38818 non-null uint8\n",
      "addr_state_LA                          38818 non-null uint8\n",
      "addr_state_MA                          38818 non-null uint8\n",
      "addr_state_MD                          38818 non-null uint8\n",
      "addr_state_ME                          38818 non-null uint8\n",
      "addr_state_MI                          38818 non-null uint8\n",
      "addr_state_MN                          38818 non-null uint8\n",
      "addr_state_MO                          38818 non-null uint8\n",
      "addr_state_MS                          38818 non-null uint8\n",
      "addr_state_MT                          38818 non-null uint8\n",
      "addr_state_NC                          38818 non-null uint8\n",
      "addr_state_NE                          38818 non-null uint8\n",
      "addr_state_NH                          38818 non-null uint8\n",
      "addr_state_NJ                          38818 non-null uint8\n",
      "addr_state_NM                          38818 non-null uint8\n",
      "addr_state_NV                          38818 non-null uint8\n",
      "addr_state_NY                          38818 non-null uint8\n",
      "addr_state_OH                          38818 non-null uint8\n",
      "addr_state_OK                          38818 non-null uint8\n",
      "addr_state_OR                          38818 non-null uint8\n",
      "addr_state_PA                          38818 non-null uint8\n",
      "addr_state_RI                          38818 non-null uint8\n",
      "addr_state_SC                          38818 non-null uint8\n",
      "addr_state_SD                          38818 non-null uint8\n",
      "addr_state_TN                          38818 non-null uint8\n",
      "addr_state_TX                          38818 non-null uint8\n",
      "addr_state_UT                          38818 non-null uint8\n",
      "addr_state_VA                          38818 non-null uint8\n",
      "addr_state_VT                          38818 non-null uint8\n",
      "addr_state_WA                          38818 non-null uint8\n",
      "addr_state_WI                          38818 non-null uint8\n",
      "addr_state_WV                          38818 non-null uint8\n",
      "addr_state_WY                          38818 non-null uint8\n",
      "home_ownership_OTHER                   38818 non-null uint8\n",
      "home_ownership_OWN                     38818 non-null uint8\n",
      "home_ownership_RENT                    38818 non-null uint8\n",
      "purpose_credit_card                    38818 non-null uint8\n",
      "purpose_debt_consolidation             38818 non-null uint8\n",
      "purpose_educational                    38818 non-null uint8\n",
      "purpose_home_improvement               38818 non-null uint8\n",
      "purpose_house                          38818 non-null uint8\n",
      "purpose_major_purchase                 38818 non-null uint8\n",
      "purpose_medical                        38818 non-null uint8\n",
      "purpose_moving                         38818 non-null uint8\n",
      "purpose_other                          38818 non-null uint8\n",
      "purpose_renewable_energy               38818 non-null uint8\n",
      "purpose_small_business                 38818 non-null uint8\n",
      "purpose_vacation                       38818 non-null uint8\n",
      "purpose_wedding                        38818 non-null uint8\n",
      "term_60m                               38818 non-null uint8\n",
      "verification_status_Source Verified    38818 non-null uint8\n",
      "verification_status_Verified           38818 non-null uint8\n",
      "emp_ident_bank                         38818 non-null uint8\n",
      "emp_ident_known_company                38818 non-null uint8\n",
      "emp_ident_puplic                       38818 non-null uint8\n",
      "emp_ident_self_emp                     38818 non-null uint8\n",
      "emp_ident_unknown                      38818 non-null uint8\n",
      "dtypes: float64(6), uint8(74)\n",
      "memory usage: 4.8 MB\n"
     ]
    }
   ],
   "source": [
    "df_x_encoded.info()"
   ]
  },
  {
   "cell_type": "code",
   "execution_count": 8,
   "metadata": {},
   "outputs": [
    {
     "data": {
      "text/plain": [
       "0    38739\n",
       "1       79\n",
       "Name: addr_state_WY, dtype: int64"
      ]
     },
     "execution_count": 8,
     "metadata": {},
     "output_type": "execute_result"
    }
   ],
   "source": [
    "df_x_encoded.addr_state_WY.value_counts()"
   ]
  },
  {
   "cell_type": "markdown",
   "metadata": {},
   "source": [
    "## create pipline parts for DF use"
   ]
  },
  {
   "cell_type": "code",
   "execution_count": 8,
   "metadata": {},
   "outputs": [],
   "source": [
    "from sklearn.base import BaseEstimator, TransformerMixin\n",
    "\n",
    "class TypeSelector(BaseEstimator, TransformerMixin):\n",
    "    def __init__(self, dtype):\n",
    "        self.dtype = dtype\n",
    "\n",
    "    def fit(self, X, y=None):\n",
    "        return self\n",
    "\n",
    "    def transform(self, X):\n",
    "        assert isinstance(X, pd.DataFrame)\n",
    "        return X.select_dtypes(include=[self.dtype])\n",
    "    \n",
    "class ColumnSelector(BaseEstimator, TransformerMixin):\n",
    "    def __init__(self, columns):\n",
    "        self.columns = columns\n",
    "\n",
    "    def fit(self, X, y=None):\n",
    "        return self\n",
    "\n",
    "    def transform(self, X):\n",
    "        assert isinstance(X, pd.DataFrame)\n",
    "\n",
    "        try:\n",
    "            return X[self.columns]\n",
    "        except KeyError:\n",
    "            cols_error = list(set(self.columns) - set(X.columns))\n",
    "            raise KeyError(\"The DataFrame does not include the columns: %s\" % cols_error)\n",
    "            \n",
    " "
   ]
  },
  {
   "cell_type": "code",
   "execution_count": 10,
   "metadata": {},
   "outputs": [],
   "source": [
    "preprocess_pipeline = make_pipeline(\n",
    "    ColumnSelector(columns=df_x_encoded.columns),\n",
    "    FeatureUnion(transformer_list=[\n",
    "        (\"numeric_features\", make_pipeline(\n",
    "            TypeSelector('float64'),\n",
    "            StandardScaler()\n",
    "        )),\n",
    "        (\"bool_features\", make_pipeline(\n",
    "            TypeSelector('uint8'),\n",
    "        )),\n",
    "        #(\"categorical_features\", make_pipeline(\n",
    "        #    TypeSelector(\"category\"),\n",
    "        #    OneHotEncoder()\n",
    "        #)),\n",
    "    ]))"
   ]
  },
  {
   "cell_type": "code",
   "execution_count": 11,
   "metadata": {},
   "outputs": [
    {
     "name": "stdout",
     "output_type": "stream",
     "text": [
      "(38818, 80)\n",
      "(38818, 80)\n"
     ]
    },
    {
     "data": {
      "text/plain": [
       "(38818, 1)"
      ]
     },
     "execution_count": 11,
     "metadata": {},
     "output_type": "execute_result"
    }
   ],
   "source": [
    "preprocess_pipeline.fit(df_x_encoded)\n",
    "X_transformed = preprocess_pipeline.transform(df_x_encoded)    \n",
    "print(X_transformed.shape)\n",
    "print(df_x_encoded.shape)\n",
    "df_y.shape\n",
    "#df_y.values"
   ]
  },
  {
   "cell_type": "code",
   "execution_count": 12,
   "metadata": {},
   "outputs": [],
   "source": [
    "# Using Random Forest to gain an insight on Feature Importance\n",
    "clf = DecisionTreeClassifier()\n",
    "#clf = RandomForestClassifier(n_estimators=6,max_leaf_nodes=2)\n",
    "clf.fit(X_transformed, df_y)\n",
    "importance = clf.feature_importances_\n"
   ]
  },
  {
   "cell_type": "code",
   "execution_count": 13,
   "metadata": {},
   "outputs": [
    {
     "data": {
      "image/png": "[encoded data removed]",
      "text/plain": [
       "<Figure size 720x1080 with 1 Axes>"
      ]
     },
     "metadata": {},
     "output_type": "display_data"
    }
   ],
   "source": [
    "plt.style.use('seaborn-whitegrid')\n",
    "importance = pd.DataFrame(importance, index=df_x_encoded.columns, columns=[\"Importance\"])\n",
    "importance = importance.sort_values(['Importance'], ascending=True)\n",
    "plt.rc('font', size=13)\n",
    "importance.tail(n=20).plot(kind='barh', figsize=(10,15));"
   ]
  },
  {
   "cell_type": "code",
   "execution_count": 15,
   "metadata": {},
   "outputs": [],
   "source": [
    "## TODO merge the dummys to one importnace ... \n",
    "importance_join = pd.DataFrame(index = df_x.columns)\n",
    "for i1 in df_x.select_dtypes('object').columns:\n",
    "    #print(i1)\n",
    "    t_sum = 0\n",
    "    for i2 in importance.index:\n",
    "        if i1 in i2:\n",
    "            #print ('--' + i2)\n",
    "            t_sum += importance.loc[i2,'Importance']\n",
    "    \n",
    "    importance_join.loc[i1,'Importance'] = t_sum\n",
    "            \n",
    "for i in df_x.select_dtypes(np.number).columns:\n",
    "    importance_join.loc[i,'Importance'] = importance.loc[i,'Importance']\n",
    "    \n",
    "importance_join = importance_join.sort_values(['Importance'], ascending=True)"
   ]
  },
  {
   "cell_type": "code",
   "execution_count": 16,
   "metadata": {},
   "outputs": [
    {
     "data": {
      "image/png": "[encoded data removed]",
      "text/plain": [
       "<Figure size 576x576 with 1 Axes>"
      ]
     },
     "metadata": {},
     "output_type": "display_data"
    }
   ],
   "source": [
    "importance_join.plot(kind='barh', figsize=(8,8));"
   ]
  },
  {
   "cell_type": "code",
   "execution_count": 15,
   "metadata": {},
   "outputs": [
    {
     "name": "stdout",
     "output_type": "stream",
     "text": [
      "1.0\n"
     ]
    },
    {
     "data": {
      "text/plain": [
       "1.0"
      ]
     },
     "execution_count": 15,
     "metadata": {},
     "output_type": "execute_result"
    }
   ],
   "source": [
    "print(precision_score(df_y.values, clf.predict(X_transformed)))\n",
    "accuracy_score(df_y, clf.predict(X_transformed))"
   ]
  },
  {
   "cell_type": "code",
   "execution_count": 16,
   "metadata": {},
   "outputs": [
    {
     "data": {
      "text/plain": [
       "array([[ 5842,     0],\n",
       "       [    0, 32976]])"
      ]
     },
     "execution_count": 16,
     "metadata": {},
     "output_type": "execute_result"
    }
   ],
   "source": [
    "confusion_matrix(df_y, clf.predict(X_transformed))"
   ]
  },
  {
   "cell_type": "code",
   "execution_count": 26,
   "metadata": {},
   "outputs": [
    {
     "data": {
      "text/plain": [
       "array([[0.],\n",
       "       [1.],\n",
       "       [1.],\n",
       "       ...,\n",
       "       [1.],\n",
       "       [1.],\n",
       "       [1.]])"
      ]
     },
     "execution_count": 26,
     "metadata": {},
     "output_type": "execute_result"
    }
   ],
   "source": [
    "y = df_y.values\n",
    "y"
   ]
  },
  {
   "cell_type": "code",
   "execution_count": 27,
   "metadata": {},
   "outputs": [
    {
     "name": "stderr",
     "output_type": "stream",
     "text": [
      "/Users/arnescheunemann/opt/anaconda3/envs/nf2/lib/python3.6/site-packages/sklearn/utils/validation.py:760: DataConversionWarning: A column-vector y was passed when a 1d array was expected. Please change the shape of y to (n_samples, ), for example using ravel().\n",
      "  y = column_or_1d(y, warn=True)\n"
     ]
    },
    {
     "name": "stdout",
     "output_type": "stream",
     "text": [
      "[[  130  5712]\n",
      " [  120 32856]]\n",
      "0.851897946484132\n"
     ]
    },
    {
     "name": "stderr",
     "output_type": "stream",
     "text": [
      "/Users/arnescheunemann/opt/anaconda3/envs/nf2/lib/python3.6/site-packages/sklearn/linear_model/_logistic.py:940: ConvergenceWarning: lbfgs failed to converge (status=1):\n",
      "STOP: TOTAL NO. of ITERATIONS REACHED LIMIT.\n",
      "\n",
      "Increase the number of iterations (max_iter) or scale the data as shown in:\n",
      "    https://scikit-learn.org/stable/modules/preprocessing.html\n",
      "Please also refer to the documentation for alternative solver options:\n",
      "    https://scikit-learn.org/stable/modules/linear_model.html#logistic-regression\n",
      "  extra_warning_msg=_LOGISTIC_SOLVER_CONVERGENCE_MSG)\n"
     ]
    }
   ],
   "source": [
    "## more model testing\n",
    "clf = LogisticRegression()\n",
    "clf.fit(X_transformed, y)\n",
    "print(confusion_matrix(y, clf.predict(X_transformed)))\n",
    "print(precision_score(y, clf.predict(X_transformed)))"
   ]
  },
  {
   "cell_type": "code",
   "execution_count": null,
   "metadata": {},
   "outputs": [
    {
     "name": "stderr",
     "output_type": "stream",
     "text": [
      "/Users/arnescheunemann/opt/anaconda3/envs/nf2/lib/python3.6/site-packages/sklearn/utils/validation.py:760: DataConversionWarning: A column-vector y was passed when a 1d array was expected. Please change the shape of y to (n_samples, ), for example using ravel().\n",
      "  y = column_or_1d(y, warn=True)\n"
     ]
    }
   ],
   "source": [
    "## more model testing\n",
    "#clf = SVC()\n",
    "#clf.fit(X_transformed, df_y.values)\n",
    "#print(confusion_matrix(df_y.values, clf.predict(X_transformed)))\n",
    "#print(precision_score(df_y.values, clf.predict(X_transformed)))"
   ]
  },
  {
   "cell_type": "code",
   "execution_count": 32,
   "metadata": {},
   "outputs": [],
   "source": [
    "X_train, X_test, y_train, y_test = model_selection.train_test_split(X_transformed, y, test_size=0.33, random_state=42, stratify=\n",
    "                                                                    y)"
   ]
  },
  {
   "cell_type": "code",
   "execution_count": 46,
   "metadata": {},
   "outputs": [
    {
     "name": "stderr",
     "output_type": "stream",
     "text": [
      "/Users/arnescheunemann/opt/anaconda3/envs/nf2/lib/python3.6/site-packages/ipykernel_launcher.py:3: DataConversionWarning: A column-vector y was passed when a 1d array was expected. Please change the shape of y to (n_samples,), for example using ravel().\n",
      "  This is separate from the ipykernel package so we can avoid doing imports until\n",
      "[Parallel(n_jobs=1)]: Using backend SequentialBackend with 1 concurrent workers.\n",
      "[Parallel(n_jobs=1)]: Done 100 out of 100 | elapsed:    3.9s finished\n",
      "[Parallel(n_jobs=1)]: Using backend SequentialBackend with 1 concurrent workers.\n",
      "[Parallel(n_jobs=1)]: Done 100 out of 100 | elapsed:    0.3s finished\n",
      "[Parallel(n_jobs=1)]: Using backend SequentialBackend with 1 concurrent workers.\n"
     ]
    },
    {
     "name": "stdout",
     "output_type": "stream",
     "text": [
      "[[   33  1895]\n",
      " [   43 10839]]\n",
      "0.8511858017904822\n"
     ]
    },
    {
     "name": "stderr",
     "output_type": "stream",
     "text": [
      "[Parallel(n_jobs=1)]: Done 100 out of 100 | elapsed:    0.3s finished\n"
     ]
    }
   ],
   "source": [
    "#clf = LogisticRegression()\n",
    "clf = RandomForestClassifier(criterion='entropy',verbose=1)\n",
    "clf.fit(X_train, y_train)\n",
    "print(confusion_matrix(y_test, clf.predict(X_test)))\n",
    "print(precision_score(y_test, clf.predict(X_test)))"
   ]
  },
  {
   "cell_type": "code",
   "execution_count": 39,
   "metadata": {},
   "outputs": [
    {
     "data": {
      "text/plain": [
       "100"
      ]
     },
     "execution_count": 39,
     "metadata": {},
     "output_type": "execute_result"
    }
   ],
   "source": [
    "clf.n_estimators"
   ]
  },
  {
   "cell_type": "code",
   "execution_count": 44,
   "metadata": {},
   "outputs": [],
   "source": [
    "clf.max_leaf_nodes"
   ]
  },
  {
   "cell_type": "code",
   "execution_count": null,
   "metadata": {},
   "outputs": [],
   "source": []
  }
 ],
 "metadata": {
  "kernelspec": {
   "display_name": "Python [conda env:nf2] *",
   "language": "python",
   "name": "conda-env-nf2-py"
  },
  "language_info": {
   "codemirror_mode": {
    "name": "ipython",
    "version": 3
   },
   "file_extension": ".py",
   "mimetype": "text/x-python",
   "name": "python",
   "nbconvert_exporter": "python",
   "pygments_lexer": "ipython3",
   "version": "3.6.10"
  },
  "toc": {
   "base_numbering": 1,
   "nav_menu": {},
   "number_sections": true,
   "sideBar": true,
   "skip_h1_title": false,
   "title_cell": "Table of Contents",
   "title_sidebar": "Contents",
   "toc_cell": false,
   "toc_position": {},
   "toc_section_display": true,
   "toc_window_display": false
  }
 },
 "nbformat": 4,
 "nbformat_minor": 4
}
