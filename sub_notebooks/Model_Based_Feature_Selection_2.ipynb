{
 "cells": [
  {
   "cell_type": "code",
   "execution_count": 1,
   "metadata": {},
   "outputs": [],
   "source": [
    "# Data\n",
    "import numpy as np\n",
    "import pandas as pd\n",
    "\n",
    "# Visualization \n",
    "import matplotlib.pyplot as plt\n",
    "import seaborn as sns\n",
    "\n",
    "# Prepprc\n",
    "from sklearn.preprocessing import StandardScaler, OneHotEncoder\n",
    "from sklearn import model_selection\n",
    "\n",
    "# pipline\n",
    "from sklearn.pipeline import make_pipeline, FeatureUnion\n",
    "\n",
    "# ML\n",
    "from sklearn.tree import DecisionTreeClassifier\n",
    "from sklearn.ensemble import RandomForestClassifier\n",
    "from sklearn.linear_model import LogisticRegression\n",
    "#Metrics\n",
    "\n",
    "from sklearn.metrics import precision_recall_fscore_support, roc_curve, auc\n"
   ]
  },
  {
   "cell_type": "code",
   "execution_count": 38,
   "metadata": {},
   "outputs": [],
   "source": [
    "df = pd.read_pickle('../data/clean_pass_01p1.pkl')"
   ]
  },
  {
   "cell_type": "code",
   "execution_count": 39,
   "metadata": {},
   "outputs": [],
   "source": [
    "x_col = ['addr_state',\n",
    "'annual_inc',\n",
    "'dti',\n",
    "'emp_length',\n",
    "'home_ownership',\n",
    "'int_rate',\n",
    "'loan_amnt',\n",
    "'open_acc',\n",
    "'pub_rec',\n",
    "'pub_rec_bankruptcies',\n",
    "'purpose',\n",
    "'term',\n",
    "'verification_status']\n",
    "y_col = ['target']\n",
    "\n",
    "\n",
    "# redue pass 1\n",
    "# 'emp_title', revist ... advanced feature engineering\n"
   ]
  },
  {
   "cell_type": "code",
   "execution_count": 40,
   "metadata": {},
   "outputs": [],
   "source": [
    "df_x = df[x_col]\n",
    "df_y = df[y_col]"
   ]
  },
  {
   "cell_type": "code",
   "execution_count": 41,
   "metadata": {},
   "outputs": [
    {
     "name": "stdout",
     "output_type": "stream",
     "text": [
      "<class 'pandas.core.frame.DataFrame'>\n",
      "Int64Index: 41340 entries, 0 to 42474\n",
      "Data columns (total 1 columns):\n",
      "pub_rec_bankruptcies    41340 non-null uint8\n",
      "dtypes: uint8(1)\n",
      "memory usage: 363.3 KB\n"
     ]
    },
    {
     "name": "stderr",
     "output_type": "stream",
     "text": [
      "/Users/arnescheunemann/opt/anaconda3/envs/nf2/lib/python3.6/site-packages/pandas/core/generic.py:5096: SettingWithCopyWarning: \n",
      "A value is trying to be set on a copy of a slice from a DataFrame.\n",
      "Try using .loc[row_indexer,col_indexer] = value instead\n",
      "\n",
      "See the caveats in the documentation: http://pandas.pydata.org/pandas-docs/stable/indexing.html#indexing-view-versus-copy\n",
      "  self[name] = value\n"
     ]
    }
   ],
   "source": [
    "df_x.pub_rec_bankruptcies = df_x.pub_rec_bankruptcies.astype('uint8') \n",
    "df_x.select_dtypes('uint8').info()\n"
   ]
  },
  {
   "cell_type": "markdown",
   "metadata": {},
   "source": [
    "## Feature importnace try with dummy to recall names\n"
   ]
  },
  {
   "cell_type": "code",
   "execution_count": 42,
   "metadata": {},
   "outputs": [
    {
     "name": "stdout",
     "output_type": "stream",
     "text": [
      "annual_inc\n",
      "dti\n",
      "emp_length\n",
      "int_rate\n",
      "loan_amnt\n",
      "open_acc\n",
      "pub_rec\n",
      "pub_rec_bankruptcies\n",
      "addr_state_AL\n",
      "addr_state_AR\n",
      "addr_state_AZ\n",
      "addr_state_CA\n",
      "addr_state_CO\n",
      "addr_state_CT\n",
      "addr_state_DC\n",
      "addr_state_DE\n",
      "addr_state_FL\n",
      "addr_state_GA\n",
      "addr_state_HI\n",
      "addr_state_IA\n",
      "addr_state_ID\n",
      "addr_state_IL\n",
      "addr_state_IN\n",
      "addr_state_KS\n",
      "addr_state_KY\n",
      "addr_state_LA\n",
      "addr_state_MA\n",
      "addr_state_MD\n",
      "addr_state_ME\n",
      "addr_state_MI\n",
      "addr_state_MN\n",
      "addr_state_MO\n",
      "addr_state_MS\n",
      "addr_state_MT\n",
      "addr_state_NC\n",
      "addr_state_NE\n",
      "addr_state_NH\n",
      "addr_state_NJ\n",
      "addr_state_NM\n",
      "addr_state_NV\n",
      "addr_state_NY\n",
      "addr_state_OH\n",
      "addr_state_OK\n",
      "addr_state_OR\n",
      "addr_state_PA\n",
      "addr_state_RI\n",
      "addr_state_SC\n",
      "addr_state_SD\n",
      "addr_state_TN\n",
      "addr_state_TX\n",
      "addr_state_UT\n",
      "addr_state_VA\n",
      "addr_state_VT\n",
      "addr_state_WA\n",
      "addr_state_WI\n",
      "addr_state_WV\n",
      "addr_state_WY\n",
      "home_ownership_OTHER\n",
      "home_ownership_OWN\n",
      "home_ownership_RENT\n",
      "purpose_credit_card\n",
      "purpose_debt_consolidation\n",
      "purpose_educational\n",
      "purpose_home_improvement\n",
      "purpose_house\n",
      "purpose_major_purchase\n",
      "purpose_medical\n",
      "purpose_moving\n",
      "purpose_other\n",
      "purpose_renewable_energy\n",
      "purpose_small_business\n",
      "purpose_vacation\n",
      "purpose_wedding\n",
      "term_ 60 months\n"
     ]
    }
   ],
   "source": [
    "df_x_encoded = pd.get_dummies(df_x, drop_first=True)\n",
    "for i in df_x_encoded.columns:\n",
    "    print(i)\n"
   ]
  },
  {
   "cell_type": "code",
   "execution_count": 43,
   "metadata": {},
   "outputs": [
    {
     "name": "stdout",
     "output_type": "stream",
     "text": [
      "<class 'pandas.core.frame.DataFrame'>\n",
      "Int64Index: 41340 entries, 0 to 42474\n",
      "Data columns (total 74 columns):\n",
      "annual_inc                    41340 non-null float64\n",
      "dti                           41340 non-null float64\n",
      "emp_length                    41340 non-null float64\n",
      "int_rate                      41340 non-null float64\n",
      "loan_amnt                     41340 non-null float64\n",
      "open_acc                      41340 non-null float64\n",
      "pub_rec                       41340 non-null float64\n",
      "pub_rec_bankruptcies          41340 non-null uint8\n",
      "addr_state_AL                 41340 non-null uint8\n",
      "addr_state_AR                 41340 non-null uint8\n",
      "addr_state_AZ                 41340 non-null uint8\n",
      "addr_state_CA                 41340 non-null uint8\n",
      "addr_state_CO                 41340 non-null uint8\n",
      "addr_state_CT                 41340 non-null uint8\n",
      "addr_state_DC                 41340 non-null uint8\n",
      "addr_state_DE                 41340 non-null uint8\n",
      "addr_state_FL                 41340 non-null uint8\n",
      "addr_state_GA                 41340 non-null uint8\n",
      "addr_state_HI                 41340 non-null uint8\n",
      "addr_state_IA                 41340 non-null uint8\n",
      "addr_state_ID                 41340 non-null uint8\n",
      "addr_state_IL                 41340 non-null uint8\n",
      "addr_state_IN                 41340 non-null uint8\n",
      "addr_state_KS                 41340 non-null uint8\n",
      "addr_state_KY                 41340 non-null uint8\n",
      "addr_state_LA                 41340 non-null uint8\n",
      "addr_state_MA                 41340 non-null uint8\n",
      "addr_state_MD                 41340 non-null uint8\n",
      "addr_state_ME                 41340 non-null uint8\n",
      "addr_state_MI                 41340 non-null uint8\n",
      "addr_state_MN                 41340 non-null uint8\n",
      "addr_state_MO                 41340 non-null uint8\n",
      "addr_state_MS                 41340 non-null uint8\n",
      "addr_state_MT                 41340 non-null uint8\n",
      "addr_state_NC                 41340 non-null uint8\n",
      "addr_state_NE                 41340 non-null uint8\n",
      "addr_state_NH                 41340 non-null uint8\n",
      "addr_state_NJ                 41340 non-null uint8\n",
      "addr_state_NM                 41340 non-null uint8\n",
      "addr_state_NV                 41340 non-null uint8\n",
      "addr_state_NY                 41340 non-null uint8\n",
      "addr_state_OH                 41340 non-null uint8\n",
      "addr_state_OK                 41340 non-null uint8\n",
      "addr_state_OR                 41340 non-null uint8\n",
      "addr_state_PA                 41340 non-null uint8\n",
      "addr_state_RI                 41340 non-null uint8\n",
      "addr_state_SC                 41340 non-null uint8\n",
      "addr_state_SD                 41340 non-null uint8\n",
      "addr_state_TN                 41340 non-null uint8\n",
      "addr_state_TX                 41340 non-null uint8\n",
      "addr_state_UT                 41340 non-null uint8\n",
      "addr_state_VA                 41340 non-null uint8\n",
      "addr_state_VT                 41340 non-null uint8\n",
      "addr_state_WA                 41340 non-null uint8\n",
      "addr_state_WI                 41340 non-null uint8\n",
      "addr_state_WV                 41340 non-null uint8\n",
      "addr_state_WY                 41340 non-null uint8\n",
      "home_ownership_OTHER          41340 non-null uint8\n",
      "home_ownership_OWN            41340 non-null uint8\n",
      "home_ownership_RENT           41340 non-null uint8\n",
      "purpose_credit_card           41340 non-null uint8\n",
      "purpose_debt_consolidation    41340 non-null uint8\n",
      "purpose_educational           41340 non-null uint8\n",
      "purpose_home_improvement      41340 non-null uint8\n",
      "purpose_house                 41340 non-null uint8\n",
      "purpose_major_purchase        41340 non-null uint8\n",
      "purpose_medical               41340 non-null uint8\n",
      "purpose_moving                41340 non-null uint8\n",
      "purpose_other                 41340 non-null uint8\n",
      "purpose_renewable_energy      41340 non-null uint8\n",
      "purpose_small_business        41340 non-null uint8\n",
      "purpose_vacation              41340 non-null uint8\n",
      "purpose_wedding               41340 non-null uint8\n",
      "term_ 60 months               41340 non-null uint8\n",
      "dtypes: float64(7), uint8(67)\n",
      "memory usage: 5.2 MB\n"
     ]
    }
   ],
   "source": [
    "df_x_encoded.info()"
   ]
  },
  {
   "cell_type": "code",
   "execution_count": 44,
   "metadata": {},
   "outputs": [
    {
     "data": {
      "text/plain": [
       "0    41257\n",
       "1       83\n",
       "Name: addr_state_WY, dtype: int64"
      ]
     },
     "execution_count": 44,
     "metadata": {},
     "output_type": "execute_result"
    }
   ],
   "source": [
    "df_x_encoded.addr_state_WY.value_counts()"
   ]
  },
  {
   "cell_type": "markdown",
   "metadata": {},
   "source": [
    "## create pipline parts for DF use"
   ]
  },
  {
   "cell_type": "code",
   "execution_count": 45,
   "metadata": {},
   "outputs": [],
   "source": [
    "from sklearn.base import BaseEstimator, TransformerMixin\n",
    "\n",
    "class TypeSelector(BaseEstimator, TransformerMixin):\n",
    "    def __init__(self, dtype):\n",
    "        self.dtype = dtype\n",
    "\n",
    "    def fit(self, X, y=None):\n",
    "        return self\n",
    "\n",
    "    def transform(self, X):\n",
    "        assert isinstance(X, pd.DataFrame)\n",
    "        return X.select_dtypes(include=[self.dtype])\n",
    "    \n",
    "class ColumnSelector(BaseEstimator, TransformerMixin):\n",
    "    def __init__(self, columns):\n",
    "        self.columns = columns\n",
    "\n",
    "    def fit(self, X, y=None):\n",
    "        return self\n",
    "\n",
    "    def transform(self, X):\n",
    "        assert isinstance(X, pd.DataFrame)\n",
    "\n",
    "        try:\n",
    "            return X[self.columns]\n",
    "        except KeyError:\n",
    "            cols_error = list(set(self.columns) - set(X.columns))\n",
    "            raise KeyError(\"The DataFrame does not include the columns: %s\" % cols_error)\n",
    "            \n",
    " "
   ]
  },
  {
   "cell_type": "code",
   "execution_count": 26,
   "metadata": {},
   "outputs": [],
   "source": [
    "preprocess_pipeline = make_pipeline(\n",
    "    ColumnSelector(columns=df_x_encoded.columns),\n",
    "    FeatureUnion(transformer_list=[\n",
    "        (\"numeric_features\", make_pipeline(\n",
    "            TypeSelector('float64'),\n",
    "            StandardScaler()\n",
    "        )),\n",
    "        (\"bool_features\", make_pipeline(\n",
    "            TypeSelector('uint8'),\n",
    "        )),\n",
    "        #(\"categorical_features\", make_pipeline(\n",
    "        #    TypeSelector(\"category\"),\n",
    "        #    OneHotEncoder()\n",
    "        #)),\n",
    "    ]))"
   ]
  },
  {
   "cell_type": "code",
   "execution_count": 46,
   "metadata": {},
   "outputs": [
    {
     "name": "stdout",
     "output_type": "stream",
     "text": [
      "(41340, 74)\n",
      "(41340, 74)\n"
     ]
    },
    {
     "data": {
      "text/plain": [
       "array([[1],\n",
       "       [0],\n",
       "       [1],\n",
       "       ...,\n",
       "       [1],\n",
       "       [1],\n",
       "       [1]])"
      ]
     },
     "execution_count": 46,
     "metadata": {},
     "output_type": "execute_result"
    }
   ],
   "source": [
    "preprocess_pipeline.fit(df_x_encoded)\n",
    "X_transformed = preprocess_pipeline.transform(df_x_encoded)    \n",
    "print(X_transformed.shape)\n",
    "print(df_x_encoded.shape)\n",
    "df_y.shape\n",
    "df_y.values"
   ]
  },
  {
   "cell_type": "code",
   "execution_count": 51,
   "metadata": {},
   "outputs": [
    {
     "name": "stderr",
     "output_type": "stream",
     "text": [
      "/Users/arnescheunemann/opt/anaconda3/envs/nf2/lib/python3.6/site-packages/ipykernel_launcher.py:4: DataConversionWarning: A column-vector y was passed when a 1d array was expected. Please change the shape of y to (n_samples,), for example using ravel().\n",
      "  after removing the cwd from sys.path.\n"
     ]
    }
   ],
   "source": [
    "# Using Random Forest to gain an insight on Feature Importance\n",
    "#clf = DecisionTreeClassifier()\n",
    "clf = RandomForestClassifier()\n",
    "clf.fit(X_transformed, df_y)\n",
    "importance = clf.feature_importances_\n"
   ]
  },
  {
   "cell_type": "code",
   "execution_count": 54,
   "metadata": {},
   "outputs": [
    {
     "data": {
      "image/png": "[encoded data removed]",
      "text/plain": [
       "<Figure size 720x1080 with 1 Axes>"
      ]
     },
     "metadata": {},
     "output_type": "display_data"
    }
   ],
   "source": [
    "plt.style.use('seaborn-whitegrid')\n",
    "importance = pd.DataFrame(importance, index=df_x_encoded.columns, columns=[\"Importance\"])\n",
    "importance = importance.sort_values(['Importance'], ascending=True)\n",
    "plt.rc('font', size=13)\n",
    "importance.tail(n=20).plot(kind='barh', figsize=(10,15));"
   ]
  },
  {
   "cell_type": "code",
   "execution_count": null,
   "metadata": {},
   "outputs": [],
   "source": [
    "## TODO merge the dummys to one importnace ... "
   ]
  },
  {
   "cell_type": "code",
   "execution_count": null,
   "metadata": {},
   "outputs": [],
   "source": []
  }
 ],
 "metadata": {
  "kernelspec": {
   "display_name": "Python [conda env:nf2] *",
   "language": "python",
   "name": "conda-env-nf2-py"
  },
  "language_info": {
   "codemirror_mode": {
    "name": "ipython",
    "version": 3
   },
   "file_extension": ".py",
   "mimetype": "text/x-python",
   "name": "python",
   "nbconvert_exporter": "python",
   "pygments_lexer": "ipython3",
   "version": "3.6.10"
  },
  "toc": {
   "base_numbering": 1,
   "nav_menu": {},
   "number_sections": true,
   "sideBar": true,
   "skip_h1_title": false,
   "title_cell": "Table of Contents",
   "title_sidebar": "Contents",
   "toc_cell": false,
   "toc_position": {},
   "toc_section_display": true,
   "toc_window_display": false
  }
 },
 "nbformat": 4,
 "nbformat_minor": 4
}
