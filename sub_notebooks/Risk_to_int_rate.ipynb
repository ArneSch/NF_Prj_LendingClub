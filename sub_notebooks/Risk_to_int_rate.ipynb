{
 "cells": [
  {
   "cell_type": "code",
   "execution_count": 4,
   "metadata": {},
   "outputs": [],
   "source": [
    "risk = 0.3 # from model\n",
    "loan_amnt = 10000 # credit amount\n",
    "pay_period_in_month = 36\n",
    "\n",
    "\n",
    "breakthrough_cost = loan_amnt*(1+risk)\n",
    "installment = breakthrough_cost / pay_period_in_month\n"
   ]
  },
  {
   "cell_type": "code",
   "execution_count": 5,
   "metadata": {},
   "outputs": [
    {
     "data": {
      "text/plain": [
       "361.1111111111111"
      ]
     },
     "execution_count": 5,
     "metadata": {},
     "output_type": "execute_result"
    }
   ],
   "source": [
    "installment"
   ]
  },
  {
   "cell_type": "code",
   "execution_count": 7,
   "metadata": {},
   "outputs": [],
   "source": [
    "int_rate_no_gain = installment/loan_amnt"
   ]
  },
  {
   "cell_type": "code",
   "execution_count": 8,
   "metadata": {},
   "outputs": [
    {
     "data": {
      "text/plain": [
       "0.03611111111111111"
      ]
     },
     "execution_count": 8,
     "metadata": {},
     "output_type": "execute_result"
    }
   ],
   "source": [
    "int_rate_no_gain"
   ]
  },
  {
   "cell_type": "code",
   "execution_count": 9,
   "metadata": {},
   "outputs": [],
   "source": [
    "base_rate = 0.05"
   ]
  },
  {
   "cell_type": "code",
   "execution_count": 10,
   "metadata": {},
   "outputs": [],
   "source": [
    "final_rate =base_rate+int_rate_no_gain"
   ]
  },
  {
   "cell_type": "code",
   "execution_count": 11,
   "metadata": {},
   "outputs": [
    {
     "data": {
      "text/plain": [
       "0.08611111111111111"
      ]
     },
     "execution_count": 11,
     "metadata": {},
     "output_type": "execute_result"
    }
   ],
   "source": [
    "final_rate"
   ]
  },
  {
   "cell_type": "code",
   "execution_count": 27,
   "metadata": {},
   "outputs": [
    {
     "data": {
      "text/plain": [
       "[<matplotlib.lines.Line2D at 0x116bbd6a0>]"
      ]
     },
     "execution_count": 27,
     "metadata": {},
     "output_type": "execute_result"
    },
    {
     "data": {
      "image/png": "[encoded data removed]",
      "text/plain": [
       "<Figure size 432x288 with 1 Axes>"
      ]
     },
     "metadata": {
      "needs_background": "light"
     },
     "output_type": "display_data"
    }
   ],
   "source": [
    "import numpy as np\n",
    "import matplotlib.pyplot as plt\n",
    "\n",
    "def calc_int_rate(coff_risk, pay_back_pirod_in_month, loan_amnt, investor_gain, model_risk):\n",
    "    base_rate = 0.05 # as magic number\n",
    "    Incresing_factor = 1.5\n",
    "    \n",
    "    #loan amount correcton\n",
    "    if loan_amnt >= 10000:\n",
    "        Incresing_factor = 2\n",
    "    elif loan_amnt > 5000:\n",
    "        Incresing_factor = 3\n",
    "    else:\n",
    "        Incresing_factor = 1.5\n",
    "        \n",
    "    breakthrough_cost = loan_amnt*(1.+coff_risk+0.01)\n",
    "    installment = breakthrough_cost / pay_back_pirod_in_month\n",
    "    int_rate_no_gain = installment/loan_amnt\n",
    "    \n",
    "    final_rate =base_rate+int_rate_no_gain*Incresing_factor+investor_gain\n",
    "    \n",
    "    return final_rate\n",
    "\n",
    "\n",
    "pay_back_pirod_in_month = 36\n",
    "Int_Rate_Threshold = 0.3\n",
    "coff_risk =  np.linspace(0.01,0.8,100)\n",
    "loan_amnt = 10000\n",
    "investor_gain = 0.03\n",
    "plt.plot(coff_risk*100,calc_int_rate(coff_risk, pay_back_pirod_in_month, loan_amnt,investor_gain, model_risk)*100)"
   ]
  },
  {
   "cell_type": "code",
   "execution_count": null,
   "metadata": {},
   "outputs": [],
   "source": []
  }
 ],
 "metadata": {
  "kernelspec": {
   "display_name": "Python [conda env:nf2] *",
   "language": "python",
   "name": "conda-env-nf2-py"
  },
  "language_info": {
   "codemirror_mode": {
    "name": "ipython",
    "version": 3
   },
   "file_extension": ".py",
   "mimetype": "text/x-python",
   "name": "python",
   "nbconvert_exporter": "python",
   "pygments_lexer": "ipython3",
   "version": "3.6.10"
  },
  "toc": {
   "base_numbering": 1,
   "nav_menu": {},
   "number_sections": true,
   "sideBar": true,
   "skip_h1_title": false,
   "title_cell": "Table of Contents",
   "title_sidebar": "Contents",
   "toc_cell": false,
   "toc_position": {},
   "toc_section_display": true,
   "toc_window_display": false
  }
 },
 "nbformat": 4,
 "nbformat_minor": 4
}
