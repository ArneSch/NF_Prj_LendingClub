{
 "cells": [
  {
   "cell_type": "markdown",
   "metadata": {},
   "source": [
    "# Import"
   ]
  },
  {
   "cell_type": "code",
   "execution_count": 1,
   "metadata": {},
   "outputs": [],
   "source": [
    "import pandas as pd\n",
    "import re\n",
    "import numpy as np\n",
    "import os\n",
    "\n",
    "import matplotlib.pyplot as plt\n",
    "import seaborn as sns\n",
    "\n",
    "from sklearn.pipeline import make_pipeline, FeatureUnion, Pipeline\n",
    "from sklearn.preprocessing import StandardScaler, MinMaxScaler, FunctionTransformer, Normalizer #,power_transform\n",
    "from sklearn.tree import DecisionTreeClassifier\n",
    "from sklearn.ensemble import RandomForestClassifier\n",
    "from sklearn.linear_model import LogisticRegression\n",
    "from sklearn.naive_bayes import GaussianNB, CategoricalNB\n",
    "from sklearn.ensemble import GradientBoostingClassifier\n",
    "import xgboost as xgb\n",
    "\n",
    "from sklearn.model_selection import train_test_split, GridSearchCV, RandomizedSearchCV\n",
    "\n",
    "from sklearn.metrics import roc_auc_score,classification_report, roc_curve, \\\n",
    "auc,accuracy_score, confusion_matrix, precision_score, log_loss, fbeta_score, \\\n",
    "recall_score, make_scorer, f1_score, precision_recall_curve\n"
   ]
  },
  {
   "cell_type": "markdown",
   "metadata": {},
   "source": [
    "# Macros"
   ]
  },
  {
   "cell_type": "code",
   "execution_count": 2,
   "metadata": {},
   "outputs": [],
   "source": [
    "DATA_FOLDER = '../../data/'\n",
    "FIG_FOLDER = '../../figures/'\n",
    "\n",
    "plt.style.use('seaborn-whitegrid')"
   ]
  },
  {
   "cell_type": "markdown",
   "metadata": {},
   "source": [
    "# Utile Function"
   ]
  },
  {
   "cell_type": "markdown",
   "metadata": {},
   "source": [
    "## Sklean Pipline Pandas support"
   ]
  },
  {
   "cell_type": "code",
   "execution_count": 3,
   "metadata": {},
   "outputs": [],
   "source": [
    "from sklearn.base import BaseEstimator, TransformerMixin\n",
    "\n",
    "class TypeSelector(BaseEstimator, TransformerMixin):\n",
    "    def __init__(self, dtype):\n",
    "        self.dtype = dtype\n",
    "\n",
    "    def fit(self, X, y=None):\n",
    "        return self\n",
    "\n",
    "    def transform(self, X):\n",
    "        assert isinstance(X, pd.DataFrame)\n",
    "        return X.select_dtypes(include=[self.dtype])\n",
    "    \n",
    "class ColumnSelector(BaseEstimator, TransformerMixin):\n",
    "    def __init__(self, columns):\n",
    "        self.columns = columns\n",
    "\n",
    "    def fit(self, X, y=None):\n",
    "        return self\n",
    "\n",
    "    def transform(self, X):\n",
    "        assert isinstance(X, pd.DataFrame)\n",
    "\n",
    "        try:\n",
    "            return X[self.columns]\n",
    "        except KeyError:\n",
    "            cols_error = list(set(self.columns) - set(X.columns))\n",
    "            raise KeyError(\"The DataFrame does not include the columns: %s\" % cols_error)"
   ]
  },
  {
   "cell_type": "markdown",
   "metadata": {},
   "source": [
    "# Prediction Model"
   ]
  },
  {
   "cell_type": "markdown",
   "metadata": {},
   "source": [
    "## section data import "
   ]
  },
  {
   "cell_type": "code",
   "execution_count": 4,
   "metadata": {},
   "outputs": [],
   "source": [
    "df = pd.read_pickle(DATA_FOLDER + 'clean_pass_01p2_Ptarget_FPemp_ident_clean2.pkl')"
   ]
  },
  {
   "cell_type": "markdown",
   "metadata": {},
   "source": [
    "## Medric / Score"
   ]
  },
  {
   "cell_type": "markdown",
   "metadata": {},
   "source": [
    "### Model Metric - main assumtions\n",
    "\n",
    "Main goal for business \n",
    "* Specificity / Selectivity\n",
    "* try to avoid FP but also get TN right \n",
    "* the assumption that you will always find members/borrowers \n",
    "* investors are viewer and need to get investment reasons - no FP \n",
    "\n",
    "Prediction verfication:\n",
    "* propabuilty is needed for risk assement\n",
    "* the estimate must represent simmiler entropy then ground truth \n",
    "* ground truth is not balanced \n",
    "* --> cross entropy loss is taken in account to give indication"
   ]
  },
  {
   "cell_type": "markdown",
   "metadata": {},
   "source": [
    "### Model Performance Overview function"
   ]
  },
  {
   "cell_type": "code",
   "execution_count": 5,
   "metadata": {
    "hide_input": true
   },
   "outputs": [],
   "source": [
    "def entropy_c(y):\n",
    "    p = np.sum(y)/ len(y)\n",
    "    pm = 1.-p\n",
    "    return -(p*np.log(p))-(pm*np.log(pm))\n",
    "                          \n",
    "def entropy(y):\n",
    "    return -((np.sum(y)/ len(y))*np.log(np.sum(y)/ len(y)))\n",
    "                          \n",
    "def rate(y):\n",
    "    return np.sum(y)/ len(y)\n",
    "    \n",
    "def Model_Vali(m, X_train, X_test, y_train, y_test, thres=0.5):\n",
    "    \n",
    "    \n",
    "    y_ins_pred= m.predict(X_train)\n",
    "    y_outs_pred= m.predict(X_test)\n",
    "    y_base = np.ones(len(X_test))\n",
    "    y_base0 = np.zeros(len(X_test))\n",
    "    try:\n",
    "        y_ins_pred_p= m.predict_proba(X_train)[:, 1]\n",
    "        y_outs_pred_p= m.predict_proba(X_test)[:, 1]\n",
    "        if thres!=0.5:\n",
    "\n",
    "            y_ins_pred = [1. if e > thres else 0. for e in y_ins_pred_p]\n",
    "            y_outs_pred = [1. if e > thres else 0. for e in y_outs_pred_p]\n",
    "    except:\n",
    "        y_ins_pred_p= y_ins_pred\n",
    "        y_outs_pred_p= y_ins_pred \n",
    "    \n",
    "    print(f'train pred. rate = {rate(y_ins_pred)}' )\n",
    "    print(f'train truth rate = {rate(y_train)}' )\n",
    "    print(f'train truth entropy = {entropy_c(y_train)}' )\n",
    "    print(f'train pred. entropy = {entropy_c(y_ins_pred)}' )\n",
    "    print(f'test  pred. rate = {rate(y_outs_pred)}' )\n",
    "    print(f'test  truth rate = {rate(y_test)}' )\n",
    "    print(f'test  truth entropy = {entropy_c(y_test)}' )\n",
    "    print(f'test  pred. entropy = {entropy_c(y_outs_pred)}' )\n",
    "    \n",
    "    \n",
    "    print('--')\n",
    "    print(f'base  recall = {recall_score(y_test, y_base)}')\n",
    "    print(f'test  recall = {recall_score(y_test, y_outs_pred)}')\n",
    "    print(f'train recall = {recall_score(y_train, y_ins_pred)}')\n",
    "    print('--')\n",
    "    print(f'base0  precision = {precision_score(y_test, y_base0)}')\n",
    "    print(f'base  precision = {precision_score(y_test, y_base)}')\n",
    "    print(f'test  precision = {precision_score(y_test, y_outs_pred)}')\n",
    "    print(f'train precision = {precision_score(y_train, y_ins_pred)}')\n",
    "    print('--')\n",
    "    print(f'base  ROC-AUC = {roc_auc_score(y_test, y_base)}')\n",
    "    print(f'test  ROC-AUC = {roc_auc_score(y_test, y_outs_pred)}')\n",
    "    print(f'train ROC-AUC = {roc_auc_score(y_train, y_ins_pred)}')\n",
    "    print('--')\n",
    "    print(f'base  accuracy = {accuracy_score(y_test, y_base)}')\n",
    "    print(f'test  accuracy = {accuracy_score(y_test, y_outs_pred)}')\n",
    "    print(f'train accuracy = {accuracy_score(y_train, y_ins_pred)}')\n",
    "    print('--')\n",
    "    print(f'base  log_loss = {log_loss(y_test, y_base)}')\n",
    "    print(f'test  log_loss = {log_loss(y_test, y_outs_pred_p)}')\n",
    "    print(f'train log_loss = {log_loss(y_train, y_ins_pred_p)}')\n",
    "    print('--')\n",
    "    print(f'base  TNR = {TNR(y_test, y_base)}')\n",
    "    print(f'test  TNR = {TNR(y_test, y_outs_pred)}')\n",
    "    print(f'train TNR = {TNR(y_train, y_ins_pred)}')\n",
    "    \n",
    "\n",
    "    print('--')\n",
    "    cm = pd.DataFrame(confusion_matrix(y_test, y_outs_pred), \n",
    "                 index=[['actual', 'actual'], ['neg', 'pos']], \n",
    "                 columns=[['predicted', 'predicted'], ['neg', 'pos']])\n",
    "    print('confusion matrix of test')\n",
    "    display(cm)\n",
    "    print('--')\n",
    "    print(classification_report(y_test, y_outs_pred)) \n",
    "    \n",
    "    base_fpr, base_tpr, base_tresh = roc_curve(y_test, y_base)\n",
    "    test_fpr, test_tpr, test_tresh = roc_curve(y_test, y_outs_pred_p)\n",
    "    train_fpr, train_tpr, train_tresh = roc_curve(y_train, y_ins_pred_p)\n",
    "    plt.plot(base_fpr, base_tpr, 'b', label = 'baseline')\n",
    "    plt.plot(test_fpr, test_tpr, 'r', label = 'model-test')\n",
    "    plt.plot(train_fpr, train_tpr, 'g', label = 'model-train')\n",
    "    plt.plot(train_fpr, train_tresh, 'k--', label = 'thresh')\n",
    "    print(len(train_tresh))\n",
    "    plt.legend();\n",
    "    plt.xlabel('False Positive Rate'); \n",
    "    plt.ylabel('True Positive Rate'); plt.title('ROC Curves');\n",
    "    plt.show();"
   ]
  },
  {
   "cell_type": "code",
   "execution_count": 6,
   "metadata": {},
   "outputs": [],
   "source": [
    "def entropy_c(y):\n",
    "    p = np.sum(y)/ len(y)\n",
    "    pm = 1.-p\n",
    "    return -(p*np.log(p))-(pm*np.log(pm))\n",
    "                          \n",
    "def entropy(y):\n",
    "    return -((np.sum(y)/ len(y))*np.log(np.sum(y)/ len(y)))\n",
    "                          \n",
    "def rate(y):\n",
    "    return np.sum(y)/ len(y)\n",
    "    \n",
    "def Model_Vali_Rec(m, X_train, X_test, y_train, y_test, df , name ,thres=0.5):\n",
    "    fbeta=0.5\n",
    "    \n",
    "    y_ins_pred= m.predict(X_train)\n",
    "    y_outs_pred= m.predict(X_test)\n",
    "    y_base = np.ones(len(X_test))\n",
    "    y_base0 = np.zeros(len(X_test))\n",
    "    try:\n",
    "        y_ins_pred_p= m.predict_proba(X_train)[:, 1]\n",
    "        y_outs_pred_p= m.predict_proba(X_test)[:, 1]\n",
    "        if thres!=0.5:\n",
    "\n",
    "            y_ins_pred = [1. if e > thres else 0. for e in y_ins_pred_p]\n",
    "            y_outs_pred = [1. if e > thres else 0. for e in y_outs_pred_p]\n",
    "    except:\n",
    "        y_ins_pred_p= y_ins_pred\n",
    "        y_outs_pred_p= y_ins_pred \n",
    "        \n",
    "    \n",
    "    df.at['base  recall', name] = recall_score(y_test, y_base)\n",
    "    df.at['test  recall', name] = recall_score(y_test, y_outs_pred)\n",
    "    df.at['train recall', name] = recall_score(y_train, y_ins_pred)\n",
    "    \n",
    "    df.at['base  precision', name] = precision_score(y_test, y_base)\n",
    "    df.at['test  precision', name] = precision_score(y_test, y_outs_pred)\n",
    "    df.at['train precision', name] = precision_score(y_train, y_ins_pred)\n",
    "   \n",
    "    df.at['base  ROC-AUC', name] = roc_auc_score(y_test, y_base)\n",
    "    df.at['test  ROC-AUC', name] = roc_auc_score(y_test, y_outs_pred)\n",
    "    df.at['train ROC-AUC', name] = roc_auc_score(y_train, y_ins_pred)\n",
    "    \n",
    "    df.at['base  f1', name] = f1_score(y_test, y_base)\n",
    "    df.at['test  f1', name] = f1_score(y_test, y_outs_pred)\n",
    "    df.at['train f1', name] = f1_score(y_train, y_ins_pred)\n",
    "    \n",
    "    df.at[f'base  fb={fbeta}', name] = fbeta_score(y_test, y_base,fbeta)\n",
    "    df.at[f'test  fb={fbeta}', name] = fbeta_score(y_test, y_outs_pred, fbeta)\n",
    "    df.at[f'train fb={fbeta}', name] = fbeta_score(y_train, y_ins_pred, fbeta)\n",
    "    \n",
    "    df.at['base  accuracy', name] = accuracy_score(y_test, y_base)\n",
    "    df.at['test  accuracy', name] = accuracy_score(y_test, y_outs_pred)\n",
    "    df.at['train accuracy', name] = accuracy_score(y_train, y_ins_pred)\n",
    "    \n",
    "    df.at['base  log loss', name] = log_loss(y_test, y_base)\n",
    "    df.at['test  log loss', name] = log_loss(y_test, y_outs_pred_p)\n",
    "    df.at['train log loss', name] = log_loss(y_train, y_ins_pred_p)\n",
    "    \n",
    "    df.at['train rate truth', name] = rate(y_train)\n",
    "    df.at['test  rate truth', name] = rate(y_test)\n",
    "    \n",
    "    df.at['train rate pred.', name] = rate(y_ins_pred)\n",
    "    df.at['test  rate pred.', name] = rate(y_outs_pred)\n",
    "    \n",
    "    df.at['train entopy truth', name] = entropy_c(y_train)\n",
    "    df.at['test  entopy truth', name] = entropy_c(y_test)\n",
    "    \n",
    "    df.at['train entopy pred.', name] = entropy_c(y_ins_pred)\n",
    "    df.at['test  entopy pred.', name] = entropy_c(y_outs_pred)\n",
    "    \n",
    "    cm = confusion_matrix(y_test, y_outs_pred)\n",
    "    \n",
    "    df.at['TN - good', name] = cm[0,0]\n",
    "    df.at['TP - bad', name] = cm[1,1]\n",
    "    df.at['FP - lost', name] = cm[0,1]\n",
    "    df.at['FN - missed', name] = cm[1,0]\n",
    "\n",
    "    \n",
    "    base_fpr, base_tpr, base_tresh = roc_curve(y_test, y_base)\n",
    "    test_fpr, test_tpr, test_tresh = roc_curve(y_test, y_outs_pred_p)\n",
    "    train_fpr, train_tpr, train_tresh = roc_curve(y_train, y_ins_pred_p)\n",
    "    plt.plot(base_fpr, base_tpr, 'b', label = 'baseline')\n",
    "    plt.plot(test_fpr, test_tpr, 'r', label = 'model-test')\n",
    "    plt.plot(train_fpr, train_tpr, 'g', label = 'model-train')\n",
    "    plt.plot(train_fpr, train_tresh, 'k--', label = 'thresh')\n",
    "    #print(len(train_tresh))\n",
    "    plt.legend();\n",
    "    plt.xlabel('False Positive Rate'); \n",
    "    plt.ylabel('True Positive Rate'); plt.title('ROC Curves');\n",
    "    plt.show();\n",
    "    \n",
    "    \n",
    "    base_fpr, base_tpr, base_tresh = precision_recall_curve(y_test, y_base)\n",
    "    test_fpr, test_tpr, test_tresh = precision_recall_curve(y_test, y_outs_pred_p)\n",
    "    train_fpr, train_tpr, train_tresh = precision_recall_curve(y_train, y_ins_pred_p)\n",
    "    plt.plot(base_fpr, base_tpr, 'b', label = 'baseline')\n",
    "    plt.plot(test_fpr, test_tpr, 'r', label = 'model-test')\n",
    "    plt.plot(train_fpr, train_tpr, 'g', label = 'model-train')\n",
    "    plt.plot(train_fpr[1:], train_tresh, 'k--', label = 'thresh')\n",
    "    #print(len(train_tresh))\n",
    "    plt.legend();\n",
    "    plt.xlabel('precision'); \n",
    "    plt.ylabel('recall'); plt.title('precision recall curve');\n",
    "    plt.show();\n",
    "    \n",
    "    "
   ]
  },
  {
   "cell_type": "markdown",
   "metadata": {},
   "source": [
    "### Model Performance Overview function - short"
   ]
  },
  {
   "cell_type": "code",
   "execution_count": 7,
   "metadata": {
    "hide_input": true
   },
   "outputs": [],
   "source": [
    "def Model_Vali_short(m, X_train, X_test, y_train, y_test, thres=0.5, cm_print=False):\n",
    "    y_ins_pred= m.predict(X_train)\n",
    "    y_outs_pred= m.predict(X_test)\n",
    "    y_base = np.ones(len(X_test))\n",
    "    y_base0 = np.zeros(len(X_test))\n",
    "    try:\n",
    "        y_ins_pred_p= m.predict_proba(X_train)[:, 1]\n",
    "        y_outs_pred_p= m.predict_proba(X_test)[:, 1]\n",
    "        if thres!=0.5:\n",
    "\n",
    "            y_ins_pred = [1. if e > thres else 0. for e in y_ins_pred_p]\n",
    "            y_outs_pred = [1. if e > thres else 0. for e in y_outs_pred_p]\n",
    "    except:\n",
    "        y_ins_pred_p= y_ins_pred\n",
    "        y_outs_pred_p= y_ins_pred \n",
    "        \n",
    "    print(f'base1 log_loss = {log_loss(y_test, y_base)}')\n",
    "    print(f'base0 log_loss = {log_loss(y_test, y_base0)}')\n",
    "    print(f'test  log_loss = {log_loss(y_test, y_outs_pred_p)}')\n",
    "    print(f'train log_loss = {log_loss(y_train, y_ins_pred_p)}')\n",
    "    print('--')\n",
    "    print(f'base1 TNR = {TNR(y_test, y_base)}')\n",
    "    print(f'base0 TNR = {TNR(y_test, y_base0)}')\n",
    "    print(f'test  TNR = {TNR(y_test, y_outs_pred)}')\n",
    "    print(f'train TNR = {TNR(y_train, y_ins_pred)}')\n",
    "    \n",
    "    if cm_print:\n",
    "        cm = pd.DataFrame(confusion_matrix(y_test, y_outs_pred), \n",
    "                 index=[['actual', 'actual'], ['neg', 'pos']], \n",
    "                 columns=[['predicted', 'predicted'], ['neg', 'pos']])\n",
    "        \n",
    "        print('confusion matrix of test')\n",
    "        display(cm)\n",
    "    "
   ]
  },
  {
   "cell_type": "markdown",
   "metadata": {},
   "source": [
    "### Core Score function "
   ]
  },
  {
   "cell_type": "code",
   "execution_count": 8,
   "metadata": {},
   "outputs": [],
   "source": [
    "def TNR(y_true, y_pred):\n",
    "    return confusion_matrix(y_true, y_pred)[0, 0] / \\\n",
    "    (confusion_matrix(y_true, y_pred)[0, 1]+confusion_matrix(y_true, y_pred)[0, 0])\n",
    "\n",
    "def re(y_true, y_pred):\n",
    "    return recall_score(y_true, y_pred)\n",
    "\n",
    "def ll(y_true, y_pred):\n",
    "    return log_loss(y_true, y_pred)\n",
    "\n",
    "def special_PPV(y_true, y_pred): \n",
    "    return confusion_matrix(y_true, y_pred)[1, 1] / \\\n",
    "    (confusion_matrix(y_true, y_pred)[0, 1]*100+confusion_matrix(y_true, y_pred)[1, 1])"
   ]
  },
  {
   "cell_type": "markdown",
   "metadata": {},
   "source": [
    "## Preprocessing"
   ]
  },
  {
   "cell_type": "markdown",
   "metadata": {},
   "source": [
    "### feature selection and marking"
   ]
  },
  {
   "cell_type": "code",
   "execution_count": 9,
   "metadata": {},
   "outputs": [],
   "source": [
    "## All possible features\n",
    "x_col_all = [\n",
    "'addr_state',\n",
    "'annual_inc',\n",
    "'dti',\n",
    "'emp_length',\n",
    "'home_ownership',\n",
    "'loan_amnt',\n",
    "'open_acc',\n",
    "'pub_rec',\n",
    "'pub_rec_bankruptcies',\n",
    "'purpose',\n",
    "'term',\n",
    "'verification_status',\n",
    " 'emp_ident']\n",
    "\n",
    "# Target\n",
    "y_col = ['target']\n",
    "\n",
    "## Taken in account features\n",
    "x_col_select = [\n",
    "'dti',\n",
    "'addr_state',\n",
    "'term',\n",
    "'annual_inc',\n",
    "'loan_amnt',\n",
    "'purpose',\n",
    "'pub_rec',\n",
    "'verification_status']\n",
    "x_col_select = x_col_all\n",
    "## Taken in account features\n",
    "df_x = df[x_col_select]\n",
    "df_y = df[y_col]"
   ]
  },
  {
   "cell_type": "code",
   "execution_count": 10,
   "metadata": {},
   "outputs": [
    {
     "data": {
      "text/plain": [
       "0.0    36562\n",
       "1.0     2052\n",
       "2.0       59\n",
       "3.0       10\n",
       "4.0        2\n",
       "5.0        1\n",
       "Name: pub_rec, dtype: int64"
      ]
     },
     "execution_count": 10,
     "metadata": {},
     "output_type": "execute_result"
    }
   ],
   "source": [
    "df.pub_rec.value_counts()"
   ]
  },
  {
   "cell_type": "markdown",
   "metadata": {},
   "source": [
    "### Encoding - dummy cration"
   ]
  },
  {
   "cell_type": "code",
   "execution_count": 11,
   "metadata": {},
   "outputs": [
    {
     "name": "stdout",
     "output_type": "stream",
     "text": [
      "<class 'pandas.core.frame.DataFrame'>\n",
      "Int64Index: 38686 entries, 1 to 42474\n",
      "Data columns (total 79 columns):\n",
      "annual_inc                             38686 non-null float64\n",
      "dti                                    38686 non-null float64\n",
      "emp_length                             38686 non-null float64\n",
      "loan_amnt                              38686 non-null float64\n",
      "open_acc                               38686 non-null float64\n",
      "pub_rec                                38686 non-null float64\n",
      "pub_rec_bankruptcies                   38686 non-null int64\n",
      "addr_state_AL                          38686 non-null uint8\n",
      "addr_state_AR                          38686 non-null uint8\n",
      "addr_state_AZ                          38686 non-null uint8\n",
      "addr_state_CA                          38686 non-null uint8\n",
      "addr_state_CO                          38686 non-null uint8\n",
      "addr_state_CT                          38686 non-null uint8\n",
      "addr_state_DC                          38686 non-null uint8\n",
      "addr_state_DE                          38686 non-null uint8\n",
      "addr_state_FL                          38686 non-null uint8\n",
      "addr_state_GA                          38686 non-null uint8\n",
      "addr_state_HI                          38686 non-null uint8\n",
      "addr_state_IA                          38686 non-null uint8\n",
      "addr_state_ID                          38686 non-null uint8\n",
      "addr_state_IL                          38686 non-null uint8\n",
      "addr_state_IN                          38686 non-null uint8\n",
      "addr_state_KS                          38686 non-null uint8\n",
      "addr_state_KY                          38686 non-null uint8\n",
      "addr_state_LA                          38686 non-null uint8\n",
      "addr_state_MA                          38686 non-null uint8\n",
      "addr_state_MD                          38686 non-null uint8\n",
      "addr_state_ME                          38686 non-null uint8\n",
      "addr_state_MI                          38686 non-null uint8\n",
      "addr_state_MN                          38686 non-null uint8\n",
      "addr_state_MO                          38686 non-null uint8\n",
      "addr_state_MS                          38686 non-null uint8\n",
      "addr_state_MT                          38686 non-null uint8\n",
      "addr_state_NC                          38686 non-null uint8\n",
      "addr_state_NE                          38686 non-null uint8\n",
      "addr_state_NH                          38686 non-null uint8\n",
      "addr_state_NJ                          38686 non-null uint8\n",
      "addr_state_NM                          38686 non-null uint8\n",
      "addr_state_NV                          38686 non-null uint8\n",
      "addr_state_NY                          38686 non-null uint8\n",
      "addr_state_OH                          38686 non-null uint8\n",
      "addr_state_OK                          38686 non-null uint8\n",
      "addr_state_OR                          38686 non-null uint8\n",
      "addr_state_PA                          38686 non-null uint8\n",
      "addr_state_RI                          38686 non-null uint8\n",
      "addr_state_SC                          38686 non-null uint8\n",
      "addr_state_SD                          38686 non-null uint8\n",
      "addr_state_TN                          38686 non-null uint8\n",
      "addr_state_TX                          38686 non-null uint8\n",
      "addr_state_UT                          38686 non-null uint8\n",
      "addr_state_VA                          38686 non-null uint8\n",
      "addr_state_VT                          38686 non-null uint8\n",
      "addr_state_WA                          38686 non-null uint8\n",
      "addr_state_WI                          38686 non-null uint8\n",
      "addr_state_WV                          38686 non-null uint8\n",
      "addr_state_WY                          38686 non-null uint8\n",
      "home_ownership_OWN                     38686 non-null uint8\n",
      "home_ownership_RENT                    38686 non-null uint8\n",
      "purpose_credit_card                    38686 non-null uint8\n",
      "purpose_debt_consolidation             38686 non-null uint8\n",
      "purpose_educational                    38686 non-null uint8\n",
      "purpose_home_improvement               38686 non-null uint8\n",
      "purpose_house                          38686 non-null uint8\n",
      "purpose_major_purchase                 38686 non-null uint8\n",
      "purpose_medical                        38686 non-null uint8\n",
      "purpose_moving                         38686 non-null uint8\n",
      "purpose_other                          38686 non-null uint8\n",
      "purpose_renewable_energy               38686 non-null uint8\n",
      "purpose_small_business                 38686 non-null uint8\n",
      "purpose_vacation                       38686 non-null uint8\n",
      "purpose_wedding                        38686 non-null uint8\n",
      "term_60m                               38686 non-null uint8\n",
      "verification_status_Source Verified    38686 non-null uint8\n",
      "verification_status_Verified           38686 non-null uint8\n",
      "emp_ident_bank                         38686 non-null uint8\n",
      "emp_ident_known_company                38686 non-null uint8\n",
      "emp_ident_puplic                       38686 non-null uint8\n",
      "emp_ident_self_emp                     38686 non-null uint8\n",
      "emp_ident_unknown                      38686 non-null uint8\n",
      "dtypes: float64(6), int64(1), uint8(72)\n",
      "memory usage: 5.0 MB\n"
     ]
    }
   ],
   "source": [
    "df_x_encoded = pd.get_dummies(df_x, drop_first=True)\n",
    "#for i in df_x_encoded.columns:\n",
    "#    print(i)\n",
    "df_x_encoded.info()"
   ]
  },
  {
   "cell_type": "markdown",
   "metadata": {},
   "source": [
    "### Toggel the truth"
   ]
  },
  {
   "cell_type": "code",
   "execution_count": 12,
   "metadata": {},
   "outputs": [],
   "source": [
    "df_y = ~df_y.astype('bool')\n",
    "df_y = df_y.astype('float')"
   ]
  },
  {
   "cell_type": "markdown",
   "metadata": {},
   "source": [
    "### Train Test Split"
   ]
  },
  {
   "cell_type": "code",
   "execution_count": 13,
   "metadata": {},
   "outputs": [
    {
     "data": {
      "text/html": [
       "<div>\n",
       "<style scoped>\n",
       "    .dataframe tbody tr th:only-of-type {\n",
       "        vertical-align: middle;\n",
       "    }\n",
       "\n",
       "    .dataframe tbody tr th {\n",
       "        vertical-align: top;\n",
       "    }\n",
       "\n",
       "    .dataframe thead th {\n",
       "        text-align: right;\n",
       "    }\n",
       "</style>\n",
       "<table border=\"1\" class=\"dataframe\">\n",
       "  <thead>\n",
       "    <tr style=\"text-align: right;\">\n",
       "      <th></th>\n",
       "      <th>train</th>\n",
       "      <th>test</th>\n",
       "      <th>all</th>\n",
       "    </tr>\n",
       "  </thead>\n",
       "  <tbody>\n",
       "    <tr>\n",
       "      <th>0.0</th>\n",
       "      <td>0.849778</td>\n",
       "      <td>0.849733</td>\n",
       "      <td>0.849765</td>\n",
       "    </tr>\n",
       "    <tr>\n",
       "      <th>1.0</th>\n",
       "      <td>0.150222</td>\n",
       "      <td>0.150267</td>\n",
       "      <td>0.150235</td>\n",
       "    </tr>\n",
       "  </tbody>\n",
       "</table>\n",
       "</div>"
      ],
      "text/plain": [
       "        train      test       all\n",
       "0.0  0.849778  0.849733  0.849765\n",
       "1.0  0.150222  0.150267  0.150235"
      ]
     },
     "execution_count": 13,
     "metadata": {},
     "output_type": "execute_result"
    },
    {
     "data": {
      "image/png": "[encoded data removed]",
      "text/plain": [
       "<Figure size 432x288 with 1 Axes>"
      ]
     },
     "metadata": {},
     "output_type": "display_data"
    }
   ],
   "source": [
    "X_train, X_test, y_train, y_test = train_test_split(\n",
    "    df_x_encoded, df_y, test_size=0.3, random_state=25, stratify=df_y)\n",
    "\n",
    "df_y.target.plot.hist()\n",
    "y_train.target.plot.hist()\n",
    "y_test.target.plot.hist()\n",
    "plt.legend(['all','train','test'])\n",
    "tts_df = pd.DataFrame()\n",
    "tts_df['train'] = (y_train.target.value_counts()/y_train.shape[0])\n",
    "tts_df['test'] = (y_test.target.value_counts()/y_test.shape[0])\n",
    "tts_df['all'] = (df_y.target.value_counts()/df_y.shape[0])\n",
    "tts_df"
   ]
  },
  {
   "cell_type": "markdown",
   "metadata": {},
   "source": [
    "### Transform and Scaling Pipline"
   ]
  },
  {
   "cell_type": "markdown",
   "metadata": {},
   "source": [
    "#### simple preproc pipline"
   ]
  },
  {
   "cell_type": "code",
   "execution_count": 14,
   "metadata": {},
   "outputs": [],
   "source": [
    "preprocess_pipeline_1 = make_pipeline(\n",
    "    ColumnSelector(columns=df_x_encoded.columns),\n",
    "    FeatureUnion(transformer_list=[\n",
    "        (\"numeric_features\", make_pipeline(\n",
    "            TypeSelector('float64'),\n",
    "            StandardScaler()\n",
    "        )),\n",
    "        (\"bool_features\", make_pipeline(\n",
    "            TypeSelector('int64'),\n",
    "        )),\n",
    "        (\"dummy_features\", make_pipeline(\n",
    "            TypeSelector('uint8'),\n",
    "        )),\n",
    "    ]))"
   ]
  },
  {
   "cell_type": "markdown",
   "metadata": {},
   "source": [
    "#### indvitual tranform pipline"
   ]
  },
  {
   "cell_type": "code",
   "execution_count": 15,
   "metadata": {},
   "outputs": [
    {
     "name": "stdout",
     "output_type": "stream",
     "text": [
      "Index(['annual_inc', 'dti', 'emp_length', 'loan_amnt', 'open_acc', 'pub_rec'], dtype='object')\n",
      "Index(['pub_rec_bankruptcies'], dtype='object')\n"
     ]
    }
   ],
   "source": [
    "# print the scalabels \n",
    "print(df_x_encoded.select_dtypes('float').columns)\n",
    "print(df_x_encoded.select_dtypes('int64').columns)"
   ]
  },
  {
   "cell_type": "code",
   "execution_count": 16,
   "metadata": {},
   "outputs": [],
   "source": [
    "preprocess_pipeline_2 = make_pipeline(\n",
    "    ColumnSelector(columns=df_x_encoded.columns),\n",
    "    FeatureUnion(transformer_list= [\n",
    "        (\"sel_1\",\n",
    "        make_pipeline(ColumnSelector(columns=['dti' , 'loan_amnt']),\n",
    "                     FunctionTransformer(lambda x:x),\n",
    "                     StandardScaler()\n",
    "                     )),\n",
    "        (\"sel_2\",\n",
    "        make_pipeline(ColumnSelector(columns=['annual_inc']),\n",
    "                     FunctionTransformer(np.log),\n",
    "                     MinMaxScaler()\n",
    "                     )),\n",
    "        (\"sel_3\",\n",
    "        make_pipeline(ColumnSelector(columns=['pub_rec' , 'emp_length', 'open_acc']),\n",
    "                     FunctionTransformer(lambda x:x),\n",
    "                     MinMaxScaler()\n",
    "                     )),\n",
    "        (\"bool_features\", \n",
    "            make_pipeline(TypeSelector('int64'),\n",
    "        )),\n",
    "        (\"dummy_features\", \n",
    "             make_pipeline(TypeSelector('uint8'),\n",
    "        )),\n",
    "        ])\n",
    "        )"
   ]
  },
  {
   "cell_type": "code",
   "execution_count": 17,
   "metadata": {},
   "outputs": [
    {
     "name": "stdout",
     "output_type": "stream",
     "text": [
      "(27080, 79)\n",
      "(27080, 79)\n"
     ]
    }
   ],
   "source": [
    "t =preprocess_pipeline_2.fit_transform(X_train)\n",
    "print(t.shape)\n",
    "print(X_train.shape)"
   ]
  },
  {
   "cell_type": "markdown",
   "metadata": {},
   "source": [
    "## Different Models"
   ]
  },
  {
   "cell_type": "markdown",
   "metadata": {},
   "source": [
    "### Baseline: Logistics Regression"
   ]
  },
  {
   "cell_type": "code",
   "execution_count": 18,
   "metadata": {},
   "outputs": [
    {
     "data": {
      "image/png": "[encoded data removed]",
      "text/plain": [
       "<Figure size 432x288 with 1 Axes>"
      ]
     },
     "metadata": {},
     "output_type": "display_data"
    },
    {
     "data": {
      "image/png": "[encoded data removed]",
      "text/plain": [
       "<Figure size 432x288 with 1 Axes>"
      ]
     },
     "metadata": {},
     "output_type": "display_data"
    }
   ],
   "source": [
    "df_model_comp = pd.DataFrame()\n",
    "m1_pipline=Pipeline([('pre',preprocess_pipeline_2), ('M',LogisticRegression(C=0.03, class_weight='balanced' ))])\n",
    "m1_pipline.fit(X_train,y_train.values.ravel())\n",
    "Model_Vali_Rec(m1_pipline, X_train, X_test, y_train.values, y_test.values, df_model_comp, 'log reg 1')\n"
   ]
  },
  {
   "cell_type": "code",
   "execution_count": 19,
   "metadata": {},
   "outputs": [],
   "source": [
    "#df_model_comp"
   ]
  },
  {
   "cell_type": "code",
   "execution_count": 20,
   "metadata": {},
   "outputs": [
    {
     "name": "stdout",
     "output_type": "stream",
     "text": [
      "Fitting 5 folds for each of 160 candidates, totalling 800 fits\n"
     ]
    },
    {
     "name": "stderr",
     "output_type": "stream",
     "text": [
      "[Parallel(n_jobs=-1)]: Using backend LokyBackend with 4 concurrent workers.\n",
      "[Parallel(n_jobs=-1)]: Done  42 tasks      | elapsed:    4.3s\n",
      "[Parallel(n_jobs=-1)]: Done 192 tasks      | elapsed:   13.7s\n",
      "[Parallel(n_jobs=-1)]: Done 442 tasks      | elapsed:   35.0s\n",
      "[Parallel(n_jobs=-1)]: Done 792 tasks      | elapsed:  1.5min\n",
      "[Parallel(n_jobs=-1)]: Done 800 out of 800 | elapsed:  1.5min finished\n",
      "/Users/arnescheunemann/opt/anaconda3/envs/nf2/lib/python3.6/site-packages/sklearn/utils/validation.py:760: DataConversionWarning: A column-vector y was passed when a 1d array was expected. Please change the shape of y to (n_samples, ), for example using ravel().\n",
      "  y = column_or_1d(y, warn=True)\n"
     ]
    },
    {
     "data": {
      "image/png": "[encoded data removed]",
      "text/plain": [
       "<Figure size 432x288 with 1 Axes>"
      ]
     },
     "metadata": {},
     "output_type": "display_data"
    },
    {
     "data": {
      "image/png": "[encoded data removed]",
      "text/plain": [
       "<Figure size 432x288 with 1 Axes>"
      ]
     },
     "metadata": {},
     "output_type": "display_data"
    }
   ],
   "source": [
    "mg_pipline=Pipeline([('pre',preprocess_pipeline_1), ('M',LogisticRegression(class_weight='balanced'))])\n",
    "\n",
    "param_grid = [\n",
    "    \n",
    "    {'pre': [preprocess_pipeline_2,preprocess_pipeline_1],\n",
    "     'M' : [LogisticRegression()],\n",
    "     'M__penalty' : ['l2', 'elasticnet'],\n",
    "     'M__C' : np.logspace(-4, 4, 20),\n",
    "     'M__solver' : ['liblinear'],\n",
    "     'M__class_weight' : ['balanced', None]}]\n",
    "\n",
    "GSM = GridSearchCV(\n",
    "    mg_pipline, param_grid = param_grid, cv = 5, verbose=True, n_jobs=-1 ,scoring=make_scorer(re))\n",
    "\n",
    "GSM.fit(X_train,y_train)\n",
    "\n",
    "Model_Vali_Rec(GSM, X_train, X_test, y_train.values, y_test.values, df_model_comp, 'log reg grid')"
   ]
  },
  {
   "cell_type": "code",
   "execution_count": 22,
   "metadata": {},
   "outputs": [
    {
     "data": {
      "text/html": [
       "<div>\n",
       "<style scoped>\n",
       "    .dataframe tbody tr th:only-of-type {\n",
       "        vertical-align: middle;\n",
       "    }\n",
       "\n",
       "    .dataframe tbody tr th {\n",
       "        vertical-align: top;\n",
       "    }\n",
       "\n",
       "    .dataframe thead th {\n",
       "        text-align: right;\n",
       "    }\n",
       "</style>\n",
       "<table border=\"1\" class=\"dataframe\">\n",
       "  <thead>\n",
       "    <tr style=\"text-align: right;\">\n",
       "      <th></th>\n",
       "      <th>log reg 1</th>\n",
       "      <th>log reg grid</th>\n",
       "    </tr>\n",
       "  </thead>\n",
       "  <tbody>\n",
       "    <tr>\n",
       "      <th>base  recall</th>\n",
       "      <td>1.000000</td>\n",
       "      <td>1.000000</td>\n",
       "    </tr>\n",
       "    <tr>\n",
       "      <th>test  recall</th>\n",
       "      <td>0.573394</td>\n",
       "      <td>0.629587</td>\n",
       "    </tr>\n",
       "    <tr>\n",
       "      <th>train recall</th>\n",
       "      <td>0.565634</td>\n",
       "      <td>0.626352</td>\n",
       "    </tr>\n",
       "    <tr>\n",
       "      <th>base  precision</th>\n",
       "      <td>0.150267</td>\n",
       "      <td>0.150267</td>\n",
       "    </tr>\n",
       "    <tr>\n",
       "      <th>test  precision</th>\n",
       "      <td>0.233427</td>\n",
       "      <td>0.196951</td>\n",
       "    </tr>\n",
       "    <tr>\n",
       "      <th>train precision</th>\n",
       "      <td>0.231745</td>\n",
       "      <td>0.198551</td>\n",
       "    </tr>\n",
       "    <tr>\n",
       "      <th>base  ROC-AUC</th>\n",
       "      <td>0.500000</td>\n",
       "      <td>0.500000</td>\n",
       "    </tr>\n",
       "    <tr>\n",
       "      <th>test  ROC-AUC</th>\n",
       "      <td>0.620200</td>\n",
       "      <td>0.587811</td>\n",
       "    </tr>\n",
       "    <tr>\n",
       "      <th>train ROC-AUC</th>\n",
       "      <td>0.617077</td>\n",
       "      <td>0.589706</td>\n",
       "    </tr>\n",
       "    <tr>\n",
       "      <th>base  f1</th>\n",
       "      <td>0.261273</td>\n",
       "      <td>0.261273</td>\n",
       "    </tr>\n",
       "    <tr>\n",
       "      <th>test  f1</th>\n",
       "      <td>0.331785</td>\n",
       "      <td>0.300041</td>\n",
       "    </tr>\n",
       "    <tr>\n",
       "      <th>train f1</th>\n",
       "      <td>0.328785</td>\n",
       "      <td>0.301521</td>\n",
       "    </tr>\n",
       "    <tr>\n",
       "      <th>base  fb=0.5</th>\n",
       "      <td>0.181033</td>\n",
       "      <td>0.181033</td>\n",
       "    </tr>\n",
       "    <tr>\n",
       "      <th>test  fb=0.5</th>\n",
       "      <td>0.264831</td>\n",
       "      <td>0.228331</td>\n",
       "    </tr>\n",
       "    <tr>\n",
       "      <th>train fb=0.5</th>\n",
       "      <td>0.262767</td>\n",
       "      <td>0.229964</td>\n",
       "    </tr>\n",
       "    <tr>\n",
       "      <th>base  accuracy</th>\n",
       "      <td>0.150267</td>\n",
       "      <td>0.150267</td>\n",
       "    </tr>\n",
       "    <tr>\n",
       "      <th>test  accuracy</th>\n",
       "      <td>0.652938</td>\n",
       "      <td>0.558590</td>\n",
       "    </tr>\n",
       "    <tr>\n",
       "      <th>train accuracy</th>\n",
       "      <td>0.653065</td>\n",
       "      <td>0.564069</td>\n",
       "    </tr>\n",
       "    <tr>\n",
       "      <th>base  log loss</th>\n",
       "      <td>29.349414</td>\n",
       "      <td>29.349414</td>\n",
       "    </tr>\n",
       "    <tr>\n",
       "      <th>test  log loss</th>\n",
       "      <td>0.650387</td>\n",
       "      <td>0.691816</td>\n",
       "    </tr>\n",
       "    <tr>\n",
       "      <th>train log loss</th>\n",
       "      <td>0.651238</td>\n",
       "      <td>0.691626</td>\n",
       "    </tr>\n",
       "    <tr>\n",
       "      <th>train rate truth</th>\n",
       "      <td>0.150222</td>\n",
       "      <td>0.150222</td>\n",
       "    </tr>\n",
       "    <tr>\n",
       "      <th>test  rate truth</th>\n",
       "      <td>0.150267</td>\n",
       "      <td>0.150267</td>\n",
       "    </tr>\n",
       "    <tr>\n",
       "      <th>train rate pred.</th>\n",
       "      <td>0.366654</td>\n",
       "      <td>0.473892</td>\n",
       "    </tr>\n",
       "    <tr>\n",
       "      <th>test  rate pred.</th>\n",
       "      <td>0.369119</td>\n",
       "      <td>0.480355</td>\n",
       "    </tr>\n",
       "    <tr>\n",
       "      <th>train entopy truth</th>\n",
       "      <td>0.423093</td>\n",
       "      <td>0.423093</td>\n",
       "    </tr>\n",
       "    <tr>\n",
       "      <th>test  entopy truth</th>\n",
       "      <td>0.423172</td>\n",
       "      <td>0.423172</td>\n",
       "    </tr>\n",
       "    <tr>\n",
       "      <th>train entopy pred.</th>\n",
       "      <td>0.657151</td>\n",
       "      <td>0.691783</td>\n",
       "    </tr>\n",
       "    <tr>\n",
       "      <th>test  entopy pred.</th>\n",
       "      <td>0.658485</td>\n",
       "      <td>0.692375</td>\n",
       "    </tr>\n",
       "    <tr>\n",
       "      <th>TN - good</th>\n",
       "      <td>6578.000000</td>\n",
       "      <td>5385.000000</td>\n",
       "    </tr>\n",
       "    <tr>\n",
       "      <th>TP - bad</th>\n",
       "      <td>1000.000000</td>\n",
       "      <td>1098.000000</td>\n",
       "    </tr>\n",
       "    <tr>\n",
       "      <th>FP - lost</th>\n",
       "      <td>3284.000000</td>\n",
       "      <td>4477.000000</td>\n",
       "    </tr>\n",
       "    <tr>\n",
       "      <th>FN - missed</th>\n",
       "      <td>744.000000</td>\n",
       "      <td>646.000000</td>\n",
       "    </tr>\n",
       "  </tbody>\n",
       "</table>\n",
       "</div>"
      ],
      "text/plain": [
       "                      log reg 1  log reg grid\n",
       "base  recall           1.000000      1.000000\n",
       "test  recall           0.573394      0.629587\n",
       "train recall           0.565634      0.626352\n",
       "base  precision        0.150267      0.150267\n",
       "test  precision        0.233427      0.196951\n",
       "train precision        0.231745      0.198551\n",
       "base  ROC-AUC          0.500000      0.500000\n",
       "test  ROC-AUC          0.620200      0.587811\n",
       "train ROC-AUC          0.617077      0.589706\n",
       "base  f1               0.261273      0.261273\n",
       "test  f1               0.331785      0.300041\n",
       "train f1               0.328785      0.301521\n",
       "base  fb=0.5           0.181033      0.181033\n",
       "test  fb=0.5           0.264831      0.228331\n",
       "train fb=0.5           0.262767      0.229964\n",
       "base  accuracy         0.150267      0.150267\n",
       "test  accuracy         0.652938      0.558590\n",
       "train accuracy         0.653065      0.564069\n",
       "base  log loss        29.349414     29.349414\n",
       "test  log loss         0.650387      0.691816\n",
       "train log loss         0.651238      0.691626\n",
       "train rate truth       0.150222      0.150222\n",
       "test  rate truth       0.150267      0.150267\n",
       "train rate pred.       0.366654      0.473892\n",
       "test  rate pred.       0.369119      0.480355\n",
       "train entopy truth     0.423093      0.423093\n",
       "test  entopy truth     0.423172      0.423172\n",
       "train entopy pred.     0.657151      0.691783\n",
       "test  entopy pred.     0.658485      0.692375\n",
       "TN - good           6578.000000   5385.000000\n",
       "TP - bad            1000.000000   1098.000000\n",
       "FP - lost           3284.000000   4477.000000\n",
       "FN - missed          744.000000    646.000000"
      ]
     },
     "execution_count": 22,
     "metadata": {},
     "output_type": "execute_result"
    }
   ],
   "source": [
    "#GSM.fit(X_train,y_train)\n",
    "df_model_comp"
   ]
  },
  {
   "cell_type": "code",
   "execution_count": null,
   "metadata": {},
   "outputs": [],
   "source": [
    "### Stackling"
   ]
  },
  {
   "cell_type": "markdown",
   "metadata": {},
   "source": [
    "### Naive Bayes"
   ]
  },
  {
   "cell_type": "markdown",
   "metadata": {},
   "source": [
    "### Gradient Boost"
   ]
  },
  {
   "cell_type": "code",
   "execution_count": null,
   "metadata": {},
   "outputs": [],
   "source": []
  }
 ],
 "metadata": {
  "kernelspec": {
   "display_name": "Python [conda env:nf2] *",
   "language": "python",
   "name": "conda-env-nf2-py"
  },
  "language_info": {
   "codemirror_mode": {
    "name": "ipython",
    "version": 3
   },
   "file_extension": ".py",
   "mimetype": "text/x-python",
   "name": "python",
   "nbconvert_exporter": "python",
   "pygments_lexer": "ipython3",
   "version": "3.6.10"
  },
  "toc": {
   "base_numbering": 1,
   "nav_menu": {},
   "number_sections": true,
   "sideBar": true,
   "skip_h1_title": false,
   "title_cell": "Table of Contents",
   "title_sidebar": "Contents",
   "toc_cell": false,
   "toc_position": {
    "height": "calc(100% - 180px)",
    "left": "10px",
    "top": "150px",
    "width": "329.042px"
   },
   "toc_section_display": true,
   "toc_window_display": true
  }
 },
 "nbformat": 4,
 "nbformat_minor": 4
}
