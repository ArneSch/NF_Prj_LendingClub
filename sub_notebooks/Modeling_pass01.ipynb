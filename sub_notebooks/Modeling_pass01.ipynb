{
 "cells": [
  {
   "cell_type": "markdown",
   "metadata": {},
   "source": [
    "# Ini"
   ]
  },
  {
   "cell_type": "markdown",
   "metadata": {},
   "source": [
    "## Imports"
   ]
  },
  {
   "cell_type": "code",
   "execution_count": 98,
   "metadata": {},
   "outputs": [],
   "source": [
    "# Data\n",
    "import numpy as np\n",
    "import pandas as pd\n",
    "\n",
    "# Visualization \n",
    "import matplotlib.pyplot as plt\n",
    "import seaborn as sns\n",
    "\n",
    "# Prepprc\n",
    "from sklearn.preprocessing import StandardScaler, OneHotEncoder\n",
    "from sklearn import model_selection\n",
    "\n",
    "# pipline\n",
    "from sklearn.pipeline import make_pipeline, FeatureUnion, Pipeline\n",
    "\n",
    "# ML\n",
    "from sklearn.tree import DecisionTreeClassifier\n",
    "from sklearn.ensemble import RandomForestClassifier\n",
    "from sklearn.linear_model import LogisticRegression\n",
    "#from sklearn.svm import SVC\n",
    "from sklearn.naive_bayes import GaussianNB, CategoricalNB\n",
    "#Metrics\n",
    "\n",
    "from sklearn.metrics import roc_auc_score,classification_report, precision_recall_fscore_support, roc_curve, auc,accuracy_score, confusion_matrix, precision_score, log_loss\n"
   ]
  },
  {
   "cell_type": "markdown",
   "metadata": {},
   "source": [
    "## Macros"
   ]
  },
  {
   "cell_type": "code",
   "execution_count": 24,
   "metadata": {},
   "outputs": [],
   "source": [
    "RSEED = 25\n",
    "FIG_FOLDER = '../figures/'\n",
    "FIG_SECTION = 'ModelTune'"
   ]
  },
  {
   "cell_type": "markdown",
   "metadata": {},
   "source": [
    "## Utile Function "
   ]
  },
  {
   "cell_type": "markdown",
   "metadata": {},
   "source": [
    "### Save Figures"
   ]
  },
  {
   "cell_type": "code",
   "execution_count": 26,
   "metadata": {},
   "outputs": [],
   "source": [
    "def save_fig(fig_name, tight_layout=True):\n",
    "    path = os.path.join(FIG_FOLDER, FIG_SECTION, '_' ,fig_name + \".png\")\n",
    "    print(\"Saving figure\", fig_name)\n",
    "    if tight_layout:\n",
    "        plt.tight_layout()\n",
    "    plt.savefig(path, format='png', dpi=300)"
   ]
  },
  {
   "cell_type": "markdown",
   "metadata": {},
   "source": [
    "### Model Vali Metric function "
   ]
  },
  {
   "cell_type": "code",
   "execution_count": 127,
   "metadata": {},
   "outputs": [],
   "source": [
    "def Model_Vali(m, X_train, X_test, y_train, y_test, thres=0.5):\n",
    "    \n",
    "    \n",
    "    y_ins_pred= m.predict(X_train)\n",
    "    y_outs_pred= m.predict(X_test)\n",
    "    y_base = np.ones(len(X_test))\n",
    "    try:\n",
    "        y_ins_pred_p= m.predict_proba(X_train)[:, 1]\n",
    "        y_outs_pred_p= m.predict_proba(X_test)[:, 1]\n",
    "        if thres!=0.5:\n",
    "\n",
    "            y_ins_pred = [1. if e > thres else 0. for e in y_ins_pred_p]\n",
    "            y_outs_pred = [1. if e > thres else 0. for e in y_outs_pred_p]\n",
    "    except:\n",
    "        y_ins_pred_p= y_ins_pred\n",
    "        y_outs_pred_p= y_ins_pred \n",
    "    \n",
    "    print('--')\n",
    "    print(f'base  precision = {precision_score(y_test, y_base)}')\n",
    "    print(f'test  precision = {precision_score(y_test, y_outs_pred)}')\n",
    "    print(f'train precision = {precision_score(y_train, y_ins_pred)}')\n",
    "    print('--')\n",
    "    print(f'base  ROC-AUC = {roc_auc_score(y_test, y_base)}')\n",
    "    print(f'test  ROC-AUC = {roc_auc_score(y_train, y_ins_pred)}')\n",
    "    print(f'train ROC-AUC = {roc_auc_score(y_train, y_ins_pred)}')\n",
    "    print('--')\n",
    "    print(f'base  accuracy = {accuracy_score(y_test, y_base)}')\n",
    "    print(f'test  accuracy = {accuracy_score(y_test, y_outs_pred)}')\n",
    "    print(f'train accuracy = {accuracy_score(y_train, y_ins_pred)}')\n",
    "    print('--')\n",
    "    print(f'base  log_loss = {log_loss(y_test, y_base)}')\n",
    "    print(f'test  log_loss = {log_loss(y_test, y_outs_pred)}')\n",
    "    print(f'train log_loss = {log_loss(y_train, y_ins_pred)}')\n",
    "    \n",
    "    \n",
    "    # log_loss\n",
    "    print('--')\n",
    "    cm = pd.DataFrame(confusion_matrix(y_test, y_outs_pred), \n",
    "                 index=[['actual', 'actual'], ['neg', 'pos']], \n",
    "                 columns=[['predicted', 'predicted'], ['neg', 'pos']])\n",
    "    print('confusion matrix of test')\n",
    "    display(cm)\n",
    "    print('--')\n",
    "    print(classification_report(y_test, y_outs_pred)) \n",
    "    \n",
    "    base_fpr, base_tpr, base_tresh = roc_curve(y_test, y_base)\n",
    "    test_fpr, test_tpr, test_tresh = roc_curve(y_test, y_outs_pred_p)\n",
    "    train_fpr, train_tpr, train_tresh = roc_curve(y_train, y_ins_pred_p)\n",
    "    plt.plot(base_fpr, base_tpr, 'b', label = 'baseline')\n",
    "    plt.plot(test_fpr, test_tpr, 'r', label = 'model-test')\n",
    "    plt.plot(train_fpr, train_tpr, 'g', label = 'model-train')\n",
    "    plt.plot(train_fpr, train_tresh, 'k--', label = 'thresh')\n",
    "    print(len(train_tresh))\n",
    "    plt.legend();\n",
    "    plt.xlabel('False Positive Rate'); \n",
    "    plt.ylabel('True Positive Rate'); plt.title('ROC Curves');\n",
    "    plt.show();\n",
    "    "
   ]
  },
  {
   "cell_type": "markdown",
   "metadata": {},
   "source": [
    "# Load Clean Data"
   ]
  },
  {
   "cell_type": "code",
   "execution_count": 3,
   "metadata": {},
   "outputs": [],
   "source": [
    "df = pd.read_pickle('../data/clean_pass_01p1.pkl')"
   ]
  },
  {
   "cell_type": "code",
   "execution_count": 6,
   "metadata": {},
   "outputs": [],
   "source": [
    "# some post clean\n",
    "df.pub_rec_bankruptcies = df.pub_rec_bankruptcies.astype('uint8') \n",
    "#df.select_dtypes('uint8').info()"
   ]
  },
  {
   "cell_type": "markdown",
   "metadata": {},
   "source": [
    "# Define the feature"
   ]
  },
  {
   "cell_type": "code",
   "execution_count": 7,
   "metadata": {},
   "outputs": [],
   "source": [
    "x_col = ['addr_state',\n",
    "'annual_inc',\n",
    "'dti',\n",
    "'emp_length',\n",
    "'home_ownership',\n",
    "'loan_amnt',\n",
    "'open_acc',\n",
    "'pub_rec',\n",
    "'pub_rec_bankruptcies',\n",
    "'purpose',\n",
    "'term',\n",
    "'verification_status']\n",
    "y_col = ['target']"
   ]
  },
  {
   "cell_type": "code",
   "execution_count": 8,
   "metadata": {},
   "outputs": [],
   "source": [
    "df_x = df[x_col]\n",
    "df_y = df[y_col]"
   ]
  },
  {
   "cell_type": "markdown",
   "metadata": {},
   "source": [
    "# Encode"
   ]
  },
  {
   "cell_type": "code",
   "execution_count": 10,
   "metadata": {
    "scrolled": true
   },
   "outputs": [],
   "source": [
    "df_x_encoded = pd.get_dummies(df_x, drop_first=True)\n",
    "#for i in df_x_encoded.columns:\n",
    "#    print(i)\n",
    "# df_x_encoded.info()"
   ]
  },
  {
   "cell_type": "markdown",
   "metadata": {},
   "source": [
    "# Preprocess"
   ]
  },
  {
   "cell_type": "markdown",
   "metadata": {},
   "source": [
    "## pandas pipline helper"
   ]
  },
  {
   "cell_type": "code",
   "execution_count": 12,
   "metadata": {},
   "outputs": [],
   "source": [
    "from sklearn.base import BaseEstimator, TransformerMixin\n",
    "\n",
    "class TypeSelector(BaseEstimator, TransformerMixin):\n",
    "    def __init__(self, dtype):\n",
    "        self.dtype = dtype\n",
    "\n",
    "    def fit(self, X, y=None):\n",
    "        return self\n",
    "\n",
    "    def transform(self, X):\n",
    "        assert isinstance(X, pd.DataFrame)\n",
    "        return X.select_dtypes(include=[self.dtype])\n",
    "    \n",
    "class ColumnSelector(BaseEstimator, TransformerMixin):\n",
    "    def __init__(self, columns):\n",
    "        self.columns = columns\n",
    "\n",
    "    def fit(self, X, y=None):\n",
    "        return self\n",
    "\n",
    "    def transform(self, X):\n",
    "        assert isinstance(X, pd.DataFrame)\n",
    "\n",
    "        try:\n",
    "            return X[self.columns]\n",
    "        except KeyError:\n",
    "            cols_error = list(set(self.columns) - set(X.columns))\n",
    "            raise KeyError(\"The DataFrame does not include the columns: %s\" % cols_error)\n",
    "            \n"
   ]
  },
  {
   "cell_type": "markdown",
   "metadata": {},
   "source": [
    "## pipline to process"
   ]
  },
  {
   "cell_type": "code",
   "execution_count": 13,
   "metadata": {},
   "outputs": [],
   "source": [
    "preprocess_pipeline = make_pipeline(\n",
    "    ColumnSelector(columns=df_x_encoded.columns),\n",
    "    FeatureUnion(transformer_list=[\n",
    "        (\"numeric_features\", make_pipeline(\n",
    "            TypeSelector('float64'),\n",
    "            StandardScaler()\n",
    "        )),\n",
    "        (\"bool_features\", make_pipeline(\n",
    "            TypeSelector('uint8'),\n",
    "        )),\n",
    "        #(\"categorical_features\", make_pipeline(\n",
    "        #    TypeSelector(\"category\"),\n",
    "        #    OneHotEncoder()\n",
    "        #)),\n",
    "    ]))"
   ]
  },
  {
   "cell_type": "code",
   "execution_count": 72,
   "metadata": {},
   "outputs": [
    {
     "data": {
      "text/plain": [
       "3.268285428818811"
      ]
     },
     "execution_count": 72,
     "metadata": {},
     "output_type": "execute_result"
    }
   ],
   "source": [
    "#Test the pre pipline\n",
    "#pd.DataFrame(preprocess_pipeline.fit_transform(X_test), columns=X_test.columns ).addr_state_AL.value_counts()\n",
    "#pd.DataFrame(preprocess_pipeline.fit_transform(X_test), columns=X_test.columns ).loan_amnt.max()"
   ]
  },
  {
   "cell_type": "markdown",
   "metadata": {},
   "source": [
    "## Data Split Train Test"
   ]
  },
  {
   "cell_type": "code",
   "execution_count": 82,
   "metadata": {},
   "outputs": [],
   "source": [
    "X_train, X_test, y_train, y_test = model_selection.train_test_split(\n",
    "    df_x_encoded, df_y, test_size=0.3, random_state=25, stratify=y)\n"
   ]
  },
  {
   "cell_type": "code",
   "execution_count": 88,
   "metadata": {},
   "outputs": [
    {
     "data": {
      "text/html": [
       "<div>\n",
       "<style scoped>\n",
       "    .dataframe tbody tr th:only-of-type {\n",
       "        vertical-align: middle;\n",
       "    }\n",
       "\n",
       "    .dataframe tbody tr th {\n",
       "        vertical-align: top;\n",
       "    }\n",
       "\n",
       "    .dataframe thead th {\n",
       "        text-align: right;\n",
       "    }\n",
       "</style>\n",
       "<table border=\"1\" class=\"dataframe\">\n",
       "  <thead>\n",
       "    <tr style=\"text-align: right;\">\n",
       "      <th></th>\n",
       "      <th>train</th>\n",
       "      <th>test</th>\n",
       "      <th>all</th>\n",
       "    </tr>\n",
       "  </thead>\n",
       "  <tbody>\n",
       "    <tr>\n",
       "      <th>1.0</th>\n",
       "      <td>0.849514</td>\n",
       "      <td>0.849476</td>\n",
       "      <td>0.849503</td>\n",
       "    </tr>\n",
       "    <tr>\n",
       "      <th>0.0</th>\n",
       "      <td>0.150486</td>\n",
       "      <td>0.150524</td>\n",
       "      <td>0.150497</td>\n",
       "    </tr>\n",
       "  </tbody>\n",
       "</table>\n",
       "</div>"
      ],
      "text/plain": [
       "        train      test       all\n",
       "1.0  0.849514  0.849476  0.849503\n",
       "0.0  0.150486  0.150524  0.150497"
      ]
     },
     "execution_count": 88,
     "metadata": {},
     "output_type": "execute_result"
    },
    {
     "data": {
      "image/png": "[encoded data removed]",
      "text/plain": [
       "<Figure size 432x288 with 1 Axes>"
      ]
     },
     "metadata": {
      "needs_background": "light"
     },
     "output_type": "display_data"
    }
   ],
   "source": [
    "# check the distrbution of targets and if stratify worked\n",
    "df_y.target.plot.hist()\n",
    "y_train.target.plot.hist()\n",
    "y_test.target.plot.hist()\n",
    "plt.legend(['all','train','test'])\n",
    "tts_df = pd.DataFrame()\n",
    "tts_df['train'] = (y_train.target.value_counts()/y_train.shape[0])\n",
    "tts_df['test'] = (y_test.target.value_counts()/y_test.shape[0])\n",
    "tts_df['all'] = (df_y.target.value_counts()/df_y.shape[0])\n",
    "tts_df"
   ]
  },
  {
   "cell_type": "markdown",
   "metadata": {},
   "source": [
    "# Model 1 - Logistic Regression straight"
   ]
  },
  {
   "cell_type": "code",
   "execution_count": 133,
   "metadata": {},
   "outputs": [
    {
     "name": "stdout",
     "output_type": "stream",
     "text": [
      "--\n",
      "base  precision = 0.8494762150094453\n",
      "test  precision = 0.8672990322889719\n",
      "train precision = 0.8692767360395631\n",
      "--\n",
      "base  ROC-AUC = 0.5\n",
      "test  ROC-AUC = 0.5690247895599605\n",
      "train ROC-AUC = 0.5690247895599605\n",
      "--\n",
      "base  accuracy = 0.8494762150094453\n",
      "test  accuracy = 0.8088614116434827\n",
      "train accuracy = 0.8100250257618137\n",
      "--\n",
      "base  log_loss = 5.199027710336044\n",
      "test  log_loss = 6.601788055771252\n",
      "train log_loss = 6.5615964991011895\n",
      "--\n",
      "confusion matrix of test\n"
     ]
    },
    {
     "data": {
      "text/html": [
       "<div>\n",
       "<style scoped>\n",
       "    .dataframe tbody tr th:only-of-type {\n",
       "        vertical-align: middle;\n",
       "    }\n",
       "\n",
       "    .dataframe tbody tr th {\n",
       "        vertical-align: top;\n",
       "    }\n",
       "\n",
       "    .dataframe thead tr th {\n",
       "        text-align: left;\n",
       "    }\n",
       "</style>\n",
       "<table border=\"1\" class=\"dataframe\">\n",
       "  <thead>\n",
       "    <tr>\n",
       "      <th></th>\n",
       "      <th></th>\n",
       "      <th colspan=\"2\" halign=\"left\">predicted</th>\n",
       "    </tr>\n",
       "    <tr>\n",
       "      <th></th>\n",
       "      <th></th>\n",
       "      <th>neg</th>\n",
       "      <th>pos</th>\n",
       "    </tr>\n",
       "  </thead>\n",
       "  <tbody>\n",
       "    <tr>\n",
       "      <th rowspan=\"2\" valign=\"top\">actual</th>\n",
       "      <th>neg</th>\n",
       "      <td>368</td>\n",
       "      <td>1385</td>\n",
       "    </tr>\n",
       "    <tr>\n",
       "      <th>pos</th>\n",
       "      <td>841</td>\n",
       "      <td>9052</td>\n",
       "    </tr>\n",
       "  </tbody>\n",
       "</table>\n",
       "</div>"
      ],
      "text/plain": [
       "           predicted      \n",
       "                 neg   pos\n",
       "actual neg       368  1385\n",
       "       pos       841  9052"
      ]
     },
     "metadata": {},
     "output_type": "display_data"
    },
    {
     "name": "stdout",
     "output_type": "stream",
     "text": [
      "--\n",
      "              precision    recall  f1-score   support\n",
      "\n",
      "         0.0       0.30      0.21      0.25      1753\n",
      "         1.0       0.87      0.91      0.89      9893\n",
      "\n",
      "    accuracy                           0.81     11646\n",
      "   macro avg       0.59      0.56      0.57     11646\n",
      "weighted avg       0.78      0.81      0.79     11646\n",
      "\n",
      "6594\n"
     ]
    },
    {
     "data": {
      "image/png": "[encoded data removed]",
      "text/plain": [
       "<Figure size 432x288 with 1 Axes>"
      ]
     },
     "metadata": {
      "needs_background": "light"
     },
     "output_type": "display_data"
    }
   ],
   "source": [
    "m1_pipline=Pipeline([('pre',preprocess_pipeline), ('M',LogisticRegression(C=0.02))])\n",
    "m1_pipline.fit(X_train,y_train.values.ravel())\n",
    "Model_Vali(m1_pipline, X_train, X_test, y_train, y_test,0.75)"
   ]
  },
  {
   "cell_type": "code",
   "execution_count": 115,
   "metadata": {},
   "outputs": [
    {
     "data": {
      "text/plain": [
       "<matplotlib.collections.PathCollection at 0x1a43df72b0>"
      ]
     },
     "execution_count": 115,
     "metadata": {},
     "output_type": "execute_result"
    },
    {
     "data": {
      "image/png": "[encoded data removed]",
      "text/plain": [
       "<Figure size 432x288 with 1 Axes>"
      ]
     },
     "metadata": {
      "needs_background": "light"
     },
     "output_type": "display_data"
    }
   ],
   "source": [
    "plt.scatter(m1_pipline.predict_proba(X_test)[:,1],range(len(X_test)))"
   ]
  },
  {
   "cell_type": "markdown",
   "metadata": {},
   "source": [
    "# Model Grid Search - Logistic Regression "
   ]
  },
  {
   "cell_type": "code",
   "execution_count": 96,
   "metadata": {
    "collapsed": true
   },
   "outputs": [
    {
     "name": "stdout",
     "output_type": "stream",
     "text": [
      "Fitting 5 folds for each of 40 candidates, totalling 200 fits\n"
     ]
    },
    {
     "name": "stderr",
     "output_type": "stream",
     "text": [
      "[Parallel(n_jobs=-1)]: Using backend LokyBackend with 4 concurrent workers.\n",
      "[Parallel(n_jobs=-1)]: Done  42 tasks      | elapsed:    4.9s\n",
      "[Parallel(n_jobs=-1)]: Done 192 tasks      | elapsed:   44.0s\n",
      "[Parallel(n_jobs=-1)]: Done 200 out of 200 | elapsed:   46.6s finished\n",
      "/Users/arnescheunemann/opt/anaconda3/envs/nf2/lib/python3.6/site-packages/sklearn/utils/validation.py:760: DataConversionWarning: A column-vector y was passed when a 1d array was expected. Please change the shape of y to (n_samples, ), for example using ravel().\n",
      "  y = column_or_1d(y, warn=True)\n"
     ]
    },
    {
     "name": "stdout",
     "output_type": "stream",
     "text": [
      "--\n",
      "base  precision = 0.8494762150094453\n",
      "test  precision = 0.8495704467353952\n",
      "train precision = 0.8496484188049921\n",
      "--\n",
      "base  ROC-AUC = 0.5\n",
      "test  ROC-AUC = 0.5005247525789922\n",
      "train ROC-AUC = 0.5005247525789922\n",
      "--\n",
      "base  accuracy = 0.8494762150094453\n",
      "test  accuracy = 0.8493044822256569\n",
      "train accuracy = 0.8495510083909907\n",
      "--\n",
      "base  log_loss = 5.199027710336044\n",
      "test  log_loss = 5.204959013237896\n",
      "train log_loss = 5.196444260941403\n",
      "--\n",
      "confusion matrix of test\n"
     ]
    },
    {
     "data": {
      "text/html": [
       "<div>\n",
       "<style scoped>\n",
       "    .dataframe tbody tr th:only-of-type {\n",
       "        vertical-align: middle;\n",
       "    }\n",
       "\n",
       "    .dataframe tbody tr th {\n",
       "        vertical-align: top;\n",
       "    }\n",
       "\n",
       "    .dataframe thead tr th {\n",
       "        text-align: left;\n",
       "    }\n",
       "</style>\n",
       "<table border=\"1\" class=\"dataframe\">\n",
       "  <thead>\n",
       "    <tr>\n",
       "      <th></th>\n",
       "      <th></th>\n",
       "      <th colspan=\"2\" halign=\"left\">predicted</th>\n",
       "    </tr>\n",
       "    <tr>\n",
       "      <th></th>\n",
       "      <th></th>\n",
       "      <th>neg</th>\n",
       "      <th>pos</th>\n",
       "    </tr>\n",
       "  </thead>\n",
       "  <tbody>\n",
       "    <tr>\n",
       "      <th rowspan=\"2\" valign=\"top\">actual</th>\n",
       "      <th>neg</th>\n",
       "      <td>2</td>\n",
       "      <td>1751</td>\n",
       "    </tr>\n",
       "    <tr>\n",
       "      <th>pos</th>\n",
       "      <td>4</td>\n",
       "      <td>9889</td>\n",
       "    </tr>\n",
       "  </tbody>\n",
       "</table>\n",
       "</div>"
      ],
      "text/plain": [
       "           predicted      \n",
       "                 neg   pos\n",
       "actual neg         2  1751\n",
       "       pos         4  9889"
      ]
     },
     "metadata": {},
     "output_type": "display_data"
    },
    {
     "name": "stdout",
     "output_type": "stream",
     "text": [
      "--\n",
      "              precision    recall  f1-score   support\n",
      "\n",
      "         0.0       0.33      0.00      0.00      1753\n",
      "         1.0       0.85      1.00      0.92      9893\n",
      "\n",
      "    accuracy                           0.85     11646\n",
      "   macro avg       0.59      0.50      0.46     11646\n",
      "weighted avg       0.77      0.85      0.78     11646\n",
      "\n"
     ]
    },
    {
     "data": {
      "image/png": "[encoded data removed]",
      "text/plain": [
       "<Figure size 432x288 with 1 Axes>"
      ]
     },
     "metadata": {
      "needs_background": "light"
     },
     "output_type": "display_data"
    }
   ],
   "source": [
    "mg_pipline=Pipeline([('pre',preprocess_pipeline), ('M',LogisticRegression())])\n",
    "\n",
    "param_grid = [\n",
    "    {'M' : [LogisticRegression()],\n",
    "     'M__penalty' : ['l1', 'l2'],\n",
    "     'M__C' : np.logspace(-4, 4, 20),\n",
    "     'M__solver' : ['liblinear']}]\n",
    "\n",
    "GSM = model_selection.GridSearchCV(\n",
    "    mg_pipline, param_grid = param_grid, cv = 5, verbose=True, n_jobs=-1)\n",
    "\n",
    "GSM.fit(X_train,y_train)\n",
    "\n",
    "Model_Vali(GSM, X_train, X_test, y_train, y_test)"
   ]
  },
  {
   "cell_type": "code",
   "execution_count": 97,
   "metadata": {
    "collapsed": true
   },
   "outputs": [
    {
     "data": {
      "text/plain": [
       "<bound method Pipeline.get_params of Pipeline(memory=None,\n",
       "         steps=[('pre',\n",
       "                 Pipeline(memory=None,\n",
       "                          steps=[('columnselector',\n",
       "                                  ColumnSelector(columns=Index(['annual_inc', 'dti', 'emp_length', 'loan_amnt', 'open_acc', 'pub_rec',\n",
       "       'pub_rec_bankruptcies', 'addr_state_AL', 'addr_state_AR',\n",
       "       'addr_state_AZ', 'addr_state_CA', 'addr_state_CO', 'addr_state_CT',\n",
       "       'addr_state_DC', 'addr_state_DE', 'addr_state_FL', 'addr_s...\n",
       "                                                                           verbose=False))],\n",
       "                                               transformer_weights=None,\n",
       "                                               verbose=False))],\n",
       "                          verbose=False)),\n",
       "                ('M',\n",
       "                 LogisticRegression(C=0.03359818286283781, class_weight=None,\n",
       "                                    dual=False, fit_intercept=True,\n",
       "                                    intercept_scaling=1, l1_ratio=None,\n",
       "                                    max_iter=100, multi_class='auto',\n",
       "                                    n_jobs=None, penalty='l1',\n",
       "                                    random_state=None, solver='liblinear',\n",
       "                                    tol=0.0001, verbose=0, warm_start=False))],\n",
       "         verbose=False)>"
      ]
     },
     "execution_count": 97,
     "metadata": {},
     "output_type": "execute_result"
    }
   ],
   "source": [
    "GSM.best_estimator_.get_params"
   ]
  },
  {
   "cell_type": "markdown",
   "metadata": {},
   "source": [
    "# Naive Bayes"
   ]
  },
  {
   "cell_type": "code",
   "execution_count": 136,
   "metadata": {
    "scrolled": true
   },
   "outputs": [
    {
     "name": "stderr",
     "output_type": "stream",
     "text": [
      "/Users/arnescheunemann/opt/anaconda3/envs/nf2/lib/python3.6/site-packages/sklearn/naive_bayes.py:206: DataConversionWarning: A column-vector y was passed when a 1d array was expected. Please change the shape of y to (n_samples, ), for example using ravel().\n",
      "  y = column_or_1d(y, warn=True)\n"
     ]
    },
    {
     "name": "stdout",
     "output_type": "stream",
     "text": [
      "--\n",
      "base  precision = 0.8494762150094453\n",
      "test  precision = 0.884118190212373\n",
      "train precision = 0.8943954596128509\n",
      "--\n",
      "base  ROC-AUC = 0.5\n",
      "test  ROC-AUC = 0.5637429791649933\n",
      "train ROC-AUC = 0.5637429791649933\n",
      "--\n",
      "base  accuracy = 0.8494762150094453\n",
      "test  accuracy = 0.43628713721449425\n",
      "train accuracy = 0.4369203591932872\n",
      "--\n",
      "base  log_loss = 5.199027710336044\n",
      "test  log_loss = 19.46998698527379\n",
      "train log_loss = 19.448112469551585\n",
      "--\n",
      "confusion matrix of test\n"
     ]
    },
    {
     "data": {
      "text/html": [
       "<div>\n",
       "<style scoped>\n",
       "    .dataframe tbody tr th:only-of-type {\n",
       "        vertical-align: middle;\n",
       "    }\n",
       "\n",
       "    .dataframe tbody tr th {\n",
       "        vertical-align: top;\n",
       "    }\n",
       "\n",
       "    .dataframe thead tr th {\n",
       "        text-align: left;\n",
       "    }\n",
       "</style>\n",
       "<table border=\"1\" class=\"dataframe\">\n",
       "  <thead>\n",
       "    <tr>\n",
       "      <th></th>\n",
       "      <th></th>\n",
       "      <th colspan=\"2\" halign=\"left\">predicted</th>\n",
       "    </tr>\n",
       "    <tr>\n",
       "      <th></th>\n",
       "      <th></th>\n",
       "      <th>neg</th>\n",
       "      <th>pos</th>\n",
       "    </tr>\n",
       "  </thead>\n",
       "  <tbody>\n",
       "    <tr>\n",
       "      <th rowspan=\"2\" valign=\"top\">actual</th>\n",
       "      <th>neg</th>\n",
       "      <td>1251</td>\n",
       "      <td>502</td>\n",
       "    </tr>\n",
       "    <tr>\n",
       "      <th>pos</th>\n",
       "      <td>6063</td>\n",
       "      <td>3830</td>\n",
       "    </tr>\n",
       "  </tbody>\n",
       "</table>\n",
       "</div>"
      ],
      "text/plain": [
       "           predicted      \n",
       "                 neg   pos\n",
       "actual neg      1251   502\n",
       "       pos      6063  3830"
      ]
     },
     "metadata": {},
     "output_type": "display_data"
    },
    {
     "name": "stdout",
     "output_type": "stream",
     "text": [
      "--\n",
      "              precision    recall  f1-score   support\n",
      "\n",
      "         0.0       0.17      0.71      0.28      1753\n",
      "         1.0       0.88      0.39      0.54      9893\n",
      "\n",
      "    accuracy                           0.44     11646\n",
      "   macro avg       0.53      0.55      0.41     11646\n",
      "weighted avg       0.78      0.44      0.50     11646\n",
      "\n",
      "6770\n"
     ]
    },
    {
     "data": {
      "image/png": "[encoded data removed]",
      "text/plain": [
       "<Figure size 432x288 with 1 Axes>"
      ]
     },
     "metadata": {
      "needs_background": "light"
     },
     "output_type": "display_data"
    }
   ],
   "source": [
    "m2_pipline=Pipeline([('pre',preprocess_pipeline), ('M',GaussianNB())])\n",
    "\n",
    "m2_pipline.fit(X_train,y_train)\n",
    "\n",
    "Model_Vali(m2_pipline, X_train, X_test, y_train, y_test,0.4)"
   ]
  },
  {
   "cell_type": "markdown",
   "metadata": {},
   "source": [
    "# Ensemble "
   ]
  },
  {
   "cell_type": "markdown",
   "metadata": {},
   "source": [
    "## Bagging Logistc Regression"
   ]
  },
  {
   "cell_type": "code",
   "execution_count": 146,
   "metadata": {},
   "outputs": [
    {
     "name": "stderr",
     "output_type": "stream",
     "text": [
      "/Users/arnescheunemann/opt/anaconda3/envs/nf2/lib/python3.6/site-packages/sklearn/ensemble/_bagging.py:645: DataConversionWarning: A column-vector y was passed when a 1d array was expected. Please change the shape of y to (n_samples, ), for example using ravel().\n",
      "  y = column_or_1d(y, warn=True)\n",
      "/Users/arnescheunemann/opt/anaconda3/envs/nf2/lib/python3.6/site-packages/sklearn/linear_model/_logistic.py:940: ConvergenceWarning: lbfgs failed to converge (status=1):\n",
      "STOP: TOTAL NO. of ITERATIONS REACHED LIMIT.\n",
      "\n",
      "Increase the number of iterations (max_iter) or scale the data as shown in:\n",
      "    https://scikit-learn.org/stable/modules/preprocessing.html\n",
      "Please also refer to the documentation for alternative solver options:\n",
      "    https://scikit-learn.org/stable/modules/linear_model.html#logistic-regression\n",
      "  extra_warning_msg=_LOGISTIC_SOLVER_CONVERGENCE_MSG)\n",
      "/Users/arnescheunemann/opt/anaconda3/envs/nf2/lib/python3.6/site-packages/sklearn/linear_model/_logistic.py:940: ConvergenceWarning: lbfgs failed to converge (status=1):\n",
      "STOP: TOTAL NO. of ITERATIONS REACHED LIMIT.\n",
      "\n",
      "Increase the number of iterations (max_iter) or scale the data as shown in:\n",
      "    https://scikit-learn.org/stable/modules/preprocessing.html\n",
      "Please also refer to the documentation for alternative solver options:\n",
      "    https://scikit-learn.org/stable/modules/linear_model.html#logistic-regression\n",
      "  extra_warning_msg=_LOGISTIC_SOLVER_CONVERGENCE_MSG)\n",
      "/Users/arnescheunemann/opt/anaconda3/envs/nf2/lib/python3.6/site-packages/sklearn/linear_model/_logistic.py:940: ConvergenceWarning: lbfgs failed to converge (status=1):\n",
      "STOP: TOTAL NO. of ITERATIONS REACHED LIMIT.\n",
      "\n",
      "Increase the number of iterations (max_iter) or scale the data as shown in:\n",
      "    https://scikit-learn.org/stable/modules/preprocessing.html\n",
      "Please also refer to the documentation for alternative solver options:\n",
      "    https://scikit-learn.org/stable/modules/linear_model.html#logistic-regression\n",
      "  extra_warning_msg=_LOGISTIC_SOLVER_CONVERGENCE_MSG)\n",
      "/Users/arnescheunemann/opt/anaconda3/envs/nf2/lib/python3.6/site-packages/sklearn/linear_model/_logistic.py:940: ConvergenceWarning: lbfgs failed to converge (status=1):\n",
      "STOP: TOTAL NO. of ITERATIONS REACHED LIMIT.\n",
      "\n",
      "Increase the number of iterations (max_iter) or scale the data as shown in:\n",
      "    https://scikit-learn.org/stable/modules/preprocessing.html\n",
      "Please also refer to the documentation for alternative solver options:\n",
      "    https://scikit-learn.org/stable/modules/linear_model.html#logistic-regression\n",
      "  extra_warning_msg=_LOGISTIC_SOLVER_CONVERGENCE_MSG)\n",
      "/Users/arnescheunemann/opt/anaconda3/envs/nf2/lib/python3.6/site-packages/sklearn/linear_model/_logistic.py:940: ConvergenceWarning: lbfgs failed to converge (status=1):\n",
      "STOP: TOTAL NO. of ITERATIONS REACHED LIMIT.\n",
      "\n",
      "Increase the number of iterations (max_iter) or scale the data as shown in:\n",
      "    https://scikit-learn.org/stable/modules/preprocessing.html\n",
      "Please also refer to the documentation for alternative solver options:\n",
      "    https://scikit-learn.org/stable/modules/linear_model.html#logistic-regression\n",
      "  extra_warning_msg=_LOGISTIC_SOLVER_CONVERGENCE_MSG)\n",
      "/Users/arnescheunemann/opt/anaconda3/envs/nf2/lib/python3.6/site-packages/sklearn/linear_model/_logistic.py:940: ConvergenceWarning: lbfgs failed to converge (status=1):\n",
      "STOP: TOTAL NO. of ITERATIONS REACHED LIMIT.\n",
      "\n",
      "Increase the number of iterations (max_iter) or scale the data as shown in:\n",
      "    https://scikit-learn.org/stable/modules/preprocessing.html\n",
      "Please also refer to the documentation for alternative solver options:\n",
      "    https://scikit-learn.org/stable/modules/linear_model.html#logistic-regression\n",
      "  extra_warning_msg=_LOGISTIC_SOLVER_CONVERGENCE_MSG)\n",
      "/Users/arnescheunemann/opt/anaconda3/envs/nf2/lib/python3.6/site-packages/sklearn/linear_model/_logistic.py:940: ConvergenceWarning: lbfgs failed to converge (status=1):\n",
      "STOP: TOTAL NO. of ITERATIONS REACHED LIMIT.\n",
      "\n",
      "Increase the number of iterations (max_iter) or scale the data as shown in:\n",
      "    https://scikit-learn.org/stable/modules/preprocessing.html\n",
      "Please also refer to the documentation for alternative solver options:\n",
      "    https://scikit-learn.org/stable/modules/linear_model.html#logistic-regression\n",
      "  extra_warning_msg=_LOGISTIC_SOLVER_CONVERGENCE_MSG)\n",
      "/Users/arnescheunemann/opt/anaconda3/envs/nf2/lib/python3.6/site-packages/sklearn/linear_model/_logistic.py:940: ConvergenceWarning: lbfgs failed to converge (status=1):\n",
      "STOP: TOTAL NO. of ITERATIONS REACHED LIMIT.\n",
      "\n",
      "Increase the number of iterations (max_iter) or scale the data as shown in:\n",
      "    https://scikit-learn.org/stable/modules/preprocessing.html\n",
      "Please also refer to the documentation for alternative solver options:\n",
      "    https://scikit-learn.org/stable/modules/linear_model.html#logistic-regression\n",
      "  extra_warning_msg=_LOGISTIC_SOLVER_CONVERGENCE_MSG)\n",
      "/Users/arnescheunemann/opt/anaconda3/envs/nf2/lib/python3.6/site-packages/sklearn/linear_model/_logistic.py:940: ConvergenceWarning: lbfgs failed to converge (status=1):\n",
      "STOP: TOTAL NO. of ITERATIONS REACHED LIMIT.\n",
      "\n",
      "Increase the number of iterations (max_iter) or scale the data as shown in:\n",
      "    https://scikit-learn.org/stable/modules/preprocessing.html\n",
      "Please also refer to the documentation for alternative solver options:\n",
      "    https://scikit-learn.org/stable/modules/linear_model.html#logistic-regression\n",
      "  extra_warning_msg=_LOGISTIC_SOLVER_CONVERGENCE_MSG)\n",
      "/Users/arnescheunemann/opt/anaconda3/envs/nf2/lib/python3.6/site-packages/sklearn/linear_model/_logistic.py:940: ConvergenceWarning: lbfgs failed to converge (status=1):\n",
      "STOP: TOTAL NO. of ITERATIONS REACHED LIMIT.\n",
      "\n",
      "Increase the number of iterations (max_iter) or scale the data as shown in:\n",
      "    https://scikit-learn.org/stable/modules/preprocessing.html\n",
      "Please also refer to the documentation for alternative solver options:\n",
      "    https://scikit-learn.org/stable/modules/linear_model.html#logistic-regression\n",
      "  extra_warning_msg=_LOGISTIC_SOLVER_CONVERGENCE_MSG)\n",
      "/Users/arnescheunemann/opt/anaconda3/envs/nf2/lib/python3.6/site-packages/sklearn/linear_model/_logistic.py:940: ConvergenceWarning: lbfgs failed to converge (status=1):\n",
      "STOP: TOTAL NO. of ITERATIONS REACHED LIMIT.\n",
      "\n",
      "Increase the number of iterations (max_iter) or scale the data as shown in:\n",
      "    https://scikit-learn.org/stable/modules/preprocessing.html\n",
      "Please also refer to the documentation for alternative solver options:\n",
      "    https://scikit-learn.org/stable/modules/linear_model.html#logistic-regression\n",
      "  extra_warning_msg=_LOGISTIC_SOLVER_CONVERGENCE_MSG)\n",
      "/Users/arnescheunemann/opt/anaconda3/envs/nf2/lib/python3.6/site-packages/sklearn/linear_model/_logistic.py:940: ConvergenceWarning: lbfgs failed to converge (status=1):\n",
      "STOP: TOTAL NO. of ITERATIONS REACHED LIMIT.\n",
      "\n",
      "Increase the number of iterations (max_iter) or scale the data as shown in:\n",
      "    https://scikit-learn.org/stable/modules/preprocessing.html\n",
      "Please also refer to the documentation for alternative solver options:\n",
      "    https://scikit-learn.org/stable/modules/linear_model.html#logistic-regression\n",
      "  extra_warning_msg=_LOGISTIC_SOLVER_CONVERGENCE_MSG)\n"
     ]
    },
    {
     "name": "stdout",
     "output_type": "stream",
     "text": [
      "--\n",
      "base  precision = 0.8494762150094453\n",
      "test  precision = 0.8501031991744066\n",
      "train precision = 0.849957625557316\n",
      "--\n",
      "base  ROC-AUC = 0.5\n",
      "test  ROC-AUC = 0.5017321724583016\n",
      "train ROC-AUC = 0.5017321724583016\n",
      "--\n",
      "base  accuracy = 0.8494762150094453\n",
      "test  accuracy = 0.8496479477932337\n",
      "train accuracy = 0.8495510083909907\n",
      "--\n",
      "base  log_loss = 5.199027710336044\n",
      "test  log_loss = 5.193095583531637\n",
      "train log_loss = 5.196443907814318\n",
      "--\n",
      "confusion matrix of test\n"
     ]
    },
    {
     "data": {
      "text/html": [
       "<div>\n",
       "<style scoped>\n",
       "    .dataframe tbody tr th:only-of-type {\n",
       "        vertical-align: middle;\n",
       "    }\n",
       "\n",
       "    .dataframe tbody tr th {\n",
       "        vertical-align: top;\n",
       "    }\n",
       "\n",
       "    .dataframe thead tr th {\n",
       "        text-align: left;\n",
       "    }\n",
       "</style>\n",
       "<table border=\"1\" class=\"dataframe\">\n",
       "  <thead>\n",
       "    <tr>\n",
       "      <th></th>\n",
       "      <th></th>\n",
       "      <th colspan=\"2\" halign=\"left\">predicted</th>\n",
       "    </tr>\n",
       "    <tr>\n",
       "      <th></th>\n",
       "      <th></th>\n",
       "      <th>neg</th>\n",
       "      <th>pos</th>\n",
       "    </tr>\n",
       "  </thead>\n",
       "  <tbody>\n",
       "    <tr>\n",
       "      <th rowspan=\"2\" valign=\"top\">actual</th>\n",
       "      <th>neg</th>\n",
       "      <td>10</td>\n",
       "      <td>1743</td>\n",
       "    </tr>\n",
       "    <tr>\n",
       "      <th>pos</th>\n",
       "      <td>8</td>\n",
       "      <td>9885</td>\n",
       "    </tr>\n",
       "  </tbody>\n",
       "</table>\n",
       "</div>"
      ],
      "text/plain": [
       "           predicted      \n",
       "                 neg   pos\n",
       "actual neg        10  1743\n",
       "       pos         8  9885"
      ]
     },
     "metadata": {},
     "output_type": "display_data"
    },
    {
     "name": "stdout",
     "output_type": "stream",
     "text": [
      "--\n",
      "              precision    recall  f1-score   support\n",
      "\n",
      "         0.0       0.56      0.01      0.01      1753\n",
      "         1.0       0.85      1.00      0.92      9893\n",
      "\n",
      "    accuracy                           0.85     11646\n",
      "   macro avg       0.70      0.50      0.46     11646\n",
      "weighted avg       0.81      0.85      0.78     11646\n",
      "\n",
      "6572\n"
     ]
    },
    {
     "data": {
      "image/png": "[encoded data removed]",
      "text/plain": [
       "<Figure size 432x288 with 1 Axes>"
      ]
     },
     "metadata": {
      "needs_background": "light"
     },
     "output_type": "display_data"
    }
   ],
   "source": [
    "from sklearn.ensemble import BaggingClassifier\n",
    "bagging = BaggingClassifier(LogisticRegression(),\n",
    "                          max_samples=0.3, max_features=1.0,n_estimators=12)\n",
    "bag_pipline=Pipeline([('pre',preprocess_pipeline),('M',bagging)])\n",
    "bag_pipline.fit(X_train,y_train)\n",
    "Model_Vali(bag_pipline, X_train, X_test, y_train, y_test)"
   ]
  },
  {
   "cell_type": "markdown",
   "metadata": {},
   "source": [
    "# Gradient Boosting"
   ]
  },
  {
   "cell_type": "code",
   "execution_count": 155,
   "metadata": {},
   "outputs": [
    {
     "name": "stderr",
     "output_type": "stream",
     "text": [
      "/Users/arnescheunemann/opt/anaconda3/envs/nf2/lib/python3.6/site-packages/sklearn/ensemble/_gb.py:1454: DataConversionWarning: A column-vector y was passed when a 1d array was expected. Please change the shape of y to (n_samples, ), for example using ravel().\n",
      "  y = column_or_1d(y, warn=True)\n"
     ]
    },
    {
     "name": "stdout",
     "output_type": "stream",
     "text": [
      "--\n",
      "base  precision = 0.8494762150094453\n",
      "test  precision = 0.8494762150094453\n",
      "train precision = 0.8495142058000883\n",
      "--\n",
      "base  ROC-AUC = 0.5\n",
      "test  ROC-AUC = 0.5\n",
      "train ROC-AUC = 0.5\n",
      "--\n",
      "base  accuracy = 0.8494762150094453\n",
      "test  accuracy = 0.8494762150094453\n",
      "train accuracy = 0.8495142058000883\n",
      "--\n",
      "base  log_loss = 5.199027710336044\n",
      "test  log_loss = 5.199027710336044\n",
      "train log_loss = 5.197715524535621\n",
      "--\n",
      "confusion matrix of test\n"
     ]
    },
    {
     "data": {
      "text/html": [
       "<div>\n",
       "<style scoped>\n",
       "    .dataframe tbody tr th:only-of-type {\n",
       "        vertical-align: middle;\n",
       "    }\n",
       "\n",
       "    .dataframe tbody tr th {\n",
       "        vertical-align: top;\n",
       "    }\n",
       "\n",
       "    .dataframe thead tr th {\n",
       "        text-align: left;\n",
       "    }\n",
       "</style>\n",
       "<table border=\"1\" class=\"dataframe\">\n",
       "  <thead>\n",
       "    <tr>\n",
       "      <th></th>\n",
       "      <th></th>\n",
       "      <th colspan=\"2\" halign=\"left\">predicted</th>\n",
       "    </tr>\n",
       "    <tr>\n",
       "      <th></th>\n",
       "      <th></th>\n",
       "      <th>neg</th>\n",
       "      <th>pos</th>\n",
       "    </tr>\n",
       "  </thead>\n",
       "  <tbody>\n",
       "    <tr>\n",
       "      <th rowspan=\"2\" valign=\"top\">actual</th>\n",
       "      <th>neg</th>\n",
       "      <td>0</td>\n",
       "      <td>1753</td>\n",
       "    </tr>\n",
       "    <tr>\n",
       "      <th>pos</th>\n",
       "      <td>0</td>\n",
       "      <td>9893</td>\n",
       "    </tr>\n",
       "  </tbody>\n",
       "</table>\n",
       "</div>"
      ],
      "text/plain": [
       "           predicted      \n",
       "                 neg   pos\n",
       "actual neg         0  1753\n",
       "       pos         0  9893"
      ]
     },
     "metadata": {},
     "output_type": "display_data"
    },
    {
     "name": "stdout",
     "output_type": "stream",
     "text": [
      "--\n",
      "              precision    recall  f1-score   support\n",
      "\n",
      "         0.0       0.00      0.00      0.00      1753\n",
      "         1.0       0.85      1.00      0.92      9893\n",
      "\n",
      "    accuracy                           0.85     11646\n",
      "   macro avg       0.42      0.50      0.46     11646\n",
      "weighted avg       0.72      0.85      0.78     11646\n",
      "\n",
      "9109\n"
     ]
    },
    {
     "name": "stderr",
     "output_type": "stream",
     "text": [
      "/Users/arnescheunemann/opt/anaconda3/envs/nf2/lib/python3.6/site-packages/sklearn/metrics/_classification.py:1272: UndefinedMetricWarning: Precision and F-score are ill-defined and being set to 0.0 in labels with no predicted samples. Use `zero_division` parameter to control this behavior.\n",
      "  _warn_prf(average, modifier, msg_start, len(result))\n"
     ]
    },
    {
     "data": {
      "image/png": "[encoded data removed]",
      "text/plain": [
       "<Figure size 432x288 with 1 Axes>"
      ]
     },
     "metadata": {
      "needs_background": "light"
     },
     "output_type": "display_data"
    }
   ],
   "source": [
    "from sklearn.ensemble import GradientBoostingClassifier\n",
    "GBC = GradientBoostingClassifier(loss='deviance', n_estimators=100, learning_rate=0.01, max_features='sqrt')\n",
    "\n",
    "gb_pipline=Pipeline([('pre',preprocess_pipeline),('M',GBC)])\n",
    "gb_pipline.fit(X_train,y_train)\n",
    "Model_Vali(gb_pipline, X_train, X_test, y_train, y_test)"
   ]
  },
  {
   "cell_type": "markdown",
   "metadata": {},
   "source": [
    "# XG Boost"
   ]
  },
  {
   "cell_type": "code",
   "execution_count": 106,
   "metadata": {},
   "outputs": [
    {
     "name": "stderr",
     "output_type": "stream",
     "text": [
      "/Users/arnescheunemann/opt/anaconda3/envs/nf2/lib/python3.6/site-packages/sklearn/preprocessing/_label.py:235: DataConversionWarning: A column-vector y was passed when a 1d array was expected. Please change the shape of y to (n_samples, ), for example using ravel().\n",
      "  y = column_or_1d(y, warn=True)\n",
      "/Users/arnescheunemann/opt/anaconda3/envs/nf2/lib/python3.6/site-packages/sklearn/preprocessing/_label.py:268: DataConversionWarning: A column-vector y was passed when a 1d array was expected. Please change the shape of y to (n_samples, ), for example using ravel().\n",
      "  y = column_or_1d(y, warn=True)\n"
     ]
    },
    {
     "name": "stdout",
     "output_type": "stream",
     "text": [
      "--\n",
      "base  precision = 0.8494762150094453\n",
      "test  precision = 0.8518099547511312\n",
      "train precision = 0.8934185056136276\n",
      "--\n",
      "base  ROC-AUC = 0.5\n",
      "test  ROC-AUC = 0.6632351601719854\n",
      "train ROC-AUC = 0.6632351601719854\n",
      "--\n",
      "base  accuracy = 0.8494762150094453\n",
      "test  accuracy = 0.8448394298471579\n",
      "train accuracy = 0.8984616517002797\n",
      "--\n",
      "base  log_loss = 5.199027710336044\n",
      "test  log_loss = 5.359173163320215\n",
      "train log_loss = 3.507091320671423\n",
      "--\n",
      "confusion matrix of test\n"
     ]
    },
    {
     "data": {
      "text/html": [
       "<div>\n",
       "<style scoped>\n",
       "    .dataframe tbody tr th:only-of-type {\n",
       "        vertical-align: middle;\n",
       "    }\n",
       "\n",
       "    .dataframe tbody tr th {\n",
       "        vertical-align: top;\n",
       "    }\n",
       "\n",
       "    .dataframe thead tr th {\n",
       "        text-align: left;\n",
       "    }\n",
       "</style>\n",
       "<table border=\"1\" class=\"dataframe\">\n",
       "  <thead>\n",
       "    <tr>\n",
       "      <th></th>\n",
       "      <th></th>\n",
       "      <th colspan=\"2\" halign=\"left\">predicted</th>\n",
       "    </tr>\n",
       "    <tr>\n",
       "      <th></th>\n",
       "      <th></th>\n",
       "      <th>neg</th>\n",
       "      <th>pos</th>\n",
       "    </tr>\n",
       "  </thead>\n",
       "  <tbody>\n",
       "    <tr>\n",
       "      <th rowspan=\"2\" valign=\"top\">actual</th>\n",
       "      <th>neg</th>\n",
       "      <td>50</td>\n",
       "      <td>1703</td>\n",
       "    </tr>\n",
       "    <tr>\n",
       "      <th>pos</th>\n",
       "      <td>104</td>\n",
       "      <td>9789</td>\n",
       "    </tr>\n",
       "  </tbody>\n",
       "</table>\n",
       "</div>"
      ],
      "text/plain": [
       "           predicted      \n",
       "                 neg   pos\n",
       "actual neg        50  1703\n",
       "       pos       104  9789"
      ]
     },
     "metadata": {},
     "output_type": "display_data"
    },
    {
     "name": "stdout",
     "output_type": "stream",
     "text": [
      "--\n",
      "              precision    recall  f1-score   support\n",
      "\n",
      "         0.0       0.32      0.03      0.05      1753\n",
      "         1.0       0.85      0.99      0.92      9893\n",
      "\n",
      "    accuracy                           0.84     11646\n",
      "   macro avg       0.59      0.51      0.48     11646\n",
      "weighted avg       0.77      0.84      0.79     11646\n",
      "\n"
     ]
    },
    {
     "data": {
      "image/png": "[encoded data removed]",
      "text/plain": [
       "<Figure size 432x288 with 1 Axes>"
      ]
     },
     "metadata": {
      "needs_background": "light"
     },
     "output_type": "display_data"
    }
   ],
   "source": [
    "import xgboost as xgb\n",
    "mxgb_pipline=Pipeline([('pre',preprocess_pipeline), \n",
    "                       ('M',xgb.XGBClassifier(objective=\"binary:logistic\",\n",
    "                            learning_rate=0.03,\n",
    "                            n_estimators=500,\n",
    "                            max_depth=10,\n",
    "                            subsample=0.4,\n",
    "                            random_state=RSEED))])\n",
    "\n",
    "mxgb_pipline.fit(X_train,y_train)\n",
    "\n",
    "Model_Vali(mxgb_pipline, X_train, X_test, y_train, y_test)"
   ]
  },
  {
   "cell_type": "code",
   "execution_count": 147,
   "metadata": {},
   "outputs": [
    {
     "name": "stdout",
     "output_type": "stream",
     "text": [
      "--\n",
      "base  precision = 0.8494762150094453\n",
      "test  precision = 0.8752153316106804\n",
      "train precision = 0.9807567767601073\n",
      "--\n",
      "base  ROC-AUC = 0.5\n",
      "test  ROC-AUC = 0.9083875463947994\n",
      "train ROC-AUC = 0.9083875463947994\n",
      "--\n",
      "base  accuracy = 0.8494762150094453\n",
      "test  accuracy = 0.7490125364932165\n",
      "train accuracy = 0.9154644486971882\n",
      "--\n",
      "base  log_loss = 5.199027710336044\n",
      "test  log_loss = 8.66887945524176\n",
      "train log_loss = 2.9197667456072725\n",
      "--\n",
      "confusion matrix of test\n"
     ]
    },
    {
     "data": {
      "text/html": [
       "<div>\n",
       "<style scoped>\n",
       "    .dataframe tbody tr th:only-of-type {\n",
       "        vertical-align: middle;\n",
       "    }\n",
       "\n",
       "    .dataframe tbody tr th {\n",
       "        vertical-align: top;\n",
       "    }\n",
       "\n",
       "    .dataframe thead tr th {\n",
       "        text-align: left;\n",
       "    }\n",
       "</style>\n",
       "<table border=\"1\" class=\"dataframe\">\n",
       "  <thead>\n",
       "    <tr>\n",
       "      <th></th>\n",
       "      <th></th>\n",
       "      <th colspan=\"2\" halign=\"left\">predicted</th>\n",
       "    </tr>\n",
       "    <tr>\n",
       "      <th></th>\n",
       "      <th></th>\n",
       "      <th>neg</th>\n",
       "      <th>pos</th>\n",
       "    </tr>\n",
       "  </thead>\n",
       "  <tbody>\n",
       "    <tr>\n",
       "      <th rowspan=\"2\" valign=\"top\">actual</th>\n",
       "      <th>neg</th>\n",
       "      <td>594</td>\n",
       "      <td>1159</td>\n",
       "    </tr>\n",
       "    <tr>\n",
       "      <th>pos</th>\n",
       "      <td>1764</td>\n",
       "      <td>8129</td>\n",
       "    </tr>\n",
       "  </tbody>\n",
       "</table>\n",
       "</div>"
      ],
      "text/plain": [
       "           predicted      \n",
       "                 neg   pos\n",
       "actual neg       594  1159\n",
       "       pos      1764  8129"
      ]
     },
     "metadata": {},
     "output_type": "display_data"
    },
    {
     "name": "stdout",
     "output_type": "stream",
     "text": [
      "--\n",
      "              precision    recall  f1-score   support\n",
      "\n",
      "         0.0       0.25      0.34      0.29      1753\n",
      "         1.0       0.88      0.82      0.85      9893\n",
      "\n",
      "    accuracy                           0.75     11646\n",
      "   macro avg       0.56      0.58      0.57     11646\n",
      "weighted avg       0.78      0.75      0.76     11646\n",
      "\n",
      "2493\n"
     ]
    },
    {
     "data": {
      "image/png": "[encoded data removed]",
      "text/plain": [
       "<Figure size 432x288 with 1 Axes>"
      ]
     },
     "metadata": {
      "needs_background": "light"
     },
     "output_type": "display_data"
    }
   ],
   "source": [
    "Model_Vali(mxgb_pipline, X_train, X_test, y_train, y_test,0.8)"
   ]
  },
  {
   "cell_type": "code",
   "execution_count": null,
   "metadata": {},
   "outputs": [],
   "source": []
  },
  {
   "cell_type": "code",
   "execution_count": null,
   "metadata": {},
   "outputs": [],
   "source": []
  }
 ],
 "metadata": {
  "kernelspec": {
   "display_name": "Python [conda env:nf2] *",
   "language": "python",
   "name": "conda-env-nf2-py"
  },
  "language_info": {
   "codemirror_mode": {
    "name": "ipython",
    "version": 3
   },
   "file_extension": ".py",
   "mimetype": "text/x-python",
   "name": "python",
   "nbconvert_exporter": "python",
   "pygments_lexer": "ipython3",
   "version": "3.6.10"
  },
  "toc": {
   "base_numbering": 1,
   "nav_menu": {},
   "number_sections": true,
   "sideBar": true,
   "skip_h1_title": false,
   "title_cell": "Table of Contents",
   "title_sidebar": "Contents",
   "toc_cell": false,
   "toc_position": {
    "height": "calc(100% - 180px)",
    "left": "10px",
    "top": "150px",
    "width": "248.521px"
   },
   "toc_section_display": true,
   "toc_window_display": true
  }
 },
 "nbformat": 4,
 "nbformat_minor": 4
}
