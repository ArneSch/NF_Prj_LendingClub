{
 "cells": [
  {
   "cell_type": "code",
   "execution_count": 1,
   "metadata": {
    "ExecuteTime": {
     "end_time": "2020-03-25T19:51:47.735700Z",
     "start_time": "2020-03-25T19:51:47.708635Z"
    }
   },
   "outputs": [],
   "source": [
    "reset -fs"
   ]
  },
  {
   "cell_type": "markdown",
   "metadata": {
    "ExecuteTime": {
     "end_time": "2020-03-25T14:10:43.049928Z",
     "start_time": "2020-03-25T14:10:43.041304Z"
    }
   },
   "source": [
    "![Loan](./figures/neonbrand-AOJGuIJkoBc-unsplash.jpg)\n",
    "\n",
    "Photo by NeONBRAND on Unsplash"
   ]
  },
  {
   "cell_type": "markdown",
   "metadata": {},
   "source": [
    "# Background and feature understanding"
   ]
  },
  {
   "cell_type": "markdown",
   "metadata": {},
   "source": [
    "## About Lending Club"
   ]
  },
  {
   "cell_type": "markdown",
   "metadata": {},
   "source": [
    "LendingClub is a US peer-to-peer lending company and the world's largest peer-to-peer lending platform.\n",
    "\n",
    "***Lending Club enables borrowers to create unsecured personal loans between 1,000 USD and 40,000 USD. The standard loan period is three years. Investors can search and browse the loan listings on Lending Club website and select loans that they want to invest in based on the information supplied about the borrower, amount of loan, loan grade, and loan purpose. Investors make money from interest. Lending Club makes money by charging borrowers an origination fee and investors a service fee.***\n",
    "[Wikipedia - Lending club](https://en.wikipedia.org/wiki/LendingClub)\n",
    "\n",
    "For this project we chose a dataset from Lending Club approved personal loans between 2007 and 2011. The data can be found on www.lendingclub.com. The purpose of the analysis is to reduce defaults, improve profitability and help the company and investors determine interest rates. We will use machine learning models to analyze credit risk as a binary classification problem."
   ]
  },
  {
   "cell_type": "markdown",
   "metadata": {},
   "source": [
    "## About the data"
   ]
  },
  {
   "cell_type": "markdown",
   "metadata": {},
   "source": [
    "### Description of the features in the data\n",
    "(feature groups: payment behavior etc.)"
   ]
  },
  {
   "cell_type": "markdown",
   "metadata": {},
   "source": [
    "For further details please see EDA-Chapter or the following spreadsheet with explanations:\n",
    "\n",
    "[Lending Club - Feature Explanation](./data/feature_info_as_table.ods)"
   ]
  },
  {
   "cell_type": "markdown",
   "metadata": {},
   "source": [
    "# Setting up the Notebook"
   ]
  },
  {
   "cell_type": "markdown",
   "metadata": {},
   "source": [
    "## import of relevant modules"
   ]
  },
  {
   "cell_type": "code",
   "execution_count": 2,
   "metadata": {
    "ExecuteTime": {
     "end_time": "2020-03-25T19:51:48.630041Z",
     "start_time": "2020-03-25T19:51:47.738778Z"
    }
   },
   "outputs": [],
   "source": [
    "import math\n",
    "import os\n",
    "import numpy as np\n",
    "import pandas as pd\n",
    "import matplotlib.pyplot as plt\n",
    "import seaborn as sns\n",
    "import re\n",
    "\n",
    "sns.set()"
   ]
  },
  {
   "cell_type": "markdown",
   "metadata": {},
   "source": [
    "## Macros"
   ]
  },
  {
   "cell_type": "code",
   "execution_count": 3,
   "metadata": {
    "ExecuteTime": {
     "end_time": "2020-03-25T19:51:48.637096Z",
     "start_time": "2020-03-25T19:51:48.633060Z"
    }
   },
   "outputs": [],
   "source": [
    "DATA_FOLDER = './data/'\n",
    "FIG_FOLDER = './figures/'"
   ]
  },
  {
   "cell_type": "markdown",
   "metadata": {},
   "source": [
    "## Utile Functions"
   ]
  },
  {
   "cell_type": "markdown",
   "metadata": {},
   "source": [
    "### Plotting functions"
   ]
  },
  {
   "cell_type": "code",
   "execution_count": 4,
   "metadata": {
    "ExecuteTime": {
     "end_time": "2020-03-25T19:51:48.649114Z",
     "start_time": "2020-03-25T19:51:48.640476Z"
    }
   },
   "outputs": [],
   "source": [
    "# Let’s plot the distribution of each feature\n",
    "def plot_distribution(dataset, cols=5, width=20, height=15, hspace=0.2, wspace=0.5):\n",
    "    plt.style.use('seaborn-whitegrid')\n",
    "    fig = plt.figure(figsize=(width,height))\n",
    "    fig.subplots_adjust(left=None, bottom=None, right=None, top=None, wspace=wspace, hspace=hspace)\n",
    "    rows = math.ceil(float(dataset.shape[1]) / cols)\n",
    "    for i, column in enumerate(dataset.columns):\n",
    "        ax = fig.add_subplot(rows, cols, i + 1)\n",
    "        ax.set_title(column)\n",
    "        if dataset.dtypes[column] == np.object:\n",
    "            g = sns.countplot(y=column, data=dataset)\n",
    "            substrings = [s.get_text()[:18] for s in g.get_yticklabels()]\n",
    "            g.set(yticklabels=substrings)\n",
    "            plt.xticks(rotation=25)\n",
    "        else:\n",
    "            g = sns.distplot(dataset[column])\n",
    "            plt.xticks(rotation=25)\n"
   ]
  },
  {
   "cell_type": "code",
   "execution_count": 49,
   "metadata": {
    "ExecuteTime": {
     "end_time": "2020-03-25T20:06:53.753030Z",
     "start_time": "2020-03-25T20:06:53.743013Z"
    }
   },
   "outputs": [],
   "source": [
    "# make general plots to examine each feature\n",
    "def plot_var(df,col_name, full_name, continuous):\n",
    "    \"\"\"\n",
    "    Visualize a variable with/without faceting on the loan status.\n",
    "    - col_name is the variable name in the dataframe\n",
    "    - full_name is the full variable name\n",
    "    - continuous is True for continuous variables\n",
    "    \"\"\"\n",
    "    fig, (ax1, ax2) = plt.subplots(1, 2, sharex=False, figsize=(15,3))\n",
    "    # plot1: counts distribution of the variable\n",
    "    \n",
    "    if continuous:  \n",
    "        sns.distplot(df.loc[df[col_name].notnull(), col_name], kde=False, ax=ax1)\n",
    "    else:\n",
    "        sns.countplot(df[col_name], order=sorted(df[col_name].unique()), color='#5975A4', saturation=1, ax=ax1)\n",
    "    ax1.set_xlabel(full_name)\n",
    "    ax1.set_ylabel('Count')\n",
    "    ax1.set_title(full_name)\n",
    "\n",
    "          \n",
    "    # plot2: bar plot of the variable grouped by loan_status\n",
    "    if continuous:\n",
    "        sns.boxplot(x=col_name, y='target', data=df, ax=ax2)\n",
    "        ax2.set_ylabel('')\n",
    "        ax2.set_title(full_name + ' by Loan Status')\n",
    "    else:\n",
    "        Charged_Off_rates = df.groupby(col_name)['target'].value_counts(normalize=True)[:,0]\n",
    "        sns.barplot(x=Charged_Off_rates.index, y=Charged_Off_rates.values, color='#5975A4', saturation=1, ax=ax2)\n",
    "        ax2.set_ylabel('Fraction of Loans Charged Off')\n",
    "        ax2.set_title('Charged Off Rate by ' + full_name)\n",
    "        ax2.set_xlabel(full_name)\n",
    "    \n",
    "    # plot3: kde plot of the variable gropued by loan_status\n",
    "    if continuous:  \n",
    "        facet = sns.FacetGrid(df, hue = 'target', size=3, aspect=4)\n",
    "        facet.map(sns.kdeplot, col_name, shade=True)\n",
    "        #facet.set(xlim=(df[col_name].min(), df[col_name].max()))\n",
    "        facet.add_legend()  \n",
    "    else:\n",
    "        fig = plt.figure(figsize=(12,3))\n",
    "        sns.countplot(x=col_name, hue='target', data=df, order=sorted(df[col_name].unique()) )\n",
    "     \n",
    "    plt.tight_layout()"
   ]
  },
  {
   "cell_type": "markdown",
   "metadata": {},
   "source": [
    "## Save figure"
   ]
  },
  {
   "cell_type": "code",
   "execution_count": 5,
   "metadata": {
    "ExecuteTime": {
     "end_time": "2020-03-25T19:51:48.658840Z",
     "start_time": "2020-03-25T19:51:48.651990Z"
    }
   },
   "outputs": [],
   "source": [
    "def save_fig(sec_name, fig_name, tight_layout=True):\n",
    "    path = os.path.join(FIG_FOLDER , sec_name + '_'  + fig_name + \".png\")\n",
    "    print(\"Saving figure\", fig_name)\n",
    "    if tight_layout:\n",
    "        plt.tight_layout()\n",
    "    plt.savefig(path, format='png', dpi=600)"
   ]
  },
  {
   "cell_type": "markdown",
   "metadata": {},
   "source": [
    "# Cleaning"
   ]
  },
  {
   "cell_type": "code",
   "execution_count": null,
   "metadata": {},
   "outputs": [],
   "source": []
  },
  {
   "cell_type": "markdown",
   "metadata": {},
   "source": [
    "## cleaning 1: result is  '../data/clean_pass_01p1.pkl'"
   ]
  },
  {
   "cell_type": "markdown",
   "metadata": {},
   "source": [
    "## cleaning outlier etc. \n",
    "cleaning_pass_02"
   ]
  },
  {
   "cell_type": "markdown",
   "metadata": {},
   "source": [
    "## cleaning date type"
   ]
  },
  {
   "cell_type": "code",
   "execution_count": 54,
   "metadata": {
    "ExecuteTime": {
     "end_time": "2020-03-25T20:23:17.599298Z",
     "start_time": "2020-03-25T20:23:17.594287Z"
    }
   },
   "outputs": [],
   "source": [
    "def time_converter(elem):\n",
    "    month_to_num = {'Jan':'01', 'Feb':'02', 'Mar':'03', 'Apr':'04', 'May':'05', 'Jun':'06',\n",
    "                    'Jul':'07', 'Aug':'08', 'Sep':'09', 'Oct':'10', 'Nov':'11', 'Dec':'12'}\n",
    "    temp_elem = elem.split('-')\n",
    "    val = '-'.join([month_to_num[temp_elem[0]],temp_elem[1]])\n",
    "    date = pd.to_datetime(val)\n",
    "    return date"
   ]
  },
  {
   "cell_type": "markdown",
   "metadata": {},
   "source": [
    "# Target design"
   ]
  },
  {
   "cell_type": "code",
   "execution_count": 6,
   "metadata": {
    "ExecuteTime": {
     "end_time": "2020-03-25T19:51:48.664398Z",
     "start_time": "2020-03-25T19:51:48.660810Z"
    }
   },
   "outputs": [],
   "source": [
    "# countplot "
   ]
  },
  {
   "cell_type": "markdown",
   "metadata": {},
   "source": [
    "# Feature Engineering"
   ]
  },
  {
   "cell_type": "code",
   "execution_count": null,
   "metadata": {},
   "outputs": [],
   "source": []
  },
  {
   "cell_type": "markdown",
   "metadata": {},
   "source": [
    "## Employment_title_ident"
   ]
  },
  {
   "cell_type": "code",
   "execution_count": null,
   "metadata": {},
   "outputs": [],
   "source": []
  },
  {
   "cell_type": "markdown",
   "metadata": {},
   "source": [
    "## feature importance test"
   ]
  },
  {
   "cell_type": "code",
   "execution_count": null,
   "metadata": {},
   "outputs": [],
   "source": []
  },
  {
   "cell_type": "markdown",
   "metadata": {},
   "source": [
    "# EDA"
   ]
  },
  {
   "cell_type": "markdown",
   "metadata": {},
   "source": [
    "## Initial Data import"
   ]
  },
  {
   "cell_type": "code",
   "execution_count": 7,
   "metadata": {
    "ExecuteTime": {
     "end_time": "2020-03-25T19:51:48.744700Z",
     "start_time": "2020-03-25T19:51:48.666773Z"
    }
   },
   "outputs": [],
   "source": [
    "# import the cleaned data\n",
    "df_eda = pd.read_pickle(DATA_FOLDER + 'clean_pass_01p2_Ptarget.pkl')\n",
    "pd.options.display.max_columns = None"
   ]
  },
  {
   "cell_type": "markdown",
   "metadata": {},
   "source": [
    "## Overview"
   ]
  },
  {
   "cell_type": "code",
   "execution_count": 8,
   "metadata": {
    "ExecuteTime": {
     "end_time": "2020-03-25T19:51:48.754156Z",
     "start_time": "2020-03-25T19:51:48.749164Z"
    }
   },
   "outputs": [
    {
     "name": "stdout",
     "output_type": "stream",
     "text": [
      "We see 38818 rows and 41 cols in the data\n"
     ]
    }
   ],
   "source": [
    "# How many data to we have\n",
    "print('We see {} rows and {} cols in the data'.format(df_eda.shape[0],df_eda.shape[1]))"
   ]
  },
  {
   "cell_type": "code",
   "execution_count": 9,
   "metadata": {
    "ExecuteTime": {
     "end_time": "2020-03-25T19:51:48.795992Z",
     "start_time": "2020-03-25T19:51:48.757331Z"
    }
   },
   "outputs": [
    {
     "data": {
      "text/html": [
       "<div>\n",
       "<style scoped>\n",
       "    .dataframe tbody tr th:only-of-type {\n",
       "        vertical-align: middle;\n",
       "    }\n",
       "\n",
       "    .dataframe tbody tr th {\n",
       "        vertical-align: top;\n",
       "    }\n",
       "\n",
       "    .dataframe thead th {\n",
       "        text-align: right;\n",
       "    }\n",
       "</style>\n",
       "<table border=\"1\" class=\"dataframe\">\n",
       "  <thead>\n",
       "    <tr style=\"text-align: right;\">\n",
       "      <th></th>\n",
       "      <th>loan_amnt</th>\n",
       "      <th>funded_amnt</th>\n",
       "      <th>funded_amnt_inv</th>\n",
       "      <th>term</th>\n",
       "      <th>int_rate</th>\n",
       "      <th>installment</th>\n",
       "      <th>grade</th>\n",
       "      <th>sub_grade</th>\n",
       "      <th>emp_title</th>\n",
       "      <th>emp_length</th>\n",
       "      <th>home_ownership</th>\n",
       "      <th>annual_inc</th>\n",
       "      <th>verification_status</th>\n",
       "      <th>issue_d</th>\n",
       "      <th>loan_status</th>\n",
       "      <th>purpose</th>\n",
       "      <th>zip_code</th>\n",
       "      <th>addr_state</th>\n",
       "      <th>dti</th>\n",
       "      <th>delinq_2yrs</th>\n",
       "      <th>earliest_cr_line</th>\n",
       "      <th>inq_last_6mths</th>\n",
       "      <th>open_acc</th>\n",
       "      <th>pub_rec</th>\n",
       "      <th>revol_bal</th>\n",
       "      <th>revol_util</th>\n",
       "      <th>total_acc</th>\n",
       "      <th>out_prncp</th>\n",
       "      <th>out_prncp_inv</th>\n",
       "      <th>total_pymnt</th>\n",
       "      <th>total_pymnt_inv</th>\n",
       "      <th>total_rec_prncp</th>\n",
       "      <th>total_rec_int</th>\n",
       "      <th>total_rec_late_fee</th>\n",
       "      <th>recoveries</th>\n",
       "      <th>collection_recovery_fee</th>\n",
       "      <th>last_pymnt_amnt</th>\n",
       "      <th>last_credit_pull_d</th>\n",
       "      <th>pub_rec_bankruptcies</th>\n",
       "      <th>has_made_pymnt</th>\n",
       "      <th>target</th>\n",
       "    </tr>\n",
       "  </thead>\n",
       "  <tbody>\n",
       "    <tr>\n",
       "      <th>1</th>\n",
       "      <td>2500.0</td>\n",
       "      <td>2500.0</td>\n",
       "      <td>2500.0</td>\n",
       "      <td>60m</td>\n",
       "      <td>0.1527</td>\n",
       "      <td>59.83</td>\n",
       "      <td>C</td>\n",
       "      <td>C4</td>\n",
       "      <td>Ryder</td>\n",
       "      <td>0.5</td>\n",
       "      <td>RENT</td>\n",
       "      <td>30000.0</td>\n",
       "      <td>Source Verified</td>\n",
       "      <td>Dec-2011</td>\n",
       "      <td>Charged Off</td>\n",
       "      <td>car</td>\n",
       "      <td>309xx</td>\n",
       "      <td>GA</td>\n",
       "      <td>1.0</td>\n",
       "      <td>0.0</td>\n",
       "      <td>Apr-1999</td>\n",
       "      <td>5.0</td>\n",
       "      <td>3.0</td>\n",
       "      <td>0.0</td>\n",
       "      <td>1687.0</td>\n",
       "      <td>0.094</td>\n",
       "      <td>4.0</td>\n",
       "      <td>0.0</td>\n",
       "      <td>0.0</td>\n",
       "      <td>1008.71</td>\n",
       "      <td>1008.71</td>\n",
       "      <td>456.46</td>\n",
       "      <td>435.17</td>\n",
       "      <td>0.00</td>\n",
       "      <td>117.08</td>\n",
       "      <td>1.11</td>\n",
       "      <td>119.66</td>\n",
       "      <td>Sep-2013</td>\n",
       "      <td>0</td>\n",
       "      <td>1</td>\n",
       "      <td>0.0</td>\n",
       "    </tr>\n",
       "    <tr>\n",
       "      <th>3</th>\n",
       "      <td>10000.0</td>\n",
       "      <td>10000.0</td>\n",
       "      <td>10000.0</td>\n",
       "      <td>36m</td>\n",
       "      <td>0.1349</td>\n",
       "      <td>339.31</td>\n",
       "      <td>C</td>\n",
       "      <td>C1</td>\n",
       "      <td>AIR RESOURCES BOARD</td>\n",
       "      <td>10.0</td>\n",
       "      <td>RENT</td>\n",
       "      <td>49200.0</td>\n",
       "      <td>Source Verified</td>\n",
       "      <td>Dec-2011</td>\n",
       "      <td>Fully Paid</td>\n",
       "      <td>other</td>\n",
       "      <td>917xx</td>\n",
       "      <td>CA</td>\n",
       "      <td>20.0</td>\n",
       "      <td>0.0</td>\n",
       "      <td>Feb-1996</td>\n",
       "      <td>1.0</td>\n",
       "      <td>10.0</td>\n",
       "      <td>0.0</td>\n",
       "      <td>5598.0</td>\n",
       "      <td>0.210</td>\n",
       "      <td>37.0</td>\n",
       "      <td>0.0</td>\n",
       "      <td>0.0</td>\n",
       "      <td>12231.89</td>\n",
       "      <td>12231.89</td>\n",
       "      <td>10000.00</td>\n",
       "      <td>2214.92</td>\n",
       "      <td>16.97</td>\n",
       "      <td>0.00</td>\n",
       "      <td>0.00</td>\n",
       "      <td>357.48</td>\n",
       "      <td>Apr-2016</td>\n",
       "      <td>0</td>\n",
       "      <td>1</td>\n",
       "      <td>1.0</td>\n",
       "    </tr>\n",
       "    <tr>\n",
       "      <th>5</th>\n",
       "      <td>5000.0</td>\n",
       "      <td>5000.0</td>\n",
       "      <td>5000.0</td>\n",
       "      <td>36m</td>\n",
       "      <td>0.0790</td>\n",
       "      <td>156.46</td>\n",
       "      <td>A</td>\n",
       "      <td>A4</td>\n",
       "      <td>Veolia Transportaton</td>\n",
       "      <td>3.0</td>\n",
       "      <td>RENT</td>\n",
       "      <td>36000.0</td>\n",
       "      <td>Source Verified</td>\n",
       "      <td>Dec-2011</td>\n",
       "      <td>Fully Paid</td>\n",
       "      <td>wedding</td>\n",
       "      <td>852xx</td>\n",
       "      <td>AZ</td>\n",
       "      <td>11.2</td>\n",
       "      <td>0.0</td>\n",
       "      <td>Nov-2004</td>\n",
       "      <td>3.0</td>\n",
       "      <td>9.0</td>\n",
       "      <td>0.0</td>\n",
       "      <td>7963.0</td>\n",
       "      <td>0.283</td>\n",
       "      <td>12.0</td>\n",
       "      <td>0.0</td>\n",
       "      <td>0.0</td>\n",
       "      <td>5632.21</td>\n",
       "      <td>5632.21</td>\n",
       "      <td>5000.00</td>\n",
       "      <td>632.21</td>\n",
       "      <td>0.00</td>\n",
       "      <td>0.00</td>\n",
       "      <td>0.00</td>\n",
       "      <td>161.03</td>\n",
       "      <td>Jan-2016</td>\n",
       "      <td>0</td>\n",
       "      <td>1</td>\n",
       "      <td>1.0</td>\n",
       "    </tr>\n",
       "  </tbody>\n",
       "</table>\n",
       "</div>"
      ],
      "text/plain": [
       "   loan_amnt  funded_amnt  funded_amnt_inv term  int_rate  installment grade  \\\n",
       "1     2500.0       2500.0           2500.0  60m    0.1527        59.83     C   \n",
       "3    10000.0      10000.0          10000.0  36m    0.1349       339.31     C   \n",
       "5     5000.0       5000.0           5000.0  36m    0.0790       156.46     A   \n",
       "\n",
       "  sub_grade             emp_title  emp_length home_ownership  annual_inc  \\\n",
       "1        C4                 Ryder         0.5           RENT     30000.0   \n",
       "3        C1   AIR RESOURCES BOARD        10.0           RENT     49200.0   \n",
       "5        A4  Veolia Transportaton         3.0           RENT     36000.0   \n",
       "\n",
       "  verification_status   issue_d  loan_status  purpose zip_code addr_state  \\\n",
       "1     Source Verified  Dec-2011  Charged Off      car    309xx         GA   \n",
       "3     Source Verified  Dec-2011   Fully Paid    other    917xx         CA   \n",
       "5     Source Verified  Dec-2011   Fully Paid  wedding    852xx         AZ   \n",
       "\n",
       "    dti  delinq_2yrs earliest_cr_line  inq_last_6mths  open_acc  pub_rec  \\\n",
       "1   1.0          0.0         Apr-1999             5.0       3.0      0.0   \n",
       "3  20.0          0.0         Feb-1996             1.0      10.0      0.0   \n",
       "5  11.2          0.0         Nov-2004             3.0       9.0      0.0   \n",
       "\n",
       "   revol_bal  revol_util  total_acc  out_prncp  out_prncp_inv  total_pymnt  \\\n",
       "1     1687.0       0.094        4.0        0.0            0.0      1008.71   \n",
       "3     5598.0       0.210       37.0        0.0            0.0     12231.89   \n",
       "5     7963.0       0.283       12.0        0.0            0.0      5632.21   \n",
       "\n",
       "   total_pymnt_inv  total_rec_prncp  total_rec_int  total_rec_late_fee  \\\n",
       "1          1008.71           456.46         435.17                0.00   \n",
       "3         12231.89         10000.00        2214.92               16.97   \n",
       "5          5632.21          5000.00         632.21                0.00   \n",
       "\n",
       "   recoveries  collection_recovery_fee  last_pymnt_amnt last_credit_pull_d  \\\n",
       "1      117.08                     1.11           119.66           Sep-2013   \n",
       "3        0.00                     0.00           357.48           Apr-2016   \n",
       "5        0.00                     0.00           161.03           Jan-2016   \n",
       "\n",
       "   pub_rec_bankruptcies  has_made_pymnt  target  \n",
       "1                     0               1     0.0  \n",
       "3                     0               1     1.0  \n",
       "5                     0               1     1.0  "
      ]
     },
     "execution_count": 9,
     "metadata": {},
     "output_type": "execute_result"
    }
   ],
   "source": [
    "# Let's have a short look at the head of the data\n",
    "df_eda.head(3)"
   ]
  },
  {
   "cell_type": "code",
   "execution_count": 10,
   "metadata": {
    "ExecuteTime": {
     "end_time": "2020-03-25T19:51:48.829788Z",
     "start_time": "2020-03-25T19:51:48.799088Z"
    }
   },
   "outputs": [
    {
     "data": {
      "text/html": [
       "<div>\n",
       "<style scoped>\n",
       "    .dataframe tbody tr th:only-of-type {\n",
       "        vertical-align: middle;\n",
       "    }\n",
       "\n",
       "    .dataframe tbody tr th {\n",
       "        vertical-align: top;\n",
       "    }\n",
       "\n",
       "    .dataframe thead th {\n",
       "        text-align: right;\n",
       "    }\n",
       "</style>\n",
       "<table border=\"1\" class=\"dataframe\">\n",
       "  <thead>\n",
       "    <tr style=\"text-align: right;\">\n",
       "      <th></th>\n",
       "      <th>loan_amnt</th>\n",
       "      <th>funded_amnt</th>\n",
       "      <th>funded_amnt_inv</th>\n",
       "      <th>term</th>\n",
       "      <th>int_rate</th>\n",
       "      <th>installment</th>\n",
       "      <th>grade</th>\n",
       "      <th>sub_grade</th>\n",
       "      <th>emp_title</th>\n",
       "      <th>emp_length</th>\n",
       "      <th>home_ownership</th>\n",
       "      <th>annual_inc</th>\n",
       "      <th>verification_status</th>\n",
       "      <th>issue_d</th>\n",
       "      <th>loan_status</th>\n",
       "      <th>purpose</th>\n",
       "      <th>zip_code</th>\n",
       "      <th>addr_state</th>\n",
       "      <th>dti</th>\n",
       "      <th>delinq_2yrs</th>\n",
       "      <th>earliest_cr_line</th>\n",
       "      <th>inq_last_6mths</th>\n",
       "      <th>open_acc</th>\n",
       "      <th>pub_rec</th>\n",
       "      <th>revol_bal</th>\n",
       "      <th>revol_util</th>\n",
       "      <th>total_acc</th>\n",
       "      <th>out_prncp</th>\n",
       "      <th>out_prncp_inv</th>\n",
       "      <th>total_pymnt</th>\n",
       "      <th>total_pymnt_inv</th>\n",
       "      <th>total_rec_prncp</th>\n",
       "      <th>total_rec_int</th>\n",
       "      <th>total_rec_late_fee</th>\n",
       "      <th>recoveries</th>\n",
       "      <th>collection_recovery_fee</th>\n",
       "      <th>last_pymnt_amnt</th>\n",
       "      <th>last_credit_pull_d</th>\n",
       "      <th>pub_rec_bankruptcies</th>\n",
       "      <th>has_made_pymnt</th>\n",
       "      <th>target</th>\n",
       "    </tr>\n",
       "  </thead>\n",
       "  <tbody>\n",
       "    <tr>\n",
       "      <th>42454</th>\n",
       "      <td>5700.0</td>\n",
       "      <td>5700.0</td>\n",
       "      <td>1450.0</td>\n",
       "      <td>36m</td>\n",
       "      <td>0.1343</td>\n",
       "      <td>193.26</td>\n",
       "      <td>E</td>\n",
       "      <td>E1</td>\n",
       "      <td>PEER Center, Inc.</td>\n",
       "      <td>5.0</td>\n",
       "      <td>RENT</td>\n",
       "      <td>65000.0</td>\n",
       "      <td>Not Verified</td>\n",
       "      <td>Aug-2007</td>\n",
       "      <td>Does not meet the credit policy. Status:Fully ...</td>\n",
       "      <td>debt_consolidation</td>\n",
       "      <td>333xx</td>\n",
       "      <td>FL</td>\n",
       "      <td>18.22</td>\n",
       "      <td>0.0</td>\n",
       "      <td>Nov-2004</td>\n",
       "      <td>3.0</td>\n",
       "      <td>15.0</td>\n",
       "      <td>1.0</td>\n",
       "      <td>3023.0</td>\n",
       "      <td>0.126</td>\n",
       "      <td>17.0</td>\n",
       "      <td>0.0</td>\n",
       "      <td>0.0</td>\n",
       "      <td>6957.002153</td>\n",
       "      <td>1769.76</td>\n",
       "      <td>5700.0</td>\n",
       "      <td>1257.00</td>\n",
       "      <td>0.0</td>\n",
       "      <td>0.0</td>\n",
       "      <td>0.0</td>\n",
       "      <td>198.59</td>\n",
       "      <td>Jun-2016</td>\n",
       "      <td>1</td>\n",
       "      <td>1</td>\n",
       "      <td>1.0</td>\n",
       "    </tr>\n",
       "    <tr>\n",
       "      <th>42466</th>\n",
       "      <td>6000.0</td>\n",
       "      <td>6000.0</td>\n",
       "      <td>1025.0</td>\n",
       "      <td>36m</td>\n",
       "      <td>0.1280</td>\n",
       "      <td>201.60</td>\n",
       "      <td>D</td>\n",
       "      <td>D4</td>\n",
       "      <td>Securitas Security Services</td>\n",
       "      <td>8.0</td>\n",
       "      <td>RENT</td>\n",
       "      <td>57000.0</td>\n",
       "      <td>Not Verified</td>\n",
       "      <td>Aug-2007</td>\n",
       "      <td>Does not meet the credit policy. Status:Fully ...</td>\n",
       "      <td>debt_consolidation</td>\n",
       "      <td>547xx</td>\n",
       "      <td>WI</td>\n",
       "      <td>15.20</td>\n",
       "      <td>2.0</td>\n",
       "      <td>Nov-1989</td>\n",
       "      <td>4.0</td>\n",
       "      <td>13.0</td>\n",
       "      <td>1.0</td>\n",
       "      <td>13622.0</td>\n",
       "      <td>0.797</td>\n",
       "      <td>31.0</td>\n",
       "      <td>0.0</td>\n",
       "      <td>0.0</td>\n",
       "      <td>7322.221721</td>\n",
       "      <td>1250.88</td>\n",
       "      <td>6000.0</td>\n",
       "      <td>1262.22</td>\n",
       "      <td>60.0</td>\n",
       "      <td>0.0</td>\n",
       "      <td>0.0</td>\n",
       "      <td>108.03</td>\n",
       "      <td>May-2011</td>\n",
       "      <td>1</td>\n",
       "      <td>1</td>\n",
       "      <td>1.0</td>\n",
       "    </tr>\n",
       "    <tr>\n",
       "      <th>42474</th>\n",
       "      <td>13000.0</td>\n",
       "      <td>13000.0</td>\n",
       "      <td>700.0</td>\n",
       "      <td>36m</td>\n",
       "      <td>0.1091</td>\n",
       "      <td>425.04</td>\n",
       "      <td>C</td>\n",
       "      <td>C3</td>\n",
       "      <td>LendingTree, LLC</td>\n",
       "      <td>2.0</td>\n",
       "      <td>MORTGAGE</td>\n",
       "      <td>62000.0</td>\n",
       "      <td>Not Verified</td>\n",
       "      <td>Aug-2007</td>\n",
       "      <td>Does not meet the credit policy. Status:Fully ...</td>\n",
       "      <td>debt_consolidation</td>\n",
       "      <td>282xx</td>\n",
       "      <td>NC</td>\n",
       "      <td>20.00</td>\n",
       "      <td>0.0</td>\n",
       "      <td>Nov-1993</td>\n",
       "      <td>4.0</td>\n",
       "      <td>23.0</td>\n",
       "      <td>1.0</td>\n",
       "      <td>13748.0</td>\n",
       "      <td>0.502</td>\n",
       "      <td>53.0</td>\n",
       "      <td>0.0</td>\n",
       "      <td>0.0</td>\n",
       "      <td>15301.293803</td>\n",
       "      <td>823.92</td>\n",
       "      <td>13000.0</td>\n",
       "      <td>2301.29</td>\n",
       "      <td>0.0</td>\n",
       "      <td>0.0</td>\n",
       "      <td>0.0</td>\n",
       "      <td>426.53</td>\n",
       "      <td>Jun-2011</td>\n",
       "      <td>1</td>\n",
       "      <td>1</td>\n",
       "      <td>1.0</td>\n",
       "    </tr>\n",
       "  </tbody>\n",
       "</table>\n",
       "</div>"
      ],
      "text/plain": [
       "       loan_amnt  funded_amnt  funded_amnt_inv term  int_rate  installment  \\\n",
       "42454     5700.0       5700.0           1450.0  36m    0.1343       193.26   \n",
       "42466     6000.0       6000.0           1025.0  36m    0.1280       201.60   \n",
       "42474    13000.0      13000.0            700.0  36m    0.1091       425.04   \n",
       "\n",
       "      grade sub_grade                    emp_title  emp_length home_ownership  \\\n",
       "42454     E        E1            PEER Center, Inc.         5.0           RENT   \n",
       "42466     D        D4  Securitas Security Services         8.0           RENT   \n",
       "42474     C        C3             LendingTree, LLC         2.0       MORTGAGE   \n",
       "\n",
       "       annual_inc verification_status   issue_d  \\\n",
       "42454     65000.0        Not Verified  Aug-2007   \n",
       "42466     57000.0        Not Verified  Aug-2007   \n",
       "42474     62000.0        Not Verified  Aug-2007   \n",
       "\n",
       "                                             loan_status             purpose  \\\n",
       "42454  Does not meet the credit policy. Status:Fully ...  debt_consolidation   \n",
       "42466  Does not meet the credit policy. Status:Fully ...  debt_consolidation   \n",
       "42474  Does not meet the credit policy. Status:Fully ...  debt_consolidation   \n",
       "\n",
       "      zip_code addr_state    dti  delinq_2yrs earliest_cr_line  \\\n",
       "42454    333xx         FL  18.22          0.0         Nov-2004   \n",
       "42466    547xx         WI  15.20          2.0         Nov-1989   \n",
       "42474    282xx         NC  20.00          0.0         Nov-1993   \n",
       "\n",
       "       inq_last_6mths  open_acc  pub_rec  revol_bal  revol_util  total_acc  \\\n",
       "42454             3.0      15.0      1.0     3023.0       0.126       17.0   \n",
       "42466             4.0      13.0      1.0    13622.0       0.797       31.0   \n",
       "42474             4.0      23.0      1.0    13748.0       0.502       53.0   \n",
       "\n",
       "       out_prncp  out_prncp_inv   total_pymnt  total_pymnt_inv  \\\n",
       "42454        0.0            0.0   6957.002153          1769.76   \n",
       "42466        0.0            0.0   7322.221721          1250.88   \n",
       "42474        0.0            0.0  15301.293803           823.92   \n",
       "\n",
       "       total_rec_prncp  total_rec_int  total_rec_late_fee  recoveries  \\\n",
       "42454           5700.0        1257.00                 0.0         0.0   \n",
       "42466           6000.0        1262.22                60.0         0.0   \n",
       "42474          13000.0        2301.29                 0.0         0.0   \n",
       "\n",
       "       collection_recovery_fee  last_pymnt_amnt last_credit_pull_d  \\\n",
       "42454                      0.0           198.59           Jun-2016   \n",
       "42466                      0.0           108.03           May-2011   \n",
       "42474                      0.0           426.53           Jun-2011   \n",
       "\n",
       "       pub_rec_bankruptcies  has_made_pymnt  target  \n",
       "42454                     1               1     1.0  \n",
       "42466                     1               1     1.0  \n",
       "42474                     1               1     1.0  "
      ]
     },
     "execution_count": 10,
     "metadata": {},
     "output_type": "execute_result"
    }
   ],
   "source": [
    "# Let's have a short look at the end of the data\n",
    "df_eda.tail(3)"
   ]
  },
  {
   "cell_type": "markdown",
   "metadata": {},
   "source": [
    "## Interest rate and default rate over time"
   ]
  },
  {
   "cell_type": "markdown",
   "metadata": {},
   "source": [
    "To improve the understanding of the topic it seems to be good to have a look on to the 'normal' interest rates for loans and a rate of credit defaults outside of Lending club"
   ]
  },
  {
   "cell_type": "code",
   "execution_count": 11,
   "metadata": {
    "ExecuteTime": {
     "end_time": "2020-03-25T19:51:49.613634Z",
     "start_time": "2020-03-25T19:51:48.831953Z"
    }
   },
   "outputs": [
    {
     "name": "stderr",
     "output_type": "stream",
     "text": [
      "/Users/torben/opt/anaconda3/envs/nf2/lib/python3.6/site-packages/IPython/core/interactiveshell.py:3063: DtypeWarning: Columns (0) have mixed types. Specify dtype option on import or set low_memory=False.\n",
      "  interactivity=interactivity, compiler=compiler, result=result)\n"
     ]
    }
   ],
   "source": [
    "# credit default rate US from 2007 to 2011\n",
    "# source: https://www.federalreserve.gov/datadownload/Choose.aspx?rel=CHGDEL\n",
    "cdr_us = pd.read_csv('./data/DRALACBN.csv').rename(columns={'DATE':'date','DRALACBN':'default_rate'})\n",
    "time_df = pd.read_csv(DATA_FOLDER + 'loans_2007.csv')"
   ]
  },
  {
   "cell_type": "code",
   "execution_count": 12,
   "metadata": {
    "ExecuteTime": {
     "end_time": "2020-03-25T19:51:50.060927Z",
     "start_time": "2020-03-25T19:51:49.632071Z"
    }
   },
   "outputs": [
    {
     "data": {
      "text/plain": [
       "Text(0.5, 1.0, 'US Credit Default Rate 2007 - 2011')"
      ]
     },
     "execution_count": 12,
     "metadata": {},
     "output_type": "execute_result"
    },
    {
     "data": {
      "image/png": "[encoded data removed]",
      "text/plain": [
       "<Figure size 432x288 with 1 Axes>"
      ]
     },
     "metadata": {},
     "output_type": "display_data"
    }
   ],
   "source": [
    "# plotting the cdr \n",
    "f=sns.lineplot(x='date',y='default_rate',data=cdr_us,color='r')\n",
    "plt.xticks(rotation=45);\n",
    "plt.title('US Credit Default Rate 2007 - 2011')"
   ]
  },
  {
   "cell_type": "markdown",
   "metadata": {},
   "source": [
    "## annual_inc"
   ]
  },
  {
   "cell_type": "code",
   "execution_count": 13,
   "metadata": {
    "ExecuteTime": {
     "end_time": "2020-03-25T19:51:50.089400Z",
     "start_time": "2020-03-25T19:51:50.069280Z"
    }
   },
   "outputs": [
    {
     "data": {
      "text/plain": [
       "count      38818.00\n",
       "mean       69161.69\n",
       "std        64415.24\n",
       "min         1896.00\n",
       "25%        41000.00\n",
       "50%        59418.00\n",
       "75%        82307.25\n",
       "max      6000000.00\n",
       "Name: annual_inc, dtype: float64"
      ]
     },
     "execution_count": 13,
     "metadata": {},
     "output_type": "execute_result"
    }
   ],
   "source": [
    "df_eda.annual_inc.describe().round(2)"
   ]
  },
  {
   "cell_type": "code",
   "execution_count": 14,
   "metadata": {
    "ExecuteTime": {
     "end_time": "2020-03-25T19:51:51.876773Z",
     "start_time": "2020-03-25T19:51:50.107639Z"
    }
   },
   "outputs": [
    {
     "name": "stdout",
     "output_type": "stream",
     "text": [
      "Saving figure annual_inc_boxplot_by_target\n"
     ]
    },
    {
     "data": {
      "image/png": "[encoded data removed]",
      "text/plain": [
       "<Figure size 1440x432 with 2 Axes>"
      ]
     },
     "metadata": {},
     "output_type": "display_data"
    },
    {
     "data": {
      "text/plain": [
       "<Figure size 1440x216 with 0 Axes>"
      ]
     },
     "metadata": {},
     "output_type": "display_data"
    }
   ],
   "source": [
    "fig, (ax1, ax2) = plt.subplots(2, 1, sharex=True, figsize=(20,6))\n",
    "plt.figure(figsize=(20,3))\n",
    "sns.boxplot(x='annual_inc',data=df_eda.query('target==1'),ax=ax1)\n",
    "sns.boxplot(x='annual_inc',data=df_eda.query('target==0'),ax=ax2)\n",
    "save_fig('eda','annual_inc_boxplot_by_target')"
   ]
  },
  {
   "cell_type": "markdown",
   "metadata": {},
   "source": [
    "The Annual income ranges from 1,896 USD to 6 Million USD with a mean annual income of around 70,000 USD\n",
    "We see a lot of outliers in the boxplot, they will be handled afterwards"
   ]
  },
  {
   "cell_type": "code",
   "execution_count": 15,
   "metadata": {
    "ExecuteTime": {
     "end_time": "2020-03-25T19:51:51.918145Z",
     "start_time": "2020-03-25T19:51:51.878822Z"
    }
   },
   "outputs": [
    {
     "data": {
      "text/html": [
       "<div>\n",
       "<style scoped>\n",
       "    .dataframe tbody tr th:only-of-type {\n",
       "        vertical-align: middle;\n",
       "    }\n",
       "\n",
       "    .dataframe tbody tr th {\n",
       "        vertical-align: top;\n",
       "    }\n",
       "\n",
       "    .dataframe thead th {\n",
       "        text-align: right;\n",
       "    }\n",
       "</style>\n",
       "<table border=\"1\" class=\"dataframe\">\n",
       "  <thead>\n",
       "    <tr style=\"text-align: right;\">\n",
       "      <th></th>\n",
       "      <th>count</th>\n",
       "      <th>mean</th>\n",
       "      <th>std</th>\n",
       "      <th>min</th>\n",
       "      <th>25%</th>\n",
       "      <th>50%</th>\n",
       "      <th>75%</th>\n",
       "      <th>max</th>\n",
       "    </tr>\n",
       "    <tr>\n",
       "      <th>target</th>\n",
       "      <th></th>\n",
       "      <th></th>\n",
       "      <th></th>\n",
       "      <th></th>\n",
       "      <th></th>\n",
       "      <th></th>\n",
       "      <th></th>\n",
       "      <th></th>\n",
       "    </tr>\n",
       "  </thead>\n",
       "  <tbody>\n",
       "    <tr>\n",
       "      <th>0.0</th>\n",
       "      <td>5842.0</td>\n",
       "      <td>63670.0</td>\n",
       "      <td>49235.0</td>\n",
       "      <td>3600.0</td>\n",
       "      <td>38000.0</td>\n",
       "      <td>54000.0</td>\n",
       "      <td>75000.0</td>\n",
       "      <td>1250000.0</td>\n",
       "    </tr>\n",
       "    <tr>\n",
       "      <th>1.0</th>\n",
       "      <td>32976.0</td>\n",
       "      <td>70135.0</td>\n",
       "      <td>66699.0</td>\n",
       "      <td>1896.0</td>\n",
       "      <td>42000.0</td>\n",
       "      <td>60000.0</td>\n",
       "      <td>84000.0</td>\n",
       "      <td>6000000.0</td>\n",
       "    </tr>\n",
       "  </tbody>\n",
       "</table>\n",
       "</div>"
      ],
      "text/plain": [
       "          count     mean      std     min      25%      50%      75%  \\\n",
       "target                                                                 \n",
       "0.0      5842.0  63670.0  49235.0  3600.0  38000.0  54000.0  75000.0   \n",
       "1.0     32976.0  70135.0  66699.0  1896.0  42000.0  60000.0  84000.0   \n",
       "\n",
       "              max  \n",
       "target             \n",
       "0.0     1250000.0  \n",
       "1.0     6000000.0  "
      ]
     },
     "execution_count": 15,
     "metadata": {},
     "output_type": "execute_result"
    }
   ],
   "source": [
    "df_eda.groupby('target').annual_inc.describe().round()"
   ]
  },
  {
   "cell_type": "markdown",
   "metadata": {},
   "source": [
    "## loan_amnt"
   ]
  },
  {
   "cell_type": "markdown",
   "metadata": {},
   "source": [
    "\"The listed amount of the loan applied for by the borrower. If at some point in time, the credit department reduces the loan amount, then it will be reflected in this value.\""
   ]
  },
  {
   "cell_type": "code",
   "execution_count": 16,
   "metadata": {
    "ExecuteTime": {
     "end_time": "2020-03-25T19:51:51.940752Z",
     "start_time": "2020-03-25T19:51:51.926982Z"
    }
   },
   "outputs": [
    {
     "data": {
      "text/plain": [
       "count    38818.00\n",
       "mean     11010.23\n",
       "std       7280.11\n",
       "min        500.00\n",
       "25%       5300.00\n",
       "50%       9600.00\n",
       "75%      15000.00\n",
       "max      35000.00\n",
       "Name: loan_amnt, dtype: float64"
      ]
     },
     "execution_count": 16,
     "metadata": {},
     "output_type": "execute_result"
    }
   ],
   "source": [
    "df_eda.loan_amnt.describe().round(2)"
   ]
  },
  {
   "cell_type": "markdown",
   "metadata": {},
   "source": [
    "The Loan Amount ranges from min. 500 USD to max. 35,000 USD with a mean of around 11,000 USD"
   ]
  },
  {
   "cell_type": "code",
   "execution_count": 17,
   "metadata": {
    "ExecuteTime": {
     "end_time": "2020-03-25T19:51:52.006077Z",
     "start_time": "2020-03-25T19:51:51.942881Z"
    }
   },
   "outputs": [
    {
     "data": {
      "text/html": [
       "<div>\n",
       "<style scoped>\n",
       "    .dataframe tbody tr th:only-of-type {\n",
       "        vertical-align: middle;\n",
       "    }\n",
       "\n",
       "    .dataframe tbody tr th {\n",
       "        vertical-align: top;\n",
       "    }\n",
       "\n",
       "    .dataframe thead th {\n",
       "        text-align: right;\n",
       "    }\n",
       "</style>\n",
       "<table border=\"1\" class=\"dataframe\">\n",
       "  <thead>\n",
       "    <tr style=\"text-align: right;\">\n",
       "      <th></th>\n",
       "      <th>count</th>\n",
       "      <th>mean</th>\n",
       "      <th>std</th>\n",
       "      <th>min</th>\n",
       "      <th>25%</th>\n",
       "      <th>50%</th>\n",
       "      <th>75%</th>\n",
       "      <th>max</th>\n",
       "    </tr>\n",
       "    <tr>\n",
       "      <th>target</th>\n",
       "      <th></th>\n",
       "      <th></th>\n",
       "      <th></th>\n",
       "      <th></th>\n",
       "      <th></th>\n",
       "      <th></th>\n",
       "      <th></th>\n",
       "      <th></th>\n",
       "    </tr>\n",
       "  </thead>\n",
       "  <tbody>\n",
       "    <tr>\n",
       "      <th>0.0</th>\n",
       "      <td>5842.0</td>\n",
       "      <td>11965.285861</td>\n",
       "      <td>7936.351894</td>\n",
       "      <td>600.0</td>\n",
       "      <td>5600.0</td>\n",
       "      <td>10000.0</td>\n",
       "      <td>16000.0</td>\n",
       "      <td>35000.0</td>\n",
       "    </tr>\n",
       "    <tr>\n",
       "      <th>1.0</th>\n",
       "      <td>32976.0</td>\n",
       "      <td>10841.029840</td>\n",
       "      <td>7144.408536</td>\n",
       "      <td>500.0</td>\n",
       "      <td>5200.0</td>\n",
       "      <td>9600.0</td>\n",
       "      <td>15000.0</td>\n",
       "      <td>35000.0</td>\n",
       "    </tr>\n",
       "  </tbody>\n",
       "</table>\n",
       "</div>"
      ],
      "text/plain": [
       "          count          mean          std    min     25%      50%      75%  \\\n",
       "target                                                                        \n",
       "0.0      5842.0  11965.285861  7936.351894  600.0  5600.0  10000.0  16000.0   \n",
       "1.0     32976.0  10841.029840  7144.408536  500.0  5200.0   9600.0  15000.0   \n",
       "\n",
       "            max  \n",
       "target           \n",
       "0.0     35000.0  \n",
       "1.0     35000.0  "
      ]
     },
     "execution_count": 17,
     "metadata": {},
     "output_type": "execute_result"
    }
   ],
   "source": [
    "df_eda.groupby('target')['loan_amnt'].describe()"
   ]
  },
  {
   "cell_type": "code",
   "execution_count": 18,
   "metadata": {
    "ExecuteTime": {
     "end_time": "2020-03-25T19:51:55.367106Z",
     "start_time": "2020-03-25T19:51:52.009272Z"
    }
   },
   "outputs": [
    {
     "name": "stdout",
     "output_type": "stream",
     "text": [
      "Saving figure loan_amount_dist\n"
     ]
    },
    {
     "data": {
      "image/png": "[encoded data removed]",
      "text/plain": [
       "<Figure size 1440x432 with 2 Axes>"
      ]
     },
     "metadata": {},
     "output_type": "display_data"
    }
   ],
   "source": [
    "fig, (ax1, ax2) = plt.subplots(1, 2, figsize=(20,6))\n",
    "fig=df_eda.loan_amnt.hist(bins=50,ax=ax1)\n",
    "fig=sns.boxplot(x='loan_amnt',data=df_eda,ax=ax2)\n",
    "save_fig('eda', 'loan_amount_dist')"
   ]
  },
  {
   "cell_type": "markdown",
   "metadata": {
    "ExecuteTime": {
     "end_time": "2020-03-25T12:18:07.649508Z",
     "start_time": "2020-03-25T12:18:07.637325Z"
    }
   },
   "source": [
    "## Distribution of term"
   ]
  },
  {
   "cell_type": "markdown",
   "metadata": {},
   "source": [
    "\"The number of payments on the loan. Values are in months and can be either 36 or 60.\""
   ]
  },
  {
   "cell_type": "code",
   "execution_count": 19,
   "metadata": {
    "ExecuteTime": {
     "end_time": "2020-03-25T19:51:55.382443Z",
     "start_time": "2020-03-25T19:51:55.369905Z"
    }
   },
   "outputs": [
    {
     "data": {
      "text/plain": [
       "36m    0.754701\n",
       "60m    0.245299\n",
       "Name: term, dtype: float64"
      ]
     },
     "execution_count": 19,
     "metadata": {},
     "output_type": "execute_result"
    }
   ],
   "source": [
    "df_eda.term.value_counts(normalize=True)"
   ]
  },
  {
   "cell_type": "code",
   "execution_count": 20,
   "metadata": {
    "ExecuteTime": {
     "end_time": "2020-03-25T19:51:56.142521Z",
     "start_time": "2020-03-25T19:51:55.384497Z"
    }
   },
   "outputs": [
    {
     "name": "stdout",
     "output_type": "stream",
     "text": [
      "Saving figure default_rate_by_term\n"
     ]
    },
    {
     "data": {
      "image/png": "[encoded data removed]",
      "text/plain": [
       "<Figure size 432x288 with 1 Axes>"
      ]
     },
     "metadata": {},
     "output_type": "display_data"
    }
   ],
   "source": [
    "term = pd.crosstab(df_eda.term, df_eda.target)\n",
    "term = term.div(term.sum(1).astype(float),axis=0)\n",
    "term.plot(kind='bar', stacked=True, title='Default rate by term')\n",
    "plt.xlabel('Term')\n",
    "plt.legend(loc='center left', bbox_to_anchor=(1, 0.5));\n",
    "save_fig('eda','default_rate_by_term')"
   ]
  },
  {
   "cell_type": "code",
   "execution_count": 21,
   "metadata": {
    "ExecuteTime": {
     "end_time": "2020-03-25T19:51:56.163974Z",
     "start_time": "2020-03-25T19:51:56.145286Z"
    }
   },
   "outputs": [
    {
     "data": {
      "text/plain": [
       "term  target\n",
       "36m   1.0       0.881417\n",
       "      0.0       0.118583\n",
       "60m   1.0       0.751313\n",
       "      0.0       0.248687\n",
       "Name: target, dtype: float64"
      ]
     },
     "execution_count": 21,
     "metadata": {},
     "output_type": "execute_result"
    }
   ],
   "source": [
    "df_eda.groupby('term').target.value_counts(normalize=True)"
   ]
  },
  {
   "cell_type": "markdown",
   "metadata": {},
   "source": [
    "We can see, that 75% of the loans have a period of three years while the other 25% have to be paid back in 60 month or 5 years.\n",
    "The default rate for the 60month period is a lot higher than for 36month (25% vs. 12%)"
   ]
  },
  {
   "cell_type": "markdown",
   "metadata": {},
   "source": [
    "## Exploring the Grading System"
   ]
  },
  {
   "cell_type": "code",
   "execution_count": 22,
   "metadata": {
    "ExecuteTime": {
     "end_time": "2020-03-25T19:51:56.971149Z",
     "start_time": "2020-03-25T19:51:56.166251Z"
    }
   },
   "outputs": [
    {
     "name": "stdout",
     "output_type": "stream",
     "text": [
      "Saving figure grade_distribution\n"
     ]
    },
    {
     "data": {
      "image/png": "[encoded data removed]",
      "text/plain": [
       "<Figure size 432x288 with 1 Axes>"
      ]
     },
     "metadata": {},
     "output_type": "display_data"
    }
   ],
   "source": [
    "sns.countplot(x='grade',data=df_eda.sort_values('grade'))\n",
    "save_fig('eda','grade_distribution')"
   ]
  },
  {
   "cell_type": "code",
   "execution_count": 23,
   "metadata": {
    "ExecuteTime": {
     "end_time": "2020-03-25T19:51:57.709330Z",
     "start_time": "2020-03-25T19:51:56.978015Z"
    }
   },
   "outputs": [
    {
     "name": "stdout",
     "output_type": "stream",
     "text": [
      "Saving figure default_rate_by_grade\n"
     ]
    },
    {
     "data": {
      "image/png": "[encoded data removed]",
      "text/plain": [
       "<Figure size 432x288 with 1 Axes>"
      ]
     },
     "metadata": {},
     "output_type": "display_data"
    }
   ],
   "source": [
    "target = pd.crosstab(df_eda.grade, df_eda.target)\n",
    "target = target.div(target.sum(1).astype(float),axis=0)\n",
    "target.plot(kind='bar', stacked=True, title='Default rate by subgrade')\n",
    "plt.xlabel('Grade')\n",
    "plt.legend(loc='center left', bbox_to_anchor=(1, 0.5));\n",
    "save_fig('eda','default_rate_by_grade')"
   ]
  },
  {
   "cell_type": "code",
   "execution_count": 28,
   "metadata": {
    "ExecuteTime": {
     "end_time": "2020-03-25T19:53:27.367435Z",
     "start_time": "2020-03-25T19:53:26.655069Z"
    }
   },
   "outputs": [
    {
     "name": "stdout",
     "output_type": "stream",
     "text": [
      "Saving figure grade_count_by_target\n"
     ]
    },
    {
     "data": {
      "image/png": "[encoded data removed]",
      "text/plain": [
       "<Figure size 432x288 with 1 Axes>"
      ]
     },
     "metadata": {},
     "output_type": "display_data"
    }
   ],
   "source": [
    "sns.countplot(x='target',data=df_eda.sort_values('grade'), hue='grade')\n",
    "save_fig('eda','grade_count_by_target')"
   ]
  },
  {
   "cell_type": "markdown",
   "metadata": {},
   "source": [
    "### Grade vs. subgrade"
   ]
  },
  {
   "cell_type": "code",
   "execution_count": 30,
   "metadata": {
    "ExecuteTime": {
     "end_time": "2020-03-25T19:53:51.748531Z",
     "start_time": "2020-03-25T19:53:45.934447Z"
    }
   },
   "outputs": [
    {
     "name": "stdout",
     "output_type": "stream",
     "text": [
      "Saving figure int_rate_over_subgrade\n"
     ]
    },
    {
     "data": {
      "image/png": "[encoded data removed]",
      "text/plain": [
       "<Figure size 1080x900 with 2 Axes>"
      ]
     },
     "metadata": {},
     "output_type": "display_data"
    }
   ],
   "source": [
    "# predicting interest_rate \n",
    "f, (ax1, ax2) = plt.subplots(nrows=1, ncols=2, figsize=(12,10), dpi=90)\n",
    "g= sns.scatterplot(x='sub_grade',y='int_rate',data=df_eda.query('target==1').sort_values('sub_grade'),alpha=.5,ax=ax1)\n",
    "g= sns.scatterplot(x='sub_grade',y='int_rate',data=df_eda.query('target==0').sort_values('sub_grade'),alpha=.5,ax=ax2)\n",
    "plt.setp(ax1.get_xticklabels(), rotation=90)\n",
    "plt.setp(ax2.get_xticklabels(), rotation=90)\n",
    "save_fig('eda','int_rate_over_subgrade');"
   ]
  },
  {
   "cell_type": "markdown",
   "metadata": {},
   "source": [
    "We can see some outliers: Very low interest rates even if the grade is not that good"
   ]
  },
  {
   "cell_type": "markdown",
   "metadata": {},
   "source": [
    "### Reverse Engineering Grade System (Try)"
   ]
  },
  {
   "cell_type": "code",
   "execution_count": null,
   "metadata": {},
   "outputs": [],
   "source": []
  },
  {
   "cell_type": "code",
   "execution_count": null,
   "metadata": {
    "ExecuteTime": {
     "end_time": "2020-03-25T19:51:58.013358Z",
     "start_time": "2020-03-25T19:51:47.805Z"
    },
    "scrolled": true
   },
   "outputs": [],
   "source": [
    "# heatmap of subgrades to determine highly correlated features\n",
    "### DOES NOT WORK SO FAR: DUMMIES for Grade!\n",
    "k = 10 #number of variables for heatmap\n",
    "cols = df_eda.corr().nlargest(k, 'grade')['grade'].index\n",
    "cm = np.corrcoef(df_eda[cols].values.T)\n",
    "sns.set(font_scale=1.25)\n",
    "hm = sns.heatmap(cm, cbar=True, annot=True, square=True, fmt='.2f', annot_kws={'size': 10}, yticklabels=cols.values, xticklabels=cols.values)\n",
    "#plt.savefig('figures/price_correlation_matrix_grade')"
   ]
  },
  {
   "cell_type": "markdown",
   "metadata": {},
   "source": [
    "### do the gradesystem work"
   ]
  },
  {
   "cell_type": "code",
   "execution_count": 31,
   "metadata": {
    "ExecuteTime": {
     "end_time": "2020-03-25T19:54:17.183292Z",
     "start_time": "2020-03-25T19:54:17.149226Z"
    }
   },
   "outputs": [
    {
     "data": {
      "text/html": [
       "<div>\n",
       "<style scoped>\n",
       "    .dataframe tbody tr th:only-of-type {\n",
       "        vertical-align: middle;\n",
       "    }\n",
       "\n",
       "    .dataframe tbody tr th {\n",
       "        vertical-align: top;\n",
       "    }\n",
       "\n",
       "    .dataframe thead th {\n",
       "        text-align: right;\n",
       "    }\n",
       "</style>\n",
       "<table border=\"1\" class=\"dataframe\">\n",
       "  <thead>\n",
       "    <tr style=\"text-align: right;\">\n",
       "      <th>grade</th>\n",
       "      <th>A</th>\n",
       "      <th>B</th>\n",
       "      <th>C</th>\n",
       "      <th>D</th>\n",
       "      <th>E</th>\n",
       "      <th>F</th>\n",
       "      <th>G</th>\n",
       "    </tr>\n",
       "    <tr>\n",
       "      <th>target</th>\n",
       "      <th></th>\n",
       "      <th></th>\n",
       "      <th></th>\n",
       "      <th></th>\n",
       "      <th></th>\n",
       "      <th></th>\n",
       "      <th></th>\n",
       "    </tr>\n",
       "  </thead>\n",
       "  <tbody>\n",
       "    <tr>\n",
       "      <th>0.0</th>\n",
       "      <td>0.057024</td>\n",
       "      <td>0.121938</td>\n",
       "      <td>0.17012</td>\n",
       "      <td>0.222019</td>\n",
       "      <td>0.26756</td>\n",
       "      <td>0.32528</td>\n",
       "      <td>0.339827</td>\n",
       "    </tr>\n",
       "    <tr>\n",
       "      <th>1.0</th>\n",
       "      <td>0.942976</td>\n",
       "      <td>0.878062</td>\n",
       "      <td>0.82988</td>\n",
       "      <td>0.777981</td>\n",
       "      <td>0.73244</td>\n",
       "      <td>0.67472</td>\n",
       "      <td>0.660173</td>\n",
       "    </tr>\n",
       "  </tbody>\n",
       "</table>\n",
       "</div>"
      ],
      "text/plain": [
       "grade          A         B        C         D        E        F         G\n",
       "target                                                                   \n",
       "0.0     0.057024  0.121938  0.17012  0.222019  0.26756  0.32528  0.339827\n",
       "1.0     0.942976  0.878062  0.82988  0.777981  0.73244  0.67472  0.660173"
      ]
     },
     "execution_count": 31,
     "metadata": {},
     "output_type": "execute_result"
    }
   ],
   "source": [
    "# default rate by grade: should be higher by worse grades\n",
    "loan_grade = ['target', 'grade']\n",
    "pd.crosstab(df_eda[loan_grade[0]], df_eda[loan_grade[1]], normalize='columns')"
   ]
  },
  {
   "cell_type": "markdown",
   "metadata": {},
   "source": [
    "As we can see from the table above and the figure in 6.7 the grading system of Lending Club seems to work generally as the default rate is gettting higher if the grade is getting worse"
   ]
  },
  {
   "cell_type": "markdown",
   "metadata": {},
   "source": [
    "## Influence of location"
   ]
  },
  {
   "cell_type": "markdown",
   "metadata": {
    "ExecuteTime": {
     "end_time": "2020-03-25T15:51:56.558230Z",
     "start_time": "2020-03-25T15:51:56.552151Z"
    }
   },
   "source": [
    "In the dataset we see two features which are related to the location of the member:\n",
    "* first 3 digits of the zipcode\n",
    "* state, where the borrower is located\n",
    "\n",
    "At this state we will drop zip code as it has a lot of different features and keep the state\n"
   ]
  },
  {
   "cell_type": "code",
   "execution_count": 32,
   "metadata": {
    "ExecuteTime": {
     "end_time": "2020-03-25T19:54:21.701473Z",
     "start_time": "2020-03-25T19:54:21.691894Z"
    }
   },
   "outputs": [
    {
     "name": "stdout",
     "output_type": "stream",
     "text": [
      "Unique values in zipcode:  831\n",
      "Unique values in state:  50\n"
     ]
    }
   ],
   "source": [
    "print('Unique values in zipcode: ',df_eda.zip_code.nunique())\n",
    "print('Unique values in state: ', df_eda.addr_state.nunique())"
   ]
  },
  {
   "cell_type": "code",
   "execution_count": 33,
   "metadata": {
    "ExecuteTime": {
     "end_time": "2020-03-25T19:54:26.447814Z",
     "start_time": "2020-03-25T19:54:22.530450Z"
    }
   },
   "outputs": [
    {
     "name": "stdout",
     "output_type": "stream",
     "text": [
      "Saving figure default_rate_by_state\n"
     ]
    },
    {
     "data": {
      "image/png": "[encoded data removed]",
      "text/plain": [
       "<Figure size 1440x576 with 1 Axes>"
      ]
     },
     "metadata": {},
     "output_type": "display_data"
    }
   ],
   "source": [
    "state = pd.crosstab(df_eda.addr_state , df_eda.target)\n",
    "state = state.div(state.sum(1).astype(float), axis=0).sort_values(0)\n",
    "state.plot(kind='bar', stacked=True, title='Loan Status Based on State of Borrower', figsize=(20,8))\n",
    "plt.xlabel('State')\n",
    "plt.legend(loc='center left', bbox_to_anchor=(1, 0.5))\n",
    "save_fig('eda','default_rate_by_state');"
   ]
  },
  {
   "cell_type": "code",
   "execution_count": 34,
   "metadata": {
    "ExecuteTime": {
     "end_time": "2020-03-25T19:54:31.197437Z",
     "start_time": "2020-03-25T19:54:27.922326Z"
    }
   },
   "outputs": [
    {
     "name": "stdout",
     "output_type": "stream",
     "text": [
      "Saving figure number_of_defaulted_loans_by_state\n"
     ]
    },
    {
     "data": {
      "image/png": "[encoded data removed]",
      "text/plain": [
       "<Figure size 1296x720 with 1 Axes>"
      ]
     },
     "metadata": {},
     "output_type": "display_data"
    }
   ],
   "source": [
    "fig = plt.figure(figsize=(18,10))\n",
    "df_eda[df_eda['target']==0].groupby('addr_state')['target'].count().sort_values().plot(kind='barh')\n",
    "plt.xlabel('Number of loans',fontsize=15)\n",
    "plt.title('Number of defaulted loans per state',fontsize=20)\n",
    "save_fig('eda','number_of_defaulted_loans_by_state');"
   ]
  },
  {
   "cell_type": "markdown",
   "metadata": {},
   "source": [
    "It can be seen that there seems to be an impact of the state where a member comes from. But as the number of loans differ a lot by state this needs to be examined in more detail to to able to be more precise on this"
   ]
  },
  {
   "cell_type": "markdown",
   "metadata": {},
   "source": [
    "## verification_status vs. annual_inc"
   ]
  },
  {
   "cell_type": "markdown",
   "metadata": {},
   "source": [
    "Now let's have a short look on the verification status. It says if the income statet by the member is verified by Lending club or a third source"
   ]
  },
  {
   "cell_type": "code",
   "execution_count": 35,
   "metadata": {
    "ExecuteTime": {
     "end_time": "2020-03-25T19:54:33.390622Z",
     "start_time": "2020-03-25T19:54:33.355644Z"
    }
   },
   "outputs": [
    {
     "data": {
      "text/html": [
       "<div>\n",
       "<style scoped>\n",
       "    .dataframe tbody tr th:only-of-type {\n",
       "        vertical-align: middle;\n",
       "    }\n",
       "\n",
       "    .dataframe tbody tr th {\n",
       "        vertical-align: top;\n",
       "    }\n",
       "\n",
       "    .dataframe thead th {\n",
       "        text-align: right;\n",
       "    }\n",
       "</style>\n",
       "<table border=\"1\" class=\"dataframe\">\n",
       "  <thead>\n",
       "    <tr style=\"text-align: right;\">\n",
       "      <th></th>\n",
       "      <th>count</th>\n",
       "      <th>mean</th>\n",
       "      <th>std</th>\n",
       "      <th>min</th>\n",
       "      <th>25%</th>\n",
       "      <th>50%</th>\n",
       "      <th>75%</th>\n",
       "      <th>max</th>\n",
       "    </tr>\n",
       "    <tr>\n",
       "      <th>verification_status</th>\n",
       "      <th></th>\n",
       "      <th></th>\n",
       "      <th></th>\n",
       "      <th></th>\n",
       "      <th></th>\n",
       "      <th></th>\n",
       "      <th></th>\n",
       "      <th></th>\n",
       "    </tr>\n",
       "  </thead>\n",
       "  <tbody>\n",
       "    <tr>\n",
       "      <th>Not Verified</th>\n",
       "      <td>17177.0</td>\n",
       "      <td>61651.798286</td>\n",
       "      <td>58297.561901</td>\n",
       "      <td>1896.0</td>\n",
       "      <td>38400.0</td>\n",
       "      <td>52800.0</td>\n",
       "      <td>73909.00</td>\n",
       "      <td>3900000.0</td>\n",
       "    </tr>\n",
       "    <tr>\n",
       "      <th>Source Verified</th>\n",
       "      <td>9543.0</td>\n",
       "      <td>67942.557270</td>\n",
       "      <td>83673.775690</td>\n",
       "      <td>4800.0</td>\n",
       "      <td>39996.0</td>\n",
       "      <td>55000.0</td>\n",
       "      <td>79386.00</td>\n",
       "      <td>6000000.0</td>\n",
       "    </tr>\n",
       "    <tr>\n",
       "      <th>Verified</th>\n",
       "      <td>12098.0</td>\n",
       "      <td>80786.056437</td>\n",
       "      <td>52439.619698</td>\n",
       "      <td>6000.0</td>\n",
       "      <td>50000.0</td>\n",
       "      <td>70000.0</td>\n",
       "      <td>97691.25</td>\n",
       "      <td>1250000.0</td>\n",
       "    </tr>\n",
       "  </tbody>\n",
       "</table>\n",
       "</div>"
      ],
      "text/plain": [
       "                       count          mean           std     min      25%  \\\n",
       "verification_status                                                         \n",
       "Not Verified         17177.0  61651.798286  58297.561901  1896.0  38400.0   \n",
       "Source Verified       9543.0  67942.557270  83673.775690  4800.0  39996.0   \n",
       "Verified             12098.0  80786.056437  52439.619698  6000.0  50000.0   \n",
       "\n",
       "                         50%       75%        max  \n",
       "verification_status                                \n",
       "Not Verified         52800.0  73909.00  3900000.0  \n",
       "Source Verified      55000.0  79386.00  6000000.0  \n",
       "Verified             70000.0  97691.25  1250000.0  "
      ]
     },
     "execution_count": 35,
     "metadata": {},
     "output_type": "execute_result"
    }
   ],
   "source": [
    "df_eda.groupby('verification_status').annual_inc.describe()"
   ]
  },
  {
   "cell_type": "code",
   "execution_count": 36,
   "metadata": {
    "ExecuteTime": {
     "end_time": "2020-03-25T19:54:34.006393Z",
     "start_time": "2020-03-25T19:54:33.991923Z"
    }
   },
   "outputs": [
    {
     "data": {
      "text/plain": [
       "verification_status  target\n",
       "Not Verified         1.0       0.862083\n",
       "                     0.0       0.137917\n",
       "Source Verified      1.0       0.850257\n",
       "                     0.0       0.149743\n",
       "Verified             1.0       0.831046\n",
       "                     0.0       0.168954\n",
       "Name: target, dtype: float64"
      ]
     },
     "execution_count": 36,
     "metadata": {},
     "output_type": "execute_result"
    }
   ],
   "source": [
    "df_eda.groupby('verification_status').target.value_counts(normalize=True)"
   ]
  },
  {
   "cell_type": "code",
   "execution_count": 37,
   "metadata": {
    "ExecuteTime": {
     "end_time": "2020-03-25T19:54:34.627053Z",
     "start_time": "2020-03-25T19:54:34.590022Z"
    }
   },
   "outputs": [
    {
     "data": {
      "text/plain": [
       "Not Verified       0.442501\n",
       "Verified           0.311660\n",
       "Source Verified    0.245840\n",
       "Name: verification_status, dtype: float64"
      ]
     },
     "execution_count": 37,
     "metadata": {},
     "output_type": "execute_result"
    }
   ],
   "source": [
    "df_eda.verification_status.value_counts(normalize=True)"
   ]
  },
  {
   "cell_type": "code",
   "execution_count": 42,
   "metadata": {
    "ExecuteTime": {
     "end_time": "2020-03-25T19:56:28.471681Z",
     "start_time": "2020-03-25T19:56:26.823971Z"
    }
   },
   "outputs": [
    {
     "name": "stdout",
     "output_type": "stream",
     "text": [
      "Saving figure def_rate_by_verif\n"
     ]
    },
    {
     "data": {
      "image/png": "[encoded data removed]",
      "text/plain": [
       "<Figure size 864x504 with 1 Axes>"
      ]
     },
     "metadata": {},
     "output_type": "display_data"
    }
   ],
   "source": [
    "verif = pd.crosstab(df_eda.verification_status , df_eda.target)\n",
    "verif = verif.div(verif.sum(1).astype(float), axis=0).sort_values(0)\n",
    "verif.plot(kind='bar', stacked=True, title='Default Rate on Verification Status of Income', figsize=(12,7))\n",
    "plt.xlabel('Verification Status')\n",
    "plt.ylabel('Loan Status')\n",
    "plt.legend(loc='center left', bbox_to_anchor=(1, 0.5))\n",
    "save_fig('eda','def_rate_by_verif');"
   ]
  },
  {
   "cell_type": "markdown",
   "metadata": {},
   "source": [
    "## home ownership"
   ]
  },
  {
   "cell_type": "markdown",
   "metadata": {},
   "source": [
    "\"The home ownership status provided by the borrower during registration or obtained from the credit report. Our values are: RENT, OWN, MORTGAGE, OTHER.\""
   ]
  },
  {
   "cell_type": "code",
   "execution_count": 45,
   "metadata": {
    "ExecuteTime": {
     "end_time": "2020-03-25T19:57:11.496324Z",
     "start_time": "2020-03-25T19:57:11.485583Z"
    }
   },
   "outputs": [
    {
     "data": {
      "text/plain": [
       "RENT        0.481838\n",
       "MORTGAGE    0.443737\n",
       "OWN         0.071024\n",
       "OTHER       0.003400\n",
       "Name: home_ownership, dtype: float64"
      ]
     },
     "execution_count": 45,
     "metadata": {},
     "output_type": "execute_result"
    }
   ],
   "source": [
    "df_eda.home_ownership.value_counts(normalize=True)"
   ]
  },
  {
   "cell_type": "code",
   "execution_count": 46,
   "metadata": {
    "ExecuteTime": {
     "end_time": "2020-03-25T19:58:06.556134Z",
     "start_time": "2020-03-25T19:58:06.541296Z"
    }
   },
   "outputs": [
    {
     "data": {
      "text/plain": [
       "home_ownership  target\n",
       "MORTGAGE        1.0       0.858229\n",
       "                0.0       0.141771\n",
       "OTHER           1.0       0.772727\n",
       "                0.0       0.227273\n",
       "OWN             1.0       0.851650\n",
       "                0.0       0.148350\n",
       "RENT            1.0       0.841692\n",
       "                0.0       0.158308\n",
       "Name: target, dtype: float64"
      ]
     },
     "execution_count": 46,
     "metadata": {},
     "output_type": "execute_result"
    }
   ],
   "source": [
    "df_eda.groupby('home_ownership').target.value_counts(normalize=True)"
   ]
  },
  {
   "cell_type": "code",
   "execution_count": 51,
   "metadata": {
    "ExecuteTime": {
     "end_time": "2020-03-25T20:08:10.211471Z",
     "start_time": "2020-03-25T20:08:09.103913Z"
    }
   },
   "outputs": [
    {
     "name": "stdout",
     "output_type": "stream",
     "text": [
      "Saving figure impact_home_owner\n"
     ]
    },
    {
     "data": {
      "image/png": "[encoded data removed]",
      "text/plain": [
       "<Figure size 1080x216 with 2 Axes>"
      ]
     },
     "metadata": {},
     "output_type": "display_data"
    },
    {
     "data": {
      "image/png": "[encoded data removed]",
      "text/plain": [
       "<Figure size 864x216 with 1 Axes>"
      ]
     },
     "metadata": {},
     "output_type": "display_data"
    }
   ],
   "source": [
    "plot_var(df_eda, 'home_ownership', 'Home Ownership', continuous=False)\n",
    "save_fig('eda','impact_home_owner')"
   ]
  },
  {
   "cell_type": "code",
   "execution_count": null,
   "metadata": {},
   "outputs": [],
   "source": []
  },
  {
   "cell_type": "markdown",
   "metadata": {},
   "source": [
    "## financial impact of default"
   ]
  },
  {
   "cell_type": "code",
   "execution_count": null,
   "metadata": {
    "ExecuteTime": {
     "end_time": "2020-03-25T19:51:58.040491Z",
     "start_time": "2020-03-25T19:51:47.843Z"
    }
   },
   "outputs": [],
   "source": [
    "# loan_amnt vs. default rate\n",
    "# funded_amnt - total_rec_prncp\n",
    "# could be done"
   ]
  },
  {
   "cell_type": "markdown",
   "metadata": {},
   "source": [
    "# Data Cleaning 2"
   ]
  },
  {
   "cell_type": "markdown",
   "metadata": {},
   "source": [
    "Further Cleaning needed after the Exploratory Data Analysis"
   ]
  },
  {
   "cell_type": "code",
   "execution_count": 55,
   "metadata": {
    "ExecuteTime": {
     "end_time": "2020-03-25T20:27:44.205050Z",
     "start_time": "2020-03-25T20:27:44.161647Z"
    }
   },
   "outputs": [],
   "source": [
    "df_toclean2 = pd.read_pickle(DATA_FOLDER + 'clean_pass_01p1_PFemp_ident.pkl')"
   ]
  },
  {
   "cell_type": "markdown",
   "metadata": {},
   "source": [
    "## Outlier"
   ]
  },
  {
   "cell_type": "markdown",
   "metadata": {},
   "source": [
    "### Outlier Detection"
   ]
  },
  {
   "cell_type": "code",
   "execution_count": 58,
   "metadata": {
    "ExecuteTime": {
     "end_time": "2020-03-25T20:30:15.249289Z",
     "start_time": "2020-03-25T20:30:13.223874Z"
    }
   },
   "outputs": [
    {
     "data": {
      "image/png": "[encoded data removed]",
      "text/plain": [
       "<Figure size 432x288 with 1 Axes>"
      ]
     },
     "metadata": {},
     "output_type": "display_data"
    },
    {
     "data": {
      "image/png": "[encoded data removed]",
      "text/plain": [
       "<Figure size 432x288 with 1 Axes>"
      ]
     },
     "metadata": {},
     "output_type": "display_data"
    },
    {
     "data": {
      "image/png": "[encoded data removed]",
      "text/plain": [
       "<Figure size 432x288 with 1 Axes>"
      ]
     },
     "metadata": {},
     "output_type": "display_data"
    },
    {
     "data": {
      "image/png": "[encoded data removed]",
      "text/plain": [
       "<Figure size 432x288 with 1 Axes>"
      ]
     },
     "metadata": {},
     "output_type": "display_data"
    },
    {
     "data": {
      "image/png": "[encoded data removed]",
      "text/plain": [
       "<Figure size 432x288 with 1 Axes>"
      ]
     },
     "metadata": {},
     "output_type": "display_data"
    },
    {
     "data": {
      "image/png": "[encoded data removed]",
      "text/plain": [
       "<Figure size 432x288 with 1 Axes>"
      ]
     },
     "metadata": {},
     "output_type": "display_data"
    },
    {
     "data": {
      "image/png": "[encoded data removed]",
      "text/plain": [
       "<Figure size 432x288 with 1 Axes>"
      ]
     },
     "metadata": {},
     "output_type": "display_data"
    },
    {
     "data": {
      "image/png": "[encoded data removed]",
      "text/plain": [
       "<Figure size 432x288 with 1 Axes>"
      ]
     },
     "metadata": {},
     "output_type": "display_data"
    },
    {
     "data": {
      "image/png": "[encoded data removed]",
      "text/plain": [
       "<Figure size 432x288 with 1 Axes>"
      ]
     },
     "metadata": {},
     "output_type": "display_data"
    },
    {
     "data": {
      "image/png": "[encoded data removed]",
      "text/plain": [
       "<Figure size 432x288 with 1 Axes>"
      ]
     },
     "metadata": {},
     "output_type": "display_data"
    }
   ],
   "source": [
    "# for plotting purposes let's drop some columns\n",
    "df_outl = df_toclean2.drop(labels=['total_pymnt', 'total_pymnt_inv', 'total_rec_prncp','total_rec_int',\n",
    "                     'total_rec_late_fee', 'inq_last_6mths','revol_bal', 'revol_util',\n",
    "                     'total_acc', 'out_prncp','out_prncp_inv','collection_recovery_fee',\n",
    "                     'recoveries','last_pymnt_amnt','funded_amnt','funded_amnt_inv'],axis=1)\n",
    "\n",
    "for column in df_outl.select_dtypes(include='float'):\n",
    "    plt.figure()\n",
    "    plt.title(column)\n",
    "    sns.boxplot(x=[column],data=df_toclean2)"
   ]
  },
  {
   "cell_type": "markdown",
   "metadata": {},
   "source": [
    "### Outlier Handling"
   ]
  },
  {
   "cell_type": "markdown",
   "metadata": {},
   "source": [
    "#### annual_inc"
   ]
  },
  {
   "cell_type": "markdown",
   "metadata": {},
   "source": [
    "As Already seen in the EDA annual_inc has heavy outliers. So let's deal with them"
   ]
  },
  {
   "cell_type": "code",
   "execution_count": 59,
   "metadata": {
    "ExecuteTime": {
     "end_time": "2020-03-25T20:31:48.912769Z",
     "start_time": "2020-03-25T20:31:48.646274Z"
    }
   },
   "outputs": [
    {
     "data": {
      "text/plain": [
       "<matplotlib.axes._subplots.AxesSubplot at 0x1a1ee91518>"
      ]
     },
     "execution_count": 59,
     "metadata": {},
     "output_type": "execute_result"
    },
    {
     "data": {
      "image/png": "[encoded data removed]",
      "text/plain": [
       "<Figure size 432x288 with 1 Axes>"
      ]
     },
     "metadata": {},
     "output_type": "display_data"
    }
   ],
   "source": [
    "sns.boxplot(x='annual_inc', data=df_toclean2.query('annual_inc<200000'))"
   ]
  },
  {
   "cell_type": "code",
   "execution_count": 65,
   "metadata": {
    "ExecuteTime": {
     "end_time": "2020-03-25T20:34:47.166334Z",
     "start_time": "2020-03-25T20:34:46.321584Z"
    }
   },
   "outputs": [
    {
     "name": "stdout",
     "output_type": "stream",
     "text": [
      "Saving figure income_wo_outl\n"
     ]
    },
    {
     "data": {
      "image/png": "[encoded data removed]",
      "text/plain": [
       "<Figure size 432x288 with 1 Axes>"
      ]
     },
     "metadata": {},
     "output_type": "display_data"
    }
   ],
   "source": [
    "sns.distplot(df_toclean2.query('annual_inc<200000').annual_inc)\n",
    "save_fig('clean2','income_wo_outl');"
   ]
  },
  {
   "cell_type": "code",
   "execution_count": 61,
   "metadata": {
    "ExecuteTime": {
     "end_time": "2020-03-25T20:32:04.498153Z",
     "start_time": "2020-03-25T20:32:04.488376Z"
    }
   },
   "outputs": [
    {
     "data": {
      "text/plain": [
       "591"
      ]
     },
     "execution_count": 61,
     "metadata": {},
     "output_type": "execute_result"
    }
   ],
   "source": [
    "df_toclean2.query('annual_inc>200000').annual_inc.count()"
   ]
  },
  {
   "cell_type": "code",
   "execution_count": 63,
   "metadata": {
    "ExecuteTime": {
     "end_time": "2020-03-25T20:32:27.086088Z",
     "start_time": "2020-03-25T20:32:27.072473Z"
    }
   },
   "outputs": [
    {
     "name": "stdout",
     "output_type": "stream",
     "text": [
      "1.52 % of the data have an income > 200.000$\n",
      "Which means in total: 591\n"
     ]
    }
   ],
   "source": [
    "print((df_toclean2.query('annual_inc>200000').target.count()/df_toclean2.target.count()*100).round(2),'% of the data have an income > 200.000$')\n",
    "print('Which means in total:',df_toclean2.query('annual_inc>200000').target.count())"
   ]
  },
  {
   "cell_type": "markdown",
   "metadata": {},
   "source": [
    "Annual income over 200.000 USD will be dropped for further modelling. Loss of 1.52 % of the data"
   ]
  },
  {
   "cell_type": "code",
   "execution_count": 64,
   "metadata": {
    "ExecuteTime": {
     "end_time": "2020-03-25T20:32:35.783398Z",
     "start_time": "2020-03-25T20:32:35.769630Z"
    }
   },
   "outputs": [],
   "source": [
    "df_clean2 = df_toclean2.query('annual_inc<200000')"
   ]
  },
  {
   "cell_type": "markdown",
   "metadata": {},
   "source": [
    "## Other stuff"
   ]
  },
  {
   "cell_type": "markdown",
   "metadata": {},
   "source": [
    "### low int_rate despite that the grade is bad"
   ]
  },
  {
   "cell_type": "markdown",
   "metadata": {},
   "source": [
    "In the data we can see some low interest rates (below 7.5%) which does not belong to a member of Grade A.\n",
    "These Columns could lead to wrong assumptions of the model. In this case the int_rate does absolutely not fit to the grade. As there are only 18 values which all belomgs to member who have fully paid, these will be dropped."
   ]
  },
  {
   "cell_type": "code",
   "execution_count": 69,
   "metadata": {
    "ExecuteTime": {
     "end_time": "2020-03-25T20:40:03.111405Z",
     "start_time": "2020-03-25T20:40:03.098938Z"
    }
   },
   "outputs": [
    {
     "data": {
      "text/plain": [
       "1.0    18\n",
       "Name: target, dtype: int64"
      ]
     },
     "execution_count": 69,
     "metadata": {},
     "output_type": "execute_result"
    }
   ],
   "source": [
    "df_toclean2.query('grade!=\"A\" and int_rate < 0.075').target.value_counts()"
   ]
  },
  {
   "cell_type": "code",
   "execution_count": 72,
   "metadata": {
    "ExecuteTime": {
     "end_time": "2020-03-25T20:40:24.841216Z",
     "start_time": "2020-03-25T20:40:24.821422Z"
    }
   },
   "outputs": [],
   "source": [
    "df_clean2 = df_toclean2.drop(index=df_toclean2.query('grade!=\"A\" and int_rate < 0.075').index)"
   ]
  },
  {
   "cell_type": "markdown",
   "metadata": {},
   "source": [
    "### home_ownership"
   ]
  },
  {
   "cell_type": "markdown",
   "metadata": {},
   "source": [
    "Let's have a further look onto the home_ownership. The 'Other' Category seems to be really underrepresented"
   ]
  },
  {
   "cell_type": "code",
   "execution_count": 73,
   "metadata": {
    "ExecuteTime": {
     "end_time": "2020-03-25T20:43:10.402428Z",
     "start_time": "2020-03-25T20:43:10.175697Z"
    }
   },
   "outputs": [
    {
     "data": {
      "text/plain": [
       "<matplotlib.axes._subplots.AxesSubplot at 0x1a15fad780>"
      ]
     },
     "execution_count": 73,
     "metadata": {},
     "output_type": "execute_result"
    },
    {
     "data": {
      "image/png": "[encoded data removed]",
      "text/plain": [
       "<Figure size 432x288 with 1 Axes>"
      ]
     },
     "metadata": {},
     "output_type": "display_data"
    }
   ],
   "source": [
    "sns.countplot(x='home_ownership',data=df_toclean2,hue='target')"
   ]
  },
  {
   "cell_type": "code",
   "execution_count": 75,
   "metadata": {
    "ExecuteTime": {
     "end_time": "2020-03-25T20:43:27.586460Z",
     "start_time": "2020-03-25T20:43:27.572794Z"
    }
   },
   "outputs": [
    {
     "name": "stdout",
     "output_type": "stream",
     "text": [
      "home_ownership\n",
      "MORTGAGE    17225\n",
      "OTHER         132\n",
      "OWN          2757\n",
      "RENT        18704\n",
      "Name: target, dtype: int64\n"
     ]
    },
    {
     "data": {
      "text/plain": [
       "home_ownership\n",
       "MORTGAGE    0.858229\n",
       "OTHER       0.772727\n",
       "OWN         0.851650\n",
       "RENT        0.841692\n",
       "Name: target, dtype: float64"
      ]
     },
     "execution_count": 75,
     "metadata": {},
     "output_type": "execute_result"
    }
   ],
   "source": [
    "print(df_toclean2.groupby('home_ownership').target.count())\n",
    "df_toclean2.groupby('home_ownership').target.mean()"
   ]
  },
  {
   "cell_type": "code",
   "execution_count": 76,
   "metadata": {
    "ExecuteTime": {
     "end_time": "2020-03-25T20:43:43.935392Z",
     "start_time": "2020-03-25T20:43:43.927379Z"
    }
   },
   "outputs": [
    {
     "data": {
      "text/plain": [
       "0.3400484311401927"
      ]
     },
     "execution_count": 76,
     "metadata": {},
     "output_type": "execute_result"
    }
   ],
   "source": [
    "# data loss if these will be skipped\n",
    "132/df_toclean2.target.count()*100"
   ]
  },
  {
   "cell_type": "markdown",
   "metadata": {},
   "source": [
    "From 0.34 % it will be difficult to predict anything so the other class will be dropped as the credit default rate ich a lot worse than in the other groups"
   ]
  },
  {
   "cell_type": "code",
   "execution_count": 77,
   "metadata": {
    "ExecuteTime": {
     "end_time": "2020-03-25T20:44:18.692578Z",
     "start_time": "2020-03-25T20:44:18.672786Z"
    }
   },
   "outputs": [],
   "source": [
    "df_clean2 = df_toclean2.drop(index=df_toclean2.query('home_ownership==\"OTHER\"').index)"
   ]
  },
  {
   "cell_type": "code",
   "execution_count": 78,
   "metadata": {
    "ExecuteTime": {
     "end_time": "2020-03-25T20:44:20.009156Z",
     "start_time": "2020-03-25T20:44:19.993615Z"
    }
   },
   "outputs": [
    {
     "data": {
      "text/plain": [
       "home_ownership\n",
       "MORTGAGE    2442\n",
       "OWN          409\n",
       "RENT        2961\n",
       "Name: target, dtype: int64"
      ]
     },
     "execution_count": 78,
     "metadata": {},
     "output_type": "execute_result"
    }
   ],
   "source": [
    "df_clean2.query('target==0').groupby('home_ownership').target.count()"
   ]
  },
  {
   "cell_type": "code",
   "execution_count": null,
   "metadata": {},
   "outputs": [],
   "source": []
  },
  {
   "cell_type": "markdown",
   "metadata": {},
   "source": [
    "# Feature Engineering 2"
   ]
  },
  {
   "cell_type": "markdown",
   "metadata": {},
   "source": [
    "## Location feature"
   ]
  },
  {
   "cell_type": "code",
   "execution_count": null,
   "metadata": {
    "ExecuteTime": {
     "end_time": "2020-03-25T19:51:58.043948Z",
     "start_time": "2020-03-25T19:51:47.850Z"
    }
   },
   "outputs": [],
   "source": [
    "# state/credit ratio\n",
    "# --> how many credits and better bad-loan ratio\n",
    "### future work"
   ]
  },
  {
   "cell_type": "markdown",
   "metadata": {},
   "source": [
    "## final feature importance"
   ]
  },
  {
   "cell_type": "markdown",
   "metadata": {},
   "source": [
    "# Prediction Model"
   ]
  },
  {
   "cell_type": "markdown",
   "metadata": {},
   "source": [
    "## Metric / Score"
   ]
  },
  {
   "cell_type": "code",
   "execution_count": null,
   "metadata": {
    "ExecuteTime": {
     "end_time": "2020-03-25T19:51:58.045861Z",
     "start_time": "2020-03-25T19:51:47.853Z"
    }
   },
   "outputs": [],
   "source": [
    "# Precision\n",
    "\n",
    "# Specificity / Selectivity\n",
    "# try to avoid FP and be precise on TP\n",
    "# Play safe: \n",
    "# Under the assumption that you will always find members/borrowers to make the investors happy\n",
    "\n",
    "# Log loss: Default rate as probability --> could be a good way????\n",
    "# Log loss"
   ]
  },
  {
   "cell_type": "markdown",
   "metadata": {},
   "source": [
    "## Metric overview function\n",
    "Model_Vali()\n",
    "* one for core score\n",
    "* one verbose"
   ]
  },
  {
   "cell_type": "markdown",
   "metadata": {},
   "source": [
    "## Preprocessing"
   ]
  },
  {
   "cell_type": "markdown",
   "metadata": {},
   "source": [
    "### Scaling / Pipeline "
   ]
  },
  {
   "cell_type": "markdown",
   "metadata": {},
   "source": [
    "###  Train-Test-Split"
   ]
  },
  {
   "cell_type": "markdown",
   "metadata": {},
   "source": [
    "## Different Models"
   ]
  },
  {
   "cell_type": "markdown",
   "metadata": {},
   "source": [
    "### Baseline: Logistics Regression"
   ]
  },
  {
   "cell_type": "markdown",
   "metadata": {},
   "source": [
    "### Naive Bayes"
   ]
  },
  {
   "cell_type": "markdown",
   "metadata": {
    "ExecuteTime": {
     "end_time": "2020-03-25T13:19:58.711497Z",
     "start_time": "2020-03-25T13:19:58.706890Z"
    }
   },
   "source": [
    "### Random Forest"
   ]
  },
  {
   "cell_type": "markdown",
   "metadata": {},
   "source": [
    "### Gradient Boost"
   ]
  },
  {
   "cell_type": "markdown",
   "metadata": {},
   "source": [
    "### XGBoost"
   ]
  },
  {
   "cell_type": "markdown",
   "metadata": {},
   "source": [
    "### Summary: Model selection"
   ]
  },
  {
   "cell_type": "markdown",
   "metadata": {},
   "source": [
    "# Model application"
   ]
  },
  {
   "cell_type": "code",
   "execution_count": null,
   "metadata": {
    "ExecuteTime": {
     "end_time": "2020-03-25T19:51:58.047374Z",
     "start_time": "2020-03-25T19:51:47.861Z"
    }
   },
   "outputs": [],
   "source": [
    "# What to do with the prediction\n",
    "# Calculate int_rate..."
   ]
  },
  {
   "cell_type": "markdown",
   "metadata": {},
   "source": [
    "# Conclusion"
   ]
  },
  {
   "cell_type": "markdown",
   "metadata": {},
   "source": [
    "# Future Work"
   ]
  },
  {
   "cell_type": "markdown",
   "metadata": {},
   "source": [
    "A lot"
   ]
  },
  {
   "cell_type": "code",
   "execution_count": null,
   "metadata": {},
   "outputs": [],
   "source": []
  }
 ],
 "metadata": {
  "kernelspec": {
   "display_name": "Python [conda env:nf2] *",
   "language": "python",
   "name": "conda-env-nf2-py"
  },
  "language_info": {
   "codemirror_mode": {
    "name": "ipython",
    "version": 3
   },
   "file_extension": ".py",
   "mimetype": "text/x-python",
   "name": "python",
   "nbconvert_exporter": "python",
   "pygments_lexer": "ipython3",
   "version": "3.6.10"
  },
  "toc": {
   "base_numbering": 1,
   "nav_menu": {},
   "number_sections": true,
   "sideBar": true,
   "skip_h1_title": false,
   "title_cell": "Table of Contents",
   "title_sidebar": "Contents",
   "toc_cell": false,
   "toc_position": {
    "height": "calc(100% - 180px)",
    "left": "10px",
    "top": "150px",
    "width": "285.583px"
   },
   "toc_section_display": true,
   "toc_window_display": true
  }
 },
 "nbformat": 4,
 "nbformat_minor": 4
}
