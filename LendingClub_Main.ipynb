{
 "cells": [
  {
   "cell_type": "code",
   "execution_count": 1,
   "metadata": {
    "ExecuteTime": {
     "end_time": "2020-03-25T19:51:47.735700Z",
     "start_time": "2020-03-25T19:51:47.708635Z"
    }
   },
   "outputs": [],
   "source": [
    "reset -fs"
   ]
  },
  {
   "cell_type": "markdown",
   "metadata": {
    "ExecuteTime": {
     "end_time": "2020-03-25T14:10:43.049928Z",
     "start_time": "2020-03-25T14:10:43.041304Z"
    }
   },
   "source": [
    "<img src=\"./figures/neonbrand-AOJGuIJkoBc-unsplash.jpg\" width=\"800\" height=\"300\" />\n",
    "Photo by NeONBRAND on Unsplash"
   ]
  },
  {
   "cell_type": "markdown",
   "metadata": {},
   "source": [
    "# Background and feature understanding"
   ]
  },
  {
   "cell_type": "markdown",
   "metadata": {},
   "source": [
    "## About Peer-to-Peer-Lending"
   ]
  },
  {
   "cell_type": "markdown",
   "metadata": {},
   "source": []
  },
  {
   "cell_type": "markdown",
   "metadata": {},
   "source": [
    "## About Lending Club"
   ]
  },
  {
   "cell_type": "markdown",
   "metadata": {},
   "source": [
    "LendingClub is a US peer-to-peer lending company and the world's largest peer-to-peer lending platform.\n",
    "\n",
    "***Lending Club enables borrowers to create unsecured personal loans between 1,000 USD and 40,000 USD. The standard loan period is three years. Investors can search and browse the loan listings on Lending Club website and select loans that they want to invest in based on the information supplied about the borrower, amount of loan, loan grade, and loan purpose. Investors make money from interest. Lending Club makes money by charging borrowers an origination fee and investors a service fee.***\n",
    "[Wikipedia - Lending club](https://en.wikipedia.org/wiki/LendingClub)\n",
    "\n",
    "For this project we chose a dataset from Lending Club approved personal loans between 2007 and 2011. The data can be found on www.lendingclub.com. The purpose of the analysis is to reduce defaults, improve profitability and help the company and investors determine interest rates. We will use machine learning models to analyze credit risk as a binary classification problem."
   ]
  },
  {
   "cell_type": "markdown",
   "metadata": {},
   "source": [
    "## About the data"
   ]
  },
  {
   "cell_type": "markdown",
   "metadata": {},
   "source": [
    "### Description of the features in the data"
   ]
  },
  {
   "cell_type": "markdown",
   "metadata": {},
   "source": [
    "The Dataset of Lending Club, which is used for this projekt, contains data about loans from 2007 to 2011.\n",
    "There is a lot of information about the Members (=Borrowers). These informations could be divided in some Subcategories:\n",
    "\n",
    "* Personal Information: Income, Location, Obligations, etc. This category contains information statet by the member itself in the registration process or is publicly available\n",
    "\n",
    "* Payment Behavior: Insights on the payment behavior of the members regarding their Lending Club loans. This Category contains information which is **not** known for new members.\n",
    "\n",
    "For further details please see EDA-Chapter or the following spreadsheet with explanations:\n",
    "\n",
    "[Lending Club - Feature Explanation](./data/feature_info_as_table.ods)"
   ]
  },
  {
   "cell_type": "markdown",
   "metadata": {},
   "source": [
    "# Setting up the Notebook"
   ]
  },
  {
   "cell_type": "markdown",
   "metadata": {},
   "source": [
    "## import of relevant modules"
   ]
  },
  {
   "cell_type": "code",
   "execution_count": 1,
   "metadata": {
    "ExecuteTime": {
     "end_time": "2020-03-26T07:22:14.072888Z",
     "start_time": "2020-03-26T07:22:12.077442Z"
    }
   },
   "outputs": [],
   "source": [
    "import os\n",
    "\n",
    "import math\n",
    "import re\n",
    "import numpy as np\n",
    "import pandas as pd\n",
    "\n",
    "import matplotlib.pyplot as plt\n",
    "import seaborn as sns\n",
    "\n",
    "from sklearn.pipeline import make_pipeline, FeatureUnion\n",
    "from sklearn.preprocessing import StandardScaler, MinMaxScaler\n",
    "from sklearn.tree import DecisionTreeClassifier\n",
    "from sklearn.ensemble import RandomForestClassifier\n",
    "\n",
    "from sklearn.metrics import precision_score, accuracy_score\n",
    "\n",
    "sns.set()"
   ]
  },
  {
   "cell_type": "markdown",
   "metadata": {},
   "source": [
    "## Macros"
   ]
  },
  {
   "cell_type": "code",
   "execution_count": 2,
   "metadata": {
    "ExecuteTime": {
     "end_time": "2020-03-26T07:22:18.545788Z",
     "start_time": "2020-03-26T07:22:18.542255Z"
    }
   },
   "outputs": [],
   "source": [
    "DATA_FOLDER = './data/'\n",
    "FIG_FOLDER = './figures/'"
   ]
  },
  {
   "cell_type": "markdown",
   "metadata": {},
   "source": [
    "## Utile Functions"
   ]
  },
  {
   "cell_type": "markdown",
   "metadata": {},
   "source": [
    "### Plotting functions"
   ]
  },
  {
   "cell_type": "code",
   "execution_count": 3,
   "metadata": {
    "ExecuteTime": {
     "end_time": "2020-03-26T07:22:21.145552Z",
     "start_time": "2020-03-26T07:22:21.135580Z"
    }
   },
   "outputs": [],
   "source": [
    "# make general plots to examine each feature\n",
    "def plot_var(df,col_name, full_name, continuous):\n",
    "    \"\"\"\n",
    "    Visualize a variable with/without faceting on the loan status.\n",
    "    - col_name is the variable name in the dataframe\n",
    "    - full_name is the full variable name\n",
    "    - continuous is True for continuous variables\n",
    "    \"\"\"\n",
    "    fig, (ax1, ax2) = plt.subplots(1, 2, sharex=False, figsize=(15,3))\n",
    "    # plot1: counts distribution of the variable\n",
    "    \n",
    "    if continuous:  \n",
    "        sns.distplot(df.loc[df[col_name].notnull(), col_name], kde=False, ax=ax1)\n",
    "    else:\n",
    "        sns.countplot(df[col_name], order=sorted(df[col_name].unique()), color='#5975A4', saturation=1, ax=ax1)\n",
    "    ax1.set_xlabel(full_name)\n",
    "    ax1.set_ylabel('Count')\n",
    "    ax1.set_title(full_name)\n",
    "\n",
    "          \n",
    "    # plot2: bar plot of the variable grouped by loan_status\n",
    "    if continuous:\n",
    "        sns.boxplot(x=col_name, y='target', data=df, ax=ax2)\n",
    "        ax2.set_ylabel('')\n",
    "        ax2.set_title(full_name + ' by Loan Status')\n",
    "    else:\n",
    "        Charged_Off_rates = df.groupby(col_name)['target'].value_counts(normalize=True)[:,0]\n",
    "        sns.barplot(x=Charged_Off_rates.index, y=Charged_Off_rates.values, color='#5975A4', saturation=1, ax=ax2)\n",
    "        ax2.set_ylabel('Fraction of Loans Charged Off')\n",
    "        ax2.set_title('Charged Off Rate by ' + full_name)\n",
    "        ax2.set_xlabel(full_name)\n",
    "    \n",
    "    # plot3: kde plot of the variable gropued by loan_status\n",
    "    if continuous:  \n",
    "        facet = sns.FacetGrid(df, hue = 'target', size=3, aspect=4)\n",
    "        facet.map(sns.kdeplot, col_name, shade=True)\n",
    "        #facet.set(xlim=(df[col_name].min(), df[col_name].max()))\n",
    "        facet.add_legend()  \n",
    "    else:\n",
    "        fig = plt.figure(figsize=(12,3))\n",
    "        sns.countplot(x=col_name, hue='target', data=df, order=sorted(df[col_name].unique()) )\n",
    "     \n",
    "    plt.tight_layout()"
   ]
  },
  {
   "cell_type": "markdown",
   "metadata": {},
   "source": [
    "### Save figure"
   ]
  },
  {
   "cell_type": "code",
   "execution_count": 4,
   "metadata": {
    "ExecuteTime": {
     "end_time": "2020-03-26T07:22:24.395399Z",
     "start_time": "2020-03-26T07:22:24.390683Z"
    }
   },
   "outputs": [],
   "source": [
    "def save_fig(sec_name, fig_name, tight_layout=True):\n",
    "    path = os.path.join(FIG_FOLDER , sec_name + '_'  + fig_name + \".png\")\n",
    "    print(\"Saving figure\", fig_name)\n",
    "    if tight_layout:\n",
    "        plt.tight_layout()\n",
    "    plt.savefig(path, format='png', dpi=600)"
   ]
  },
  {
   "cell_type": "markdown",
   "metadata": {},
   "source": [
    "### Sklean Pipeline Pandas support"
   ]
  },
  {
   "cell_type": "code",
   "execution_count": 147,
   "metadata": {
    "ExecuteTime": {
     "end_time": "2020-03-25T23:10:15.083992Z",
     "start_time": "2020-03-25T23:10:15.075444Z"
    }
   },
   "outputs": [],
   "source": [
    "from sklearn.base import BaseEstimator, TransformerMixin\n",
    "\n",
    "class TypeSelector(BaseEstimator, TransformerMixin):\n",
    "    def __init__(self, dtype):\n",
    "        self.dtype = dtype\n",
    "\n",
    "    def fit(self, X, y=None):\n",
    "        return self\n",
    "\n",
    "    def transform(self, X):\n",
    "        assert isinstance(X, pd.DataFrame)\n",
    "        return X.select_dtypes(include=[self.dtype])\n",
    "    \n",
    "class ColumnSelector(BaseEstimator, TransformerMixin):\n",
    "    def __init__(self, columns):\n",
    "        self.columns = columns\n",
    "\n",
    "    def fit(self, X, y=None):\n",
    "        return self\n",
    "\n",
    "    def transform(self, X):\n",
    "        assert isinstance(X, pd.DataFrame)\n",
    "\n",
    "        try:\n",
    "            return X[self.columns]\n",
    "        except KeyError:\n",
    "            cols_error = list(set(self.columns) - set(X.columns))\n",
    "            raise KeyError(\"The DataFrame does not include the columns: %s\" % cols_error)"
   ]
  },
  {
   "cell_type": "code",
   "execution_count": null,
   "metadata": {},
   "outputs": [],
   "source": []
  },
  {
   "cell_type": "markdown",
   "metadata": {},
   "source": [
    "# Cleaning"
   ]
  },
  {
   "cell_type": "markdown",
   "metadata": {},
   "source": [
    "## Inital Data import"
   ]
  },
  {
   "cell_type": "code",
   "execution_count": 111,
   "metadata": {
    "ExecuteTime": {
     "end_time": "2020-03-25T22:50:04.573285Z",
     "start_time": "2020-03-25T22:50:04.108082Z"
    }
   },
   "outputs": [
    {
     "name": "stderr",
     "output_type": "stream",
     "text": [
      "/Users/torben/opt/anaconda3/envs/nf2/lib/python3.6/site-packages/IPython/core/interactiveshell.py:3063: DtypeWarning: Columns (0) have mixed types. Specify dtype option on import or set low_memory=False.\n",
      "  interactivity=interactivity, compiler=compiler, result=result)\n"
     ]
    }
   ],
   "source": [
    "df = pd.read_csv(DATA_FOLDER + 'loans_2007.csv')\n",
    "OrgRowCount = df.shape[0]\n",
    "OrgColCount = df.shape[1]"
   ]
  },
  {
   "cell_type": "markdown",
   "metadata": {},
   "source": [
    "## dealing with NAN and numbers in strings "
   ]
  },
  {
   "cell_type": "code",
   "execution_count": 112,
   "metadata": {
    "ExecuteTime": {
     "end_time": "2020-03-25T22:50:10.312282Z",
     "start_time": "2020-03-25T22:50:10.031514Z"
    }
   },
   "outputs": [],
   "source": [
    "# drop dublicated last rows seem to be sum of above and None lines\n",
    "df = df.drop_duplicates()\n",
    "## there seems to 3 with many empty cells so this is fine\n",
    "df = df.dropna(thresh=50,axis=0)\n",
    "df = df[~df.revol_util.isna()]\n",
    "df = df[~df.last_credit_pull_d.isna()]"
   ]
  },
  {
   "cell_type": "code",
   "execution_count": 113,
   "metadata": {
    "ExecuteTime": {
     "end_time": "2020-03-25T22:50:11.407575Z",
     "start_time": "2020-03-25T22:50:11.151997Z"
    }
   },
   "outputs": [],
   "source": [
    "# transfer string 'num%' to number 0-1\n",
    "df.revol_util = df.revol_util.apply(lambda x: str(x).replace('%','')).astype('float64')/100\n",
    "df.int_rate = df.int_rate.apply(lambda x: str(x).replace('%','')).astype('float64')/100"
   ]
  },
  {
   "cell_type": "code",
   "execution_count": 114,
   "metadata": {
    "ExecuteTime": {
     "end_time": "2020-03-25T22:50:12.346360Z",
     "start_time": "2020-03-25T22:50:12.245775Z"
    }
   },
   "outputs": [],
   "source": [
    "# emp_length transfrom form string to number (<1 years ,  years, 10+ years etc)\n",
    "def Trans_empValue(s):\n",
    "    if type(s) is float:\n",
    "        return 0.\n",
    "    if re.search('\\<',s):\n",
    "        return 0.5\n",
    "    else:\n",
    "        return float(re.search('\\d+',s).group())\n",
    "\n",
    "df.emp_length = df.emp_length.apply(lambda x: Trans_empValue(x))"
   ]
  },
  {
   "cell_type": "code",
   "execution_count": 115,
   "metadata": {
    "ExecuteTime": {
     "end_time": "2020-03-25T22:50:14.212447Z",
     "start_time": "2020-03-25T22:50:14.184619Z"
    }
   },
   "outputs": [
    {
     "data": {
      "text/plain": [
       "0    40476\n",
       "1     1853\n",
       "Name: pub_rec_bankruptcies, dtype: int64"
      ]
     },
     "execution_count": 115,
     "metadata": {},
     "output_type": "execute_result"
    }
   ],
   "source": [
    "# no info about bankruptcie will be interpreted as none\n",
    "df.pub_rec_bankruptcies = df.pub_rec_bankruptcies.fillna(0.0).astype('uint8')\n",
    "# cap the very view that have amount of 2 ( could be spouses etc...)\n",
    "df.pub_rec_bankruptcies = df.pub_rec_bankruptcies.apply(lambda x: 1 if x > 0 else 0)\n",
    "df.pub_rec_bankruptcies.value_counts()"
   ]
  },
  {
   "cell_type": "code",
   "execution_count": 116,
   "metadata": {
    "ExecuteTime": {
     "end_time": "2020-03-25T22:50:15.401790Z",
     "start_time": "2020-03-25T22:50:15.340138Z"
    }
   },
   "outputs": [
    {
     "data": {
      "text/plain": [
       "Charged Off                                            62\n",
       "Does not meet the credit policy. Status:Charged Off    12\n",
       "Name: loan_status, dtype: int64"
      ]
     },
     "metadata": {},
     "output_type": "display_data"
    }
   ],
   "source": [
    "# small feature engineering for EDA - actually misplaced in the chapter but was easy to do\n",
    "display(df[df.last_pymnt_d.isna()].loan_status.value_counts())\n",
    "df['has_made_pymnt'] = df.last_pymnt_d.apply(lambda x: 1 if x else 0)\n",
    "df = df.drop(['last_pymnt_d'],axis=1)"
   ]
  },
  {
   "cell_type": "markdown",
   "metadata": {},
   "source": [
    "## Droping columns with no information"
   ]
  },
  {
   "cell_type": "code",
   "execution_count": 117,
   "metadata": {
    "ExecuteTime": {
     "end_time": "2020-03-25T22:50:19.185784Z",
     "start_time": "2020-03-25T22:50:19.171966Z"
    }
   },
   "outputs": [],
   "source": [
    "# title could be filtered by keyword debt etc.. but categoriy of purpose does better job thereby drop it\n",
    "df = df.drop(['title'], axis=1)"
   ]
  },
  {
   "cell_type": "code",
   "execution_count": 118,
   "metadata": {
    "ExecuteTime": {
     "end_time": "2020-03-25T22:50:20.022531Z",
     "start_time": "2020-03-25T22:50:19.941885Z"
    }
   },
   "outputs": [],
   "source": [
    "# collections_12_mths_ex_med and chargeoff_within_12_mths drop the column all are the same = 0.0\n",
    "df = df.drop(['chargeoff_within_12_mths', 'collections_12_mths_ex_med'], axis=1)\n",
    "# application_type - only indvitual in the data can be droped\n",
    "df = df.drop(['application_type'],axis=1)\n",
    "# no info \n",
    "df = df.drop(['initial_list_status'],axis=1)\n",
    "# no info in the data \n",
    "df = df.drop(['acc_now_delinq'],axis=1)\n",
    "# not much info only 2 \n",
    "df = df.drop(['delinq_amnt'],axis=1)\n",
    "# only one value diffrent\n",
    "df = df.drop(['tax_liens'],axis=1)\n",
    "# all have no only one is yes\n",
    "df = df.drop(['pymnt_plan'],axis=1)\n",
    "# all are 1\n",
    "df = df.drop(['policy_code'],axis=1)"
   ]
  },
  {
   "cell_type": "markdown",
   "metadata": {},
   "source": [
    "## recheck on the NAN "
   ]
  },
  {
   "cell_type": "code",
   "execution_count": 119,
   "metadata": {
    "ExecuteTime": {
     "end_time": "2020-03-25T22:50:21.674151Z",
     "start_time": "2020-03-25T22:50:21.622172Z"
    },
    "scrolled": true
   },
   "outputs": [
    {
     "data": {
      "text/plain": [
       "id                            0\n",
       "member_id                     0\n",
       "loan_amnt                     0\n",
       "funded_amnt                   0\n",
       "funded_amnt_inv               0\n",
       "term                          0\n",
       "int_rate                      0\n",
       "installment                   0\n",
       "grade                         0\n",
       "sub_grade                     0\n",
       "emp_title                  2590\n",
       "emp_length                    0\n",
       "home_ownership                0\n",
       "annual_inc                    0\n",
       "verification_status           0\n",
       "issue_d                       0\n",
       "loan_status                   0\n",
       "purpose                       0\n",
       "zip_code                      0\n",
       "addr_state                    0\n",
       "dti                           0\n",
       "delinq_2yrs                   0\n",
       "earliest_cr_line              0\n",
       "inq_last_6mths                0\n",
       "open_acc                      0\n",
       "pub_rec                       0\n",
       "revol_bal                     0\n",
       "revol_util                    0\n",
       "total_acc                     0\n",
       "out_prncp                     0\n",
       "out_prncp_inv                 0\n",
       "total_pymnt                   0\n",
       "total_pymnt_inv               0\n",
       "total_rec_prncp               0\n",
       "total_rec_int                 0\n",
       "total_rec_late_fee            0\n",
       "recoveries                    0\n",
       "collection_recovery_fee       0\n",
       "last_pymnt_amnt               0\n",
       "last_credit_pull_d            0\n",
       "pub_rec_bankruptcies          0\n",
       "has_made_pymnt                0\n",
       "dtype: int64"
      ]
     },
     "execution_count": 119,
     "metadata": {},
     "output_type": "execute_result"
    }
   ],
   "source": [
    "df.isnull().sum()"
   ]
  },
  {
   "cell_type": "markdown",
   "metadata": {},
   "source": [
    "--- > leavs only the emp_title -> push to feature engineering"
   ]
  },
  {
   "cell_type": "markdown",
   "metadata": {},
   "source": [
    "## Dublication check on ids"
   ]
  },
  {
   "cell_type": "code",
   "execution_count": 120,
   "metadata": {
    "ExecuteTime": {
     "end_time": "2020-03-25T22:50:24.592368Z",
     "start_time": "2020-03-25T22:50:24.579956Z"
    }
   },
   "outputs": [
    {
     "name": "stdout",
     "output_type": "stream",
     "text": [
      "False    42329\n",
      "Name: id, dtype: int64\n",
      "False    42329\n",
      "Name: member_id, dtype: int64\n"
     ]
    }
   ],
   "source": [
    "print(df.id.duplicated().value_counts())\n",
    "print(df.member_id.duplicated().value_counts())"
   ]
  },
  {
   "cell_type": "markdown",
   "metadata": {},
   "source": [
    "--- > no doubles therfor the id has no value for prediction and nothing needs to be cleaned"
   ]
  },
  {
   "cell_type": "code",
   "execution_count": 121,
   "metadata": {
    "ExecuteTime": {
     "end_time": "2020-03-25T22:50:26.931280Z",
     "start_time": "2020-03-25T22:50:26.920349Z"
    }
   },
   "outputs": [],
   "source": [
    "df = df.drop(['id','member_id'],axis=1)"
   ]
  },
  {
   "cell_type": "markdown",
   "metadata": {},
   "source": [
    "## Objects in the data check shellow if categorys"
   ]
  },
  {
   "cell_type": "code",
   "execution_count": 122,
   "metadata": {
    "ExecuteTime": {
     "end_time": "2020-03-25T22:50:32.251842Z",
     "start_time": "2020-03-25T22:50:32.162927Z"
    },
    "collapsed": true
   },
   "outputs": [
    {
     "name": "stdout",
     "output_type": "stream",
     "text": [
      "<class 'pandas.core.frame.DataFrame'>\n",
      "Int64Index: 42329 entries, 0 to 42474\n",
      "Data columns (total 13 columns):\n",
      "term                   42329 non-null object\n",
      "grade                  42329 non-null object\n",
      "sub_grade              42329 non-null object\n",
      "emp_title              39739 non-null object\n",
      "home_ownership         42329 non-null object\n",
      "verification_status    42329 non-null object\n",
      "issue_d                42329 non-null object\n",
      "loan_status            42329 non-null object\n",
      "purpose                42329 non-null object\n",
      "zip_code               42329 non-null object\n",
      "addr_state             42329 non-null object\n",
      "earliest_cr_line       42329 non-null object\n",
      "last_credit_pull_d     42329 non-null object\n",
      "dtypes: object(13)\n",
      "memory usage: 4.5+ MB\n"
     ]
    }
   ],
   "source": [
    "df.select_dtypes('object').info()"
   ]
  },
  {
   "cell_type": "code",
   "execution_count": 123,
   "metadata": {
    "ExecuteTime": {
     "end_time": "2020-03-25T22:50:41.079015Z",
     "start_time": "2020-03-25T22:50:41.044498Z"
    }
   },
   "outputs": [],
   "source": [
    "## Term seems to be 36 month or 60 month ... keep category but make shorter and kill spaces\n",
    "df.term = df.term.apply(lambda x: str(x).replace(' ', '').replace('months','m'))"
   ]
  },
  {
   "cell_type": "code",
   "execution_count": 124,
   "metadata": {
    "ExecuteTime": {
     "end_time": "2020-03-25T22:50:42.187104Z",
     "start_time": "2020-03-25T22:50:42.175597Z"
    }
   },
   "outputs": [],
   "source": [
    "#combine NONE and OTHER since there are only 2\n",
    "# print(df.home_ownership.value_counts())\n",
    "df.home_ownership = df.home_ownership.apply(lambda x: 'OTHER' if x=='NONE' else x)\n"
   ]
  },
  {
   "cell_type": "markdown",
   "metadata": {},
   "source": [
    "_d columns have date info - > push to feature engineering dealing with datetime "
   ]
  },
  {
   "cell_type": "markdown",
   "metadata": {},
   "source": [
    "## cleaning date type"
   ]
  },
  {
   "cell_type": "code",
   "execution_count": 54,
   "metadata": {
    "ExecuteTime": {
     "end_time": "2020-03-25T20:23:17.599298Z",
     "start_time": "2020-03-25T20:23:17.594287Z"
    }
   },
   "outputs": [],
   "source": [
    "def time_converter(elem):\n",
    "    month_to_num = {'Jan':'01', 'Feb':'02', 'Mar':'03', 'Apr':'04', 'May':'05', 'Jun':'06',\n",
    "                    'Jul':'07', 'Aug':'08', 'Sep':'09', 'Oct':'10', 'Nov':'11', 'Dec':'12'}\n",
    "    temp_elem = elem.split('-')\n",
    "    val = '-'.join([month_to_num[temp_elem[0]],temp_elem[1]])\n",
    "    date = pd.to_datetime(val)\n",
    "    return date"
   ]
  },
  {
   "cell_type": "code",
   "execution_count": 128,
   "metadata": {
    "ExecuteTime": {
     "end_time": "2020-03-25T22:57:20.707774Z",
     "start_time": "2020-03-25T22:57:02.262128Z"
    },
    "collapsed": true
   },
   "outputs": [
    {
     "name": "stdout",
     "output_type": "stream",
     "text": [
      "<class 'pandas.core.frame.DataFrame'>\n",
      "Int64Index: 42329 entries, 0 to 42474\n",
      "Data columns (total 40 columns):\n",
      "loan_amnt                  42329 non-null float64\n",
      "funded_amnt                42329 non-null float64\n",
      "funded_amnt_inv            42329 non-null float64\n",
      "term                       42329 non-null object\n",
      "int_rate                   42329 non-null float64\n",
      "installment                42329 non-null float64\n",
      "grade                      42329 non-null object\n",
      "sub_grade                  42329 non-null object\n",
      "emp_title                  39739 non-null object\n",
      "emp_length                 42329 non-null float64\n",
      "home_ownership             42329 non-null object\n",
      "annual_inc                 42329 non-null float64\n",
      "verification_status        42329 non-null object\n",
      "issue_d                    42329 non-null datetime64[ns]\n",
      "loan_status                42329 non-null object\n",
      "purpose                    42329 non-null object\n",
      "zip_code                   42329 non-null object\n",
      "addr_state                 42329 non-null object\n",
      "dti                        42329 non-null float64\n",
      "delinq_2yrs                42329 non-null float64\n",
      "earliest_cr_line           42329 non-null datetime64[ns]\n",
      "inq_last_6mths             42329 non-null float64\n",
      "open_acc                   42329 non-null float64\n",
      "pub_rec                    42329 non-null float64\n",
      "revol_bal                  42329 non-null float64\n",
      "revol_util                 42329 non-null float64\n",
      "total_acc                  42329 non-null float64\n",
      "out_prncp                  42329 non-null float64\n",
      "out_prncp_inv              42329 non-null float64\n",
      "total_pymnt                42329 non-null float64\n",
      "total_pymnt_inv            42329 non-null float64\n",
      "total_rec_prncp            42329 non-null float64\n",
      "total_rec_int              42329 non-null float64\n",
      "total_rec_late_fee         42329 non-null float64\n",
      "recoveries                 42329 non-null float64\n",
      "collection_recovery_fee    42329 non-null float64\n",
      "last_pymnt_amnt            42329 non-null float64\n",
      "last_credit_pull_d         42329 non-null datetime64[ns]\n",
      "pub_rec_bankruptcies       42329 non-null int64\n",
      "has_made_pymnt             42329 non-null int64\n",
      "dtypes: datetime64[ns](3), float64(25), int64(2), object(10)\n",
      "memory usage: 13.2+ MB\n"
     ]
    }
   ],
   "source": [
    "# defining the columns which needs to be confirmed\n",
    "date_column = ['last_credit_pull_d','earliest_cr_line','issue_d']\n",
    "for i in date_column:\n",
    "    df[i] = df[i].apply(lambda x: time_converter(x))"
   ]
  },
  {
   "cell_type": "markdown",
   "metadata": {},
   "source": [
    "## Export Cleaned Data "
   ]
  },
  {
   "cell_type": "code",
   "execution_count": 129,
   "metadata": {
    "ExecuteTime": {
     "end_time": "2020-03-25T22:57:41.489567Z",
     "start_time": "2020-03-25T22:57:41.440775Z"
    }
   },
   "outputs": [
    {
     "name": "stdout",
     "output_type": "stream",
     "text": [
      "0.4913254031689296% data loss of cleaning\n"
     ]
    }
   ],
   "source": [
    "df.to_pickle(DATA_FOLDER + 'clean_pass_01p2.pkl')\n",
    "print(f'{(1-df.shape[0]/OrgRowCount)*100}% data loss of cleaning')"
   ]
  },
  {
   "cell_type": "markdown",
   "metadata": {},
   "source": [
    "# Target design / engineering\n",
    "\n",
    "From Task description:\n",
    "\n",
    "The purpose of the analysis is to reduce defaults, improve profitability and help the company and investors determine interest rates. \n",
    "\n",
    "This means we have to find something like default or Charge-Off for negativ and Fully Paid as positive\n",
    "\n",
    "the column loan_status hosts such information\n"
   ]
  },
  {
   "cell_type": "markdown",
   "metadata": {},
   "source": [
    "## Section Data import"
   ]
  },
  {
   "cell_type": "code",
   "execution_count": 130,
   "metadata": {
    "ExecuteTime": {
     "end_time": "2020-03-25T23:00:48.649090Z",
     "start_time": "2020-03-25T23:00:48.617611Z"
    }
   },
   "outputs": [],
   "source": [
    "df = pd.read_pickle(DATA_FOLDER + 'clean_pass_01p2.pkl')\n",
    "OrgRowCount = df.shape[0]\n",
    "OrgColCount = df.shape[1]"
   ]
  },
  {
   "cell_type": "markdown",
   "metadata": {},
   "source": [
    "## Encode the Loan Status to binary"
   ]
  },
  {
   "cell_type": "code",
   "execution_count": 131,
   "metadata": {
    "ExecuteTime": {
     "end_time": "2020-03-25T23:00:51.889527Z",
     "start_time": "2020-03-25T23:00:51.878795Z"
    }
   },
   "outputs": [
    {
     "data": {
      "text/plain": [
       "Fully Paid                                             33052\n",
       "Charged Off                                             5606\n",
       "Does not meet the credit policy. Status:Fully Paid      1917\n",
       "Current                                                  961\n",
       "Does not meet the credit policy. Status:Charged Off      738\n",
       "Late (31-120 days)                                        24\n",
       "In Grace Period                                           20\n",
       "Late (16-30 days)                                          8\n",
       "Default                                                    3\n",
       "Name: loan_status, dtype: int64"
      ]
     },
     "execution_count": 131,
     "metadata": {},
     "output_type": "execute_result"
    }
   ],
   "source": [
    "df.loan_status.value_counts()"
   ]
  },
  {
   "cell_type": "markdown",
   "metadata": {},
   "source": [
    "Encode mapping:\n",
    "* Fully Paid - positive\n",
    "* Does not meet the credit policy. Status:Fully Paid - postive based on comparison on annual income\n",
    "\n",
    "* Current - (half positive not evaluated therefore drop)\n",
    "\n",
    "* Charged off - negative\n",
    "* Does not meet the credit policy. Status:Charged Off - negative\n",
    "\n",
    "* Late (31-120 days) - negative \n",
    "\n",
    "* Late (16-30 days) - (half positive not evaluated therefore drop)\n",
    "* In Grace Period - (half positive not evaluated therefore drop)\n",
    "\n",
    "* Default - negative"
   ]
  },
  {
   "cell_type": "code",
   "execution_count": 132,
   "metadata": {
    "ExecuteTime": {
     "end_time": "2020-03-25T23:02:39.453469Z",
     "start_time": "2020-03-25T23:02:39.299304Z"
    }
   },
   "outputs": [],
   "source": [
    "def DefTargetFrom_loan_Status(s):\n",
    "    if s=='Fully Paid':\n",
    "        return 1\n",
    "    elif s=='Does not meet the credit policy. Status:Fully Paid':\n",
    "        return 1\n",
    "    elif s=='Charged Off':\n",
    "        return 0\n",
    "    elif s=='Does not meet the credit policy. Status:Charged Off':\n",
    "        return 0\n",
    "    elif s=='Late (31-120 days)':\n",
    "        return 0\n",
    "    elif s=='Default':\n",
    "        return 0\n",
    "    else:\n",
    "        return None # all others define as None to drop them from data \n",
    "\n",
    "# read status to new column - target    \n",
    "df['target'] = df.loan_status.apply(lambda x: DefTargetFrom_loan_Status(x))\n",
    "\n",
    "# kill the view not \n",
    "df.isna().sum()\n",
    "df = df.dropna()\n",
    "#df.shape"
   ]
  },
  {
   "cell_type": "markdown",
   "metadata": {},
   "source": [
    "## Export Cleaned Data "
   ]
  },
  {
   "cell_type": "code",
   "execution_count": 133,
   "metadata": {
    "ExecuteTime": {
     "end_time": "2020-03-25T23:02:58.003682Z",
     "start_time": "2020-03-25T23:02:57.957877Z"
    }
   },
   "outputs": [
    {
     "name": "stdout",
     "output_type": "stream",
     "text": [
      "8.294549835809962% data loss of cleaning\n"
     ]
    }
   ],
   "source": [
    "df.to_pickle(DATA_FOLDER + 'clean_pass_01p2_Ptarget.pkl')\n",
    "print(f'{(1-df.shape[0]/OrgRowCount)*100}% data loss of cleaning')"
   ]
  },
  {
   "cell_type": "markdown",
   "metadata": {},
   "source": [
    "# Feature Engineering"
   ]
  },
  {
   "cell_type": "markdown",
   "metadata": {},
   "source": [
    "## Employment_title_ident"
   ]
  },
  {
   "cell_type": "markdown",
   "metadata": {},
   "source": [
    "### Section Data Import"
   ]
  },
  {
   "cell_type": "code",
   "execution_count": 134,
   "metadata": {
    "ExecuteTime": {
     "end_time": "2020-03-25T23:07:29.823711Z",
     "start_time": "2020-03-25T23:07:29.783891Z"
    }
   },
   "outputs": [],
   "source": [
    "df = pd.read_pickle(DATA_FOLDER + 'clean_pass_01p2_Ptarget.pkl')\n",
    "\n",
    "# https://www.kaggle.com/ash316/forbes-top-2000-companies\n",
    "df_company = pd.read_csv(DATA_FOLDER + 'forbes2013.csv') # company names to get label for known companys"
   ]
  },
  {
   "cell_type": "markdown",
   "metadata": {},
   "source": [
    "### match known companys"
   ]
  },
  {
   "cell_type": "code",
   "execution_count": 135,
   "metadata": {
    "ExecuteTime": {
     "end_time": "2020-03-25T23:07:31.351951Z",
     "start_time": "2020-03-25T23:07:31.346696Z"
    }
   },
   "outputs": [],
   "source": [
    "df['emp_ident'] = df['emp_title']"
   ]
  },
  {
   "cell_type": "code",
   "execution_count": 136,
   "metadata": {
    "ExecuteTime": {
     "end_time": "2020-03-25T23:07:33.065545Z",
     "start_time": "2020-03-25T23:07:33.059231Z"
    }
   },
   "outputs": [],
   "source": [
    "KNOWN_COMPANY_MARKER = 'known_company'\n",
    "\n",
    "def title_id_known_company(emp_title_entry):\n",
    "    try:\n",
    "        founds = df_company.Company.str.contains(emp_title_entry).value_counts()\n",
    "    except:\n",
    "        return emp_title_entry\n",
    "    \n",
    "    if len(founds)>1:\n",
    "         return KNOWN_COMPANY_MARKER\n",
    "    else:\n",
    "        return emp_title_entry"
   ]
  },
  {
   "cell_type": "code",
   "execution_count": 137,
   "metadata": {
    "ExecuteTime": {
     "end_time": "2020-03-25T23:08:42.055376Z",
     "start_time": "2020-03-25T23:07:34.787372Z"
    }
   },
   "outputs": [
    {
     "name": "stderr",
     "output_type": "stream",
     "text": [
      "/Users/torben/opt/anaconda3/envs/nf2/lib/python3.6/site-packages/ipykernel_launcher.py:5: UserWarning: This pattern has match groups. To actually get the groups, use str.extract.\n",
      "  \"\"\"\n"
     ]
    }
   ],
   "source": [
    "df['emp_ident'] = df['emp_ident'].apply(lambda emp_title: title_id_known_company(emp_title))\n",
    "#df['emp_ident'].value_counts()"
   ]
  },
  {
   "cell_type": "markdown",
   "metadata": {},
   "source": [
    "### match groups like army, public, self employment ..."
   ]
  },
  {
   "cell_type": "code",
   "execution_count": 138,
   "metadata": {
    "ExecuteTime": {
     "end_time": "2020-03-25T23:08:42.070524Z",
     "start_time": "2020-03-25T23:08:42.058576Z"
    }
   },
   "outputs": [],
   "source": [
    "def title_to_ident(emp_title_entry):\n",
    "    if emp_title_entry == KNOWN_COMPANY_MARKER:\n",
    "        return emp_title_entry\n",
    "    elif (re.search('Army|Military',emp_title_entry ,re.I) is None) == False :\n",
    "        return 'army'\n",
    "    elif (re.search('self',emp_title_entry ,re.I) is None) == False :\n",
    "        return 'self_emp'\n",
    "    elif (re.search('city|state|public|district|school|schools|Government|Sheriff|county|civil|police|National Guard',emp_title_entry ,re.I) is None) == False :\n",
    "        return 'puplic'\n",
    "    elif (re.search('bank',emp_title_entry ,re.I) is None) == False :\n",
    "        return 'bank'\n",
    "    else:\n",
    "        return 'unknown' "
   ]
  },
  {
   "cell_type": "code",
   "execution_count": 139,
   "metadata": {
    "ExecuteTime": {
     "end_time": "2020-03-25T23:08:42.447062Z",
     "start_time": "2020-03-25T23:08:42.073203Z"
    }
   },
   "outputs": [
    {
     "data": {
      "text/plain": [
       "unknown          31255\n",
       "puplic            3696\n",
       "known_company     2464\n",
       "bank               696\n",
       "army               476\n",
       "self_emp           231\n",
       "Name: emp_ident, dtype: int64"
      ]
     },
     "execution_count": 139,
     "metadata": {},
     "output_type": "execute_result"
    }
   ],
   "source": [
    "df['emp_ident'] = df['emp_ident'].apply(lambda emp_title: title_to_ident(emp_title))\n",
    "df['emp_ident'].value_counts()"
   ]
  },
  {
   "cell_type": "markdown",
   "metadata": {},
   "source": [
    "### Export data with feature added"
   ]
  },
  {
   "cell_type": "code",
   "execution_count": 140,
   "metadata": {
    "ExecuteTime": {
     "end_time": "2020-03-25T23:08:48.951871Z",
     "start_time": "2020-03-25T23:08:48.903048Z"
    }
   },
   "outputs": [],
   "source": [
    "df.to_pickle(DATA_FOLDER + 'clean_pass_01p2_Ptarget_FPemp_ident.pkl')"
   ]
  },
  {
   "cell_type": "markdown",
   "metadata": {},
   "source": [
    "## feature importance test"
   ]
  },
  {
   "cell_type": "markdown",
   "metadata": {},
   "source": [
    "### Section data import"
   ]
  },
  {
   "cell_type": "code",
   "execution_count": 141,
   "metadata": {
    "ExecuteTime": {
     "end_time": "2020-03-25T23:08:52.905857Z",
     "start_time": "2020-03-25T23:08:52.871409Z"
    }
   },
   "outputs": [],
   "source": [
    "df = pd.read_pickle(DATA_FOLDER + 'clean_pass_01p2_Ptarget_FPemp_ident.pkl')"
   ]
  },
  {
   "cell_type": "markdown",
   "metadata": {},
   "source": [
    "### pick the possible features "
   ]
  },
  {
   "cell_type": "code",
   "execution_count": 142,
   "metadata": {
    "ExecuteTime": {
     "end_time": "2020-03-25T23:09:09.423403Z",
     "start_time": "2020-03-25T23:09:09.387191Z"
    }
   },
   "outputs": [],
   "source": [
    "x_col = ['addr_state',\n",
    "'annual_inc',\n",
    "'dti',\n",
    "'emp_length',\n",
    "'home_ownership',\n",
    "'loan_amnt',\n",
    "'open_acc',\n",
    "'pub_rec',\n",
    "'pub_rec_bankruptcies',\n",
    "'purpose',\n",
    "'term',\n",
    "'verification_status',\n",
    " 'emp_ident']\n",
    "\n",
    "y_col = ['target']\n",
    "\n",
    "df_x = df[x_col]\n",
    "df_y = df[y_col]"
   ]
  },
  {
   "cell_type": "markdown",
   "metadata": {},
   "source": [
    "### Encoding the dummys with pandas"
   ]
  },
  {
   "cell_type": "code",
   "execution_count": 143,
   "metadata": {
    "ExecuteTime": {
     "end_time": "2020-03-25T23:09:14.191420Z",
     "start_time": "2020-03-25T23:09:14.072276Z"
    },
    "collapsed": true
   },
   "outputs": [
    {
     "name": "stdout",
     "output_type": "stream",
     "text": [
      "<class 'pandas.core.frame.DataFrame'>\n",
      "Int64Index: 38818 entries, 1 to 42474\n",
      "Data columns (total 80 columns):\n",
      "annual_inc                             38818 non-null float64\n",
      "dti                                    38818 non-null float64\n",
      "emp_length                             38818 non-null float64\n",
      "loan_amnt                              38818 non-null float64\n",
      "open_acc                               38818 non-null float64\n",
      "pub_rec                                38818 non-null float64\n",
      "pub_rec_bankruptcies                   38818 non-null int64\n",
      "addr_state_AL                          38818 non-null uint8\n",
      "addr_state_AR                          38818 non-null uint8\n",
      "addr_state_AZ                          38818 non-null uint8\n",
      "addr_state_CA                          38818 non-null uint8\n",
      "addr_state_CO                          38818 non-null uint8\n",
      "addr_state_CT                          38818 non-null uint8\n",
      "addr_state_DC                          38818 non-null uint8\n",
      "addr_state_DE                          38818 non-null uint8\n",
      "addr_state_FL                          38818 non-null uint8\n",
      "addr_state_GA                          38818 non-null uint8\n",
      "addr_state_HI                          38818 non-null uint8\n",
      "addr_state_IA                          38818 non-null uint8\n",
      "addr_state_ID                          38818 non-null uint8\n",
      "addr_state_IL                          38818 non-null uint8\n",
      "addr_state_IN                          38818 non-null uint8\n",
      "addr_state_KS                          38818 non-null uint8\n",
      "addr_state_KY                          38818 non-null uint8\n",
      "addr_state_LA                          38818 non-null uint8\n",
      "addr_state_MA                          38818 non-null uint8\n",
      "addr_state_MD                          38818 non-null uint8\n",
      "addr_state_ME                          38818 non-null uint8\n",
      "addr_state_MI                          38818 non-null uint8\n",
      "addr_state_MN                          38818 non-null uint8\n",
      "addr_state_MO                          38818 non-null uint8\n",
      "addr_state_MS                          38818 non-null uint8\n",
      "addr_state_MT                          38818 non-null uint8\n",
      "addr_state_NC                          38818 non-null uint8\n",
      "addr_state_NE                          38818 non-null uint8\n",
      "addr_state_NH                          38818 non-null uint8\n",
      "addr_state_NJ                          38818 non-null uint8\n",
      "addr_state_NM                          38818 non-null uint8\n",
      "addr_state_NV                          38818 non-null uint8\n",
      "addr_state_NY                          38818 non-null uint8\n",
      "addr_state_OH                          38818 non-null uint8\n",
      "addr_state_OK                          38818 non-null uint8\n",
      "addr_state_OR                          38818 non-null uint8\n",
      "addr_state_PA                          38818 non-null uint8\n",
      "addr_state_RI                          38818 non-null uint8\n",
      "addr_state_SC                          38818 non-null uint8\n",
      "addr_state_SD                          38818 non-null uint8\n",
      "addr_state_TN                          38818 non-null uint8\n",
      "addr_state_TX                          38818 non-null uint8\n",
      "addr_state_UT                          38818 non-null uint8\n",
      "addr_state_VA                          38818 non-null uint8\n",
      "addr_state_VT                          38818 non-null uint8\n",
      "addr_state_WA                          38818 non-null uint8\n",
      "addr_state_WI                          38818 non-null uint8\n",
      "addr_state_WV                          38818 non-null uint8\n",
      "addr_state_WY                          38818 non-null uint8\n",
      "home_ownership_OTHER                   38818 non-null uint8\n",
      "home_ownership_OWN                     38818 non-null uint8\n",
      "home_ownership_RENT                    38818 non-null uint8\n",
      "purpose_credit_card                    38818 non-null uint8\n",
      "purpose_debt_consolidation             38818 non-null uint8\n",
      "purpose_educational                    38818 non-null uint8\n",
      "purpose_home_improvement               38818 non-null uint8\n",
      "purpose_house                          38818 non-null uint8\n",
      "purpose_major_purchase                 38818 non-null uint8\n",
      "purpose_medical                        38818 non-null uint8\n",
      "purpose_moving                         38818 non-null uint8\n",
      "purpose_other                          38818 non-null uint8\n",
      "purpose_renewable_energy               38818 non-null uint8\n",
      "purpose_small_business                 38818 non-null uint8\n",
      "purpose_vacation                       38818 non-null uint8\n",
      "purpose_wedding                        38818 non-null uint8\n",
      "term_60m                               38818 non-null uint8\n",
      "verification_status_Source Verified    38818 non-null uint8\n",
      "verification_status_Verified           38818 non-null uint8\n",
      "emp_ident_bank                         38818 non-null uint8\n",
      "emp_ident_known_company                38818 non-null uint8\n",
      "emp_ident_puplic                       38818 non-null uint8\n",
      "emp_ident_self_emp                     38818 non-null uint8\n",
      "emp_ident_unknown                      38818 non-null uint8\n",
      "dtypes: float64(6), int64(1), uint8(73)\n",
      "memory usage: 5.1 MB\n"
     ]
    }
   ],
   "source": [
    "df_x_encoded = pd.get_dummies(df_x, drop_first=True)\n",
    "#for i in df_x_encoded.columns:\n",
    "#    print(i)\n",
    "df_x_encoded.info()"
   ]
  },
  {
   "cell_type": "markdown",
   "metadata": {},
   "source": [
    "### create preprocessing pipeline"
   ]
  },
  {
   "cell_type": "code",
   "execution_count": 148,
   "metadata": {
    "ExecuteTime": {
     "end_time": "2020-03-25T23:10:25.170804Z",
     "start_time": "2020-03-25T23:10:25.165521Z"
    }
   },
   "outputs": [],
   "source": [
    "preprocess_pipeline = make_pipeline(\n",
    "    ColumnSelector(columns=df_x_encoded.columns),\n",
    "    FeatureUnion(transformer_list=[\n",
    "        (\"numeric_features\", make_pipeline(\n",
    "            TypeSelector('float64'),\n",
    "            StandardScaler()\n",
    "        )),\n",
    "        (\"bool_features\", make_pipeline(\n",
    "            TypeSelector('int64'),\n",
    "        )),\n",
    "        (\"dummy_features\", make_pipeline(\n",
    "            TypeSelector('uint8'),\n",
    "        )),\n",
    "        #(\"categorical_features\", make_pipeline(\n",
    "        #    TypeSelector(\"category\"),\n",
    "        #    OneHotEncoder()\n",
    "        #)),\n",
    "    ]))"
   ]
  },
  {
   "cell_type": "code",
   "execution_count": 149,
   "metadata": {
    "ExecuteTime": {
     "end_time": "2020-03-25T23:10:27.553347Z",
     "start_time": "2020-03-25T23:10:27.460230Z"
    }
   },
   "outputs": [
    {
     "name": "stdout",
     "output_type": "stream",
     "text": [
      "(38818, 80)\n",
      "(38818, 80)\n"
     ]
    },
    {
     "data": {
      "text/plain": [
       "(38818, 1)"
      ]
     },
     "execution_count": 149,
     "metadata": {},
     "output_type": "execute_result"
    }
   ],
   "source": [
    "# checks on the preprocessing pipeline\n",
    "preprocess_pipeline.fit(df_x_encoded)\n",
    "X_transformed = preprocess_pipeline.transform(df_x_encoded)    \n",
    "print(X_transformed.shape)\n",
    "print(df_x_encoded.shape)\n",
    "df_y.shape\n",
    "#df.info()"
   ]
  },
  {
   "cell_type": "markdown",
   "metadata": {},
   "source": [
    "### calculate decision tree importance"
   ]
  },
  {
   "cell_type": "code",
   "execution_count": 150,
   "metadata": {
    "ExecuteTime": {
     "end_time": "2020-03-25T23:10:31.887157Z",
     "start_time": "2020-03-25T23:10:31.256791Z"
    }
   },
   "outputs": [
    {
     "name": "stdout",
     "output_type": "stream",
     "text": [
      "1.0\n"
     ]
    },
    {
     "data": {
      "text/plain": [
       "1.0"
      ]
     },
     "execution_count": 150,
     "metadata": {},
     "output_type": "execute_result"
    }
   ],
   "source": [
    "clf = DecisionTreeClassifier()\n",
    "#clf = RandomForestClassifier(n_estimators=6,max_leaf_nodes=2)\n",
    "clf.fit(X_transformed, df_y)\n",
    "importance = clf.feature_importances_\n",
    "importance = pd.DataFrame(importance, index=df_x_encoded.columns, columns=[\"Importance\"])\n",
    "importance = importance.sort_values(['Importance'], ascending=True)\n",
    "print(precision_score(df_y.values, clf.predict(X_transformed)))\n",
    "accuracy_score(df_y, clf.predict(X_transformed))"
   ]
  },
  {
   "cell_type": "code",
   "execution_count": 151,
   "metadata": {
    "ExecuteTime": {
     "end_time": "2020-03-25T23:10:40.024794Z",
     "start_time": "2020-03-25T23:10:38.551917Z"
    }
   },
   "outputs": [
    {
     "name": "stdout",
     "output_type": "stream",
     "text": [
      "Saving figure dectree_feat_importance\n"
     ]
    },
    {
     "data": {
      "image/png": "[encoded data removed]",
      "text/plain": [
       "<Figure size 576x576 with 1 Axes>"
      ]
     },
     "metadata": {},
     "output_type": "display_data"
    }
   ],
   "source": [
    "# create plot with joined importance of dummies\n",
    "importance_join = pd.DataFrame(index = df_x.columns)\n",
    "for i1 in df_x.select_dtypes('object').columns:\n",
    "    #print(i1)\n",
    "    t_sum = 0\n",
    "    for i2 in importance.index:\n",
    "        if i1 in i2:\n",
    "            #print ('--' + i2)\n",
    "            t_sum += importance.loc[i2,'Importance']\n",
    "    \n",
    "    importance_join.loc[i1,'Importance'] = t_sum\n",
    "            \n",
    "for i in df_x.select_dtypes(np.number).columns:\n",
    "    importance_join.loc[i,'Importance'] = importance.loc[i,'Importance']\n",
    "    \n",
    "importance_join = importance_join.sort_values(['Importance'], ascending=True)\n",
    "importance_join.plot(kind='barh', figsize=(8,8))\n",
    "\n",
    "save_fig('feat_eng', 'dectree_feat_importance', tight_layout=True)"
   ]
  },
  {
   "cell_type": "markdown",
   "metadata": {},
   "source": [
    "## Feature Correlation"
   ]
  },
  {
   "cell_type": "markdown",
   "metadata": {},
   "source": [
    "### Section data import"
   ]
  },
  {
   "cell_type": "code",
   "execution_count": 152,
   "metadata": {
    "ExecuteTime": {
     "end_time": "2020-03-25T23:11:32.317697Z",
     "start_time": "2020-03-25T23:11:32.253774Z"
    }
   },
   "outputs": [],
   "source": [
    "df = pd.read_pickle(DATA_FOLDER + 'clean_pass_01p2_Ptarget_FPemp_ident.pkl')"
   ]
  },
  {
   "cell_type": "markdown",
   "metadata": {},
   "source": [
    "### correlation head map"
   ]
  },
  {
   "cell_type": "code",
   "execution_count": 153,
   "metadata": {
    "ExecuteTime": {
     "end_time": "2020-03-25T23:11:34.875925Z",
     "start_time": "2020-03-25T23:11:34.872168Z"
    }
   },
   "outputs": [],
   "source": [
    "x_col = ['addr_state',\n",
    "'annual_inc',\n",
    "'dti',\n",
    "'emp_length',\n",
    "'home_ownership',\n",
    "'loan_amnt',\n",
    "'open_acc',\n",
    "'pub_rec',\n",
    "'pub_rec_bankruptcies',\n",
    "'purpose',\n",
    "'term',\n",
    "'verification_status',\n",
    " 'emp_ident']\n",
    "\n",
    "y_col = ['target']"
   ]
  },
  {
   "cell_type": "code",
   "execution_count": 154,
   "metadata": {
    "ExecuteTime": {
     "end_time": "2020-03-25T23:11:37.901854Z",
     "start_time": "2020-03-25T23:11:37.417059Z"
    }
   },
   "outputs": [],
   "source": [
    "# calculate the correlation matrix\n",
    "df_xy_encoded = pd.get_dummies(df[y_col + x_col], drop_first=True)\n",
    "corr = df_xy_encoded.corr()\n",
    "\n",
    "corr = corr.target\n",
    "importance.name = 'correlation'"
   ]
  },
  {
   "cell_type": "code",
   "execution_count": 155,
   "metadata": {
    "ExecuteTime": {
     "end_time": "2020-03-25T23:11:45.388710Z",
     "start_time": "2020-03-25T23:11:45.349870Z"
    },
    "collapsed": true
   },
   "outputs": [
    {
     "data": {
      "text/plain": [
       "term                    0.156560\n",
       "loan_amnt               0.055218\n",
       "pub_rec                 0.053128\n",
       "pub_rec_bankruptcies    0.050241\n",
       "dti                     0.045651\n",
       "purpose                 0.041740\n",
       "annual_inc              0.035885\n",
       "verification_status     0.033529\n",
       "home_ownership          0.031948\n",
       "addr_state              0.019093\n",
       "emp_length              0.018520\n",
       "open_acc                0.002009\n",
       "emp_ident               0.000184\n",
       "dtype: float64"
      ]
     },
     "execution_count": 155,
     "metadata": {},
     "output_type": "execute_result"
    }
   ],
   "source": [
    "corr_join = pd.Series(index = df[y_col + x_col].columns)\n",
    "for i1 in df[y_col + x_col].select_dtypes('object').columns:\n",
    "    #print(i1)\n",
    "    t_sum = 0\n",
    "    for i2 in corr.index:\n",
    "        if i1 in i2:\n",
    "            #print ('--' + i2)\n",
    "            t_sum += corr[i2]\n",
    "    \n",
    "    corr_join.loc[i1] = t_sum\n",
    "            \n",
    "for i in df[y_col + x_col].select_dtypes(np.number).columns:\n",
    "    corr_join[i] = corr[i]\n",
    "    \n",
    "corr_join.apply(lambda x: abs(x)).sort_values(ascending = False).drop('target')"
   ]
  },
  {
   "cell_type": "code",
   "execution_count": 156,
   "metadata": {
    "ExecuteTime": {
     "end_time": "2020-03-25T23:11:51.725793Z",
     "start_time": "2020-03-25T23:11:50.282859Z"
    },
    "scrolled": true
   },
   "outputs": [
    {
     "name": "stdout",
     "output_type": "stream",
     "text": [
      "Saving figure feat_target_corr\n"
     ]
    },
    {
     "data": {
      "image/png": "[encoded data removed]",
      "text/plain": [
       "<Figure size 576x576 with 1 Axes>"
      ]
     },
     "metadata": {},
     "output_type": "display_data"
    }
   ],
   "source": [
    "corr_join.apply(lambda x: abs(x)).sort_values(ascending = True).drop('target').plot(kind='barh', figsize=(8,8))\n",
    "save_fig('feat_eng', 'feat_target_corr', tight_layout=True)"
   ]
  },
  {
   "cell_type": "markdown",
   "metadata": {},
   "source": [
    "## Combine correlation and feature importance (you need both in memory)"
   ]
  },
  {
   "cell_type": "code",
   "execution_count": 157,
   "metadata": {
    "ExecuteTime": {
     "end_time": "2020-03-25T23:12:06.431496Z",
     "start_time": "2020-03-25T23:12:06.407604Z"
    },
    "collapsed": true
   },
   "outputs": [
    {
     "data": {
      "text/html": [
       "<div>\n",
       "<style scoped>\n",
       "    .dataframe tbody tr th:only-of-type {\n",
       "        vertical-align: middle;\n",
       "    }\n",
       "\n",
       "    .dataframe tbody tr th {\n",
       "        vertical-align: top;\n",
       "    }\n",
       "\n",
       "    .dataframe thead th {\n",
       "        text-align: right;\n",
       "    }\n",
       "</style>\n",
       "<table border=\"1\" class=\"dataframe\">\n",
       "  <thead>\n",
       "    <tr style=\"text-align: right;\">\n",
       "      <th></th>\n",
       "      <th>Importance</th>\n",
       "      <th>correlation</th>\n",
       "      <th>c</th>\n",
       "      <th>i</th>\n",
       "      <th>sum</th>\n",
       "    </tr>\n",
       "  </thead>\n",
       "  <tbody>\n",
       "    <tr>\n",
       "      <th>dti</th>\n",
       "      <td>0.182973</td>\n",
       "      <td>0.045651</td>\n",
       "      <td>0.290753</td>\n",
       "      <td>0.952602</td>\n",
       "      <td>0.621678</td>\n",
       "    </tr>\n",
       "    <tr>\n",
       "      <th>addr_state</th>\n",
       "      <td>0.191947</td>\n",
       "      <td>0.019093</td>\n",
       "      <td>0.120923</td>\n",
       "      <td>1.000000</td>\n",
       "      <td>0.560461</td>\n",
       "    </tr>\n",
       "    <tr>\n",
       "      <th>term</th>\n",
       "      <td>0.024511</td>\n",
       "      <td>0.156560</td>\n",
       "      <td>1.000000</td>\n",
       "      <td>0.115633</td>\n",
       "      <td>0.557816</td>\n",
       "    </tr>\n",
       "    <tr>\n",
       "      <th>loan_amnt</th>\n",
       "      <td>0.126198</td>\n",
       "      <td>0.055218</td>\n",
       "      <td>0.351934</td>\n",
       "      <td>0.652724</td>\n",
       "      <td>0.502329</td>\n",
       "    </tr>\n",
       "    <tr>\n",
       "      <th>annual_inc</th>\n",
       "      <td>0.142029</td>\n",
       "      <td>0.035885</td>\n",
       "      <td>0.228302</td>\n",
       "      <td>0.736344</td>\n",
       "      <td>0.482323</td>\n",
       "    </tr>\n",
       "    <tr>\n",
       "      <th>purpose</th>\n",
       "      <td>0.067653</td>\n",
       "      <td>0.041740</td>\n",
       "      <td>0.265748</td>\n",
       "      <td>0.343503</td>\n",
       "      <td>0.304625</td>\n",
       "    </tr>\n",
       "    <tr>\n",
       "      <th>open_acc</th>\n",
       "      <td>0.094886</td>\n",
       "      <td>0.002009</td>\n",
       "      <td>0.011673</td>\n",
       "      <td>0.487339</td>\n",
       "      <td>0.249506</td>\n",
       "    </tr>\n",
       "    <tr>\n",
       "      <th>emp_length</th>\n",
       "      <td>0.073614</td>\n",
       "      <td>0.018520</td>\n",
       "      <td>0.117261</td>\n",
       "      <td>0.374987</td>\n",
       "      <td>0.246124</td>\n",
       "    </tr>\n",
       "    <tr>\n",
       "      <th>verification_status</th>\n",
       "      <td>0.032832</td>\n",
       "      <td>0.033529</td>\n",
       "      <td>0.213237</td>\n",
       "      <td>0.159582</td>\n",
       "      <td>0.186409</td>\n",
       "    </tr>\n",
       "    <tr>\n",
       "      <th>pub_rec</th>\n",
       "      <td>0.004077</td>\n",
       "      <td>0.053128</td>\n",
       "      <td>0.338572</td>\n",
       "      <td>0.007702</td>\n",
       "      <td>0.173137</td>\n",
       "    </tr>\n",
       "    <tr>\n",
       "      <th>home_ownership</th>\n",
       "      <td>0.027502</td>\n",
       "      <td>0.031948</td>\n",
       "      <td>0.203129</td>\n",
       "      <td>0.131429</td>\n",
       "      <td>0.167279</td>\n",
       "    </tr>\n",
       "    <tr>\n",
       "      <th>pub_rec_bankruptcies</th>\n",
       "      <td>0.002618</td>\n",
       "      <td>0.050241</td>\n",
       "      <td>0.320108</td>\n",
       "      <td>0.000000</td>\n",
       "      <td>0.160054</td>\n",
       "    </tr>\n",
       "    <tr>\n",
       "      <th>emp_ident</th>\n",
       "      <td>0.029159</td>\n",
       "      <td>0.000184</td>\n",
       "      <td>0.000000</td>\n",
       "      <td>0.140182</td>\n",
       "      <td>0.070091</td>\n",
       "    </tr>\n",
       "  </tbody>\n",
       "</table>\n",
       "</div>"
      ],
      "text/plain": [
       "                      Importance  correlation         c         i       sum\n",
       "dti                     0.182973     0.045651  0.290753  0.952602  0.621678\n",
       "addr_state              0.191947     0.019093  0.120923  1.000000  0.560461\n",
       "term                    0.024511     0.156560  1.000000  0.115633  0.557816\n",
       "loan_amnt               0.126198     0.055218  0.351934  0.652724  0.502329\n",
       "annual_inc              0.142029     0.035885  0.228302  0.736344  0.482323\n",
       "purpose                 0.067653     0.041740  0.265748  0.343503  0.304625\n",
       "open_acc                0.094886     0.002009  0.011673  0.487339  0.249506\n",
       "emp_length              0.073614     0.018520  0.117261  0.374987  0.246124\n",
       "verification_status     0.032832     0.033529  0.213237  0.159582  0.186409\n",
       "pub_rec                 0.004077     0.053128  0.338572  0.007702  0.173137\n",
       "home_ownership          0.027502     0.031948  0.203129  0.131429  0.167279\n",
       "pub_rec_bankruptcies    0.002618     0.050241  0.320108  0.000000  0.160054\n",
       "emp_ident               0.029159     0.000184  0.000000  0.140182  0.070091"
      ]
     },
     "execution_count": 157,
     "metadata": {},
     "output_type": "execute_result"
    }
   ],
   "source": [
    "imcor = importance_join.join(pd.DataFrame(corr_join.apply(lambda x: abs(x)), columns=['correlation']))\n",
    "imcor['c'] = MinMaxScaler().fit_transform(imcor.correlation.values.reshape(-1, 1))\n",
    "imcor['i'] = MinMaxScaler().fit_transform(imcor.Importance.values.reshape(-1, 1))\n",
    "imcor = imcor.eval('sum = (c + i)/2')\n",
    "imcor.sort_values(by=['sum'], ascending = False)"
   ]
  },
  {
   "cell_type": "markdown",
   "metadata": {},
   "source": [
    "--- > this can be used to choose the features"
   ]
  },
  {
   "cell_type": "markdown",
   "metadata": {},
   "source": [
    "# EDA"
   ]
  },
  {
   "cell_type": "markdown",
   "metadata": {},
   "source": [
    "## Initial Data import"
   ]
  },
  {
   "cell_type": "code",
   "execution_count": 18,
   "metadata": {
    "ExecuteTime": {
     "end_time": "2020-03-26T08:52:16.374671Z",
     "start_time": "2020-03-26T08:52:16.322619Z"
    }
   },
   "outputs": [],
   "source": [
    "# import the cleaned data\n",
    "df_eda = pd.read_pickle(DATA_FOLDER + 'clean_pass_01p2_Ptarget_FPemp_ident.pkl')\n",
    "pd.options.display.max_columns = None"
   ]
  },
  {
   "cell_type": "markdown",
   "metadata": {},
   "source": [
    "## Overview"
   ]
  },
  {
   "cell_type": "code",
   "execution_count": 6,
   "metadata": {
    "ExecuteTime": {
     "end_time": "2020-03-26T07:22:43.435466Z",
     "start_time": "2020-03-26T07:22:43.431450Z"
    }
   },
   "outputs": [
    {
     "name": "stdout",
     "output_type": "stream",
     "text": [
      "We see 38818 rows and 42 cols in the data\n"
     ]
    }
   ],
   "source": [
    "# How many data to we have\n",
    "print('We see {} rows and {} cols in the data'.format(df_eda.shape[0],df_eda.shape[1]))"
   ]
  },
  {
   "cell_type": "code",
   "execution_count": 167,
   "metadata": {
    "ExecuteTime": {
     "end_time": "2020-03-25T23:17:03.386929Z",
     "start_time": "2020-03-25T23:17:03.352461Z"
    }
   },
   "outputs": [
    {
     "data": {
      "text/html": [
       "<div>\n",
       "<style scoped>\n",
       "    .dataframe tbody tr th:only-of-type {\n",
       "        vertical-align: middle;\n",
       "    }\n",
       "\n",
       "    .dataframe tbody tr th {\n",
       "        vertical-align: top;\n",
       "    }\n",
       "\n",
       "    .dataframe thead th {\n",
       "        text-align: right;\n",
       "    }\n",
       "</style>\n",
       "<table border=\"1\" class=\"dataframe\">\n",
       "  <thead>\n",
       "    <tr style=\"text-align: right;\">\n",
       "      <th></th>\n",
       "      <th>loan_amnt</th>\n",
       "      <th>funded_amnt</th>\n",
       "      <th>funded_amnt_inv</th>\n",
       "      <th>term</th>\n",
       "      <th>int_rate</th>\n",
       "      <th>installment</th>\n",
       "      <th>grade</th>\n",
       "      <th>sub_grade</th>\n",
       "      <th>emp_title</th>\n",
       "      <th>emp_length</th>\n",
       "      <th>home_ownership</th>\n",
       "      <th>annual_inc</th>\n",
       "      <th>verification_status</th>\n",
       "      <th>issue_d</th>\n",
       "      <th>loan_status</th>\n",
       "      <th>purpose</th>\n",
       "      <th>zip_code</th>\n",
       "      <th>addr_state</th>\n",
       "      <th>dti</th>\n",
       "      <th>delinq_2yrs</th>\n",
       "      <th>earliest_cr_line</th>\n",
       "      <th>inq_last_6mths</th>\n",
       "      <th>open_acc</th>\n",
       "      <th>pub_rec</th>\n",
       "      <th>revol_bal</th>\n",
       "      <th>revol_util</th>\n",
       "      <th>total_acc</th>\n",
       "      <th>out_prncp</th>\n",
       "      <th>out_prncp_inv</th>\n",
       "      <th>total_pymnt</th>\n",
       "      <th>total_pymnt_inv</th>\n",
       "      <th>total_rec_prncp</th>\n",
       "      <th>total_rec_int</th>\n",
       "      <th>total_rec_late_fee</th>\n",
       "      <th>recoveries</th>\n",
       "      <th>collection_recovery_fee</th>\n",
       "      <th>last_pymnt_amnt</th>\n",
       "      <th>last_credit_pull_d</th>\n",
       "      <th>pub_rec_bankruptcies</th>\n",
       "      <th>has_made_pymnt</th>\n",
       "      <th>target</th>\n",
       "      <th>emp_ident</th>\n",
       "    </tr>\n",
       "  </thead>\n",
       "  <tbody>\n",
       "    <tr>\n",
       "      <th>1</th>\n",
       "      <td>2500.0</td>\n",
       "      <td>2500.0</td>\n",
       "      <td>2500.0</td>\n",
       "      <td>60m</td>\n",
       "      <td>0.1527</td>\n",
       "      <td>59.83</td>\n",
       "      <td>C</td>\n",
       "      <td>C4</td>\n",
       "      <td>Ryder</td>\n",
       "      <td>0.5</td>\n",
       "      <td>RENT</td>\n",
       "      <td>30000.0</td>\n",
       "      <td>Source Verified</td>\n",
       "      <td>2011-12-01</td>\n",
       "      <td>Charged Off</td>\n",
       "      <td>car</td>\n",
       "      <td>309xx</td>\n",
       "      <td>GA</td>\n",
       "      <td>1.0</td>\n",
       "      <td>0.0</td>\n",
       "      <td>1999-04-01</td>\n",
       "      <td>5.0</td>\n",
       "      <td>3.0</td>\n",
       "      <td>0.0</td>\n",
       "      <td>1687.0</td>\n",
       "      <td>0.094</td>\n",
       "      <td>4.0</td>\n",
       "      <td>0.0</td>\n",
       "      <td>0.0</td>\n",
       "      <td>1008.71</td>\n",
       "      <td>1008.71</td>\n",
       "      <td>456.46</td>\n",
       "      <td>435.17</td>\n",
       "      <td>0.00</td>\n",
       "      <td>117.08</td>\n",
       "      <td>1.11</td>\n",
       "      <td>119.66</td>\n",
       "      <td>2013-09-01</td>\n",
       "      <td>0</td>\n",
       "      <td>1</td>\n",
       "      <td>0.0</td>\n",
       "      <td>unknown</td>\n",
       "    </tr>\n",
       "    <tr>\n",
       "      <th>3</th>\n",
       "      <td>10000.0</td>\n",
       "      <td>10000.0</td>\n",
       "      <td>10000.0</td>\n",
       "      <td>36m</td>\n",
       "      <td>0.1349</td>\n",
       "      <td>339.31</td>\n",
       "      <td>C</td>\n",
       "      <td>C1</td>\n",
       "      <td>AIR RESOURCES BOARD</td>\n",
       "      <td>10.0</td>\n",
       "      <td>RENT</td>\n",
       "      <td>49200.0</td>\n",
       "      <td>Source Verified</td>\n",
       "      <td>2011-12-01</td>\n",
       "      <td>Fully Paid</td>\n",
       "      <td>other</td>\n",
       "      <td>917xx</td>\n",
       "      <td>CA</td>\n",
       "      <td>20.0</td>\n",
       "      <td>0.0</td>\n",
       "      <td>1996-02-01</td>\n",
       "      <td>1.0</td>\n",
       "      <td>10.0</td>\n",
       "      <td>0.0</td>\n",
       "      <td>5598.0</td>\n",
       "      <td>0.210</td>\n",
       "      <td>37.0</td>\n",
       "      <td>0.0</td>\n",
       "      <td>0.0</td>\n",
       "      <td>12231.89</td>\n",
       "      <td>12231.89</td>\n",
       "      <td>10000.00</td>\n",
       "      <td>2214.92</td>\n",
       "      <td>16.97</td>\n",
       "      <td>0.00</td>\n",
       "      <td>0.00</td>\n",
       "      <td>357.48</td>\n",
       "      <td>2016-04-01</td>\n",
       "      <td>0</td>\n",
       "      <td>1</td>\n",
       "      <td>1.0</td>\n",
       "      <td>unknown</td>\n",
       "    </tr>\n",
       "    <tr>\n",
       "      <th>5</th>\n",
       "      <td>5000.0</td>\n",
       "      <td>5000.0</td>\n",
       "      <td>5000.0</td>\n",
       "      <td>36m</td>\n",
       "      <td>0.0790</td>\n",
       "      <td>156.46</td>\n",
       "      <td>A</td>\n",
       "      <td>A4</td>\n",
       "      <td>Veolia Transportaton</td>\n",
       "      <td>3.0</td>\n",
       "      <td>RENT</td>\n",
       "      <td>36000.0</td>\n",
       "      <td>Source Verified</td>\n",
       "      <td>2011-12-01</td>\n",
       "      <td>Fully Paid</td>\n",
       "      <td>wedding</td>\n",
       "      <td>852xx</td>\n",
       "      <td>AZ</td>\n",
       "      <td>11.2</td>\n",
       "      <td>0.0</td>\n",
       "      <td>2004-11-01</td>\n",
       "      <td>3.0</td>\n",
       "      <td>9.0</td>\n",
       "      <td>0.0</td>\n",
       "      <td>7963.0</td>\n",
       "      <td>0.283</td>\n",
       "      <td>12.0</td>\n",
       "      <td>0.0</td>\n",
       "      <td>0.0</td>\n",
       "      <td>5632.21</td>\n",
       "      <td>5632.21</td>\n",
       "      <td>5000.00</td>\n",
       "      <td>632.21</td>\n",
       "      <td>0.00</td>\n",
       "      <td>0.00</td>\n",
       "      <td>0.00</td>\n",
       "      <td>161.03</td>\n",
       "      <td>2016-01-01</td>\n",
       "      <td>0</td>\n",
       "      <td>1</td>\n",
       "      <td>1.0</td>\n",
       "      <td>unknown</td>\n",
       "    </tr>\n",
       "  </tbody>\n",
       "</table>\n",
       "</div>"
      ],
      "text/plain": [
       "   loan_amnt  funded_amnt  funded_amnt_inv term  int_rate  installment grade  \\\n",
       "1     2500.0       2500.0           2500.0  60m    0.1527        59.83     C   \n",
       "3    10000.0      10000.0          10000.0  36m    0.1349       339.31     C   \n",
       "5     5000.0       5000.0           5000.0  36m    0.0790       156.46     A   \n",
       "\n",
       "  sub_grade             emp_title  emp_length home_ownership  annual_inc  \\\n",
       "1        C4                 Ryder         0.5           RENT     30000.0   \n",
       "3        C1   AIR RESOURCES BOARD        10.0           RENT     49200.0   \n",
       "5        A4  Veolia Transportaton         3.0           RENT     36000.0   \n",
       "\n",
       "  verification_status    issue_d  loan_status  purpose zip_code addr_state  \\\n",
       "1     Source Verified 2011-12-01  Charged Off      car    309xx         GA   \n",
       "3     Source Verified 2011-12-01   Fully Paid    other    917xx         CA   \n",
       "5     Source Verified 2011-12-01   Fully Paid  wedding    852xx         AZ   \n",
       "\n",
       "    dti  delinq_2yrs earliest_cr_line  inq_last_6mths  open_acc  pub_rec  \\\n",
       "1   1.0          0.0       1999-04-01             5.0       3.0      0.0   \n",
       "3  20.0          0.0       1996-02-01             1.0      10.0      0.0   \n",
       "5  11.2          0.0       2004-11-01             3.0       9.0      0.0   \n",
       "\n",
       "   revol_bal  revol_util  total_acc  out_prncp  out_prncp_inv  total_pymnt  \\\n",
       "1     1687.0       0.094        4.0        0.0            0.0      1008.71   \n",
       "3     5598.0       0.210       37.0        0.0            0.0     12231.89   \n",
       "5     7963.0       0.283       12.0        0.0            0.0      5632.21   \n",
       "\n",
       "   total_pymnt_inv  total_rec_prncp  total_rec_int  total_rec_late_fee  \\\n",
       "1          1008.71           456.46         435.17                0.00   \n",
       "3         12231.89         10000.00        2214.92               16.97   \n",
       "5          5632.21          5000.00         632.21                0.00   \n",
       "\n",
       "   recoveries  collection_recovery_fee  last_pymnt_amnt last_credit_pull_d  \\\n",
       "1      117.08                     1.11           119.66         2013-09-01   \n",
       "3        0.00                     0.00           357.48         2016-04-01   \n",
       "5        0.00                     0.00           161.03         2016-01-01   \n",
       "\n",
       "   pub_rec_bankruptcies  has_made_pymnt  target emp_ident  \n",
       "1                     0               1     0.0   unknown  \n",
       "3                     0               1     1.0   unknown  \n",
       "5                     0               1     1.0   unknown  "
      ]
     },
     "execution_count": 167,
     "metadata": {},
     "output_type": "execute_result"
    }
   ],
   "source": [
    "# Let's have a short look at the head of the data\n",
    "df_eda.head(3)"
   ]
  },
  {
   "cell_type": "code",
   "execution_count": 168,
   "metadata": {
    "ExecuteTime": {
     "end_time": "2020-03-25T23:17:25.828370Z",
     "start_time": "2020-03-25T23:17:25.795401Z"
    }
   },
   "outputs": [
    {
     "data": {
      "text/html": [
       "<div>\n",
       "<style scoped>\n",
       "    .dataframe tbody tr th:only-of-type {\n",
       "        vertical-align: middle;\n",
       "    }\n",
       "\n",
       "    .dataframe tbody tr th {\n",
       "        vertical-align: top;\n",
       "    }\n",
       "\n",
       "    .dataframe thead th {\n",
       "        text-align: right;\n",
       "    }\n",
       "</style>\n",
       "<table border=\"1\" class=\"dataframe\">\n",
       "  <thead>\n",
       "    <tr style=\"text-align: right;\">\n",
       "      <th></th>\n",
       "      <th>loan_amnt</th>\n",
       "      <th>funded_amnt</th>\n",
       "      <th>funded_amnt_inv</th>\n",
       "      <th>term</th>\n",
       "      <th>int_rate</th>\n",
       "      <th>installment</th>\n",
       "      <th>grade</th>\n",
       "      <th>sub_grade</th>\n",
       "      <th>emp_title</th>\n",
       "      <th>emp_length</th>\n",
       "      <th>home_ownership</th>\n",
       "      <th>annual_inc</th>\n",
       "      <th>verification_status</th>\n",
       "      <th>issue_d</th>\n",
       "      <th>loan_status</th>\n",
       "      <th>purpose</th>\n",
       "      <th>zip_code</th>\n",
       "      <th>addr_state</th>\n",
       "      <th>dti</th>\n",
       "      <th>delinq_2yrs</th>\n",
       "      <th>earliest_cr_line</th>\n",
       "      <th>inq_last_6mths</th>\n",
       "      <th>open_acc</th>\n",
       "      <th>pub_rec</th>\n",
       "      <th>revol_bal</th>\n",
       "      <th>revol_util</th>\n",
       "      <th>total_acc</th>\n",
       "      <th>out_prncp</th>\n",
       "      <th>out_prncp_inv</th>\n",
       "      <th>total_pymnt</th>\n",
       "      <th>total_pymnt_inv</th>\n",
       "      <th>total_rec_prncp</th>\n",
       "      <th>total_rec_int</th>\n",
       "      <th>total_rec_late_fee</th>\n",
       "      <th>recoveries</th>\n",
       "      <th>collection_recovery_fee</th>\n",
       "      <th>last_pymnt_amnt</th>\n",
       "      <th>last_credit_pull_d</th>\n",
       "      <th>pub_rec_bankruptcies</th>\n",
       "      <th>has_made_pymnt</th>\n",
       "      <th>target</th>\n",
       "      <th>emp_ident</th>\n",
       "    </tr>\n",
       "  </thead>\n",
       "  <tbody>\n",
       "    <tr>\n",
       "      <th>42454</th>\n",
       "      <td>5700.0</td>\n",
       "      <td>5700.0</td>\n",
       "      <td>1450.0</td>\n",
       "      <td>36m</td>\n",
       "      <td>0.1343</td>\n",
       "      <td>193.26</td>\n",
       "      <td>E</td>\n",
       "      <td>E1</td>\n",
       "      <td>PEER Center, Inc.</td>\n",
       "      <td>5.0</td>\n",
       "      <td>RENT</td>\n",
       "      <td>65000.0</td>\n",
       "      <td>Not Verified</td>\n",
       "      <td>2007-08-01</td>\n",
       "      <td>Does not meet the credit policy. Status:Fully ...</td>\n",
       "      <td>debt_consolidation</td>\n",
       "      <td>333xx</td>\n",
       "      <td>FL</td>\n",
       "      <td>18.22</td>\n",
       "      <td>0.0</td>\n",
       "      <td>2004-11-01</td>\n",
       "      <td>3.0</td>\n",
       "      <td>15.0</td>\n",
       "      <td>1.0</td>\n",
       "      <td>3023.0</td>\n",
       "      <td>0.126</td>\n",
       "      <td>17.0</td>\n",
       "      <td>0.0</td>\n",
       "      <td>0.0</td>\n",
       "      <td>6957.002153</td>\n",
       "      <td>1769.76</td>\n",
       "      <td>5700.0</td>\n",
       "      <td>1257.00</td>\n",
       "      <td>0.0</td>\n",
       "      <td>0.0</td>\n",
       "      <td>0.0</td>\n",
       "      <td>198.59</td>\n",
       "      <td>2016-06-01</td>\n",
       "      <td>1</td>\n",
       "      <td>1</td>\n",
       "      <td>1.0</td>\n",
       "      <td>unknown</td>\n",
       "    </tr>\n",
       "    <tr>\n",
       "      <th>42466</th>\n",
       "      <td>6000.0</td>\n",
       "      <td>6000.0</td>\n",
       "      <td>1025.0</td>\n",
       "      <td>36m</td>\n",
       "      <td>0.1280</td>\n",
       "      <td>201.60</td>\n",
       "      <td>D</td>\n",
       "      <td>D4</td>\n",
       "      <td>Securitas Security Services</td>\n",
       "      <td>8.0</td>\n",
       "      <td>RENT</td>\n",
       "      <td>57000.0</td>\n",
       "      <td>Not Verified</td>\n",
       "      <td>2007-08-01</td>\n",
       "      <td>Does not meet the credit policy. Status:Fully ...</td>\n",
       "      <td>debt_consolidation</td>\n",
       "      <td>547xx</td>\n",
       "      <td>WI</td>\n",
       "      <td>15.20</td>\n",
       "      <td>2.0</td>\n",
       "      <td>1989-11-01</td>\n",
       "      <td>4.0</td>\n",
       "      <td>13.0</td>\n",
       "      <td>1.0</td>\n",
       "      <td>13622.0</td>\n",
       "      <td>0.797</td>\n",
       "      <td>31.0</td>\n",
       "      <td>0.0</td>\n",
       "      <td>0.0</td>\n",
       "      <td>7322.221721</td>\n",
       "      <td>1250.88</td>\n",
       "      <td>6000.0</td>\n",
       "      <td>1262.22</td>\n",
       "      <td>60.0</td>\n",
       "      <td>0.0</td>\n",
       "      <td>0.0</td>\n",
       "      <td>108.03</td>\n",
       "      <td>2011-05-01</td>\n",
       "      <td>1</td>\n",
       "      <td>1</td>\n",
       "      <td>1.0</td>\n",
       "      <td>unknown</td>\n",
       "    </tr>\n",
       "    <tr>\n",
       "      <th>42474</th>\n",
       "      <td>13000.0</td>\n",
       "      <td>13000.0</td>\n",
       "      <td>700.0</td>\n",
       "      <td>36m</td>\n",
       "      <td>0.1091</td>\n",
       "      <td>425.04</td>\n",
       "      <td>C</td>\n",
       "      <td>C3</td>\n",
       "      <td>LendingTree, LLC</td>\n",
       "      <td>2.0</td>\n",
       "      <td>MORTGAGE</td>\n",
       "      <td>62000.0</td>\n",
       "      <td>Not Verified</td>\n",
       "      <td>2007-08-01</td>\n",
       "      <td>Does not meet the credit policy. Status:Fully ...</td>\n",
       "      <td>debt_consolidation</td>\n",
       "      <td>282xx</td>\n",
       "      <td>NC</td>\n",
       "      <td>20.00</td>\n",
       "      <td>0.0</td>\n",
       "      <td>1993-11-01</td>\n",
       "      <td>4.0</td>\n",
       "      <td>23.0</td>\n",
       "      <td>1.0</td>\n",
       "      <td>13748.0</td>\n",
       "      <td>0.502</td>\n",
       "      <td>53.0</td>\n",
       "      <td>0.0</td>\n",
       "      <td>0.0</td>\n",
       "      <td>15301.293803</td>\n",
       "      <td>823.92</td>\n",
       "      <td>13000.0</td>\n",
       "      <td>2301.29</td>\n",
       "      <td>0.0</td>\n",
       "      <td>0.0</td>\n",
       "      <td>0.0</td>\n",
       "      <td>426.53</td>\n",
       "      <td>2011-06-01</td>\n",
       "      <td>1</td>\n",
       "      <td>1</td>\n",
       "      <td>1.0</td>\n",
       "      <td>unknown</td>\n",
       "    </tr>\n",
       "  </tbody>\n",
       "</table>\n",
       "</div>"
      ],
      "text/plain": [
       "       loan_amnt  funded_amnt  funded_amnt_inv term  int_rate  installment  \\\n",
       "42454     5700.0       5700.0           1450.0  36m    0.1343       193.26   \n",
       "42466     6000.0       6000.0           1025.0  36m    0.1280       201.60   \n",
       "42474    13000.0      13000.0            700.0  36m    0.1091       425.04   \n",
       "\n",
       "      grade sub_grade                    emp_title  emp_length home_ownership  \\\n",
       "42454     E        E1            PEER Center, Inc.         5.0           RENT   \n",
       "42466     D        D4  Securitas Security Services         8.0           RENT   \n",
       "42474     C        C3             LendingTree, LLC         2.0       MORTGAGE   \n",
       "\n",
       "       annual_inc verification_status    issue_d  \\\n",
       "42454     65000.0        Not Verified 2007-08-01   \n",
       "42466     57000.0        Not Verified 2007-08-01   \n",
       "42474     62000.0        Not Verified 2007-08-01   \n",
       "\n",
       "                                             loan_status             purpose  \\\n",
       "42454  Does not meet the credit policy. Status:Fully ...  debt_consolidation   \n",
       "42466  Does not meet the credit policy. Status:Fully ...  debt_consolidation   \n",
       "42474  Does not meet the credit policy. Status:Fully ...  debt_consolidation   \n",
       "\n",
       "      zip_code addr_state    dti  delinq_2yrs earliest_cr_line  \\\n",
       "42454    333xx         FL  18.22          0.0       2004-11-01   \n",
       "42466    547xx         WI  15.20          2.0       1989-11-01   \n",
       "42474    282xx         NC  20.00          0.0       1993-11-01   \n",
       "\n",
       "       inq_last_6mths  open_acc  pub_rec  revol_bal  revol_util  total_acc  \\\n",
       "42454             3.0      15.0      1.0     3023.0       0.126       17.0   \n",
       "42466             4.0      13.0      1.0    13622.0       0.797       31.0   \n",
       "42474             4.0      23.0      1.0    13748.0       0.502       53.0   \n",
       "\n",
       "       out_prncp  out_prncp_inv   total_pymnt  total_pymnt_inv  \\\n",
       "42454        0.0            0.0   6957.002153          1769.76   \n",
       "42466        0.0            0.0   7322.221721          1250.88   \n",
       "42474        0.0            0.0  15301.293803           823.92   \n",
       "\n",
       "       total_rec_prncp  total_rec_int  total_rec_late_fee  recoveries  \\\n",
       "42454           5700.0        1257.00                 0.0         0.0   \n",
       "42466           6000.0        1262.22                60.0         0.0   \n",
       "42474          13000.0        2301.29                 0.0         0.0   \n",
       "\n",
       "       collection_recovery_fee  last_pymnt_amnt last_credit_pull_d  \\\n",
       "42454                      0.0           198.59         2016-06-01   \n",
       "42466                      0.0           108.03         2011-05-01   \n",
       "42474                      0.0           426.53         2011-06-01   \n",
       "\n",
       "       pub_rec_bankruptcies  has_made_pymnt  target emp_ident  \n",
       "42454                     1               1     1.0   unknown  \n",
       "42466                     1               1     1.0   unknown  \n",
       "42474                     1               1     1.0   unknown  "
      ]
     },
     "execution_count": 168,
     "metadata": {},
     "output_type": "execute_result"
    }
   ],
   "source": [
    "# Let's have a short look at the end of the data\n",
    "df_eda.tail(3)"
   ]
  },
  {
   "cell_type": "markdown",
   "metadata": {},
   "source": [
    "## Interest rate and default rate over time"
   ]
  },
  {
   "cell_type": "markdown",
   "metadata": {},
   "source": [
    "To improve the understanding of the topic it seems to be good to have a look on to the 'normal' interest rates for loans and a rate of credit defaults outside of Lending club"
   ]
  },
  {
   "cell_type": "code",
   "execution_count": 170,
   "metadata": {
    "ExecuteTime": {
     "end_time": "2020-03-25T23:18:27.575588Z",
     "start_time": "2020-03-25T23:18:27.524117Z"
    }
   },
   "outputs": [],
   "source": [
    "# credit default rate US from 2007 to 2011\n",
    "# source: https://www.federalreserve.gov/datadownload/Choose.aspx?rel=CHGDEL\n",
    "cdr_us = pd.read_csv('./data/DRALACBN.csv').rename(columns={'DATE':'date','DRALACBN':'default_rate'})\n",
    "time_df = pd.read_pickle(DATA_FOLDER + 'clean_pass_01p2_Ptarget_FPemp_ident.pkl')"
   ]
  },
  {
   "cell_type": "code",
   "execution_count": 172,
   "metadata": {
    "ExecuteTime": {
     "end_time": "2020-03-25T23:18:40.866611Z",
     "start_time": "2020-03-25T23:18:40.838608Z"
    }
   },
   "outputs": [],
   "source": [
    "time_df = time_df[['issue_d','target']]"
   ]
  },
  {
   "cell_type": "code",
   "execution_count": 174,
   "metadata": {
    "ExecuteTime": {
     "end_time": "2020-03-25T23:21:15.200395Z",
     "start_time": "2020-03-25T23:21:15.193331Z"
    }
   },
   "outputs": [],
   "source": [
    "time_df = time_df.groupby('issue_d').mean()\n",
    "time_df['target'] = 1- time_df['target']\n",
    "time_df = time_df.reset_index()\n",
    "time_df.target=time_df.target*100"
   ]
  },
  {
   "cell_type": "code",
   "execution_count": 183,
   "metadata": {
    "ExecuteTime": {
     "end_time": "2020-03-25T23:25:56.074699Z",
     "start_time": "2020-03-25T23:25:54.093080Z"
    }
   },
   "outputs": [
    {
     "name": "stdout",
     "output_type": "stream",
     "text": [
      "Saving figure compare_us_default_with_lc\n"
     ]
    },
    {
     "data": {
      "image/png": "[encoded data removed]",
      "text/plain": [
       "<Figure size 1080x450 with 2 Axes>"
      ]
     },
     "metadata": {},
     "output_type": "display_data"
    }
   ],
   "source": [
    "f, (ax1, ax2) = plt.subplots(nrows=1, ncols=2, figsize=(12,5), dpi=90,sharey=True,)\n",
    "f=sns.lineplot(x='date',y='default_rate',data=cdr_us,color='r',ax=ax1)\n",
    "f=sns.lineplot(x='issue_d',y='target',data=time_df,color='b',ax=ax2)\n",
    "plt.setp(ax1.get_xticklabels(), rotation=45)\n",
    "ax1.set_title('US Credit Default Rate')\n",
    "plt.setp(ax2.get_xticklabels(), rotation=45)\n",
    "ax2.set_title('LendingClub Credit Default Rate')\n",
    "save_fig('eda','compare_us_default_with_lc');"
   ]
  },
  {
   "cell_type": "code",
   "execution_count": 29,
   "metadata": {
    "ExecuteTime": {
     "end_time": "2020-03-26T09:04:40.936250Z",
     "start_time": "2020-03-26T09:04:39.912307Z"
    }
   },
   "outputs": [
    {
     "data": {
      "text/plain": [
       "Text(0.5, 1.0, 'Lending Club Funded Amount 2007-2011')"
      ]
     },
     "execution_count": 29,
     "metadata": {},
     "output_type": "execute_result"
    },
    {
     "data": {
      "image/png": "[encoded data removed]",
      "text/plain": [
       "<Figure size 1080x450 with 2 Axes>"
      ]
     },
     "metadata": {},
     "output_type": "display_data"
    }
   ],
   "source": [
    "#df_eda.groupby('issue_d').funded_amnt.sum().reset_index()\n",
    "#df_eda.groupby('issue_d').funded_amnt.count().reset_index()\n",
    "\n",
    "f, (ax1, ax2) = plt.subplots(nrows=1, ncols=2, figsize=(12,5), dpi=90)\n",
    "f=sns.lineplot(x='issue_d',y='funded_amnt',data=df_eda.groupby('issue_d').funded_amnt.count().reset_index(),color='r',ax=ax1)\n",
    "f=sns.lineplot(x='issue_d',y='funded_amnt',data=df_eda.groupby('issue_d').funded_amnt.sum().reset_index(),color='b',ax=ax2)\n",
    "plt.setp(ax1.get_xticklabels(), rotation=45)\n",
    "ax1.set_title('Amount of Loans 2007-2011')\n",
    "plt.setp(ax2.get_xticklabels(), rotation=45)\n",
    "ax2.set_title('Lending Club Funded Amount 2007-2011')\n",
    "#save_fig('eda','compare_us_default_with_lc');"
   ]
  },
  {
   "cell_type": "markdown",
   "metadata": {},
   "source": [
    "## annual_inc"
   ]
  },
  {
   "cell_type": "code",
   "execution_count": 13,
   "metadata": {
    "ExecuteTime": {
     "end_time": "2020-03-25T19:51:50.089400Z",
     "start_time": "2020-03-25T19:51:50.069280Z"
    }
   },
   "outputs": [
    {
     "data": {
      "text/plain": [
       "count      38818.00\n",
       "mean       69161.69\n",
       "std        64415.24\n",
       "min         1896.00\n",
       "25%        41000.00\n",
       "50%        59418.00\n",
       "75%        82307.25\n",
       "max      6000000.00\n",
       "Name: annual_inc, dtype: float64"
      ]
     },
     "execution_count": 13,
     "metadata": {},
     "output_type": "execute_result"
    }
   ],
   "source": [
    "df_eda.annual_inc.describe().round(2)"
   ]
  },
  {
   "cell_type": "code",
   "execution_count": 10,
   "metadata": {
    "ExecuteTime": {
     "end_time": "2020-03-26T07:43:13.053928Z",
     "start_time": "2020-03-26T07:43:11.735666Z"
    }
   },
   "outputs": [
    {
     "name": "stdout",
     "output_type": "stream",
     "text": [
      "Saving figure annual_inc_boxplot_by_target\n"
     ]
    },
    {
     "data": {
      "image/png": "[encoded data removed]",
      "text/plain": [
       "<Figure size 1440x432 with 2 Axes>"
      ]
     },
     "metadata": {},
     "output_type": "display_data"
    },
    {
     "data": {
      "text/plain": [
       "<Figure size 1440x216 with 0 Axes>"
      ]
     },
     "metadata": {},
     "output_type": "display_data"
    }
   ],
   "source": [
    "fig, (ax1, ax2) = plt.subplots(2, 1, sharex=True, figsize=(20,6))\n",
    "plt.figure(figsize=(20,3))\n",
    "sns.boxplot(x='annual_inc',data=df_eda.query('target==1'),ax=ax1)\n",
    "sns.boxplot(x='annual_inc',data=df_eda.query('target==0'),ax=ax2)\n",
    "ax1.set_ylabel('Fully Paid')\n",
    "ax2.set_ylabel('Default')\n",
    "save_fig('eda','annual_inc_boxplot_by_target')"
   ]
  },
  {
   "cell_type": "markdown",
   "metadata": {},
   "source": [
    "The Annual income ranges from 1,896 USD to 6 Million USD with a mean annual income of around 70,000 USD\n",
    "We see a lot of outliers in the boxplot, they will be handled afterwards"
   ]
  },
  {
   "cell_type": "code",
   "execution_count": 15,
   "metadata": {
    "ExecuteTime": {
     "end_time": "2020-03-25T19:51:51.918145Z",
     "start_time": "2020-03-25T19:51:51.878822Z"
    }
   },
   "outputs": [
    {
     "data": {
      "text/html": [
       "<div>\n",
       "<style scoped>\n",
       "    .dataframe tbody tr th:only-of-type {\n",
       "        vertical-align: middle;\n",
       "    }\n",
       "\n",
       "    .dataframe tbody tr th {\n",
       "        vertical-align: top;\n",
       "    }\n",
       "\n",
       "    .dataframe thead th {\n",
       "        text-align: right;\n",
       "    }\n",
       "</style>\n",
       "<table border=\"1\" class=\"dataframe\">\n",
       "  <thead>\n",
       "    <tr style=\"text-align: right;\">\n",
       "      <th></th>\n",
       "      <th>count</th>\n",
       "      <th>mean</th>\n",
       "      <th>std</th>\n",
       "      <th>min</th>\n",
       "      <th>25%</th>\n",
       "      <th>50%</th>\n",
       "      <th>75%</th>\n",
       "      <th>max</th>\n",
       "    </tr>\n",
       "    <tr>\n",
       "      <th>target</th>\n",
       "      <th></th>\n",
       "      <th></th>\n",
       "      <th></th>\n",
       "      <th></th>\n",
       "      <th></th>\n",
       "      <th></th>\n",
       "      <th></th>\n",
       "      <th></th>\n",
       "    </tr>\n",
       "  </thead>\n",
       "  <tbody>\n",
       "    <tr>\n",
       "      <th>0.0</th>\n",
       "      <td>5842.0</td>\n",
       "      <td>63670.0</td>\n",
       "      <td>49235.0</td>\n",
       "      <td>3600.0</td>\n",
       "      <td>38000.0</td>\n",
       "      <td>54000.0</td>\n",
       "      <td>75000.0</td>\n",
       "      <td>1250000.0</td>\n",
       "    </tr>\n",
       "    <tr>\n",
       "      <th>1.0</th>\n",
       "      <td>32976.0</td>\n",
       "      <td>70135.0</td>\n",
       "      <td>66699.0</td>\n",
       "      <td>1896.0</td>\n",
       "      <td>42000.0</td>\n",
       "      <td>60000.0</td>\n",
       "      <td>84000.0</td>\n",
       "      <td>6000000.0</td>\n",
       "    </tr>\n",
       "  </tbody>\n",
       "</table>\n",
       "</div>"
      ],
      "text/plain": [
       "          count     mean      std     min      25%      50%      75%  \\\n",
       "target                                                                 \n",
       "0.0      5842.0  63670.0  49235.0  3600.0  38000.0  54000.0  75000.0   \n",
       "1.0     32976.0  70135.0  66699.0  1896.0  42000.0  60000.0  84000.0   \n",
       "\n",
       "              max  \n",
       "target             \n",
       "0.0     1250000.0  \n",
       "1.0     6000000.0  "
      ]
     },
     "execution_count": 15,
     "metadata": {},
     "output_type": "execute_result"
    }
   ],
   "source": [
    "df_eda.groupby('target').annual_inc.describe().round()"
   ]
  },
  {
   "cell_type": "markdown",
   "metadata": {},
   "source": [
    "## Debt-to-income-ratio or short: dti"
   ]
  },
  {
   "cell_type": "markdown",
   "metadata": {},
   "source": [
    "A ratio calculated using the borrower’s total monthly debt payments on the total debt obligations, excluding mortgage and the requested LC loan, divided by the borrower’s self-reported monthly income (how much you earn befor interest and taxes)\n",
    "\n",
    "For further information please see the following information of the Lending Club:\n",
    "[LendingClub: DTI](https://www.lendingclub.com/loans/resource-center/calculating-debt-to-income)"
   ]
  },
  {
   "cell_type": "code",
   "execution_count": 81,
   "metadata": {
    "ExecuteTime": {
     "end_time": "2020-03-25T22:01:23.690445Z",
     "start_time": "2020-03-25T22:01:23.676004Z"
    }
   },
   "outputs": [
    {
     "data": {
      "text/plain": [
       "count    38818.000000\n",
       "mean        13.430969\n",
       "std          6.700566\n",
       "min          0.000000\n",
       "25%          8.300000\n",
       "50%         13.530000\n",
       "75%         18.720000\n",
       "max         29.990000\n",
       "Name: dti, dtype: float64"
      ]
     },
     "execution_count": 81,
     "metadata": {},
     "output_type": "execute_result"
    }
   ],
   "source": [
    "df_eda.dti.describe()"
   ]
  },
  {
   "cell_type": "code",
   "execution_count": 90,
   "metadata": {
    "ExecuteTime": {
     "end_time": "2020-03-25T22:13:15.604524Z",
     "start_time": "2020-03-25T22:13:15.131494Z"
    }
   },
   "outputs": [
    {
     "data": {
      "text/plain": [
       "<matplotlib.axes._subplots.AxesSubplot at 0x1a21299240>"
      ]
     },
     "execution_count": 90,
     "metadata": {},
     "output_type": "execute_result"
    },
    {
     "data": {
      "image/png": "[encoded data removed]",
      "text/plain": [
       "<Figure size 432x288 with 1 Axes>"
      ]
     },
     "metadata": {},
     "output_type": "display_data"
    }
   ],
   "source": [
    "sns.distplot(df_eda.dti,color='r')"
   ]
  },
  {
   "cell_type": "code",
   "execution_count": 88,
   "metadata": {
    "ExecuteTime": {
     "end_time": "2020-03-25T22:11:09.747586Z",
     "start_time": "2020-03-25T22:11:09.719741Z"
    }
   },
   "outputs": [
    {
     "data": {
      "text/html": [
       "<div>\n",
       "<style scoped>\n",
       "    .dataframe tbody tr th:only-of-type {\n",
       "        vertical-align: middle;\n",
       "    }\n",
       "\n",
       "    .dataframe tbody tr th {\n",
       "        vertical-align: top;\n",
       "    }\n",
       "\n",
       "    .dataframe thead th {\n",
       "        text-align: right;\n",
       "    }\n",
       "</style>\n",
       "<table border=\"1\" class=\"dataframe\">\n",
       "  <thead>\n",
       "    <tr style=\"text-align: right;\">\n",
       "      <th></th>\n",
       "      <th>count</th>\n",
       "      <th>mean</th>\n",
       "      <th>std</th>\n",
       "      <th>min</th>\n",
       "      <th>25%</th>\n",
       "      <th>50%</th>\n",
       "      <th>75%</th>\n",
       "      <th>max</th>\n",
       "    </tr>\n",
       "    <tr>\n",
       "      <th>target</th>\n",
       "      <th></th>\n",
       "      <th></th>\n",
       "      <th></th>\n",
       "      <th></th>\n",
       "      <th></th>\n",
       "      <th></th>\n",
       "      <th></th>\n",
       "      <th></th>\n",
       "    </tr>\n",
       "  </thead>\n",
       "  <tbody>\n",
       "    <tr>\n",
       "      <th>0.0</th>\n",
       "      <td>5842.0</td>\n",
       "      <td>14.157694</td>\n",
       "      <td>6.631923</td>\n",
       "      <td>0.0</td>\n",
       "      <td>9.2400</td>\n",
       "      <td>14.46</td>\n",
       "      <td>19.40</td>\n",
       "      <td>29.96</td>\n",
       "    </tr>\n",
       "    <tr>\n",
       "      <th>1.0</th>\n",
       "      <td>32976.0</td>\n",
       "      <td>13.302223</td>\n",
       "      <td>6.704544</td>\n",
       "      <td>0.0</td>\n",
       "      <td>8.1375</td>\n",
       "      <td>13.37</td>\n",
       "      <td>18.59</td>\n",
       "      <td>29.99</td>\n",
       "    </tr>\n",
       "  </tbody>\n",
       "</table>\n",
       "</div>"
      ],
      "text/plain": [
       "          count       mean       std  min     25%    50%    75%    max\n",
       "target                                                                \n",
       "0.0      5842.0  14.157694  6.631923  0.0  9.2400  14.46  19.40  29.96\n",
       "1.0     32976.0  13.302223  6.704544  0.0  8.1375  13.37  18.59  29.99"
      ]
     },
     "execution_count": 88,
     "metadata": {},
     "output_type": "execute_result"
    }
   ],
   "source": [
    "df_eda.groupby('target').dti.describe()"
   ]
  },
  {
   "cell_type": "markdown",
   "metadata": {},
   "source": [
    "In general the dti ranges from 0 (Absolutely no debt) to around 30% \n",
    "We see a little difference in the DTI between the 'Defaults' and the 'Fully Paid'.\n",
    "Additionally this should be a percentage. Will be handled in the following cleaning section"
   ]
  },
  {
   "cell_type": "markdown",
   "metadata": {},
   "source": [
    "## loan_amnt"
   ]
  },
  {
   "cell_type": "markdown",
   "metadata": {},
   "source": [
    "\"The listed amount of the loan applied for by the borrower. If at some point in time, the credit department reduces the loan amount, then it will be reflected in this value.\""
   ]
  },
  {
   "cell_type": "code",
   "execution_count": 16,
   "metadata": {
    "ExecuteTime": {
     "end_time": "2020-03-25T19:51:51.940752Z",
     "start_time": "2020-03-25T19:51:51.926982Z"
    }
   },
   "outputs": [
    {
     "data": {
      "text/plain": [
       "count    38818.00\n",
       "mean     11010.23\n",
       "std       7280.11\n",
       "min        500.00\n",
       "25%       5300.00\n",
       "50%       9600.00\n",
       "75%      15000.00\n",
       "max      35000.00\n",
       "Name: loan_amnt, dtype: float64"
      ]
     },
     "execution_count": 16,
     "metadata": {},
     "output_type": "execute_result"
    }
   ],
   "source": [
    "df_eda.loan_amnt.describe().round(2)"
   ]
  },
  {
   "cell_type": "markdown",
   "metadata": {},
   "source": [
    "The Loan Amount ranges from min. 500 USD to max. 35,000 USD with a mean of around 11,000 USD"
   ]
  },
  {
   "cell_type": "code",
   "execution_count": 17,
   "metadata": {
    "ExecuteTime": {
     "end_time": "2020-03-25T19:51:52.006077Z",
     "start_time": "2020-03-25T19:51:51.942881Z"
    }
   },
   "outputs": [
    {
     "data": {
      "text/html": [
       "<div>\n",
       "<style scoped>\n",
       "    .dataframe tbody tr th:only-of-type {\n",
       "        vertical-align: middle;\n",
       "    }\n",
       "\n",
       "    .dataframe tbody tr th {\n",
       "        vertical-align: top;\n",
       "    }\n",
       "\n",
       "    .dataframe thead th {\n",
       "        text-align: right;\n",
       "    }\n",
       "</style>\n",
       "<table border=\"1\" class=\"dataframe\">\n",
       "  <thead>\n",
       "    <tr style=\"text-align: right;\">\n",
       "      <th></th>\n",
       "      <th>count</th>\n",
       "      <th>mean</th>\n",
       "      <th>std</th>\n",
       "      <th>min</th>\n",
       "      <th>25%</th>\n",
       "      <th>50%</th>\n",
       "      <th>75%</th>\n",
       "      <th>max</th>\n",
       "    </tr>\n",
       "    <tr>\n",
       "      <th>target</th>\n",
       "      <th></th>\n",
       "      <th></th>\n",
       "      <th></th>\n",
       "      <th></th>\n",
       "      <th></th>\n",
       "      <th></th>\n",
       "      <th></th>\n",
       "      <th></th>\n",
       "    </tr>\n",
       "  </thead>\n",
       "  <tbody>\n",
       "    <tr>\n",
       "      <th>0.0</th>\n",
       "      <td>5842.0</td>\n",
       "      <td>11965.285861</td>\n",
       "      <td>7936.351894</td>\n",
       "      <td>600.0</td>\n",
       "      <td>5600.0</td>\n",
       "      <td>10000.0</td>\n",
       "      <td>16000.0</td>\n",
       "      <td>35000.0</td>\n",
       "    </tr>\n",
       "    <tr>\n",
       "      <th>1.0</th>\n",
       "      <td>32976.0</td>\n",
       "      <td>10841.029840</td>\n",
       "      <td>7144.408536</td>\n",
       "      <td>500.0</td>\n",
       "      <td>5200.0</td>\n",
       "      <td>9600.0</td>\n",
       "      <td>15000.0</td>\n",
       "      <td>35000.0</td>\n",
       "    </tr>\n",
       "  </tbody>\n",
       "</table>\n",
       "</div>"
      ],
      "text/plain": [
       "          count          mean          std    min     25%      50%      75%  \\\n",
       "target                                                                        \n",
       "0.0      5842.0  11965.285861  7936.351894  600.0  5600.0  10000.0  16000.0   \n",
       "1.0     32976.0  10841.029840  7144.408536  500.0  5200.0   9600.0  15000.0   \n",
       "\n",
       "            max  \n",
       "target           \n",
       "0.0     35000.0  \n",
       "1.0     35000.0  "
      ]
     },
     "execution_count": 17,
     "metadata": {},
     "output_type": "execute_result"
    }
   ],
   "source": [
    "df_eda.groupby('target')['loan_amnt'].describe()"
   ]
  },
  {
   "cell_type": "code",
   "execution_count": 18,
   "metadata": {
    "ExecuteTime": {
     "end_time": "2020-03-25T19:51:55.367106Z",
     "start_time": "2020-03-25T19:51:52.009272Z"
    }
   },
   "outputs": [
    {
     "name": "stdout",
     "output_type": "stream",
     "text": [
      "Saving figure loan_amount_dist\n"
     ]
    },
    {
     "data": {
      "image/png": "[encoded data removed]",
      "text/plain": [
       "<Figure size 1440x432 with 2 Axes>"
      ]
     },
     "metadata": {},
     "output_type": "display_data"
    }
   ],
   "source": [
    "fig, (ax1, ax2) = plt.subplots(1, 2, figsize=(20,6))\n",
    "fig=df_eda.loan_amnt.hist(bins=50,ax=ax1)\n",
    "fig=sns.boxplot(x='loan_amnt',data=df_eda,ax=ax2)\n",
    "save_fig('eda', 'loan_amount_dist')"
   ]
  },
  {
   "cell_type": "markdown",
   "metadata": {
    "ExecuteTime": {
     "end_time": "2020-03-25T12:18:07.649508Z",
     "start_time": "2020-03-25T12:18:07.637325Z"
    }
   },
   "source": [
    "## Distribution of term"
   ]
  },
  {
   "cell_type": "markdown",
   "metadata": {},
   "source": [
    "\"The number of payments on the loan. Values are in months and can be either 36 or 60.\""
   ]
  },
  {
   "cell_type": "code",
   "execution_count": 19,
   "metadata": {
    "ExecuteTime": {
     "end_time": "2020-03-25T19:51:55.382443Z",
     "start_time": "2020-03-25T19:51:55.369905Z"
    }
   },
   "outputs": [
    {
     "data": {
      "text/plain": [
       "36m    0.754701\n",
       "60m    0.245299\n",
       "Name: term, dtype: float64"
      ]
     },
     "execution_count": 19,
     "metadata": {},
     "output_type": "execute_result"
    }
   ],
   "source": [
    "df_eda.term.value_counts(normalize=True)"
   ]
  },
  {
   "cell_type": "code",
   "execution_count": 20,
   "metadata": {
    "ExecuteTime": {
     "end_time": "2020-03-25T19:51:56.142521Z",
     "start_time": "2020-03-25T19:51:55.384497Z"
    }
   },
   "outputs": [
    {
     "name": "stdout",
     "output_type": "stream",
     "text": [
      "Saving figure default_rate_by_term\n"
     ]
    },
    {
     "data": {
      "image/png": "[encoded data removed]",
      "text/plain": [
       "<Figure size 432x288 with 1 Axes>"
      ]
     },
     "metadata": {},
     "output_type": "display_data"
    }
   ],
   "source": [
    "term = pd.crosstab(df_eda.term, df_eda.target)\n",
    "term = term.div(term.sum(1).astype(float),axis=0)\n",
    "term.plot(kind='bar', stacked=True, title='Default rate by term')\n",
    "plt.xlabel('Term')\n",
    "plt.legend(loc='center left', bbox_to_anchor=(1, 0.5));\n",
    "save_fig('eda','default_rate_by_term')"
   ]
  },
  {
   "cell_type": "code",
   "execution_count": 21,
   "metadata": {
    "ExecuteTime": {
     "end_time": "2020-03-25T19:51:56.163974Z",
     "start_time": "2020-03-25T19:51:56.145286Z"
    }
   },
   "outputs": [
    {
     "data": {
      "text/plain": [
       "term  target\n",
       "36m   1.0       0.881417\n",
       "      0.0       0.118583\n",
       "60m   1.0       0.751313\n",
       "      0.0       0.248687\n",
       "Name: target, dtype: float64"
      ]
     },
     "execution_count": 21,
     "metadata": {},
     "output_type": "execute_result"
    }
   ],
   "source": [
    "df_eda.groupby('term').target.value_counts(normalize=True)"
   ]
  },
  {
   "cell_type": "markdown",
   "metadata": {},
   "source": [
    "We can see, that 75% of the loans have a period of three years while the other 25% have to be paid back in 60 month or 5 years.\n",
    "The default rate for the 60month period is a lot higher than for 36month (25% vs. 12%)"
   ]
  },
  {
   "cell_type": "markdown",
   "metadata": {},
   "source": [
    "## Purpose"
   ]
  },
  {
   "cell_type": "code",
   "execution_count": 94,
   "metadata": {
    "ExecuteTime": {
     "end_time": "2020-03-25T22:19:05.661564Z",
     "start_time": "2020-03-25T22:19:04.678554Z"
    }
   },
   "outputs": [
    {
     "name": "stdout",
     "output_type": "stream",
     "text": [
      "Saving figure purpose_distribution\n"
     ]
    },
    {
     "data": {
      "image/png": "[encoded data removed]",
      "text/plain": [
       "<Figure size 432x288 with 1 Axes>"
      ]
     },
     "metadata": {},
     "output_type": "display_data"
    }
   ],
   "source": [
    "sns.countplot(y='purpose', data=df_eda)\n",
    "save_fig('eda','purpose_distribution')"
   ]
  },
  {
   "cell_type": "code",
   "execution_count": 101,
   "metadata": {
    "ExecuteTime": {
     "end_time": "2020-03-25T22:38:04.662638Z",
     "start_time": "2020-03-25T22:38:04.647721Z"
    }
   },
   "outputs": [
    {
     "data": {
      "text/plain": [
       "purpose\n",
       "major_purchase        0.103383\n",
       "wedding               0.109589\n",
       "credit_card           0.109698\n",
       "car                   0.109987\n",
       "home_improvement      0.129514\n",
       "vacation              0.148148\n",
       "debt_consolidation    0.156757\n",
       "moving                0.164336\n",
       "medical               0.168605\n",
       "house                 0.168865\n",
       "other                 0.172509\n",
       "renewable_energy      0.186813\n",
       "educational           0.211640\n",
       "small_business        0.285164\n",
       "Name: target, dtype: float64"
      ]
     },
     "execution_count": 101,
     "metadata": {},
     "output_type": "execute_result"
    }
   ],
   "source": [
    "df_eda.groupby('purpose').target.value_counts(normalize=True).loc[:,0].sort_values()"
   ]
  },
  {
   "cell_type": "markdown",
   "metadata": {
    "ExecuteTime": {
     "end_time": "2020-03-25T22:40:14.023283Z",
     "start_time": "2020-03-25T22:40:14.018067Z"
    }
   },
   "source": [
    "We can see that the default rate differs a lot between the different purposes.\n",
    "So this could be an interesting feature. But the distribution among the different purposes should be taken into account.\n",
    "All in all this shows that the major part of the loans is used for credit card or debt consolidation but the highest default rate occurs for small business loans"
   ]
  },
  {
   "cell_type": "markdown",
   "metadata": {},
   "source": [
    "## Exploring the Grading System"
   ]
  },
  {
   "cell_type": "code",
   "execution_count": 93,
   "metadata": {
    "ExecuteTime": {
     "end_time": "2020-03-25T22:18:43.670593Z",
     "start_time": "2020-03-25T22:18:42.693064Z"
    }
   },
   "outputs": [
    {
     "name": "stdout",
     "output_type": "stream",
     "text": [
      "Saving figure grade_distribution\n"
     ]
    },
    {
     "data": {
      "image/png": "[encoded data removed]",
      "text/plain": [
       "<Figure size 432x288 with 1 Axes>"
      ]
     },
     "metadata": {},
     "output_type": "display_data"
    }
   ],
   "source": [
    "sns.countplot(y='grade',data=df_eda.sort_values('grade'))\n",
    "save_fig('eda','grade_distribution')"
   ]
  },
  {
   "cell_type": "code",
   "execution_count": 23,
   "metadata": {
    "ExecuteTime": {
     "end_time": "2020-03-25T19:51:57.709330Z",
     "start_time": "2020-03-25T19:51:56.978015Z"
    }
   },
   "outputs": [
    {
     "name": "stdout",
     "output_type": "stream",
     "text": [
      "Saving figure default_rate_by_grade\n"
     ]
    },
    {
     "data": {
      "image/png": "[encoded data removed]",
      "text/plain": [
       "<Figure size 432x288 with 1 Axes>"
      ]
     },
     "metadata": {},
     "output_type": "display_data"
    }
   ],
   "source": [
    "target = pd.crosstab(df_eda.grade, df_eda.target)\n",
    "target = target.div(target.sum(1).astype(float),axis=0)\n",
    "target.plot(kind='bar', stacked=True, title='Default rate by subgrade')\n",
    "plt.xlabel('Grade')\n",
    "plt.legend(loc='center left', bbox_to_anchor=(1, 0.5));\n",
    "save_fig('eda','default_rate_by_grade')"
   ]
  },
  {
   "cell_type": "code",
   "execution_count": 95,
   "metadata": {
    "ExecuteTime": {
     "end_time": "2020-03-25T22:19:24.014273Z",
     "start_time": "2020-03-25T22:19:22.994817Z"
    }
   },
   "outputs": [
    {
     "name": "stdout",
     "output_type": "stream",
     "text": [
      "Saving figure grade_count_by_target\n"
     ]
    },
    {
     "data": {
      "image/png": "[encoded data removed]",
      "text/plain": [
       "<Figure size 432x288 with 1 Axes>"
      ]
     },
     "metadata": {},
     "output_type": "display_data"
    }
   ],
   "source": [
    "sns.countplot(y='target',data=df_eda.sort_values('grade'), hue='grade')\n",
    "save_fig('eda','grade_count_by_target')"
   ]
  },
  {
   "cell_type": "markdown",
   "metadata": {},
   "source": [
    "### Grade vs. subgrade"
   ]
  },
  {
   "cell_type": "code",
   "execution_count": 30,
   "metadata": {
    "ExecuteTime": {
     "end_time": "2020-03-25T19:53:51.748531Z",
     "start_time": "2020-03-25T19:53:45.934447Z"
    }
   },
   "outputs": [
    {
     "name": "stdout",
     "output_type": "stream",
     "text": [
      "Saving figure int_rate_over_subgrade\n"
     ]
    },
    {
     "data": {
      "image/png": "[encoded data removed]",
      "text/plain": [
       "<Figure size 1080x900 with 2 Axes>"
      ]
     },
     "metadata": {},
     "output_type": "display_data"
    }
   ],
   "source": [
    "# predicting interest_rate \n",
    "f, (ax1, ax2) = plt.subplots(nrows=1, ncols=2, figsize=(12,10), dpi=90)\n",
    "g= sns.scatterplot(x='sub_grade',y='int_rate',data=df_eda.query('target==1').sort_values('sub_grade'),alpha=.5,ax=ax1)\n",
    "g= sns.scatterplot(x='sub_grade',y='int_rate',data=df_eda.query('target==0').sort_values('sub_grade'),alpha=.5,ax=ax2)\n",
    "plt.setp(ax1.get_xticklabels(), rotation=90)\n",
    "plt.setp(ax2.get_xticklabels(), rotation=90)\n",
    "save_fig('eda','int_rate_over_subgrade');"
   ]
  },
  {
   "cell_type": "markdown",
   "metadata": {},
   "source": [
    "We can see some outliers: Very low interest rates even if the grade is not that good"
   ]
  },
  {
   "cell_type": "markdown",
   "metadata": {},
   "source": [
    "### Reverse Engineering Grade System (Try)"
   ]
  },
  {
   "cell_type": "code",
   "execution_count": null,
   "metadata": {},
   "outputs": [],
   "source": [
    "# Label Encoder for Grade befor heatmap\n",
    "# Trafo funktion selbst"
   ]
  },
  {
   "cell_type": "code",
   "execution_count": null,
   "metadata": {
    "ExecuteTime": {
     "end_time": "2020-03-25T19:51:58.013358Z",
     "start_time": "2020-03-25T19:51:47.805Z"
    },
    "scrolled": true
   },
   "outputs": [],
   "source": [
    "# heatmap of subgrades to determine highly correlated features\n",
    "### DOES NOT WORK SO FAR: DUMMIES for Grade!\n",
    "k = 10 #number of variables for heatmap\n",
    "cols = df_eda.corr().nlargest(k, 'grade')['grade'].index\n",
    "cm = np.corrcoef(df_eda[cols].values.T)\n",
    "sns.set(font_scale=1.25)\n",
    "hm = sns.heatmap(cm, cbar=True, annot=True, square=True, fmt='.2f', annot_kws={'size': 10}, yticklabels=cols.values, xticklabels=cols.values)\n",
    "#plt.savefig('figures/price_correlation_matrix_grade')"
   ]
  },
  {
   "cell_type": "markdown",
   "metadata": {},
   "source": [
    "### do the gradesystem work"
   ]
  },
  {
   "cell_type": "code",
   "execution_count": 31,
   "metadata": {
    "ExecuteTime": {
     "end_time": "2020-03-25T19:54:17.183292Z",
     "start_time": "2020-03-25T19:54:17.149226Z"
    }
   },
   "outputs": [
    {
     "data": {
      "text/html": [
       "<div>\n",
       "<style scoped>\n",
       "    .dataframe tbody tr th:only-of-type {\n",
       "        vertical-align: middle;\n",
       "    }\n",
       "\n",
       "    .dataframe tbody tr th {\n",
       "        vertical-align: top;\n",
       "    }\n",
       "\n",
       "    .dataframe thead th {\n",
       "        text-align: right;\n",
       "    }\n",
       "</style>\n",
       "<table border=\"1\" class=\"dataframe\">\n",
       "  <thead>\n",
       "    <tr style=\"text-align: right;\">\n",
       "      <th>grade</th>\n",
       "      <th>A</th>\n",
       "      <th>B</th>\n",
       "      <th>C</th>\n",
       "      <th>D</th>\n",
       "      <th>E</th>\n",
       "      <th>F</th>\n",
       "      <th>G</th>\n",
       "    </tr>\n",
       "    <tr>\n",
       "      <th>target</th>\n",
       "      <th></th>\n",
       "      <th></th>\n",
       "      <th></th>\n",
       "      <th></th>\n",
       "      <th></th>\n",
       "      <th></th>\n",
       "      <th></th>\n",
       "    </tr>\n",
       "  </thead>\n",
       "  <tbody>\n",
       "    <tr>\n",
       "      <th>0.0</th>\n",
       "      <td>0.057024</td>\n",
       "      <td>0.121938</td>\n",
       "      <td>0.17012</td>\n",
       "      <td>0.222019</td>\n",
       "      <td>0.26756</td>\n",
       "      <td>0.32528</td>\n",
       "      <td>0.339827</td>\n",
       "    </tr>\n",
       "    <tr>\n",
       "      <th>1.0</th>\n",
       "      <td>0.942976</td>\n",
       "      <td>0.878062</td>\n",
       "      <td>0.82988</td>\n",
       "      <td>0.777981</td>\n",
       "      <td>0.73244</td>\n",
       "      <td>0.67472</td>\n",
       "      <td>0.660173</td>\n",
       "    </tr>\n",
       "  </tbody>\n",
       "</table>\n",
       "</div>"
      ],
      "text/plain": [
       "grade          A         B        C         D        E        F         G\n",
       "target                                                                   \n",
       "0.0     0.057024  0.121938  0.17012  0.222019  0.26756  0.32528  0.339827\n",
       "1.0     0.942976  0.878062  0.82988  0.777981  0.73244  0.67472  0.660173"
      ]
     },
     "execution_count": 31,
     "metadata": {},
     "output_type": "execute_result"
    }
   ],
   "source": [
    "# default rate by grade: should be higher by worse grades\n",
    "loan_grade = ['target', 'grade']\n",
    "pd.crosstab(df_eda[loan_grade[0]], df_eda[loan_grade[1]], normalize='columns')"
   ]
  },
  {
   "cell_type": "markdown",
   "metadata": {},
   "source": [
    "As we can see from the table above and the figure in 6.7 the grading system of Lending Club seems to work generally as the default rate is gettting higher if the grade is getting worse"
   ]
  },
  {
   "cell_type": "markdown",
   "metadata": {},
   "source": [
    "## Influence of location"
   ]
  },
  {
   "cell_type": "markdown",
   "metadata": {
    "ExecuteTime": {
     "end_time": "2020-03-25T15:51:56.558230Z",
     "start_time": "2020-03-25T15:51:56.552151Z"
    }
   },
   "source": [
    "In the dataset we see two features which are related to the location of the member:\n",
    "* first 3 digits of the zipcode\n",
    "* state, where the borrower is located\n",
    "\n",
    "At this state we will drop zip code as it has a lot of different features and keep the state\n"
   ]
  },
  {
   "cell_type": "code",
   "execution_count": 32,
   "metadata": {
    "ExecuteTime": {
     "end_time": "2020-03-25T19:54:21.701473Z",
     "start_time": "2020-03-25T19:54:21.691894Z"
    }
   },
   "outputs": [
    {
     "name": "stdout",
     "output_type": "stream",
     "text": [
      "Unique values in zipcode:  831\n",
      "Unique values in state:  50\n"
     ]
    }
   ],
   "source": [
    "print('Unique values in zipcode: ',df_eda.zip_code.nunique())\n",
    "print('Unique values in state: ', df_eda.addr_state.nunique())"
   ]
  },
  {
   "cell_type": "code",
   "execution_count": 33,
   "metadata": {
    "ExecuteTime": {
     "end_time": "2020-03-25T19:54:26.447814Z",
     "start_time": "2020-03-25T19:54:22.530450Z"
    }
   },
   "outputs": [
    {
     "name": "stdout",
     "output_type": "stream",
     "text": [
      "Saving figure default_rate_by_state\n"
     ]
    },
    {
     "data": {
      "image/png": "[encoded data removed]",
      "text/plain": [
       "<Figure size 1440x576 with 1 Axes>"
      ]
     },
     "metadata": {},
     "output_type": "display_data"
    }
   ],
   "source": [
    "state = pd.crosstab(df_eda.addr_state , df_eda.target)\n",
    "state = state.div(state.sum(1).astype(float), axis=0).sort_values(0)\n",
    "state.plot(kind='bar', stacked=True, title='Loan Status Based on State of Borrower', figsize=(20,8))\n",
    "plt.xlabel('State')\n",
    "plt.legend(loc='center left', bbox_to_anchor=(1, 0.5))\n",
    "save_fig('eda','default_rate_by_state');"
   ]
  },
  {
   "cell_type": "code",
   "execution_count": 34,
   "metadata": {
    "ExecuteTime": {
     "end_time": "2020-03-25T19:54:31.197437Z",
     "start_time": "2020-03-25T19:54:27.922326Z"
    }
   },
   "outputs": [
    {
     "name": "stdout",
     "output_type": "stream",
     "text": [
      "Saving figure number_of_defaulted_loans_by_state\n"
     ]
    },
    {
     "data": {
      "image/png": "[encoded data removed]",
      "text/plain": [
       "<Figure size 1296x720 with 1 Axes>"
      ]
     },
     "metadata": {},
     "output_type": "display_data"
    }
   ],
   "source": [
    "fig = plt.figure(figsize=(18,10))\n",
    "df_eda[df_eda['target']==0].groupby('addr_state')['target'].count().sort_values().plot(kind='barh')\n",
    "plt.xlabel('Number of loans',fontsize=15)\n",
    "plt.title('Number of defaulted loans per state',fontsize=20)\n",
    "save_fig('eda','number_of_defaulted_loans_by_state');"
   ]
  },
  {
   "cell_type": "code",
   "execution_count": 15,
   "metadata": {
    "ExecuteTime": {
     "end_time": "2020-03-26T08:34:55.406465Z",
     "start_time": "2020-03-26T08:34:55.348847Z"
    }
   },
   "outputs": [
    {
     "data": {
      "text/plain": [
       "addr_state  target\n",
       "AK          1.0       0.787500\n",
       "            0.0       0.212500\n",
       "AL          1.0       0.873016\n",
       "            0.0       0.126984\n",
       "AR          1.0       0.872881\n",
       "            0.0       0.127119\n",
       "AZ          1.0       0.849332\n",
       "            0.0       0.150668\n",
       "CA          1.0       0.836845\n",
       "            0.0       0.163155\n",
       "CO          1.0       0.875000\n",
       "            0.0       0.125000\n",
       "CT          1.0       0.873611\n",
       "            0.0       0.126389\n",
       "DC          1.0       0.920930\n",
       "            0.0       0.079070\n",
       "DE          1.0       0.884615\n",
       "            0.0       0.115385\n",
       "FL          1.0       0.813995\n",
       "            0.0       0.186005\n",
       "GA          1.0       0.827887\n",
       "            0.0       0.172113\n",
       "HI          1.0       0.831250\n",
       "            0.0       0.168750\n",
       "IA          1.0       0.833333\n",
       "            0.0       0.166667\n",
       "ID          1.0       0.875000\n",
       "            0.0       0.125000\n",
       "IL          1.0       0.853896\n",
       "            0.0       0.146104\n",
       "                        ...   \n",
       "OK          1.0       0.853741\n",
       "            0.0       0.146259\n",
       "OR          1.0       0.840476\n",
       "            0.0       0.159524\n",
       "PA          1.0       0.865347\n",
       "            0.0       0.134653\n",
       "RI          1.0       0.863636\n",
       "            0.0       0.136364\n",
       "SC          1.0       0.861607\n",
       "            0.0       0.138393\n",
       "SD          1.0       0.827586\n",
       "            0.0       0.172414\n",
       "TN          1.0       0.800000\n",
       "            0.0       0.200000\n",
       "TX          1.0       0.872404\n",
       "            0.0       0.127596\n",
       "UT          1.0       0.843137\n",
       "            0.0       0.156863\n",
       "VA          1.0       0.867444\n",
       "            0.0       0.132556\n",
       "VT          1.0       0.865385\n",
       "            0.0       0.134615\n",
       "WA          1.0       0.837531\n",
       "            0.0       0.162469\n",
       "WI          1.0       0.860000\n",
       "            0.0       0.140000\n",
       "WV          1.0       0.863095\n",
       "            0.0       0.136905\n",
       "WY          1.0       0.962025\n",
       "            0.0       0.037975\n",
       "Name: target, Length: 99, dtype: float64"
      ]
     },
     "execution_count": 15,
     "metadata": {},
     "output_type": "execute_result"
    }
   ],
   "source": [
    "df_eda.groupby('addr_state')['target'].value_counts(normalize=True)"
   ]
  },
  {
   "cell_type": "markdown",
   "metadata": {},
   "source": [
    "It can be seen that there seems to be an impact of the state where a member comes from. But as the number of loans differ a lot by state this needs to be examined in more detail to to able to be more precise on this"
   ]
  },
  {
   "cell_type": "markdown",
   "metadata": {},
   "source": [
    "## verification_status vs. annual_inc"
   ]
  },
  {
   "cell_type": "markdown",
   "metadata": {},
   "source": [
    "Now let's have a short look on the verification status. It says if the income statet by the member is verified by Lending club or a third source"
   ]
  },
  {
   "cell_type": "code",
   "execution_count": 35,
   "metadata": {
    "ExecuteTime": {
     "end_time": "2020-03-25T19:54:33.390622Z",
     "start_time": "2020-03-25T19:54:33.355644Z"
    }
   },
   "outputs": [
    {
     "data": {
      "text/html": [
       "<div>\n",
       "<style scoped>\n",
       "    .dataframe tbody tr th:only-of-type {\n",
       "        vertical-align: middle;\n",
       "    }\n",
       "\n",
       "    .dataframe tbody tr th {\n",
       "        vertical-align: top;\n",
       "    }\n",
       "\n",
       "    .dataframe thead th {\n",
       "        text-align: right;\n",
       "    }\n",
       "</style>\n",
       "<table border=\"1\" class=\"dataframe\">\n",
       "  <thead>\n",
       "    <tr style=\"text-align: right;\">\n",
       "      <th></th>\n",
       "      <th>count</th>\n",
       "      <th>mean</th>\n",
       "      <th>std</th>\n",
       "      <th>min</th>\n",
       "      <th>25%</th>\n",
       "      <th>50%</th>\n",
       "      <th>75%</th>\n",
       "      <th>max</th>\n",
       "    </tr>\n",
       "    <tr>\n",
       "      <th>verification_status</th>\n",
       "      <th></th>\n",
       "      <th></th>\n",
       "      <th></th>\n",
       "      <th></th>\n",
       "      <th></th>\n",
       "      <th></th>\n",
       "      <th></th>\n",
       "      <th></th>\n",
       "    </tr>\n",
       "  </thead>\n",
       "  <tbody>\n",
       "    <tr>\n",
       "      <th>Not Verified</th>\n",
       "      <td>17177.0</td>\n",
       "      <td>61651.798286</td>\n",
       "      <td>58297.561901</td>\n",
       "      <td>1896.0</td>\n",
       "      <td>38400.0</td>\n",
       "      <td>52800.0</td>\n",
       "      <td>73909.00</td>\n",
       "      <td>3900000.0</td>\n",
       "    </tr>\n",
       "    <tr>\n",
       "      <th>Source Verified</th>\n",
       "      <td>9543.0</td>\n",
       "      <td>67942.557270</td>\n",
       "      <td>83673.775690</td>\n",
       "      <td>4800.0</td>\n",
       "      <td>39996.0</td>\n",
       "      <td>55000.0</td>\n",
       "      <td>79386.00</td>\n",
       "      <td>6000000.0</td>\n",
       "    </tr>\n",
       "    <tr>\n",
       "      <th>Verified</th>\n",
       "      <td>12098.0</td>\n",
       "      <td>80786.056437</td>\n",
       "      <td>52439.619698</td>\n",
       "      <td>6000.0</td>\n",
       "      <td>50000.0</td>\n",
       "      <td>70000.0</td>\n",
       "      <td>97691.25</td>\n",
       "      <td>1250000.0</td>\n",
       "    </tr>\n",
       "  </tbody>\n",
       "</table>\n",
       "</div>"
      ],
      "text/plain": [
       "                       count          mean           std     min      25%  \\\n",
       "verification_status                                                         \n",
       "Not Verified         17177.0  61651.798286  58297.561901  1896.0  38400.0   \n",
       "Source Verified       9543.0  67942.557270  83673.775690  4800.0  39996.0   \n",
       "Verified             12098.0  80786.056437  52439.619698  6000.0  50000.0   \n",
       "\n",
       "                         50%       75%        max  \n",
       "verification_status                                \n",
       "Not Verified         52800.0  73909.00  3900000.0  \n",
       "Source Verified      55000.0  79386.00  6000000.0  \n",
       "Verified             70000.0  97691.25  1250000.0  "
      ]
     },
     "execution_count": 35,
     "metadata": {},
     "output_type": "execute_result"
    }
   ],
   "source": [
    "df_eda.groupby('verification_status').annual_inc.describe()"
   ]
  },
  {
   "cell_type": "code",
   "execution_count": 36,
   "metadata": {
    "ExecuteTime": {
     "end_time": "2020-03-25T19:54:34.006393Z",
     "start_time": "2020-03-25T19:54:33.991923Z"
    }
   },
   "outputs": [
    {
     "data": {
      "text/plain": [
       "verification_status  target\n",
       "Not Verified         1.0       0.862083\n",
       "                     0.0       0.137917\n",
       "Source Verified      1.0       0.850257\n",
       "                     0.0       0.149743\n",
       "Verified             1.0       0.831046\n",
       "                     0.0       0.168954\n",
       "Name: target, dtype: float64"
      ]
     },
     "execution_count": 36,
     "metadata": {},
     "output_type": "execute_result"
    }
   ],
   "source": [
    "df_eda.groupby('verification_status').target.value_counts(normalize=True)"
   ]
  },
  {
   "cell_type": "code",
   "execution_count": 37,
   "metadata": {
    "ExecuteTime": {
     "end_time": "2020-03-25T19:54:34.627053Z",
     "start_time": "2020-03-25T19:54:34.590022Z"
    }
   },
   "outputs": [
    {
     "data": {
      "text/plain": [
       "Not Verified       0.442501\n",
       "Verified           0.311660\n",
       "Source Verified    0.245840\n",
       "Name: verification_status, dtype: float64"
      ]
     },
     "execution_count": 37,
     "metadata": {},
     "output_type": "execute_result"
    }
   ],
   "source": [
    "df_eda.verification_status.value_counts(normalize=True)"
   ]
  },
  {
   "cell_type": "code",
   "execution_count": 42,
   "metadata": {
    "ExecuteTime": {
     "end_time": "2020-03-25T19:56:28.471681Z",
     "start_time": "2020-03-25T19:56:26.823971Z"
    }
   },
   "outputs": [
    {
     "name": "stdout",
     "output_type": "stream",
     "text": [
      "Saving figure def_rate_by_verif\n"
     ]
    },
    {
     "data": {
      "image/png": "[encoded data removed]",
      "text/plain": [
       "<Figure size 864x504 with 1 Axes>"
      ]
     },
     "metadata": {},
     "output_type": "display_data"
    }
   ],
   "source": [
    "verif = pd.crosstab(df_eda.verification_status , df_eda.target)\n",
    "verif = verif.div(verif.sum(1).astype(float), axis=0).sort_values(0)\n",
    "verif.plot(kind='bar', stacked=True, title='Default Rate on Verification Status of Income', figsize=(12,7))\n",
    "plt.xlabel('Verification Status')\n",
    "plt.ylabel('Loan Status')\n",
    "plt.legend(loc='center left', bbox_to_anchor=(1, 0.5))\n",
    "save_fig('eda','def_rate_by_verif');"
   ]
  },
  {
   "cell_type": "markdown",
   "metadata": {},
   "source": [
    "## home ownership"
   ]
  },
  {
   "cell_type": "markdown",
   "metadata": {},
   "source": [
    "\"The home ownership status provided by the borrower during registration or obtained from the credit report. Our values are: RENT, OWN, MORTGAGE, OTHER.\""
   ]
  },
  {
   "cell_type": "code",
   "execution_count": 45,
   "metadata": {
    "ExecuteTime": {
     "end_time": "2020-03-25T19:57:11.496324Z",
     "start_time": "2020-03-25T19:57:11.485583Z"
    }
   },
   "outputs": [
    {
     "data": {
      "text/plain": [
       "RENT        0.481838\n",
       "MORTGAGE    0.443737\n",
       "OWN         0.071024\n",
       "OTHER       0.003400\n",
       "Name: home_ownership, dtype: float64"
      ]
     },
     "execution_count": 45,
     "metadata": {},
     "output_type": "execute_result"
    }
   ],
   "source": [
    "df_eda.home_ownership.value_counts(normalize=True)"
   ]
  },
  {
   "cell_type": "code",
   "execution_count": 46,
   "metadata": {
    "ExecuteTime": {
     "end_time": "2020-03-25T19:58:06.556134Z",
     "start_time": "2020-03-25T19:58:06.541296Z"
    }
   },
   "outputs": [
    {
     "data": {
      "text/plain": [
       "home_ownership  target\n",
       "MORTGAGE        1.0       0.858229\n",
       "                0.0       0.141771\n",
       "OTHER           1.0       0.772727\n",
       "                0.0       0.227273\n",
       "OWN             1.0       0.851650\n",
       "                0.0       0.148350\n",
       "RENT            1.0       0.841692\n",
       "                0.0       0.158308\n",
       "Name: target, dtype: float64"
      ]
     },
     "execution_count": 46,
     "metadata": {},
     "output_type": "execute_result"
    }
   ],
   "source": [
    "df_eda.groupby('home_ownership').target.value_counts(normalize=True)"
   ]
  },
  {
   "cell_type": "code",
   "execution_count": 51,
   "metadata": {
    "ExecuteTime": {
     "end_time": "2020-03-25T20:08:10.211471Z",
     "start_time": "2020-03-25T20:08:09.103913Z"
    }
   },
   "outputs": [
    {
     "name": "stdout",
     "output_type": "stream",
     "text": [
      "Saving figure impact_home_owner\n"
     ]
    },
    {
     "data": {
      "image/png": "[encoded data removed]",
      "text/plain": [
       "<Figure size 1080x216 with 2 Axes>"
      ]
     },
     "metadata": {},
     "output_type": "display_data"
    },
    {
     "data": {
      "image/png": "[encoded data removed]",
      "text/plain": [
       "<Figure size 864x216 with 1 Axes>"
      ]
     },
     "metadata": {},
     "output_type": "display_data"
    }
   ],
   "source": [
    "plot_var(df_eda, 'home_ownership', 'Home Ownership', continuous=False)\n",
    "save_fig('eda','impact_home_owner')"
   ]
  },
  {
   "cell_type": "code",
   "execution_count": null,
   "metadata": {},
   "outputs": [],
   "source": []
  },
  {
   "cell_type": "markdown",
   "metadata": {},
   "source": [
    "## financial impact of default"
   ]
  },
  {
   "cell_type": "code",
   "execution_count": null,
   "metadata": {
    "ExecuteTime": {
     "end_time": "2020-03-25T19:51:58.040491Z",
     "start_time": "2020-03-25T19:51:47.843Z"
    }
   },
   "outputs": [],
   "source": [
    "# loan_amnt vs. default rate\n",
    "# funded_amnt - total_rec_prncp\n",
    "# could be done"
   ]
  },
  {
   "cell_type": "markdown",
   "metadata": {},
   "source": [
    "# Data Cleaning 2"
   ]
  },
  {
   "cell_type": "markdown",
   "metadata": {},
   "source": [
    "Further Cleaning needed after the Exploratory Data Analysis"
   ]
  },
  {
   "cell_type": "code",
   "execution_count": 32,
   "metadata": {
    "ExecuteTime": {
     "end_time": "2020-03-26T09:07:07.828093Z",
     "start_time": "2020-03-26T09:07:07.776980Z"
    }
   },
   "outputs": [],
   "source": [
    "df_toclean2 = pd.read_pickle(DATA_FOLDER + 'clean_pass_01p1_PFemp_ident.pkl')"
   ]
  },
  {
   "cell_type": "markdown",
   "metadata": {},
   "source": [
    "## Outlier"
   ]
  },
  {
   "cell_type": "markdown",
   "metadata": {},
   "source": [
    "### Outlier Detection"
   ]
  },
  {
   "cell_type": "code",
   "execution_count": 33,
   "metadata": {
    "ExecuteTime": {
     "end_time": "2020-03-26T09:07:13.381055Z",
     "start_time": "2020-03-26T09:07:09.348502Z"
    }
   },
   "outputs": [
    {
     "data": {
      "image/png": "[encoded data removed]",
      "text/plain": [
       "<Figure size 432x288 with 1 Axes>"
      ]
     },
     "metadata": {},
     "output_type": "display_data"
    },
    {
     "data": {
      "image/png": "[encoded data removed]",
      "text/plain": [
       "<Figure size 432x288 with 1 Axes>"
      ]
     },
     "metadata": {},
     "output_type": "display_data"
    },
    {
     "data": {
      "image/png": "[encoded data removed]",
      "text/plain": [
       "<Figure size 432x288 with 1 Axes>"
      ]
     },
     "metadata": {},
     "output_type": "display_data"
    },
    {
     "data": {
      "image/png": "[encoded data removed]",
      "text/plain": [
       "<Figure size 432x288 with 1 Axes>"
      ]
     },
     "metadata": {},
     "output_type": "display_data"
    },
    {
     "data": {
      "image/png": "[encoded data removed]",
      "text/plain": [
       "<Figure size 432x288 with 1 Axes>"
      ]
     },
     "metadata": {},
     "output_type": "display_data"
    },
    {
     "data": {
      "image/png": "[encoded data removed]",
      "text/plain": [
       "<Figure size 432x288 with 1 Axes>"
      ]
     },
     "metadata": {},
     "output_type": "display_data"
    },
    {
     "data": {
      "image/png": "[encoded data removed]",
      "text/plain": [
       "<Figure size 432x288 with 1 Axes>"
      ]
     },
     "metadata": {},
     "output_type": "display_data"
    },
    {
     "data": {
      "image/png": "[encoded data removed]",
      "text/plain": [
       "<Figure size 432x288 with 1 Axes>"
      ]
     },
     "metadata": {},
     "output_type": "display_data"
    },
    {
     "data": {
      "image/png": "[encoded data removed]",
      "text/plain": [
       "<Figure size 432x288 with 1 Axes>"
      ]
     },
     "metadata": {},
     "output_type": "display_data"
    },
    {
     "data": {
      "image/png": "[encoded data removed]",
      "text/plain": [
       "<Figure size 432x288 with 1 Axes>"
      ]
     },
     "metadata": {},
     "output_type": "display_data"
    }
   ],
   "source": [
    "# for plotting purposes let's drop some columns\n",
    "df_outl = df_toclean2.drop(labels=['total_pymnt', 'total_pymnt_inv', 'total_rec_prncp','total_rec_int',\n",
    "                     'total_rec_late_fee', 'inq_last_6mths','revol_bal', 'revol_util',\n",
    "                     'total_acc', 'out_prncp','out_prncp_inv','collection_recovery_fee',\n",
    "                     'recoveries','last_pymnt_amnt','funded_amnt','funded_amnt_inv'],axis=1)\n",
    "\n",
    "for column in df_outl.select_dtypes(include='float'):\n",
    "    plt.figure()\n",
    "    plt.title(column)\n",
    "    sns.boxplot(x=[column],data=df_toclean2)"
   ]
  },
  {
   "cell_type": "markdown",
   "metadata": {},
   "source": [
    "### Outlier Handling"
   ]
  },
  {
   "cell_type": "markdown",
   "metadata": {},
   "source": [
    "#### annual_inc"
   ]
  },
  {
   "cell_type": "markdown",
   "metadata": {},
   "source": [
    "As Already seen in the EDA annual_inc has heavy outliers. So let's deal with them"
   ]
  },
  {
   "cell_type": "code",
   "execution_count": 34,
   "metadata": {
    "ExecuteTime": {
     "end_time": "2020-03-26T09:07:13.758099Z",
     "start_time": "2020-03-26T09:07:13.383936Z"
    }
   },
   "outputs": [
    {
     "data": {
      "text/plain": [
       "<matplotlib.axes._subplots.AxesSubplot at 0x1a3709fac8>"
      ]
     },
     "execution_count": 34,
     "metadata": {},
     "output_type": "execute_result"
    },
    {
     "data": {
      "image/png": "[encoded data removed]",
      "text/plain": [
       "<Figure size 432x288 with 1 Axes>"
      ]
     },
     "metadata": {},
     "output_type": "display_data"
    }
   ],
   "source": [
    "sns.boxplot(x='annual_inc', data=df_toclean2.query('annual_inc<200000'))"
   ]
  },
  {
   "cell_type": "code",
   "execution_count": 35,
   "metadata": {
    "ExecuteTime": {
     "end_time": "2020-03-26T09:07:15.152133Z",
     "start_time": "2020-03-26T09:07:13.784543Z"
    }
   },
   "outputs": [
    {
     "name": "stdout",
     "output_type": "stream",
     "text": [
      "Saving figure income_wo_outl\n"
     ]
    },
    {
     "data": {
      "image/png": "[encoded data removed]",
      "text/plain": [
       "<Figure size 432x288 with 1 Axes>"
      ]
     },
     "metadata": {},
     "output_type": "display_data"
    }
   ],
   "source": [
    "sns.distplot(df_toclean2.query('annual_inc<200000').annual_inc)\n",
    "save_fig('clean2','income_wo_outl');"
   ]
  },
  {
   "cell_type": "code",
   "execution_count": 36,
   "metadata": {
    "ExecuteTime": {
     "end_time": "2020-03-26T09:07:16.527600Z",
     "start_time": "2020-03-26T09:07:16.516388Z"
    }
   },
   "outputs": [
    {
     "data": {
      "text/plain": [
       "591"
      ]
     },
     "execution_count": 36,
     "metadata": {},
     "output_type": "execute_result"
    }
   ],
   "source": [
    "df_toclean2.query('annual_inc>200000').annual_inc.count()"
   ]
  },
  {
   "cell_type": "code",
   "execution_count": 37,
   "metadata": {
    "ExecuteTime": {
     "end_time": "2020-03-26T09:07:17.864053Z",
     "start_time": "2020-03-26T09:07:17.847664Z"
    }
   },
   "outputs": [
    {
     "name": "stdout",
     "output_type": "stream",
     "text": [
      "1.52 % of the data have an income > 200.000$\n",
      "Which means in total: 591\n"
     ]
    }
   ],
   "source": [
    "print((df_toclean2.query('annual_inc>200000').target.count()/df_toclean2.target.count()*100).round(2),'% of the data have an income > 200.000$')\n",
    "print('Which means in total:',df_toclean2.query('annual_inc>200000').target.count())"
   ]
  },
  {
   "cell_type": "markdown",
   "metadata": {},
   "source": [
    "Annual income over 200.000 USD will be dropped for further modelling. Loss of 1.52 % of the data"
   ]
  },
  {
   "cell_type": "code",
   "execution_count": 38,
   "metadata": {
    "ExecuteTime": {
     "end_time": "2020-03-26T09:07:19.211861Z",
     "start_time": "2020-03-26T09:07:19.196535Z"
    }
   },
   "outputs": [],
   "source": [
    "df_clean2 = df_toclean2.query('annual_inc<200000')"
   ]
  },
  {
   "cell_type": "markdown",
   "metadata": {},
   "source": [
    "## Other stuff"
   ]
  },
  {
   "cell_type": "markdown",
   "metadata": {},
   "source": [
    "### low int_rate despite that the grade is bad"
   ]
  },
  {
   "cell_type": "markdown",
   "metadata": {},
   "source": [
    "In the data we can see some low interest rates (below 7.5%) which does not belong to a member of Grade A.\n",
    "These Columns could lead to wrong assumptions of the model. In this case the int_rate does absolutely not fit to the grade. As there are only 18 values which all belomgs to member who have fully paid, these will be dropped."
   ]
  },
  {
   "cell_type": "code",
   "execution_count": 39,
   "metadata": {
    "ExecuteTime": {
     "end_time": "2020-03-26T09:07:20.929619Z",
     "start_time": "2020-03-26T09:07:20.915238Z"
    }
   },
   "outputs": [
    {
     "data": {
      "text/plain": [
       "1.0    18\n",
       "Name: target, dtype: int64"
      ]
     },
     "execution_count": 39,
     "metadata": {},
     "output_type": "execute_result"
    }
   ],
   "source": [
    "df_toclean2.query('grade!=\"A\" and int_rate < 0.075').target.value_counts()"
   ]
  },
  {
   "cell_type": "code",
   "execution_count": 40,
   "metadata": {
    "ExecuteTime": {
     "end_time": "2020-03-26T09:07:21.271419Z",
     "start_time": "2020-03-26T09:07:21.243511Z"
    }
   },
   "outputs": [],
   "source": [
    "df_clean2 = df_toclean2.drop(index=df_toclean2.query('grade!=\"A\" and int_rate < 0.075').index)"
   ]
  },
  {
   "cell_type": "markdown",
   "metadata": {},
   "source": [
    "### home_ownership"
   ]
  },
  {
   "cell_type": "markdown",
   "metadata": {},
   "source": [
    "Let's have a further look onto the home_ownership. The 'Other' Category seems to be really underrepresented"
   ]
  },
  {
   "cell_type": "code",
   "execution_count": 41,
   "metadata": {
    "ExecuteTime": {
     "end_time": "2020-03-26T09:07:22.728692Z",
     "start_time": "2020-03-26T09:07:22.427147Z"
    }
   },
   "outputs": [
    {
     "data": {
      "text/plain": [
       "<matplotlib.axes._subplots.AxesSubplot at 0x1a2e8f67b8>"
      ]
     },
     "execution_count": 41,
     "metadata": {},
     "output_type": "execute_result"
    },
    {
     "data": {
      "image/png": "[encoded data removed]",
      "text/plain": [
       "<Figure size 432x288 with 1 Axes>"
      ]
     },
     "metadata": {},
     "output_type": "display_data"
    }
   ],
   "source": [
    "sns.countplot(x='home_ownership',data=df_toclean2,hue='target')"
   ]
  },
  {
   "cell_type": "code",
   "execution_count": 42,
   "metadata": {
    "ExecuteTime": {
     "end_time": "2020-03-26T09:07:23.020850Z",
     "start_time": "2020-03-26T09:07:22.992479Z"
    }
   },
   "outputs": [
    {
     "name": "stdout",
     "output_type": "stream",
     "text": [
      "home_ownership\n",
      "MORTGAGE    17225\n",
      "OTHER         132\n",
      "OWN          2757\n",
      "RENT        18704\n",
      "Name: target, dtype: int64\n"
     ]
    },
    {
     "data": {
      "text/plain": [
       "home_ownership\n",
       "MORTGAGE    0.858229\n",
       "OTHER       0.772727\n",
       "OWN         0.851650\n",
       "RENT        0.841692\n",
       "Name: target, dtype: float64"
      ]
     },
     "execution_count": 42,
     "metadata": {},
     "output_type": "execute_result"
    }
   ],
   "source": [
    "print(df_toclean2.groupby('home_ownership').target.count())\n",
    "df_toclean2.groupby('home_ownership').target.mean()"
   ]
  },
  {
   "cell_type": "code",
   "execution_count": 43,
   "metadata": {
    "ExecuteTime": {
     "end_time": "2020-03-26T09:07:23.825048Z",
     "start_time": "2020-03-26T09:07:23.815514Z"
    }
   },
   "outputs": [
    {
     "data": {
      "text/plain": [
       "0.3400484311401927"
      ]
     },
     "execution_count": 43,
     "metadata": {},
     "output_type": "execute_result"
    }
   ],
   "source": [
    "# data loss if these will be skipped\n",
    "132/df_toclean2.target.count()*100"
   ]
  },
  {
   "cell_type": "markdown",
   "metadata": {},
   "source": [
    "From 0.34 % it will be difficult to predict anything so the other class will be dropped as the credit default rate ich a lot worse than in the other groups"
   ]
  },
  {
   "cell_type": "code",
   "execution_count": 44,
   "metadata": {
    "ExecuteTime": {
     "end_time": "2020-03-26T09:07:25.783410Z",
     "start_time": "2020-03-26T09:07:25.758620Z"
    }
   },
   "outputs": [],
   "source": [
    "df_clean2 = df_toclean2.drop(index=df_toclean2.query('home_ownership==\"OTHER\"').index)"
   ]
  },
  {
   "cell_type": "code",
   "execution_count": 45,
   "metadata": {
    "ExecuteTime": {
     "end_time": "2020-03-26T09:07:26.189406Z",
     "start_time": "2020-03-26T09:07:26.168397Z"
    }
   },
   "outputs": [
    {
     "data": {
      "text/plain": [
       "home_ownership\n",
       "MORTGAGE    2442\n",
       "OWN          409\n",
       "RENT        2961\n",
       "Name: target, dtype: int64"
      ]
     },
     "execution_count": 45,
     "metadata": {},
     "output_type": "execute_result"
    }
   ],
   "source": [
    "df_clean2.query('target==0').groupby('home_ownership').target.count()"
   ]
  },
  {
   "cell_type": "markdown",
   "metadata": {},
   "source": [
    "### dti as ratio"
   ]
  },
  {
   "cell_type": "code",
   "execution_count": 46,
   "metadata": {
    "ExecuteTime": {
     "end_time": "2020-03-26T09:07:29.789799Z",
     "start_time": "2020-03-26T09:07:29.778831Z"
    }
   },
   "outputs": [],
   "source": [
    "df_clean2['dti'] = df_toclean2['dti']/100"
   ]
  },
  {
   "cell_type": "code",
   "execution_count": 47,
   "metadata": {
    "ExecuteTime": {
     "end_time": "2020-03-26T09:07:30.491160Z",
     "start_time": "2020-03-26T09:07:30.475820Z"
    }
   },
   "outputs": [
    {
     "data": {
      "text/plain": [
       "count    38686.000000\n",
       "mean         0.134352\n",
       "std          0.067017\n",
       "min          0.000000\n",
       "25%          0.083000\n",
       "50%          0.135400\n",
       "75%          0.187200\n",
       "max          0.299900\n",
       "Name: dti, dtype: float64"
      ]
     },
     "execution_count": 47,
     "metadata": {},
     "output_type": "execute_result"
    }
   ],
   "source": [
    "df_clean2.dti.describe()"
   ]
  },
  {
   "cell_type": "markdown",
   "metadata": {},
   "source": [
    "## Export Cleaned Data"
   ]
  },
  {
   "cell_type": "code",
   "execution_count": 48,
   "metadata": {
    "ExecuteTime": {
     "end_time": "2020-03-26T09:07:32.802487Z",
     "start_time": "2020-03-26T09:07:32.746574Z"
    }
   },
   "outputs": [],
   "source": [
    "df_clean2.to_pickle(DATA_FOLDER + 'clean_pass_01p2_Ptarget_FPemp_ident_clean2.pkl')"
   ]
  },
  {
   "cell_type": "markdown",
   "metadata": {},
   "source": [
    "# Feature Engineering 2"
   ]
  },
  {
   "cell_type": "markdown",
   "metadata": {},
   "source": [
    "## Location feature"
   ]
  },
  {
   "cell_type": "code",
   "execution_count": null,
   "metadata": {
    "ExecuteTime": {
     "end_time": "2020-03-25T19:51:58.043948Z",
     "start_time": "2020-03-25T19:51:47.850Z"
    }
   },
   "outputs": [],
   "source": [
    "# state/credit ratio\n",
    "# --> how many credits and better bad-loan ratio\n",
    "### future work"
   ]
  },
  {
   "cell_type": "markdown",
   "metadata": {},
   "source": [
    "## final feature importance"
   ]
  },
  {
   "cell_type": "markdown",
   "metadata": {},
   "source": [
    "# Prediction Model"
   ]
  },
  {
   "cell_type": "markdown",
   "metadata": {},
   "source": [
    "## Metric / Score"
   ]
  },
  {
   "cell_type": "code",
   "execution_count": null,
   "metadata": {
    "ExecuteTime": {
     "end_time": "2020-03-25T19:51:58.045861Z",
     "start_time": "2020-03-25T19:51:47.853Z"
    }
   },
   "outputs": [],
   "source": [
    "# Precision\n",
    "\n",
    "# Specificity / Selectivity\n",
    "# try to avoid FP and be precise on TP\n",
    "# Play safe: \n",
    "# Under the assumption that you will always find members/borrowers to make the investors happy\n",
    "\n",
    "# Log loss: Default rate as probability --> could be a good way????\n",
    "# Log loss"
   ]
  },
  {
   "cell_type": "markdown",
   "metadata": {},
   "source": [
    "## Metric overview function\n",
    "Model_Vali()\n",
    "* one for core score\n",
    "* one verbose"
   ]
  },
  {
   "cell_type": "markdown",
   "metadata": {},
   "source": [
    "## Preprocessing"
   ]
  },
  {
   "cell_type": "markdown",
   "metadata": {},
   "source": [
    "### Scaling / Pipeline "
   ]
  },
  {
   "cell_type": "markdown",
   "metadata": {},
   "source": [
    "###  Train-Test-Split"
   ]
  },
  {
   "cell_type": "markdown",
   "metadata": {},
   "source": [
    "## Different Models"
   ]
  },
  {
   "cell_type": "markdown",
   "metadata": {},
   "source": [
    "### Baseline: Logistics Regression"
   ]
  },
  {
   "cell_type": "markdown",
   "metadata": {},
   "source": [
    "### Naive Bayes"
   ]
  },
  {
   "cell_type": "markdown",
   "metadata": {
    "ExecuteTime": {
     "end_time": "2020-03-25T13:19:58.711497Z",
     "start_time": "2020-03-25T13:19:58.706890Z"
    }
   },
   "source": [
    "### Random Forest"
   ]
  },
  {
   "cell_type": "markdown",
   "metadata": {},
   "source": [
    "### Gradient Boost"
   ]
  },
  {
   "cell_type": "markdown",
   "metadata": {},
   "source": [
    "### XGBoost"
   ]
  },
  {
   "cell_type": "markdown",
   "metadata": {},
   "source": [
    "### Summary: Model selection"
   ]
  },
  {
   "cell_type": "markdown",
   "metadata": {},
   "source": [
    "# Model application"
   ]
  },
  {
   "cell_type": "code",
   "execution_count": null,
   "metadata": {
    "ExecuteTime": {
     "end_time": "2020-03-25T19:51:58.047374Z",
     "start_time": "2020-03-25T19:51:47.861Z"
    }
   },
   "outputs": [],
   "source": [
    "# What to do with the prediction\n",
    "# Calculate int_rate..."
   ]
  },
  {
   "cell_type": "markdown",
   "metadata": {},
   "source": [
    "# Conclusion"
   ]
  },
  {
   "cell_type": "markdown",
   "metadata": {},
   "source": [
    "# Future Work"
   ]
  },
  {
   "cell_type": "markdown",
   "metadata": {},
   "source": [
    "A lot"
   ]
  },
  {
   "cell_type": "code",
   "execution_count": null,
   "metadata": {},
   "outputs": [],
   "source": []
  }
 ],
 "metadata": {
  "kernelspec": {
   "display_name": "Python [conda env:nf2] *",
   "language": "python",
   "name": "conda-env-nf2-py"
  },
  "language_info": {
   "codemirror_mode": {
    "name": "ipython",
    "version": 3
   },
   "file_extension": ".py",
   "mimetype": "text/x-python",
   "name": "python",
   "nbconvert_exporter": "python",
   "pygments_lexer": "ipython3",
   "version": "3.6.10"
  },
  "toc": {
   "base_numbering": 1,
   "nav_menu": {},
   "number_sections": true,
   "sideBar": true,
   "skip_h1_title": false,
   "title_cell": "Table of Contents",
   "title_sidebar": "Contents",
   "toc_cell": false,
   "toc_position": {
    "height": "calc(100% - 180px)",
    "left": "10px",
    "top": "150px",
    "width": "285.583px"
   },
   "toc_section_display": true,
   "toc_window_display": true
  }
 },
 "nbformat": 4,
 "nbformat_minor": 4
}
